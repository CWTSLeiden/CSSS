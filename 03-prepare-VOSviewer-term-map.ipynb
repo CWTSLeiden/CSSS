{
 "cells": [
  {
   "cell_type": "markdown",
   "metadata": {},
   "source": [
    "# Preparing files for VOSviewer overlays"
   ]
  },
  {
   "cell_type": "markdown",
   "metadata": {},
   "source": [
    "In this notebook we will load some files from Web of Science, parse them, and use them to prepare advanced overlays map in VOSviewer. Many of the operations you have already seen earlier during the summer school."
   ]
  },
  {
   "cell_type": "markdown",
   "metadata": {},
   "source": [
    "As usual we will start by importing the relevant packages. We will need the `pandas` pacakge, and we will call it `pd` again, and additionally we need the `csv` package for some options, and finally, we also need the `glob` package to easily find the relevant files."
   ]
  },
  {
   "cell_type": "code",
   "execution_count": 1,
   "metadata": {},
   "outputs": [],
   "source": [
    "import pandas as pd\n",
    "import csv\n",
    "import glob"
   ]
  },
  {
   "cell_type": "markdown",
   "metadata": {},
   "source": [
    "We will start by reading in all files. We already did this in an earlier notebook, here below we repeat this."
   ]
  },
  {
   "cell_type": "code",
   "execution_count": 2,
   "metadata": {},
   "outputs": [],
   "source": [
    "files = sorted(glob.glob('data-files/wos/tab-delimited/*.txt'))\n",
    "publications_df = pd.concat(pd.read_csv(f, sep='\\t', quoting=csv.QUOTE_NONE, \n",
    "                                        usecols=range(68), index_col='UT') for f in files)\n",
    "publications_df = publications_df.sort_index()"
   ]
  },
  {
   "cell_type": "markdown",
   "metadata": {},
   "source": [
    "We will now prepare files manually for VOSviewer. We will have to prepare two files: \n",
    " 1. a so-called corpus file that contains all text for each document.\n",
    " 2. a so-called scores file that contains \"scores\" for each document."
   ]
  },
  {
   "cell_type": "markdown",
   "metadata": {},
   "source": [
    "## Corpus file"
   ]
  },
  {
   "cell_type": "markdown",
   "metadata": {},
   "source": [
    "We will now first prepare the corpus file. We will concatenate the title and abstract together for this purpose. VOSviewer will simply consider each line in the corpus file a document, and will simply consider all text when creating a term map. In other words, you can apply this to any type of file."
   ]
  },
  {
   "cell_type": "code",
   "execution_count": 3,
   "metadata": {},
   "outputs": [],
   "source": [
    "publications_df['text'] = publications_df['TI'] + '. ' + publications_df['AB']"
   ]
  },
  {
   "cell_type": "markdown",
   "metadata": {},
   "source": [
    "We have added the additional full stop (`.`) to make sure that VOSviewer is able to parse the sentences correctly."
   ]
  },
  {
   "cell_type": "markdown",
   "metadata": {},
   "source": [
    "Since VOSviewer expects a document at each line, we need to make sure that the titles and abstract are all on a single line. In more technical terms: they cannot contain any newlines, which are represented by a combination of special characters, and this depends on the platform you are using. We will simply remove all possible newline characters as follows:"
   ]
  },
  {
   "cell_type": "code",
   "execution_count": 4,
   "metadata": {},
   "outputs": [],
   "source": [
    "publications_df['text'] = publications_df['text'].str.replace('\\n', '').replace('\\r', '');"
   ]
  },
  {
   "cell_type": "markdown",
   "metadata": {},
   "source": [
    "Now we write the text for each document to a corpus file."
   ]
  },
  {
   "cell_type": "code",
   "execution_count": 5,
   "metadata": {},
   "outputs": [],
   "source": [
    "publications_df['text'].to_csv('corpus.txt', index=False, header=False)"
   ]
  },
  {
   "cell_type": "markdown",
   "metadata": {},
   "source": [
    "## Scores file"
   ]
  },
  {
   "cell_type": "markdown",
   "metadata": {},
   "source": [
    "Now we have to determine what type of scores we want to project as overlays in VOSviewer. We will show how to do this using journals, you can repeat the exercise on countries."
   ]
  },
  {
   "cell_type": "markdown",
   "metadata": {},
   "source": [
    "Scores in VOSviewer work as follows. For each score it will calculate the average of the scores in documents that match a specific term. It will then color the terms in the term map according to the average of these scores. This can then highlight certain parts of the map showing where this score is particularly high or low. The objective now is to show this for journals, highlighting what part of the map is particularly relevant to a certain journal."
   ]
  },
  {
   "cell_type": "markdown",
   "metadata": {},
   "source": [
    "We will do this for each journal separately. At the moment, the journal is contained in the field `SO`."
   ]
  },
  {
   "cell_type": "code",
   "execution_count": 6,
   "metadata": {},
   "outputs": [
    {
     "data": {
      "text/plain": [
       "UT\n",
       "WOS:000084372900003                                         ACTA TROPICA\n",
       "WOS:000085634000001             TROPICAL MEDICINE & INTERNATIONAL HEALTH\n",
       "WOS:000085825800025    TRANSACTIONS OF THE ROYAL SOCIETY OF TROPICAL ...\n",
       "WOS:000085825800030    TRANSACTIONS OF THE ROYAL SOCIETY OF TROPICAL ...\n",
       "WOS:000086145500003    AMERICAN JOURNAL OF TROPICAL MEDICINE AND HYGIENE\n",
       "                                             ...                        \n",
       "WOS:000437429300018                         MEDECINE ET SANTE TROPICALES\n",
       "WOS:000437432400002                         MEDECINE ET SANTE TROPICALES\n",
       "WOS:000437432400014                         MEDECINE ET SANTE TROPICALES\n",
       "WOS:000437437700018                         MEDECINE ET SANTE TROPICALES\n",
       "WOS:000437449800023                         MEDECINE ET SANTE TROPICALES\n",
       "Name: SO, Length: 2338, dtype: object"
      ]
     },
     "execution_count": 6,
     "metadata": {},
     "output_type": "execute_result"
    }
   ],
   "source": [
    "publications_df['SO']"
   ]
  },
  {
   "cell_type": "markdown",
   "metadata": {},
   "source": [
    "You may remember that you can get group the dataframe by the journal to get an overview per journal."
   ]
  },
  {
   "cell_type": "code",
   "execution_count": 7,
   "metadata": {},
   "outputs": [
    {
     "data": {
      "text/plain": [
       "SO\n",
       "TROPICAL MEDICINE & INTERNATIONAL HEALTH                                                                  1025\n",
       "AMERICAN JOURNAL OF TROPICAL MEDICINE AND HYGIENE                                                          360\n",
       "PLOS NEGLECTED TROPICAL DISEASES                                                                           275\n",
       "MALARIA JOURNAL                                                                                            197\n",
       "TRANSACTIONS OF THE ROYAL SOCIETY OF TROPICAL MEDICINE AND HYGIENE                                         133\n",
       "PARASITES & VECTORS                                                                                        105\n",
       "ACTA TROPICA                                                                                                82\n",
       "MEDECINE ET SANTE TROPICALES                                                                                18\n",
       "ANNALS OF TROPICAL MEDICINE AND PARASITOLOGY                                                                18\n",
       "JOURNAL OF TROPICAL PEDIATRICS                                                                              18\n",
       "REVISTA DA SOCIEDADE BRASILEIRA DE MEDICINA TROPICAL                                                        17\n",
       "LEPROSY REVIEW                                                                                              15\n",
       "MEMORIAS DO INSTITUTO OSWALDO CRUZ                                                                          14\n",
       "TROPICAL DOCTOR                                                                                             12\n",
       "PATHOGENS AND GLOBAL HEALTH                                                                                  7\n",
       "SOUTHEAST ASIAN JOURNAL OF TROPICAL MEDICINE AND PUBLIC HEALTH                                               6\n",
       "JOURNAL OF TROPICAL MEDICINE                                                                                 5\n",
       "INTERNATIONAL JOURNAL OF LEPROSY AND OTHER MYCOBACTERIAL DISEASES                                            5\n",
       "ANNALS OF TROPICAL PAEDIATRICS                                                                               5\n",
       "ASIAN PACIFIC JOURNAL OF TROPICAL MEDICINE                                                                   4\n",
       "TROPICAL MEDICINE AND HEALTH                                                                                 3\n",
       "ASIAN PACIFIC JOURNAL OF TROPICAL BIOMEDICINE                                                                3\n",
       "BULLETIN DE LA SOCIETE DE PATHOLOGIE EXOTIQUE                                                                2\n",
       "BIOMEDICA                                                                                                    2\n",
       "IMPACT OF ECOLOGICAL CHANGES ON TROPICAL ANIMAL HEALTH AND DISEASE CONTROL                                   2\n",
       "JOURNAL OF VENOMOUS ANIMALS AND TOXINS INCLUDING TROPICAL DISEASES                                           2\n",
       "ANNALS OF TROPICAL MEDICINE AND PUBLIC HEALTH                                                                1\n",
       "PLoS Neglected Tropical Diseases                                                                             1\n",
       "MATHEMATICAL MODELS FOR NEGLECTED TROPICAL DISEASES: ESSENTIAL TOOLS FOR CONTROL AND ELIMINATION, PT A       1\n",
       "dtype: int64"
      ]
     },
     "execution_count": 7,
     "metadata": {},
     "output_type": "execute_result"
    }
   ],
   "source": [
    "publications_df.groupby('SO').size().sort_values(ascending=False)"
   ]
  },
  {
   "cell_type": "markdown",
   "metadata": {},
   "source": [
    "Now we would like to translate the `SO` column in such a way that VOSviewer can show a separate overlay for each journal. For those of you are familiar with statistics, we will do this using so-called \"dummy\" variables. That is, for each journal, we will create a new column, and indicate whether the publication is from that journal (Yes, `1`) or not (No, `0`). If VOSviewer then takes the average, this comes down to showing the percentage of publications with a certain term that are publishing in that journal. Fortunately, this is implemented in `pandas`, so we can easily do that."
   ]
  },
  {
   "cell_type": "code",
   "execution_count": 8,
   "metadata": {},
   "outputs": [],
   "source": [
    "journal_scores_df = publications_df['SO'].str.get_dummies()"
   ]
  },
  {
   "cell_type": "markdown",
   "metadata": {},
   "source": [
    "If we now look at scores_df, you will see many column names that represent the journal, and only `0` or `1` in each entry."
   ]
  },
  {
   "cell_type": "code",
   "execution_count": 9,
   "metadata": {},
   "outputs": [
    {
     "data": {
      "text/html": [
       "<div>\n",
       "<style scoped>\n",
       "    .dataframe tbody tr th:only-of-type {\n",
       "        vertical-align: middle;\n",
       "    }\n",
       "\n",
       "    .dataframe tbody tr th {\n",
       "        vertical-align: top;\n",
       "    }\n",
       "\n",
       "    .dataframe thead th {\n",
       "        text-align: right;\n",
       "    }\n",
       "</style>\n",
       "<table border=\"1\" class=\"dataframe\">\n",
       "  <thead>\n",
       "    <tr style=\"text-align: right;\">\n",
       "      <th></th>\n",
       "      <th>ACTA TROPICA</th>\n",
       "      <th>AMERICAN JOURNAL OF TROPICAL MEDICINE AND HYGIENE</th>\n",
       "      <th>ANNALS OF TROPICAL MEDICINE AND PARASITOLOGY</th>\n",
       "      <th>ANNALS OF TROPICAL MEDICINE AND PUBLIC HEALTH</th>\n",
       "      <th>ANNALS OF TROPICAL PAEDIATRICS</th>\n",
       "      <th>ASIAN PACIFIC JOURNAL OF TROPICAL BIOMEDICINE</th>\n",
       "      <th>ASIAN PACIFIC JOURNAL OF TROPICAL MEDICINE</th>\n",
       "      <th>BIOMEDICA</th>\n",
       "      <th>BULLETIN DE LA SOCIETE DE PATHOLOGIE EXOTIQUE</th>\n",
       "      <th>IMPACT OF ECOLOGICAL CHANGES ON TROPICAL ANIMAL HEALTH AND DISEASE CONTROL</th>\n",
       "      <th>...</th>\n",
       "      <th>PARASITES &amp; VECTORS</th>\n",
       "      <th>PATHOGENS AND GLOBAL HEALTH</th>\n",
       "      <th>PLOS NEGLECTED TROPICAL DISEASES</th>\n",
       "      <th>PLoS Neglected Tropical Diseases</th>\n",
       "      <th>REVISTA DA SOCIEDADE BRASILEIRA DE MEDICINA TROPICAL</th>\n",
       "      <th>SOUTHEAST ASIAN JOURNAL OF TROPICAL MEDICINE AND PUBLIC HEALTH</th>\n",
       "      <th>TRANSACTIONS OF THE ROYAL SOCIETY OF TROPICAL MEDICINE AND HYGIENE</th>\n",
       "      <th>TROPICAL DOCTOR</th>\n",
       "      <th>TROPICAL MEDICINE &amp; INTERNATIONAL HEALTH</th>\n",
       "      <th>TROPICAL MEDICINE AND HEALTH</th>\n",
       "    </tr>\n",
       "    <tr>\n",
       "      <th>UT</th>\n",
       "      <th></th>\n",
       "      <th></th>\n",
       "      <th></th>\n",
       "      <th></th>\n",
       "      <th></th>\n",
       "      <th></th>\n",
       "      <th></th>\n",
       "      <th></th>\n",
       "      <th></th>\n",
       "      <th></th>\n",
       "      <th></th>\n",
       "      <th></th>\n",
       "      <th></th>\n",
       "      <th></th>\n",
       "      <th></th>\n",
       "      <th></th>\n",
       "      <th></th>\n",
       "      <th></th>\n",
       "      <th></th>\n",
       "      <th></th>\n",
       "      <th></th>\n",
       "    </tr>\n",
       "  </thead>\n",
       "  <tbody>\n",
       "    <tr>\n",
       "      <th>WOS:000084372900003</th>\n",
       "      <td>1</td>\n",
       "      <td>0</td>\n",
       "      <td>0</td>\n",
       "      <td>0</td>\n",
       "      <td>0</td>\n",
       "      <td>0</td>\n",
       "      <td>0</td>\n",
       "      <td>0</td>\n",
       "      <td>0</td>\n",
       "      <td>0</td>\n",
       "      <td>...</td>\n",
       "      <td>0</td>\n",
       "      <td>0</td>\n",
       "      <td>0</td>\n",
       "      <td>0</td>\n",
       "      <td>0</td>\n",
       "      <td>0</td>\n",
       "      <td>0</td>\n",
       "      <td>0</td>\n",
       "      <td>0</td>\n",
       "      <td>0</td>\n",
       "    </tr>\n",
       "    <tr>\n",
       "      <th>WOS:000085634000001</th>\n",
       "      <td>0</td>\n",
       "      <td>0</td>\n",
       "      <td>0</td>\n",
       "      <td>0</td>\n",
       "      <td>0</td>\n",
       "      <td>0</td>\n",
       "      <td>0</td>\n",
       "      <td>0</td>\n",
       "      <td>0</td>\n",
       "      <td>0</td>\n",
       "      <td>...</td>\n",
       "      <td>0</td>\n",
       "      <td>0</td>\n",
       "      <td>0</td>\n",
       "      <td>0</td>\n",
       "      <td>0</td>\n",
       "      <td>0</td>\n",
       "      <td>0</td>\n",
       "      <td>0</td>\n",
       "      <td>1</td>\n",
       "      <td>0</td>\n",
       "    </tr>\n",
       "    <tr>\n",
       "      <th>WOS:000085825800025</th>\n",
       "      <td>0</td>\n",
       "      <td>0</td>\n",
       "      <td>0</td>\n",
       "      <td>0</td>\n",
       "      <td>0</td>\n",
       "      <td>0</td>\n",
       "      <td>0</td>\n",
       "      <td>0</td>\n",
       "      <td>0</td>\n",
       "      <td>0</td>\n",
       "      <td>...</td>\n",
       "      <td>0</td>\n",
       "      <td>0</td>\n",
       "      <td>0</td>\n",
       "      <td>0</td>\n",
       "      <td>0</td>\n",
       "      <td>0</td>\n",
       "      <td>1</td>\n",
       "      <td>0</td>\n",
       "      <td>0</td>\n",
       "      <td>0</td>\n",
       "    </tr>\n",
       "    <tr>\n",
       "      <th>WOS:000085825800030</th>\n",
       "      <td>0</td>\n",
       "      <td>0</td>\n",
       "      <td>0</td>\n",
       "      <td>0</td>\n",
       "      <td>0</td>\n",
       "      <td>0</td>\n",
       "      <td>0</td>\n",
       "      <td>0</td>\n",
       "      <td>0</td>\n",
       "      <td>0</td>\n",
       "      <td>...</td>\n",
       "      <td>0</td>\n",
       "      <td>0</td>\n",
       "      <td>0</td>\n",
       "      <td>0</td>\n",
       "      <td>0</td>\n",
       "      <td>0</td>\n",
       "      <td>1</td>\n",
       "      <td>0</td>\n",
       "      <td>0</td>\n",
       "      <td>0</td>\n",
       "    </tr>\n",
       "    <tr>\n",
       "      <th>WOS:000086145500003</th>\n",
       "      <td>0</td>\n",
       "      <td>1</td>\n",
       "      <td>0</td>\n",
       "      <td>0</td>\n",
       "      <td>0</td>\n",
       "      <td>0</td>\n",
       "      <td>0</td>\n",
       "      <td>0</td>\n",
       "      <td>0</td>\n",
       "      <td>0</td>\n",
       "      <td>...</td>\n",
       "      <td>0</td>\n",
       "      <td>0</td>\n",
       "      <td>0</td>\n",
       "      <td>0</td>\n",
       "      <td>0</td>\n",
       "      <td>0</td>\n",
       "      <td>0</td>\n",
       "      <td>0</td>\n",
       "      <td>0</td>\n",
       "      <td>0</td>\n",
       "    </tr>\n",
       "  </tbody>\n",
       "</table>\n",
       "<p>5 rows × 29 columns</p>\n",
       "</div>"
      ],
      "text/plain": [
       "                     ACTA TROPICA  \\\n",
       "UT                                  \n",
       "WOS:000084372900003             1   \n",
       "WOS:000085634000001             0   \n",
       "WOS:000085825800025             0   \n",
       "WOS:000085825800030             0   \n",
       "WOS:000086145500003             0   \n",
       "\n",
       "                     AMERICAN JOURNAL OF TROPICAL MEDICINE AND HYGIENE  \\\n",
       "UT                                                                       \n",
       "WOS:000084372900003                                                  0   \n",
       "WOS:000085634000001                                                  0   \n",
       "WOS:000085825800025                                                  0   \n",
       "WOS:000085825800030                                                  0   \n",
       "WOS:000086145500003                                                  1   \n",
       "\n",
       "                     ANNALS OF TROPICAL MEDICINE AND PARASITOLOGY  \\\n",
       "UT                                                                  \n",
       "WOS:000084372900003                                             0   \n",
       "WOS:000085634000001                                             0   \n",
       "WOS:000085825800025                                             0   \n",
       "WOS:000085825800030                                             0   \n",
       "WOS:000086145500003                                             0   \n",
       "\n",
       "                     ANNALS OF TROPICAL MEDICINE AND PUBLIC HEALTH  \\\n",
       "UT                                                                   \n",
       "WOS:000084372900003                                              0   \n",
       "WOS:000085634000001                                              0   \n",
       "WOS:000085825800025                                              0   \n",
       "WOS:000085825800030                                              0   \n",
       "WOS:000086145500003                                              0   \n",
       "\n",
       "                     ANNALS OF TROPICAL PAEDIATRICS  \\\n",
       "UT                                                    \n",
       "WOS:000084372900003                               0   \n",
       "WOS:000085634000001                               0   \n",
       "WOS:000085825800025                               0   \n",
       "WOS:000085825800030                               0   \n",
       "WOS:000086145500003                               0   \n",
       "\n",
       "                     ASIAN PACIFIC JOURNAL OF TROPICAL BIOMEDICINE  \\\n",
       "UT                                                                   \n",
       "WOS:000084372900003                                              0   \n",
       "WOS:000085634000001                                              0   \n",
       "WOS:000085825800025                                              0   \n",
       "WOS:000085825800030                                              0   \n",
       "WOS:000086145500003                                              0   \n",
       "\n",
       "                     ASIAN PACIFIC JOURNAL OF TROPICAL MEDICINE  BIOMEDICA  \\\n",
       "UT                                                                           \n",
       "WOS:000084372900003                                           0          0   \n",
       "WOS:000085634000001                                           0          0   \n",
       "WOS:000085825800025                                           0          0   \n",
       "WOS:000085825800030                                           0          0   \n",
       "WOS:000086145500003                                           0          0   \n",
       "\n",
       "                     BULLETIN DE LA SOCIETE DE PATHOLOGIE EXOTIQUE  \\\n",
       "UT                                                                   \n",
       "WOS:000084372900003                                              0   \n",
       "WOS:000085634000001                                              0   \n",
       "WOS:000085825800025                                              0   \n",
       "WOS:000085825800030                                              0   \n",
       "WOS:000086145500003                                              0   \n",
       "\n",
       "                     IMPACT OF ECOLOGICAL CHANGES ON TROPICAL ANIMAL HEALTH AND DISEASE CONTROL  \\\n",
       "UT                                                                                                \n",
       "WOS:000084372900003                                                  0                            \n",
       "WOS:000085634000001                                                  0                            \n",
       "WOS:000085825800025                                                  0                            \n",
       "WOS:000085825800030                                                  0                            \n",
       "WOS:000086145500003                                                  0                            \n",
       "\n",
       "                     ...  PARASITES & VECTORS  PATHOGENS AND GLOBAL HEALTH  \\\n",
       "UT                   ...                                                     \n",
       "WOS:000084372900003  ...                    0                            0   \n",
       "WOS:000085634000001  ...                    0                            0   \n",
       "WOS:000085825800025  ...                    0                            0   \n",
       "WOS:000085825800030  ...                    0                            0   \n",
       "WOS:000086145500003  ...                    0                            0   \n",
       "\n",
       "                     PLOS NEGLECTED TROPICAL DISEASES  \\\n",
       "UT                                                      \n",
       "WOS:000084372900003                                 0   \n",
       "WOS:000085634000001                                 0   \n",
       "WOS:000085825800025                                 0   \n",
       "WOS:000085825800030                                 0   \n",
       "WOS:000086145500003                                 0   \n",
       "\n",
       "                     PLoS Neglected Tropical Diseases  \\\n",
       "UT                                                      \n",
       "WOS:000084372900003                                 0   \n",
       "WOS:000085634000001                                 0   \n",
       "WOS:000085825800025                                 0   \n",
       "WOS:000085825800030                                 0   \n",
       "WOS:000086145500003                                 0   \n",
       "\n",
       "                     REVISTA DA SOCIEDADE BRASILEIRA DE MEDICINA TROPICAL  \\\n",
       "UT                                                                          \n",
       "WOS:000084372900003                                                  0      \n",
       "WOS:000085634000001                                                  0      \n",
       "WOS:000085825800025                                                  0      \n",
       "WOS:000085825800030                                                  0      \n",
       "WOS:000086145500003                                                  0      \n",
       "\n",
       "                     SOUTHEAST ASIAN JOURNAL OF TROPICAL MEDICINE AND PUBLIC HEALTH  \\\n",
       "UT                                                                                    \n",
       "WOS:000084372900003                                                  0                \n",
       "WOS:000085634000001                                                  0                \n",
       "WOS:000085825800025                                                  0                \n",
       "WOS:000085825800030                                                  0                \n",
       "WOS:000086145500003                                                  0                \n",
       "\n",
       "                     TRANSACTIONS OF THE ROYAL SOCIETY OF TROPICAL MEDICINE AND HYGIENE  \\\n",
       "UT                                                                                        \n",
       "WOS:000084372900003                                                  0                    \n",
       "WOS:000085634000001                                                  0                    \n",
       "WOS:000085825800025                                                  1                    \n",
       "WOS:000085825800030                                                  1                    \n",
       "WOS:000086145500003                                                  0                    \n",
       "\n",
       "                     TROPICAL DOCTOR  \\\n",
       "UT                                     \n",
       "WOS:000084372900003                0   \n",
       "WOS:000085634000001                0   \n",
       "WOS:000085825800025                0   \n",
       "WOS:000085825800030                0   \n",
       "WOS:000086145500003                0   \n",
       "\n",
       "                     TROPICAL MEDICINE & INTERNATIONAL HEALTH  \\\n",
       "UT                                                              \n",
       "WOS:000084372900003                                         0   \n",
       "WOS:000085634000001                                         1   \n",
       "WOS:000085825800025                                         0   \n",
       "WOS:000085825800030                                         0   \n",
       "WOS:000086145500003                                         0   \n",
       "\n",
       "                     TROPICAL MEDICINE AND HEALTH  \n",
       "UT                                                 \n",
       "WOS:000084372900003                             0  \n",
       "WOS:000085634000001                             0  \n",
       "WOS:000085825800025                             0  \n",
       "WOS:000085825800030                             0  \n",
       "WOS:000086145500003                             0  \n",
       "\n",
       "[5 rows x 29 columns]"
      ]
     },
     "execution_count": 9,
     "metadata": {},
     "output_type": "execute_result"
    }
   ],
   "source": [
    "journal_scores_df.head()"
   ]
  },
  {
   "cell_type": "markdown",
   "metadata": {},
   "source": [
    "VOSviewer wants a specific column name for scores. In particular, it should be called `Score<...>`. We therefore change the column names"
   ]
  },
  {
   "cell_type": "code",
   "execution_count": 10,
   "metadata": {},
   "outputs": [],
   "source": [
    "journal_scores_df.columns = ['Score<{}>'.format(c) for c in journal_scores_df.columns]"
   ]
  },
  {
   "cell_type": "markdown",
   "metadata": {},
   "source": [
    "Finally, we then write the dataframe to a scores files, which should be tab-delimited."
   ]
  },
  {
   "cell_type": "code",
   "execution_count": 11,
   "metadata": {},
   "outputs": [],
   "source": [
    "journal_scores_df.to_csv('scores.txt', sep='\\t', index=None)"
   ]
  },
  {
   "cell_type": "markdown",
   "metadata": {},
   "source": [
    "## VOSviewer"
   ]
  },
  {
   "cell_type": "markdown",
   "metadata": {},
   "source": [
    "You can now create a term map in VOSviewer using the two files you produced `corpus.txt` and `scores.txt`. To create a term map based on these files, choose \"Create a map based on text data\" in VOSviewer, and then select \"Read data from VOSviewer files.\""
   ]
  },
  {
   "cell_type": "markdown",
   "metadata": {},
   "source": [
    "# Exercise Document type"
   ]
  },
  {
   "cell_type": "markdown",
   "metadata": {},
   "source": [
    "<div class=\"alert alert-info\">\n",
    "    Now repeat the same exercise but using the document type <code>DT</code>.\n",
    "</div>"
   ]
  },
  {
   "cell_type": "code",
   "execution_count": 16,
   "metadata": {},
   "outputs": [],
   "source": [
    "dt_scores_df = publications_df['DT'].str.get_dummies()\n",
    "dt_scores_df.columns = ['Score<{}>'.format(c) for c in dt_scores_df.columns]\n",
    "dt_scores_df.to_csv('scores.txt', sep='\\t', index=None)"
   ]
  },
  {
   "cell_type": "markdown",
   "metadata": {},
   "source": [
    "<div class=\"alert alert-info\">\n",
    "    Create the term map in VOSviewer with the document type score file. Does the category of \"Meeting Abstract\" show a particular pattern? Why (not)? Can you explain you observation?\n",
    "</div>"
   ]
  },
  {
   "cell_type": "markdown",
   "metadata": {},
   "source": [
    "<div class=\"alert alert-info\">\n",
    "    You probably now have two different dataframes. You then cannot see the document type overlay at the same time as the journal overlay. Could you try to combine the two dataframes? (Hint: check out the <code>concat</code> function we encountered earlier.)\n",
    "</div>"
   ]
  },
  {
   "cell_type": "code",
   "execution_count": 14,
   "metadata": {},
   "outputs": [],
   "source": [
    "scores_df = pd.concat([journal_scores_df, dt_scores_df], axis=1)\n",
    "dt_scores_df.to_csv('scores.txt', sep='\\t', index=None)"
   ]
  }
 ],
 "metadata": {
  "kernelspec": {
   "display_name": "Python 3",
   "language": "python",
   "name": "python3"
  },
  "language_info": {
   "codemirror_mode": {
    "name": "ipython",
    "version": 3
   },
   "file_extension": ".py",
   "mimetype": "text/x-python",
   "name": "python",
   "nbconvert_exporter": "python",
   "pygments_lexer": "ipython3",
   "version": "3.8.3"
  }
 },
 "nbformat": 4,
 "nbformat_minor": 4
}
