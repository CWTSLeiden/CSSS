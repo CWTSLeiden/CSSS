{
 "cells": [
  {
   "cell_type": "markdown",
   "metadata": {},
   "source": [
    "# Introduction"
   ]
  },
  {
   "cell_type": "markdown",
   "metadata": {},
   "source": [
    "In this lab exercise, you will learn how to perform scientometric network analysis in Python. We will start with practicalities on some basic data handling and import. We then move on to creating a network and cover some basic analysis. In the next session, we will be using more advanced techniques."
   ]
  },
  {
   "cell_type": "markdown",
   "metadata": {},
   "source": [
    "<div class=\"alert alert-info\">\n",
    "This Python notebook is intended to be used as an exercise. We have prepared it for you to include many details, but at some parts we will ask you to fill in some of the blanks. Exercises where you are asked to do something, or to think about something, will be indicated like this. If you need to execute and write your own code, we provide empty space below to do so.\n",
    "</div>"
   ]
  },
  {
   "cell_type": "markdown",
   "metadata": {},
   "source": [
    "<div class=\"alert alert-warning\">\n",
    "If you need any help with anything, please don't hesitate to ask your teachers. \n",
    "</div>"
   ]
  },
  {
   "cell_type": "markdown",
   "metadata": {},
   "source": [
    "# Data handling"
   ]
  },
  {
   "cell_type": "markdown",
   "metadata": {},
   "source": [
    "Python is a general purpose programming language and it can be used to handle data in general. In this notebook we will specifically deal with scientometric datasets, but you can also use it for other purposes.\n",
    "\n",
    "We will start by handling some data from a scientometric data source. There are many different possible data sources, and we discussed some of them earlier this week. In this notebook we will focus on data downloaded from Web of Science. We have already downloaded some data for you to demonstrate Python. At the end of the exercise you will be asked to load your own data. \n",
    "\n",
    "The data that we provided is a selection of publications from authors from Belgium from Tropical Medicine from 2000-2017."
   ]
  },
  {
   "cell_type": "markdown",
   "metadata": {},
   "source": [
    "<div class=\"alert alert-warning\">\n",
    "    <b>Note:</b> You cannot load your own data when you run this notebook online using Binder.\n",
    "</div>"
   ]
  },
  {
   "cell_type": "markdown",
   "metadata": {},
   "source": [
    "We start by loading the data. In order to read in the data, we first need to make sure that Python is able to read it. A very versatile *package* for handling data in Python is called `pandas`. For those of you familiar with `R`, it is similar to the `data.frame` in `R`."
   ]
  },
  {
   "cell_type": "markdown",
   "metadata": {},
   "source": [
    "We *import* this package as follows, and we call the `pandas` package `pd`, for easy reference. We also need the `csv` package to indicate some options to the `pandas` package."
   ]
  },
  {
   "cell_type": "markdown",
   "metadata": {},
   "source": [
    "<div class=\"alert alert-success\">\n",
    "    In order to execute the code you have to press <code>Ctrl-Enter</code> while selecting the code cell below. Alternatively, you can press the \"Play\" button at the top of the screen. This also moves to the next cell at the same time. Using <code>Shift-Enter</code> instead of <code>Ctrl-Enter</code> will also execute the code and move to the next cell at the same time.\n",
    "</div>"
   ]
  },
  {
   "cell_type": "code",
   "execution_count": 1,
   "metadata": {},
   "outputs": [],
   "source": [
    "import pandas as pd\n",
    "import csv"
   ]
  },
  {
   "cell_type": "markdown",
   "metadata": {},
   "source": [
    "<div class=\"alert alert-success\">\n",
    "    If you have executed that code cell correctly, it should now be numbered <code>1</code>. While the code in a cell is being executed it is marked by an asterisk <code>*</code>. Each cell of executed code will be numbered in the order in which you execute it. If you execute it again, it will be numbered <code>2</code>, et cetera.\n",
    "</div>"
   ]
  },
  {
   "cell_type": "markdown",
   "metadata": {},
   "source": [
    "We are now ready to read in the data that you just downloaded. We have named the `pandas` package `pd`, which will save us some typing."
   ]
  },
  {
   "cell_type": "code",
   "execution_count": 2,
   "metadata": {},
   "outputs": [],
   "source": [
    "publications_df = pd.read_csv('data-files/wos/tab-delimited/savedrecs_0001_0500.txt', \n",
    "                              sep='\\t', index_col='UT',\n",
    "                              quoting=csv.QUOTE_NONE, usecols=range(68))"
   ]
  },
  {
   "cell_type": "markdown",
   "metadata": {},
   "source": [
    "We called the *function* `read_csv` of the `pandas` package. We provide it with several *arguments*. \n",
    "\n",
    "1. The location of the file we want to read.\n",
    "\n",
    "2. The second argument is a *named argument*, we provide both the name of the argument (`sep`) and its value (`'\\t'`). This indicates the *sep*arator between different fields. In this case it is a tab-delimited file, so the fields are separated by tabs, which is indicated by `'\\t'`.\n",
    "\n",
    "3. The third argument is again a named argument. We indicate that the `UT` field should be the index. This is the unique identifier that WoS uses.\n",
    "\n",
    "The two subqeuent arguments are needed to correctly handle some peculiarities of WoS files."
   ]
  },
  {
   "cell_type": "markdown",
   "metadata": {},
   "source": [
    "<div class=\"alert alert-success\">\n",
    "We downloaded some example files for you, which are located in the folder <code>data_files/wos</code>. At the end of this notebook, you will be asked to download your own data. If you want to load that data instead, use the path to that data.\n",
    "</div>"
   ]
  },
  {
   "cell_type": "markdown",
   "metadata": {},
   "source": [
    "<div class=\"alert alert-warning\">\n",
    "    <b>Note:</b> Windows usually uses backslashes <code>\\</code> to separate directories, in Python you can also use the forward slash <code>/</code>, which is usually more convenient for a number of reasons.\n",
    "</div>"
   ]
  },
  {
   "cell_type": "markdown",
   "metadata": {},
   "source": [
    "The `pandas` package took care of reading the file, and has now stored it in the variable called `publications_df`. You can take a closer look at `publications_df` to see the data that we just read."
   ]
  },
  {
   "cell_type": "code",
   "execution_count": 3,
   "metadata": {},
   "outputs": [
    {
     "data": {
      "text/html": [
       "<div>\n",
       "<style scoped>\n",
       "    .dataframe tbody tr th:only-of-type {\n",
       "        vertical-align: middle;\n",
       "    }\n",
       "\n",
       "    .dataframe tbody tr th {\n",
       "        vertical-align: top;\n",
       "    }\n",
       "\n",
       "    .dataframe thead th {\n",
       "        text-align: right;\n",
       "    }\n",
       "</style>\n",
       "<table border=\"1\" class=\"dataframe\">\n",
       "  <thead>\n",
       "    <tr style=\"text-align: right;\">\n",
       "      <th></th>\n",
       "      <th>PT</th>\n",
       "      <th>AU</th>\n",
       "      <th>BA</th>\n",
       "      <th>BE</th>\n",
       "      <th>GP</th>\n",
       "      <th>AF</th>\n",
       "      <th>BF</th>\n",
       "      <th>CA</th>\n",
       "      <th>TI</th>\n",
       "      <th>SO</th>\n",
       "      <th>...</th>\n",
       "      <th>EY</th>\n",
       "      <th>PG</th>\n",
       "      <th>WC</th>\n",
       "      <th>SC</th>\n",
       "      <th>GA</th>\n",
       "      <th>PM</th>\n",
       "      <th>OA</th>\n",
       "      <th>HC</th>\n",
       "      <th>HP</th>\n",
       "      <th>DA</th>\n",
       "    </tr>\n",
       "    <tr>\n",
       "      <th>UT</th>\n",
       "      <th></th>\n",
       "      <th></th>\n",
       "      <th></th>\n",
       "      <th></th>\n",
       "      <th></th>\n",
       "      <th></th>\n",
       "      <th></th>\n",
       "      <th></th>\n",
       "      <th></th>\n",
       "      <th></th>\n",
       "      <th></th>\n",
       "      <th></th>\n",
       "      <th></th>\n",
       "      <th></th>\n",
       "      <th></th>\n",
       "      <th></th>\n",
       "      <th></th>\n",
       "      <th></th>\n",
       "      <th></th>\n",
       "      <th></th>\n",
       "      <th></th>\n",
       "    </tr>\n",
       "  </thead>\n",
       "  <tbody>\n",
       "    <tr>\n",
       "      <th>WOS:000419235100004</th>\n",
       "      <td>J</td>\n",
       "      <td>Lagatie, O; Ediage, EN; Pikkemaat, JA; Djuardi...</td>\n",
       "      <td>NaN</td>\n",
       "      <td>NaN</td>\n",
       "      <td>NaN</td>\n",
       "      <td>Lagatie, Ole; Ediage, Emmanuel Njumbe; Pikkema...</td>\n",
       "      <td>NaN</td>\n",
       "      <td>NaN</td>\n",
       "      <td>2-methyl butyramide, a previously identified u...</td>\n",
       "      <td>PARASITES &amp; VECTORS</td>\n",
       "      <td>...</td>\n",
       "      <td>NaN</td>\n",
       "      <td>3</td>\n",
       "      <td>Parasitology; Tropical Medicine</td>\n",
       "      <td>Parasitology; Tropical Medicine</td>\n",
       "      <td>FR7GG</td>\n",
       "      <td>29284514.0</td>\n",
       "      <td>DOAJ Gold, Green Published</td>\n",
       "      <td>NaN</td>\n",
       "      <td>NaN</td>\n",
       "      <td>2019-04-02</td>\n",
       "    </tr>\n",
       "    <tr>\n",
       "      <th>WOS:000416965200003</th>\n",
       "      <td>J</td>\n",
       "      <td>Gower, CM; Gehre, F; Marques, SR; Lamberton, P...</td>\n",
       "      <td>NaN</td>\n",
       "      <td>NaN</td>\n",
       "      <td>NaN</td>\n",
       "      <td>Gower, Charlotte M.; Gehre, Florian; Marques, ...</td>\n",
       "      <td>NaN</td>\n",
       "      <td>NaN</td>\n",
       "      <td>Phenotypic and genotypic monitoring of Schisto...</td>\n",
       "      <td>PARASITES &amp; VECTORS</td>\n",
       "      <td>...</td>\n",
       "      <td>NaN</td>\n",
       "      <td>12</td>\n",
       "      <td>Parasitology; Tropical Medicine</td>\n",
       "      <td>Parasitology; Tropical Medicine</td>\n",
       "      <td>FO6HX</td>\n",
       "      <td>29197426.0</td>\n",
       "      <td>DOAJ Gold, Green Published</td>\n",
       "      <td>NaN</td>\n",
       "      <td>NaN</td>\n",
       "      <td>2019-04-02</td>\n",
       "    </tr>\n",
       "    <tr>\n",
       "      <th>WOS:000416965200001</th>\n",
       "      <td>J</td>\n",
       "      <td>Rahmouni, C; Vanhove, MPM; Simkova, A</td>\n",
       "      <td>NaN</td>\n",
       "      <td>NaN</td>\n",
       "      <td>NaN</td>\n",
       "      <td>Rahmouni, Chahrazed; Vanhove, Maarten P. M.; S...</td>\n",
       "      <td>NaN</td>\n",
       "      <td>NaN</td>\n",
       "      <td>Underexplored diversity of gill monogeneans in...</td>\n",
       "      <td>PARASITES &amp; VECTORS</td>\n",
       "      <td>...</td>\n",
       "      <td>NaN</td>\n",
       "      <td>21</td>\n",
       "      <td>Parasitology; Tropical Medicine</td>\n",
       "      <td>Parasitology; Tropical Medicine</td>\n",
       "      <td>FO6HX</td>\n",
       "      <td>29197419.0</td>\n",
       "      <td>DOAJ Gold, Green Published</td>\n",
       "      <td>NaN</td>\n",
       "      <td>NaN</td>\n",
       "      <td>2019-04-02</td>\n",
       "    </tr>\n",
       "    <tr>\n",
       "      <th>WOS:000419214100010</th>\n",
       "      <td>J</td>\n",
       "      <td>Nkanga, MSN; Longo-Mbenza, B; Vandenberghe, P;...</td>\n",
       "      <td>NaN</td>\n",
       "      <td>NaN</td>\n",
       "      <td>NaN</td>\n",
       "      <td>Nkanga, Mireille Solange Nganga; Longo-Mbenza,...</td>\n",
       "      <td>NaN</td>\n",
       "      <td>NaN</td>\n",
       "      <td>Feasibility of iFISH patterns in hematologic m...</td>\n",
       "      <td>ASIAN PACIFIC JOURNAL OF TROPICAL BIOMEDICINE</td>\n",
       "      <td>...</td>\n",
       "      <td>NaN</td>\n",
       "      <td>4</td>\n",
       "      <td>Tropical Medicine</td>\n",
       "      <td>Tropical Medicine</td>\n",
       "      <td>FR6YT</td>\n",
       "      <td>NaN</td>\n",
       "      <td>DOAJ Gold</td>\n",
       "      <td>NaN</td>\n",
       "      <td>NaN</td>\n",
       "      <td>2019-04-02</td>\n",
       "    </tr>\n",
       "    <tr>\n",
       "      <th>WOS:000419108500028</th>\n",
       "      <td>J</td>\n",
       "      <td>Fontes, ANB; Lima, LNGC; Mota, RMS; Almeida, R...</td>\n",
       "      <td>NaN</td>\n",
       "      <td>NaN</td>\n",
       "      <td>NaN</td>\n",
       "      <td>Fontes, Amanda N. B.; Lima, Luana N. G. C.; Mo...</td>\n",
       "      <td>NaN</td>\n",
       "      <td>NaN</td>\n",
       "      <td>Genotyping of Mycobacterium leprae for better ...</td>\n",
       "      <td>PLOS NEGLECTED TROPICAL DISEASES</td>\n",
       "      <td>...</td>\n",
       "      <td>NaN</td>\n",
       "      <td>20</td>\n",
       "      <td>Infectious Diseases; Parasitology; Tropical Me...</td>\n",
       "      <td>Infectious Diseases; Parasitology; Tropical Me...</td>\n",
       "      <td>FR5LR</td>\n",
       "      <td>29244821.0</td>\n",
       "      <td>DOAJ Gold, Green Published</td>\n",
       "      <td>NaN</td>\n",
       "      <td>NaN</td>\n",
       "      <td>2019-04-02</td>\n",
       "    </tr>\n",
       "    <tr>\n",
       "      <th>...</th>\n",
       "      <td>...</td>\n",
       "      <td>...</td>\n",
       "      <td>...</td>\n",
       "      <td>...</td>\n",
       "      <td>...</td>\n",
       "      <td>...</td>\n",
       "      <td>...</td>\n",
       "      <td>...</td>\n",
       "      <td>...</td>\n",
       "      <td>...</td>\n",
       "      <td>...</td>\n",
       "      <td>...</td>\n",
       "      <td>...</td>\n",
       "      <td>...</td>\n",
       "      <td>...</td>\n",
       "      <td>...</td>\n",
       "      <td>...</td>\n",
       "      <td>...</td>\n",
       "      <td>...</td>\n",
       "      <td>...</td>\n",
       "      <td>...</td>\n",
       "    </tr>\n",
       "    <tr>\n",
       "      <th>WOS:000400206200018</th>\n",
       "      <td>J</td>\n",
       "      <td>Staedke, SG; Maiteki-Sebuguzi, C; DiLiberto, D...</td>\n",
       "      <td>NaN</td>\n",
       "      <td>NaN</td>\n",
       "      <td>NaN</td>\n",
       "      <td>Staedke, Sarah G.; Maiteki-Sebuguzi, Catherine...</td>\n",
       "      <td>NaN</td>\n",
       "      <td>NaN</td>\n",
       "      <td>The Impact of an Intervention to Improve Malar...</td>\n",
       "      <td>AMERICAN JOURNAL OF TROPICAL MEDICINE AND HYGIENE</td>\n",
       "      <td>...</td>\n",
       "      <td>NaN</td>\n",
       "      <td>10</td>\n",
       "      <td>Public, Environmental &amp; Occupational Health; T...</td>\n",
       "      <td>Public, Environmental &amp; Occupational Health; T...</td>\n",
       "      <td>ET3UY</td>\n",
       "      <td>27273646.0</td>\n",
       "      <td>Other Gold, Green Published</td>\n",
       "      <td>NaN</td>\n",
       "      <td>NaN</td>\n",
       "      <td>2019-04-02</td>\n",
       "    </tr>\n",
       "    <tr>\n",
       "      <th>WOS:000382563500012</th>\n",
       "      <td>J</td>\n",
       "      <td>Vischer, N; Pfeiffer, C; Joller, A; Klingmann,...</td>\n",
       "      <td>NaN</td>\n",
       "      <td>NaN</td>\n",
       "      <td>NaN</td>\n",
       "      <td>Vischer, N.; Pfeiffer, C.; Joller, A.; Klingma...</td>\n",
       "      <td>NaN</td>\n",
       "      <td>NaN</td>\n",
       "      <td>The Good Clinical Practice guideline and its i...</td>\n",
       "      <td>TROPICAL MEDICINE &amp; INTERNATIONAL HEALTH</td>\n",
       "      <td>...</td>\n",
       "      <td>NaN</td>\n",
       "      <td>9</td>\n",
       "      <td>Public, Environmental &amp; Occupational Health; T...</td>\n",
       "      <td>Public, Environmental &amp; Occupational Health; T...</td>\n",
       "      <td>DU9UN</td>\n",
       "      <td>NaN</td>\n",
       "      <td>Green Published</td>\n",
       "      <td>NaN</td>\n",
       "      <td>NaN</td>\n",
       "      <td>2019-04-02</td>\n",
       "    </tr>\n",
       "    <tr>\n",
       "      <th>WOS:000382390800034</th>\n",
       "      <td>J</td>\n",
       "      <td>George, S; Levecke, B; Kattula, D; Velusamy, V...</td>\n",
       "      <td>NaN</td>\n",
       "      <td>NaN</td>\n",
       "      <td>NaN</td>\n",
       "      <td>George, Santosh; Levecke, Bruno; Kattula, Deep...</td>\n",
       "      <td>NaN</td>\n",
       "      <td>NaN</td>\n",
       "      <td>Molecular Identification of Hookworm Isolates ...</td>\n",
       "      <td>PLOS NEGLECTED TROPICAL DISEASES</td>\n",
       "      <td>...</td>\n",
       "      <td>NaN</td>\n",
       "      <td>14</td>\n",
       "      <td>Infectious Diseases; Parasitology; Tropical Me...</td>\n",
       "      <td>Infectious Diseases; Parasitology; Tropical Me...</td>\n",
       "      <td>DU7JR</td>\n",
       "      <td>27486798.0</td>\n",
       "      <td>DOAJ Gold, Green Published</td>\n",
       "      <td>NaN</td>\n",
       "      <td>NaN</td>\n",
       "      <td>2019-04-02</td>\n",
       "    </tr>\n",
       "    <tr>\n",
       "      <th>WOS:000382390800039</th>\n",
       "      <td>J</td>\n",
       "      <td>Hirve, S; Boelaert, M; Matlashewski, G; Mondal...</td>\n",
       "      <td>NaN</td>\n",
       "      <td>NaN</td>\n",
       "      <td>NaN</td>\n",
       "      <td>Hirve, Siddhivinayak; Boelaert, Marleen; Matla...</td>\n",
       "      <td>NaN</td>\n",
       "      <td>NaN</td>\n",
       "      <td>Transmission Dynamics of Visceral Leishmaniasi...</td>\n",
       "      <td>PLOS NEGLECTED TROPICAL DISEASES</td>\n",
       "      <td>...</td>\n",
       "      <td>NaN</td>\n",
       "      <td>28</td>\n",
       "      <td>Infectious Diseases; Parasitology; Tropical Me...</td>\n",
       "      <td>Infectious Diseases; Parasitology; Tropical Me...</td>\n",
       "      <td>DU7JR</td>\n",
       "      <td>27490264.0</td>\n",
       "      <td>DOAJ Gold, Green Published</td>\n",
       "      <td>NaN</td>\n",
       "      <td>NaN</td>\n",
       "      <td>2019-04-02</td>\n",
       "    </tr>\n",
       "    <tr>\n",
       "      <th>WOS:000382390800044</th>\n",
       "      <td>J</td>\n",
       "      <td>Terryn, S; Francart, A; Rommelaere, H; Stortel...</td>\n",
       "      <td>NaN</td>\n",
       "      <td>NaN</td>\n",
       "      <td>NaN</td>\n",
       "      <td>Terryn, Sanne; Francart, Aurelie; Rommelaere, ...</td>\n",
       "      <td>NaN</td>\n",
       "      <td>NaN</td>\n",
       "      <td>Post-exposure Treatment with Anti-rabies VHH a...</td>\n",
       "      <td>PLOS NEGLECTED TROPICAL DISEASES</td>\n",
       "      <td>...</td>\n",
       "      <td>NaN</td>\n",
       "      <td>15</td>\n",
       "      <td>Infectious Diseases; Parasitology; Tropical Me...</td>\n",
       "      <td>Infectious Diseases; Parasitology; Tropical Me...</td>\n",
       "      <td>DU7JR</td>\n",
       "      <td>27483431.0</td>\n",
       "      <td>DOAJ Gold, Green Published</td>\n",
       "      <td>NaN</td>\n",
       "      <td>NaN</td>\n",
       "      <td>2019-04-02</td>\n",
       "    </tr>\n",
       "  </tbody>\n",
       "</table>\n",
       "<p>500 rows × 67 columns</p>\n",
       "</div>"
      ],
      "text/plain": [
       "                    PT                                                 AU  BA  \\\n",
       "UT                                                                              \n",
       "WOS:000419235100004  J  Lagatie, O; Ediage, EN; Pikkemaat, JA; Djuardi... NaN   \n",
       "WOS:000416965200003  J  Gower, CM; Gehre, F; Marques, SR; Lamberton, P... NaN   \n",
       "WOS:000416965200001  J              Rahmouni, C; Vanhove, MPM; Simkova, A NaN   \n",
       "WOS:000419214100010  J  Nkanga, MSN; Longo-Mbenza, B; Vandenberghe, P;... NaN   \n",
       "WOS:000419108500028  J  Fontes, ANB; Lima, LNGC; Mota, RMS; Almeida, R... NaN   \n",
       "...                 ..                                                ...  ..   \n",
       "WOS:000400206200018  J  Staedke, SG; Maiteki-Sebuguzi, C; DiLiberto, D... NaN   \n",
       "WOS:000382563500012  J  Vischer, N; Pfeiffer, C; Joller, A; Klingmann,... NaN   \n",
       "WOS:000382390800034  J  George, S; Levecke, B; Kattula, D; Velusamy, V... NaN   \n",
       "WOS:000382390800039  J  Hirve, S; Boelaert, M; Matlashewski, G; Mondal... NaN   \n",
       "WOS:000382390800044  J  Terryn, S; Francart, A; Rommelaere, H; Stortel... NaN   \n",
       "\n",
       "                     BE  GP  \\\n",
       "UT                            \n",
       "WOS:000419235100004 NaN NaN   \n",
       "WOS:000416965200003 NaN NaN   \n",
       "WOS:000416965200001 NaN NaN   \n",
       "WOS:000419214100010 NaN NaN   \n",
       "WOS:000419108500028 NaN NaN   \n",
       "...                  ..  ..   \n",
       "WOS:000400206200018 NaN NaN   \n",
       "WOS:000382563500012 NaN NaN   \n",
       "WOS:000382390800034 NaN NaN   \n",
       "WOS:000382390800039 NaN NaN   \n",
       "WOS:000382390800044 NaN NaN   \n",
       "\n",
       "                                                                    AF  BF  \\\n",
       "UT                                                                           \n",
       "WOS:000419235100004  Lagatie, Ole; Ediage, Emmanuel Njumbe; Pikkema... NaN   \n",
       "WOS:000416965200003  Gower, Charlotte M.; Gehre, Florian; Marques, ... NaN   \n",
       "WOS:000416965200001  Rahmouni, Chahrazed; Vanhove, Maarten P. M.; S... NaN   \n",
       "WOS:000419214100010  Nkanga, Mireille Solange Nganga; Longo-Mbenza,... NaN   \n",
       "WOS:000419108500028  Fontes, Amanda N. B.; Lima, Luana N. G. C.; Mo... NaN   \n",
       "...                                                                ...  ..   \n",
       "WOS:000400206200018  Staedke, Sarah G.; Maiteki-Sebuguzi, Catherine... NaN   \n",
       "WOS:000382563500012  Vischer, N.; Pfeiffer, C.; Joller, A.; Klingma... NaN   \n",
       "WOS:000382390800034  George, Santosh; Levecke, Bruno; Kattula, Deep... NaN   \n",
       "WOS:000382390800039  Hirve, Siddhivinayak; Boelaert, Marleen; Matla... NaN   \n",
       "WOS:000382390800044  Terryn, Sanne; Francart, Aurelie; Rommelaere, ... NaN   \n",
       "\n",
       "                      CA                                                 TI  \\\n",
       "UT                                                                            \n",
       "WOS:000419235100004  NaN  2-methyl butyramide, a previously identified u...   \n",
       "WOS:000416965200003  NaN  Phenotypic and genotypic monitoring of Schisto...   \n",
       "WOS:000416965200001  NaN  Underexplored diversity of gill monogeneans in...   \n",
       "WOS:000419214100010  NaN  Feasibility of iFISH patterns in hematologic m...   \n",
       "WOS:000419108500028  NaN  Genotyping of Mycobacterium leprae for better ...   \n",
       "...                  ...                                                ...   \n",
       "WOS:000400206200018  NaN  The Impact of an Intervention to Improve Malar...   \n",
       "WOS:000382563500012  NaN  The Good Clinical Practice guideline and its i...   \n",
       "WOS:000382390800034  NaN  Molecular Identification of Hookworm Isolates ...   \n",
       "WOS:000382390800039  NaN  Transmission Dynamics of Visceral Leishmaniasi...   \n",
       "WOS:000382390800044  NaN  Post-exposure Treatment with Anti-rabies VHH a...   \n",
       "\n",
       "                                                                    SO  ...  \\\n",
       "UT                                                                      ...   \n",
       "WOS:000419235100004                                PARASITES & VECTORS  ...   \n",
       "WOS:000416965200003                                PARASITES & VECTORS  ...   \n",
       "WOS:000416965200001                                PARASITES & VECTORS  ...   \n",
       "WOS:000419214100010      ASIAN PACIFIC JOURNAL OF TROPICAL BIOMEDICINE  ...   \n",
       "WOS:000419108500028                   PLOS NEGLECTED TROPICAL DISEASES  ...   \n",
       "...                                                                ...  ...   \n",
       "WOS:000400206200018  AMERICAN JOURNAL OF TROPICAL MEDICINE AND HYGIENE  ...   \n",
       "WOS:000382563500012           TROPICAL MEDICINE & INTERNATIONAL HEALTH  ...   \n",
       "WOS:000382390800034                   PLOS NEGLECTED TROPICAL DISEASES  ...   \n",
       "WOS:000382390800039                   PLOS NEGLECTED TROPICAL DISEASES  ...   \n",
       "WOS:000382390800044                   PLOS NEGLECTED TROPICAL DISEASES  ...   \n",
       "\n",
       "                     EY  PG  \\\n",
       "UT                            \n",
       "WOS:000419235100004 NaN   3   \n",
       "WOS:000416965200003 NaN  12   \n",
       "WOS:000416965200001 NaN  21   \n",
       "WOS:000419214100010 NaN   4   \n",
       "WOS:000419108500028 NaN  20   \n",
       "...                  ..  ..   \n",
       "WOS:000400206200018 NaN  10   \n",
       "WOS:000382563500012 NaN   9   \n",
       "WOS:000382390800034 NaN  14   \n",
       "WOS:000382390800039 NaN  28   \n",
       "WOS:000382390800044 NaN  15   \n",
       "\n",
       "                                                                    WC  \\\n",
       "UT                                                                       \n",
       "WOS:000419235100004                    Parasitology; Tropical Medicine   \n",
       "WOS:000416965200003                    Parasitology; Tropical Medicine   \n",
       "WOS:000416965200001                    Parasitology; Tropical Medicine   \n",
       "WOS:000419214100010                                  Tropical Medicine   \n",
       "WOS:000419108500028  Infectious Diseases; Parasitology; Tropical Me...   \n",
       "...                                                                ...   \n",
       "WOS:000400206200018  Public, Environmental & Occupational Health; T...   \n",
       "WOS:000382563500012  Public, Environmental & Occupational Health; T...   \n",
       "WOS:000382390800034  Infectious Diseases; Parasitology; Tropical Me...   \n",
       "WOS:000382390800039  Infectious Diseases; Parasitology; Tropical Me...   \n",
       "WOS:000382390800044  Infectious Diseases; Parasitology; Tropical Me...   \n",
       "\n",
       "                                                                    SC     GA  \\\n",
       "UT                                                                              \n",
       "WOS:000419235100004                    Parasitology; Tropical Medicine  FR7GG   \n",
       "WOS:000416965200003                    Parasitology; Tropical Medicine  FO6HX   \n",
       "WOS:000416965200001                    Parasitology; Tropical Medicine  FO6HX   \n",
       "WOS:000419214100010                                  Tropical Medicine  FR6YT   \n",
       "WOS:000419108500028  Infectious Diseases; Parasitology; Tropical Me...  FR5LR   \n",
       "...                                                                ...    ...   \n",
       "WOS:000400206200018  Public, Environmental & Occupational Health; T...  ET3UY   \n",
       "WOS:000382563500012  Public, Environmental & Occupational Health; T...  DU9UN   \n",
       "WOS:000382390800034  Infectious Diseases; Parasitology; Tropical Me...  DU7JR   \n",
       "WOS:000382390800039  Infectious Diseases; Parasitology; Tropical Me...  DU7JR   \n",
       "WOS:000382390800044  Infectious Diseases; Parasitology; Tropical Me...  DU7JR   \n",
       "\n",
       "                             PM                           OA  HC  HP  \\\n",
       "UT                                                                     \n",
       "WOS:000419235100004  29284514.0   DOAJ Gold, Green Published NaN NaN   \n",
       "WOS:000416965200003  29197426.0   DOAJ Gold, Green Published NaN NaN   \n",
       "WOS:000416965200001  29197419.0   DOAJ Gold, Green Published NaN NaN   \n",
       "WOS:000419214100010         NaN                    DOAJ Gold NaN NaN   \n",
       "WOS:000419108500028  29244821.0   DOAJ Gold, Green Published NaN NaN   \n",
       "...                         ...                          ...  ..  ..   \n",
       "WOS:000400206200018  27273646.0  Other Gold, Green Published NaN NaN   \n",
       "WOS:000382563500012         NaN              Green Published NaN NaN   \n",
       "WOS:000382390800034  27486798.0   DOAJ Gold, Green Published NaN NaN   \n",
       "WOS:000382390800039  27490264.0   DOAJ Gold, Green Published NaN NaN   \n",
       "WOS:000382390800044  27483431.0   DOAJ Gold, Green Published NaN NaN   \n",
       "\n",
       "                             DA  \n",
       "UT                               \n",
       "WOS:000419235100004  2019-04-02  \n",
       "WOS:000416965200003  2019-04-02  \n",
       "WOS:000416965200001  2019-04-02  \n",
       "WOS:000419214100010  2019-04-02  \n",
       "WOS:000419108500028  2019-04-02  \n",
       "...                         ...  \n",
       "WOS:000400206200018  2019-04-02  \n",
       "WOS:000382563500012  2019-04-02  \n",
       "WOS:000382390800034  2019-04-02  \n",
       "WOS:000382390800039  2019-04-02  \n",
       "WOS:000382390800044  2019-04-02  \n",
       "\n",
       "[500 rows x 67 columns]"
      ]
     },
     "execution_count": 3,
     "metadata": {},
     "output_type": "execute_result"
    }
   ],
   "source": [
    "publications_df"
   ]
  },
  {
   "cell_type": "markdown",
   "metadata": {},
   "source": [
    "You will see that the data has quite cryptic column headers. Each line contains information about a single publication, and contains various details, such as the title (`TI`), abstract (`AB`), authors (`AU`), journal title (`SO`) and cited references (`CR`). Unfortunately, the documentation of Web of Science is relatively limited, but some explanation can be found <a href=\"http://images.webofknowledge.com/WOKRS532FR6/help/WOS/hs_advanced_fieldtags.html\">here</a>. You can retrieve this information in various ways from the pandas dataframe `publications_df`. For example, you can list the first five titles as follows:"
   ]
  },
  {
   "cell_type": "code",
   "execution_count": 4,
   "metadata": {},
   "outputs": [
    {
     "data": {
      "text/plain": [
       "UT\n",
       "WOS:000419235100004    2-methyl butyramide, a previously identified u...\n",
       "WOS:000416965200003    Phenotypic and genotypic monitoring of Schisto...\n",
       "WOS:000416965200001    Underexplored diversity of gill monogeneans in...\n",
       "WOS:000419214100010    Feasibility of iFISH patterns in hematologic m...\n",
       "WOS:000419108500028    Genotyping of Mycobacterium leprae for better ...\n",
       "Name: TI, dtype: object"
      ]
     },
     "execution_count": 4,
     "metadata": {},
     "output_type": "execute_result"
    }
   ],
   "source": [
    "publications_df.TI[:5]"
   ]
  },
  {
   "cell_type": "markdown",
   "metadata": {},
   "source": [
    "Here, `[:5]` indicates that you want the first elements (starting at 0) until (but excluding) 5, so item 0, 1, 2, 3 and 4. This is called a *slice* of the data. You can also look at authors for rows 5 until 10 as follows:"
   ]
  },
  {
   "cell_type": "code",
   "execution_count": 5,
   "metadata": {},
   "outputs": [
    {
     "data": {
      "text/plain": [
       "UT\n",
       "WOS:000419108500008    Ponte-Sucre, A; Gamarro, F; Dujardin, JC; Barr...\n",
       "WOS:000416116300003    Dao, TTH; Nguyen, TTG; Gabriel, S; Bui, KL; Do...\n",
       "WOS:000415356100002    Chembensofu, M; Mwape, KE; Van Damme, I; Hobbs...\n",
       "WOS:000414967100001        Muzyamba, C; Groot, W; Tomini, SM; Pavlova, M\n",
       "WOS:000414786900005    Klotz, C; Soba, B; Skvarc, M; Gabriel, S; Robe...\n",
       "Name: AU, dtype: object"
      ]
     },
     "execution_count": 5,
     "metadata": {},
     "output_type": "execute_result"
    }
   ],
   "source": [
    "publications_df.AU[5:10]"
   ]
  },
  {
   "cell_type": "markdown",
   "metadata": {},
   "source": [
    "In order to get the last few elements, you can use negative indices. The last element is indicated by `-1`, the penultimate element is indicated by `-2`, and so on. You can get the journals for the last five sources as follows:"
   ]
  },
  {
   "cell_type": "code",
   "execution_count": 6,
   "metadata": {},
   "outputs": [
    {
     "data": {
      "text/plain": [
       "UT\n",
       "WOS:000400206200018    AMERICAN JOURNAL OF TROPICAL MEDICINE AND HYGIENE\n",
       "WOS:000382563500012             TROPICAL MEDICINE & INTERNATIONAL HEALTH\n",
       "WOS:000382390800034                     PLOS NEGLECTED TROPICAL DISEASES\n",
       "WOS:000382390800039                     PLOS NEGLECTED TROPICAL DISEASES\n",
       "WOS:000382390800044                     PLOS NEGLECTED TROPICAL DISEASES\n",
       "Name: SO, dtype: object"
      ]
     },
     "execution_count": 6,
     "metadata": {},
     "output_type": "execute_result"
    }
   ],
   "source": [
    "publications_df.SO[-5:]"
   ]
  },
  {
   "cell_type": "markdown",
   "metadata": {},
   "source": [
    "Alternatively, there are various ways to index the dataframe. For example, to get the title and abstract for the first five elements you can do the following."
   ]
  },
  {
   "cell_type": "code",
   "execution_count": 7,
   "metadata": {},
   "outputs": [
    {
     "data": {
      "text/html": [
       "<div>\n",
       "<style scoped>\n",
       "    .dataframe tbody tr th:only-of-type {\n",
       "        vertical-align: middle;\n",
       "    }\n",
       "\n",
       "    .dataframe tbody tr th {\n",
       "        vertical-align: top;\n",
       "    }\n",
       "\n",
       "    .dataframe thead th {\n",
       "        text-align: right;\n",
       "    }\n",
       "</style>\n",
       "<table border=\"1\" class=\"dataframe\">\n",
       "  <thead>\n",
       "    <tr style=\"text-align: right;\">\n",
       "      <th></th>\n",
       "      <th>TI</th>\n",
       "      <th>AB</th>\n",
       "    </tr>\n",
       "    <tr>\n",
       "      <th>UT</th>\n",
       "      <th></th>\n",
       "      <th></th>\n",
       "    </tr>\n",
       "  </thead>\n",
       "  <tbody>\n",
       "    <tr>\n",
       "      <th>WOS:000419235100004</th>\n",
       "      <td>2-methyl butyramide, a previously identified u...</td>\n",
       "      <td>Previous reports suggest that the 2-methyl but...</td>\n",
       "    </tr>\n",
       "    <tr>\n",
       "      <th>WOS:000416965200003</th>\n",
       "      <td>Phenotypic and genotypic monitoring of Schisto...</td>\n",
       "      <td>Background: Schistosoma mansoni is a parasite ...</td>\n",
       "    </tr>\n",
       "    <tr>\n",
       "      <th>WOS:000416965200001</th>\n",
       "      <td>Underexplored diversity of gill monogeneans in...</td>\n",
       "      <td>Background: Lake Tanganyika harbours the most ...</td>\n",
       "    </tr>\n",
       "    <tr>\n",
       "      <th>WOS:000419214100010</th>\n",
       "      <td>Feasibility of iFISH patterns in hematologic m...</td>\n",
       "      <td>Objective: To analyze the feasibility of detec...</td>\n",
       "    </tr>\n",
       "    <tr>\n",
       "      <th>WOS:000419108500028</th>\n",
       "      <td>Genotyping of Mycobacterium leprae for better ...</td>\n",
       "      <td>Leprosy is endemic in large part of Brazil wit...</td>\n",
       "    </tr>\n",
       "  </tbody>\n",
       "</table>\n",
       "</div>"
      ],
      "text/plain": [
       "                                                                    TI  \\\n",
       "UT                                                                       \n",
       "WOS:000419235100004  2-methyl butyramide, a previously identified u...   \n",
       "WOS:000416965200003  Phenotypic and genotypic monitoring of Schisto...   \n",
       "WOS:000416965200001  Underexplored diversity of gill monogeneans in...   \n",
       "WOS:000419214100010  Feasibility of iFISH patterns in hematologic m...   \n",
       "WOS:000419108500028  Genotyping of Mycobacterium leprae for better ...   \n",
       "\n",
       "                                                                    AB  \n",
       "UT                                                                      \n",
       "WOS:000419235100004  Previous reports suggest that the 2-methyl but...  \n",
       "WOS:000416965200003  Background: Schistosoma mansoni is a parasite ...  \n",
       "WOS:000416965200001  Background: Lake Tanganyika harbours the most ...  \n",
       "WOS:000419214100010  Objective: To analyze the feasibility of detec...  \n",
       "WOS:000419108500028  Leprosy is endemic in large part of Brazil wit...  "
      ]
     },
     "execution_count": 7,
     "metadata": {},
     "output_type": "execute_result"
    }
   ],
   "source": [
    "publications_df[0:5][['TI', 'AB']]"
   ]
  },
  {
   "cell_type": "markdown",
   "metadata": {},
   "source": [
    "The notation `['TI', 'AB']` creates a *list* of elements in Python. We now used it to get multiple columns from the dataframe. "
   ]
  },
  {
   "cell_type": "markdown",
   "metadata": {},
   "source": [
    "The following does exactly the same:"
   ]
  },
  {
   "cell_type": "code",
   "execution_count": 8,
   "metadata": {},
   "outputs": [
    {
     "data": {
      "text/html": [
       "<div>\n",
       "<style scoped>\n",
       "    .dataframe tbody tr th:only-of-type {\n",
       "        vertical-align: middle;\n",
       "    }\n",
       "\n",
       "    .dataframe tbody tr th {\n",
       "        vertical-align: top;\n",
       "    }\n",
       "\n",
       "    .dataframe thead th {\n",
       "        text-align: right;\n",
       "    }\n",
       "</style>\n",
       "<table border=\"1\" class=\"dataframe\">\n",
       "  <thead>\n",
       "    <tr style=\"text-align: right;\">\n",
       "      <th></th>\n",
       "      <th>TI</th>\n",
       "      <th>AB</th>\n",
       "    </tr>\n",
       "    <tr>\n",
       "      <th>UT</th>\n",
       "      <th></th>\n",
       "      <th></th>\n",
       "    </tr>\n",
       "  </thead>\n",
       "  <tbody>\n",
       "    <tr>\n",
       "      <th>WOS:000419235100004</th>\n",
       "      <td>2-methyl butyramide, a previously identified u...</td>\n",
       "      <td>Previous reports suggest that the 2-methyl but...</td>\n",
       "    </tr>\n",
       "    <tr>\n",
       "      <th>WOS:000416965200003</th>\n",
       "      <td>Phenotypic and genotypic monitoring of Schisto...</td>\n",
       "      <td>Background: Schistosoma mansoni is a parasite ...</td>\n",
       "    </tr>\n",
       "    <tr>\n",
       "      <th>WOS:000416965200001</th>\n",
       "      <td>Underexplored diversity of gill monogeneans in...</td>\n",
       "      <td>Background: Lake Tanganyika harbours the most ...</td>\n",
       "    </tr>\n",
       "    <tr>\n",
       "      <th>WOS:000419214100010</th>\n",
       "      <td>Feasibility of iFISH patterns in hematologic m...</td>\n",
       "      <td>Objective: To analyze the feasibility of detec...</td>\n",
       "    </tr>\n",
       "    <tr>\n",
       "      <th>WOS:000419108500028</th>\n",
       "      <td>Genotyping of Mycobacterium leprae for better ...</td>\n",
       "      <td>Leprosy is endemic in large part of Brazil wit...</td>\n",
       "    </tr>\n",
       "  </tbody>\n",
       "</table>\n",
       "</div>"
      ],
      "text/plain": [
       "                                                                    TI  \\\n",
       "UT                                                                       \n",
       "WOS:000419235100004  2-methyl butyramide, a previously identified u...   \n",
       "WOS:000416965200003  Phenotypic and genotypic monitoring of Schisto...   \n",
       "WOS:000416965200001  Underexplored diversity of gill monogeneans in...   \n",
       "WOS:000419214100010  Feasibility of iFISH patterns in hematologic m...   \n",
       "WOS:000419108500028  Genotyping of Mycobacterium leprae for better ...   \n",
       "\n",
       "                                                                    AB  \n",
       "UT                                                                      \n",
       "WOS:000419235100004  Previous reports suggest that the 2-methyl but...  \n",
       "WOS:000416965200003  Background: Schistosoma mansoni is a parasite ...  \n",
       "WOS:000416965200001  Background: Lake Tanganyika harbours the most ...  \n",
       "WOS:000419214100010  Objective: To analyze the feasibility of detec...  \n",
       "WOS:000419108500028  Leprosy is endemic in large part of Brazil wit...  "
      ]
     },
     "execution_count": 8,
     "metadata": {},
     "output_type": "execute_result"
    }
   ],
   "source": [
    "publications_df[['TI', 'AB']][0:5]"
   ]
  },
  {
   "cell_type": "markdown",
   "metadata": {},
   "source": [
    "The `pandas` package automatically determines whether you try to get columns or rows. Slices are always assumed to refer to rows."
   ]
  },
  {
   "cell_type": "markdown",
   "metadata": {},
   "source": [
    "<div class=\"alert alert-info\">\n",
    "    Show the title (<code>TI</code>), abstract (<code>AB</code>), journal (<code>SO</code>) and publication year (<code>PY</code>) for rows 200-210.\n",
    "</div>"
   ]
  },
  {
   "cell_type": "markdown",
   "metadata": {},
   "source": [
    "<div class=\"alert alert-success\">\n",
    "To start typing in the cell below, select the cell using the mouse, or select it using the arrows on the keyboard and press <code>Enter</code>\n",
    "</div>"
   ]
  },
  {
   "cell_type": "code",
   "execution_count": null,
   "metadata": {},
   "outputs": [],
   "source": []
  },
  {
   "cell_type": "markdown",
   "metadata": {},
   "source": [
    "You can also access a particular `UT` directly by using the `.loc` indexer."
   ]
  },
  {
   "cell_type": "code",
   "execution_count": 9,
   "metadata": {},
   "outputs": [
    {
     "data": {
      "text/plain": [
       "TI    2-methyl butyramide, a previously identified u...\n",
       "AU    Lagatie, O; Ediage, EN; Pikkemaat, JA; Djuardi...\n",
       "SO                                  PARASITES & VECTORS\n",
       "PY                                                 2017\n",
       "Name: WOS:000419235100004, dtype: object"
      ]
     },
     "execution_count": 9,
     "metadata": {},
     "output_type": "execute_result"
    }
   ],
   "source": [
    "publications_df.loc['WOS:000419235100004', ['TI', 'AU', 'SO', 'PY']]"
   ]
  },
  {
   "cell_type": "markdown",
   "metadata": {},
   "source": [
    "## Reading multiple files"
   ]
  },
  {
   "cell_type": "markdown",
   "metadata": {},
   "source": [
    "Until now we have only loaded one file. But we have of course downloaded more files, and we need to load all of them. We can list all files in a directory using the package `glob`. We first import the package."
   ]
  },
  {
   "cell_type": "code",
   "execution_count": 10,
   "metadata": {},
   "outputs": [],
   "source": [
    "import glob"
   ]
  },
  {
   "cell_type": "markdown",
   "metadata": {},
   "source": [
    "Now, let us get a list of all files in the directory `data_files/wos/tab-delimited/`."
   ]
  },
  {
   "cell_type": "code",
   "execution_count": 11,
   "metadata": {},
   "outputs": [
    {
     "data": {
      "text/plain": [
       "['data-files/wos/tab-delimited/savedrecs_0001_0500.txt',\n",
       " 'data-files/wos/tab-delimited/savedrecs_0501_1000.txt',\n",
       " 'data-files/wos/tab-delimited/savedrecs_1001_1500.txt',\n",
       " 'data-files/wos/tab-delimited/savedrecs_1501_2000.txt',\n",
       " 'data-files/wos/tab-delimited/savedrecs_2001_2338.txt']"
      ]
     },
     "execution_count": 11,
     "metadata": {},
     "output_type": "execute_result"
    }
   ],
   "source": [
    "files = sorted(glob.glob('data-files/wos/tab-delimited/*.txt'))\n",
    "files"
   ]
  },
  {
   "cell_type": "markdown",
   "metadata": {},
   "source": [
    "We asked `glob` for a list of files that end with `txt` (`*.txt`) in the directory `data-files/wos/tab-delimited`. We sorted the list to ensure that we read the files in the correct order. We can now simply pass this list of files to read multiple WoS files."
   ]
  },
  {
   "cell_type": "code",
   "execution_count": 12,
   "metadata": {},
   "outputs": [],
   "source": [
    "publications_df = pd.concat(pd.read_csv(f, sep='\\t', quoting=csv.QUOTE_NONE, \n",
    "                                        usecols=range(68), index_col='UT') for f in files)\n",
    "publications_df = publications_df.sort_index()"
   ]
  },
  {
   "cell_type": "markdown",
   "metadata": {},
   "source": [
    "<div class=\"alert alert-info\">\n",
    "    Now checkout the new <code>publications_df</code> data frame, and see how many rows it has.\n",
    "</div>"
   ]
  },
  {
   "cell_type": "code",
   "execution_count": 13,
   "metadata": {},
   "outputs": [
    {
     "data": {
      "text/html": [
       "<div>\n",
       "<style scoped>\n",
       "    .dataframe tbody tr th:only-of-type {\n",
       "        vertical-align: middle;\n",
       "    }\n",
       "\n",
       "    .dataframe tbody tr th {\n",
       "        vertical-align: top;\n",
       "    }\n",
       "\n",
       "    .dataframe thead th {\n",
       "        text-align: right;\n",
       "    }\n",
       "</style>\n",
       "<table border=\"1\" class=\"dataframe\">\n",
       "  <thead>\n",
       "    <tr style=\"text-align: right;\">\n",
       "      <th></th>\n",
       "      <th>PT</th>\n",
       "      <th>AU</th>\n",
       "      <th>BA</th>\n",
       "      <th>BE</th>\n",
       "      <th>GP</th>\n",
       "      <th>AF</th>\n",
       "      <th>BF</th>\n",
       "      <th>CA</th>\n",
       "      <th>TI</th>\n",
       "      <th>SO</th>\n",
       "      <th>...</th>\n",
       "      <th>EY</th>\n",
       "      <th>PG</th>\n",
       "      <th>WC</th>\n",
       "      <th>SC</th>\n",
       "      <th>GA</th>\n",
       "      <th>PM</th>\n",
       "      <th>OA</th>\n",
       "      <th>HC</th>\n",
       "      <th>HP</th>\n",
       "      <th>DA</th>\n",
       "    </tr>\n",
       "    <tr>\n",
       "      <th>UT</th>\n",
       "      <th></th>\n",
       "      <th></th>\n",
       "      <th></th>\n",
       "      <th></th>\n",
       "      <th></th>\n",
       "      <th></th>\n",
       "      <th></th>\n",
       "      <th></th>\n",
       "      <th></th>\n",
       "      <th></th>\n",
       "      <th></th>\n",
       "      <th></th>\n",
       "      <th></th>\n",
       "      <th></th>\n",
       "      <th></th>\n",
       "      <th></th>\n",
       "      <th></th>\n",
       "      <th></th>\n",
       "      <th></th>\n",
       "      <th></th>\n",
       "      <th></th>\n",
       "    </tr>\n",
       "  </thead>\n",
       "  <tbody>\n",
       "    <tr>\n",
       "      <th>WOS:000084372900003</th>\n",
       "      <td>J</td>\n",
       "      <td>Osaer, S; Goossens, B; Eysker, M; Geerts, S</td>\n",
       "      <td>NaN</td>\n",
       "      <td>NaN</td>\n",
       "      <td>NaN</td>\n",
       "      <td>Osaer, S; Goossens, B; Eysker, M; Geerts, S</td>\n",
       "      <td>NaN</td>\n",
       "      <td>NaN</td>\n",
       "      <td>The effects of prophylactic anthelmintic treat...</td>\n",
       "      <td>ACTA TROPICA</td>\n",
       "      <td>...</td>\n",
       "      <td>NaN</td>\n",
       "      <td>12</td>\n",
       "      <td>Parasitology; Tropical Medicine</td>\n",
       "      <td>Parasitology; Tropical Medicine</td>\n",
       "      <td>267RJ</td>\n",
       "      <td>10643903.0</td>\n",
       "      <td>NaN</td>\n",
       "      <td>NaN</td>\n",
       "      <td>NaN</td>\n",
       "      <td>2019-04-02</td>\n",
       "    </tr>\n",
       "    <tr>\n",
       "      <th>WOS:000085634000001</th>\n",
       "      <td>J</td>\n",
       "      <td>Aventin, L; Matthys, F</td>\n",
       "      <td>NaN</td>\n",
       "      <td>NaN</td>\n",
       "      <td>NaN</td>\n",
       "      <td>Aventin, L; Matthys, F</td>\n",
       "      <td>NaN</td>\n",
       "      <td>NaN</td>\n",
       "      <td>Editorial: Do we negotiate human health ?</td>\n",
       "      <td>TROPICAL MEDICINE &amp; INTERNATIONAL HEALTH</td>\n",
       "      <td>...</td>\n",
       "      <td>NaN</td>\n",
       "      <td>2</td>\n",
       "      <td>Public, Environmental &amp; Occupational Health; T...</td>\n",
       "      <td>Public, Environmental &amp; Occupational Health; T...</td>\n",
       "      <td>289QT</td>\n",
       "      <td>10672198.0</td>\n",
       "      <td>NaN</td>\n",
       "      <td>NaN</td>\n",
       "      <td>NaN</td>\n",
       "      <td>2019-04-02</td>\n",
       "    </tr>\n",
       "    <tr>\n",
       "      <th>WOS:000085825800025</th>\n",
       "      <td>J</td>\n",
       "      <td>Yersin, C; Bovet, P; Merien, F; Clement, J; La...</td>\n",
       "      <td>NaN</td>\n",
       "      <td>NaN</td>\n",
       "      <td>NaN</td>\n",
       "      <td>Yersin, C; Bovet, P; Merien, F; Clement, J; La...</td>\n",
       "      <td>NaN</td>\n",
       "      <td>NaN</td>\n",
       "      <td>Pulmonary haemorrhage as a predominant cause o...</td>\n",
       "      <td>TRANSACTIONS OF THE ROYAL SOCIETY OF TROPICAL ...</td>\n",
       "      <td>...</td>\n",
       "      <td>NaN</td>\n",
       "      <td>6</td>\n",
       "      <td>Public, Environmental &amp; Occupational Health; T...</td>\n",
       "      <td>Public, Environmental &amp; Occupational Health; T...</td>\n",
       "      <td>292ZH</td>\n",
       "      <td>10748905.0</td>\n",
       "      <td>NaN</td>\n",
       "      <td>NaN</td>\n",
       "      <td>NaN</td>\n",
       "      <td>2019-04-02</td>\n",
       "    </tr>\n",
       "    <tr>\n",
       "      <th>WOS:000085825800030</th>\n",
       "      <td>J</td>\n",
       "      <td>De Clercq, D; Vercruysse, J; Verle, P; Niasse,...</td>\n",
       "      <td>NaN</td>\n",
       "      <td>NaN</td>\n",
       "      <td>NaN</td>\n",
       "      <td>De Clercq, D; Vercruysse, J; Verle, P; Niasse,...</td>\n",
       "      <td>NaN</td>\n",
       "      <td>NaN</td>\n",
       "      <td>Efficacy of artesunate against Schistosoma man...</td>\n",
       "      <td>TRANSACTIONS OF THE ROYAL SOCIETY OF TROPICAL ...</td>\n",
       "      <td>...</td>\n",
       "      <td>NaN</td>\n",
       "      <td>2</td>\n",
       "      <td>Public, Environmental &amp; Occupational Health; T...</td>\n",
       "      <td>Public, Environmental &amp; Occupational Health; T...</td>\n",
       "      <td>292ZH</td>\n",
       "      <td>10748910.0</td>\n",
       "      <td>NaN</td>\n",
       "      <td>NaN</td>\n",
       "      <td>NaN</td>\n",
       "      <td>2019-04-02</td>\n",
       "    </tr>\n",
       "    <tr>\n",
       "      <th>WOS:000086145500003</th>\n",
       "      <td>J</td>\n",
       "      <td>Boelaert, JR; Taramelli, D</td>\n",
       "      <td>NaN</td>\n",
       "      <td>NaN</td>\n",
       "      <td>NaN</td>\n",
       "      <td>Boelaert, JR; Taramelli, D</td>\n",
       "      <td>NaN</td>\n",
       "      <td>NaN</td>\n",
       "      <td>Untitled</td>\n",
       "      <td>AMERICAN JOURNAL OF TROPICAL MEDICINE AND HYGIENE</td>\n",
       "      <td>...</td>\n",
       "      <td>NaN</td>\n",
       "      <td>2</td>\n",
       "      <td>Public, Environmental &amp; Occupational Health; T...</td>\n",
       "      <td>Public, Environmental &amp; Occupational Health; T...</td>\n",
       "      <td>298NF</td>\n",
       "      <td>10761717.0</td>\n",
       "      <td>NaN</td>\n",
       "      <td>NaN</td>\n",
       "      <td>NaN</td>\n",
       "      <td>2019-04-02</td>\n",
       "    </tr>\n",
       "    <tr>\n",
       "      <th>...</th>\n",
       "      <td>...</td>\n",
       "      <td>...</td>\n",
       "      <td>...</td>\n",
       "      <td>...</td>\n",
       "      <td>...</td>\n",
       "      <td>...</td>\n",
       "      <td>...</td>\n",
       "      <td>...</td>\n",
       "      <td>...</td>\n",
       "      <td>...</td>\n",
       "      <td>...</td>\n",
       "      <td>...</td>\n",
       "      <td>...</td>\n",
       "      <td>...</td>\n",
       "      <td>...</td>\n",
       "      <td>...</td>\n",
       "      <td>...</td>\n",
       "      <td>...</td>\n",
       "      <td>...</td>\n",
       "      <td>...</td>\n",
       "      <td>...</td>\n",
       "    </tr>\n",
       "    <tr>\n",
       "      <th>WOS:000437429300018</th>\n",
       "      <td>J</td>\n",
       "      <td>Kaputu-Kalala-Malu, C; Kahamba, DM; Ntumba-Tah...</td>\n",
       "      <td>NaN</td>\n",
       "      <td>NaN</td>\n",
       "      <td>NaN</td>\n",
       "      <td>Kaputu-Kalala-Malu, C.; Kahamba, Mukeba D.; Nt...</td>\n",
       "      <td>NaN</td>\n",
       "      <td>NaN</td>\n",
       "      <td>Prolonged seizures in clhildren in sub-Saharan...</td>\n",
       "      <td>MEDECINE ET SANTE TROPICALES</td>\n",
       "      <td>...</td>\n",
       "      <td>NaN</td>\n",
       "      <td>6</td>\n",
       "      <td>Tropical Medicine</td>\n",
       "      <td>Tropical Medicine</td>\n",
       "      <td>VD6QR</td>\n",
       "      <td>26102636.0</td>\n",
       "      <td>NaN</td>\n",
       "      <td>NaN</td>\n",
       "      <td>NaN</td>\n",
       "      <td>2019-04-02</td>\n",
       "    </tr>\n",
       "    <tr>\n",
       "      <th>WOS:000437432400002</th>\n",
       "      <td>J</td>\n",
       "      <td>Maotela, JK; Ramazani, SY; Misingi, P; Dramaix...</td>\n",
       "      <td>NaN</td>\n",
       "      <td>NaN</td>\n",
       "      <td>NaN</td>\n",
       "      <td>Maotela, Kabinda J.; Ramazani, S. Y.; Misingi,...</td>\n",
       "      <td>NaN</td>\n",
       "      <td>NaN</td>\n",
       "      <td>Blood transfusion in the Democratic Republic o...</td>\n",
       "      <td>MEDECINE ET SANTE TROPICALES</td>\n",
       "      <td>...</td>\n",
       "      <td>NaN</td>\n",
       "      <td>8</td>\n",
       "      <td>Tropical Medicine</td>\n",
       "      <td>Tropical Medicine</td>\n",
       "      <td>VD6RB</td>\n",
       "      <td>26742551.0</td>\n",
       "      <td>NaN</td>\n",
       "      <td>NaN</td>\n",
       "      <td>NaN</td>\n",
       "      <td>2019-04-02</td>\n",
       "    </tr>\n",
       "    <tr>\n",
       "      <th>WOS:000437432400014</th>\n",
       "      <td>J</td>\n",
       "      <td>Kuwekita, M; Gosset, C; Guillaume, M; Semutsar...</td>\n",
       "      <td>NaN</td>\n",
       "      <td>NaN</td>\n",
       "      <td>NaN</td>\n",
       "      <td>Kuwekita, Manzambi; Gosset, C.; Guillaume, M.;...</td>\n",
       "      <td>NaN</td>\n",
       "      <td>NaN</td>\n",
       "      <td>Combining microcredit, microinsurance, and the...</td>\n",
       "      <td>MEDECINE ET SANTE TROPICALES</td>\n",
       "      <td>...</td>\n",
       "      <td>NaN</td>\n",
       "      <td>5</td>\n",
       "      <td>Tropical Medicine</td>\n",
       "      <td>Tropical Medicine</td>\n",
       "      <td>VD6RB</td>\n",
       "      <td>26643890.0</td>\n",
       "      <td>NaN</td>\n",
       "      <td>NaN</td>\n",
       "      <td>NaN</td>\n",
       "      <td>2019-04-02</td>\n",
       "    </tr>\n",
       "    <tr>\n",
       "      <th>WOS:000437437700018</th>\n",
       "      <td>J</td>\n",
       "      <td>Rakotonirina, EJ; Ravaoarisoa, L; Raherinandra...</td>\n",
       "      <td>NaN</td>\n",
       "      <td>NaN</td>\n",
       "      <td>NaN</td>\n",
       "      <td>Rakotonirina, E. J.; Ravaoarisoa, L.; Raherina...</td>\n",
       "      <td>NaN</td>\n",
       "      <td>NaN</td>\n",
       "      <td>Contextual factors regarding the effectiveness...</td>\n",
       "      <td>MEDECINE ET SANTE TROPICALES</td>\n",
       "      <td>...</td>\n",
       "      <td>NaN</td>\n",
       "      <td>7</td>\n",
       "      <td>Tropical Medicine</td>\n",
       "      <td>Tropical Medicine</td>\n",
       "      <td>VD6RP</td>\n",
       "      <td>27046929.0</td>\n",
       "      <td>NaN</td>\n",
       "      <td>NaN</td>\n",
       "      <td>NaN</td>\n",
       "      <td>2019-04-02</td>\n",
       "    </tr>\n",
       "    <tr>\n",
       "      <th>WOS:000437449800023</th>\n",
       "      <td>J</td>\n",
       "      <td>Traore, FA; Sako, FB; Sylla, D; Traore, M; Kpa...</td>\n",
       "      <td>NaN</td>\n",
       "      <td>NaN</td>\n",
       "      <td>NaN</td>\n",
       "      <td>Traore, F. A.; Sako, F. B.; Sylla, D.; Traore,...</td>\n",
       "      <td>NaN</td>\n",
       "      <td>NaN</td>\n",
       "      <td>Tetanus in women of childbearing age in the in...</td>\n",
       "      <td>MEDECINE ET SANTE TROPICALES</td>\n",
       "      <td>...</td>\n",
       "      <td>NaN</td>\n",
       "      <td>3</td>\n",
       "      <td>Tropical Medicine</td>\n",
       "      <td>Tropical Medicine</td>\n",
       "      <td>VD6SI</td>\n",
       "      <td>27694092.0</td>\n",
       "      <td>NaN</td>\n",
       "      <td>NaN</td>\n",
       "      <td>NaN</td>\n",
       "      <td>2019-04-02</td>\n",
       "    </tr>\n",
       "  </tbody>\n",
       "</table>\n",
       "<p>2338 rows × 67 columns</p>\n",
       "</div>"
      ],
      "text/plain": [
       "                    PT                                                 AU  BA  \\\n",
       "UT                                                                              \n",
       "WOS:000084372900003  J        Osaer, S; Goossens, B; Eysker, M; Geerts, S NaN   \n",
       "WOS:000085634000001  J                             Aventin, L; Matthys, F NaN   \n",
       "WOS:000085825800025  J  Yersin, C; Bovet, P; Merien, F; Clement, J; La... NaN   \n",
       "WOS:000085825800030  J  De Clercq, D; Vercruysse, J; Verle, P; Niasse,... NaN   \n",
       "WOS:000086145500003  J                         Boelaert, JR; Taramelli, D NaN   \n",
       "...                 ..                                                ...  ..   \n",
       "WOS:000437429300018  J  Kaputu-Kalala-Malu, C; Kahamba, DM; Ntumba-Tah... NaN   \n",
       "WOS:000437432400002  J  Maotela, JK; Ramazani, SY; Misingi, P; Dramaix... NaN   \n",
       "WOS:000437432400014  J  Kuwekita, M; Gosset, C; Guillaume, M; Semutsar... NaN   \n",
       "WOS:000437437700018  J  Rakotonirina, EJ; Ravaoarisoa, L; Raherinandra... NaN   \n",
       "WOS:000437449800023  J  Traore, FA; Sako, FB; Sylla, D; Traore, M; Kpa... NaN   \n",
       "\n",
       "                      BE  GP  \\\n",
       "UT                             \n",
       "WOS:000084372900003  NaN NaN   \n",
       "WOS:000085634000001  NaN NaN   \n",
       "WOS:000085825800025  NaN NaN   \n",
       "WOS:000085825800030  NaN NaN   \n",
       "WOS:000086145500003  NaN NaN   \n",
       "...                  ...  ..   \n",
       "WOS:000437429300018  NaN NaN   \n",
       "WOS:000437432400002  NaN NaN   \n",
       "WOS:000437432400014  NaN NaN   \n",
       "WOS:000437437700018  NaN NaN   \n",
       "WOS:000437449800023  NaN NaN   \n",
       "\n",
       "                                                                    AF  BF  \\\n",
       "UT                                                                           \n",
       "WOS:000084372900003        Osaer, S; Goossens, B; Eysker, M; Geerts, S NaN   \n",
       "WOS:000085634000001                             Aventin, L; Matthys, F NaN   \n",
       "WOS:000085825800025  Yersin, C; Bovet, P; Merien, F; Clement, J; La... NaN   \n",
       "WOS:000085825800030  De Clercq, D; Vercruysse, J; Verle, P; Niasse,... NaN   \n",
       "WOS:000086145500003                         Boelaert, JR; Taramelli, D NaN   \n",
       "...                                                                ...  ..   \n",
       "WOS:000437429300018  Kaputu-Kalala-Malu, C.; Kahamba, Mukeba D.; Nt... NaN   \n",
       "WOS:000437432400002  Maotela, Kabinda J.; Ramazani, S. Y.; Misingi,... NaN   \n",
       "WOS:000437432400014  Kuwekita, Manzambi; Gosset, C.; Guillaume, M.;... NaN   \n",
       "WOS:000437437700018  Rakotonirina, E. J.; Ravaoarisoa, L.; Raherina... NaN   \n",
       "WOS:000437449800023  Traore, F. A.; Sako, F. B.; Sylla, D.; Traore,... NaN   \n",
       "\n",
       "                      CA                                                 TI  \\\n",
       "UT                                                                            \n",
       "WOS:000084372900003  NaN  The effects of prophylactic anthelmintic treat...   \n",
       "WOS:000085634000001  NaN          Editorial: Do we negotiate human health ?   \n",
       "WOS:000085825800025  NaN  Pulmonary haemorrhage as a predominant cause o...   \n",
       "WOS:000085825800030  NaN  Efficacy of artesunate against Schistosoma man...   \n",
       "WOS:000086145500003  NaN                                           Untitled   \n",
       "...                  ...                                                ...   \n",
       "WOS:000437429300018  NaN  Prolonged seizures in clhildren in sub-Saharan...   \n",
       "WOS:000437432400002  NaN  Blood transfusion in the Democratic Republic o...   \n",
       "WOS:000437432400014  NaN  Combining microcredit, microinsurance, and the...   \n",
       "WOS:000437437700018  NaN  Contextual factors regarding the effectiveness...   \n",
       "WOS:000437449800023  NaN  Tetanus in women of childbearing age in the in...   \n",
       "\n",
       "                                                                    SO  ...  \\\n",
       "UT                                                                      ...   \n",
       "WOS:000084372900003                                       ACTA TROPICA  ...   \n",
       "WOS:000085634000001           TROPICAL MEDICINE & INTERNATIONAL HEALTH  ...   \n",
       "WOS:000085825800025  TRANSACTIONS OF THE ROYAL SOCIETY OF TROPICAL ...  ...   \n",
       "WOS:000085825800030  TRANSACTIONS OF THE ROYAL SOCIETY OF TROPICAL ...  ...   \n",
       "WOS:000086145500003  AMERICAN JOURNAL OF TROPICAL MEDICINE AND HYGIENE  ...   \n",
       "...                                                                ...  ...   \n",
       "WOS:000437429300018                       MEDECINE ET SANTE TROPICALES  ...   \n",
       "WOS:000437432400002                       MEDECINE ET SANTE TROPICALES  ...   \n",
       "WOS:000437432400014                       MEDECINE ET SANTE TROPICALES  ...   \n",
       "WOS:000437437700018                       MEDECINE ET SANTE TROPICALES  ...   \n",
       "WOS:000437449800023                       MEDECINE ET SANTE TROPICALES  ...   \n",
       "\n",
       "                     EY  PG  \\\n",
       "UT                            \n",
       "WOS:000084372900003 NaN  12   \n",
       "WOS:000085634000001 NaN   2   \n",
       "WOS:000085825800025 NaN   6   \n",
       "WOS:000085825800030 NaN   2   \n",
       "WOS:000086145500003 NaN   2   \n",
       "...                  ..  ..   \n",
       "WOS:000437429300018 NaN   6   \n",
       "WOS:000437432400002 NaN   8   \n",
       "WOS:000437432400014 NaN   5   \n",
       "WOS:000437437700018 NaN   7   \n",
       "WOS:000437449800023 NaN   3   \n",
       "\n",
       "                                                                    WC  \\\n",
       "UT                                                                       \n",
       "WOS:000084372900003                    Parasitology; Tropical Medicine   \n",
       "WOS:000085634000001  Public, Environmental & Occupational Health; T...   \n",
       "WOS:000085825800025  Public, Environmental & Occupational Health; T...   \n",
       "WOS:000085825800030  Public, Environmental & Occupational Health; T...   \n",
       "WOS:000086145500003  Public, Environmental & Occupational Health; T...   \n",
       "...                                                                ...   \n",
       "WOS:000437429300018                                  Tropical Medicine   \n",
       "WOS:000437432400002                                  Tropical Medicine   \n",
       "WOS:000437432400014                                  Tropical Medicine   \n",
       "WOS:000437437700018                                  Tropical Medicine   \n",
       "WOS:000437449800023                                  Tropical Medicine   \n",
       "\n",
       "                                                                    SC     GA  \\\n",
       "UT                                                                              \n",
       "WOS:000084372900003                    Parasitology; Tropical Medicine  267RJ   \n",
       "WOS:000085634000001  Public, Environmental & Occupational Health; T...  289QT   \n",
       "WOS:000085825800025  Public, Environmental & Occupational Health; T...  292ZH   \n",
       "WOS:000085825800030  Public, Environmental & Occupational Health; T...  292ZH   \n",
       "WOS:000086145500003  Public, Environmental & Occupational Health; T...  298NF   \n",
       "...                                                                ...    ...   \n",
       "WOS:000437429300018                                  Tropical Medicine  VD6QR   \n",
       "WOS:000437432400002                                  Tropical Medicine  VD6RB   \n",
       "WOS:000437432400014                                  Tropical Medicine  VD6RB   \n",
       "WOS:000437437700018                                  Tropical Medicine  VD6RP   \n",
       "WOS:000437449800023                                  Tropical Medicine  VD6SI   \n",
       "\n",
       "                             PM   OA   HC   HP          DA  \n",
       "UT                                                          \n",
       "WOS:000084372900003  10643903.0  NaN  NaN  NaN  2019-04-02  \n",
       "WOS:000085634000001  10672198.0  NaN  NaN  NaN  2019-04-02  \n",
       "WOS:000085825800025  10748905.0  NaN  NaN  NaN  2019-04-02  \n",
       "WOS:000085825800030  10748910.0  NaN  NaN  NaN  2019-04-02  \n",
       "WOS:000086145500003  10761717.0  NaN  NaN  NaN  2019-04-02  \n",
       "...                         ...  ...  ...  ...         ...  \n",
       "WOS:000437429300018  26102636.0  NaN  NaN  NaN  2019-04-02  \n",
       "WOS:000437432400002  26742551.0  NaN  NaN  NaN  2019-04-02  \n",
       "WOS:000437432400014  26643890.0  NaN  NaN  NaN  2019-04-02  \n",
       "WOS:000437437700018  27046929.0  NaN  NaN  NaN  2019-04-02  \n",
       "WOS:000437449800023  27694092.0  NaN  NaN  NaN  2019-04-02  \n",
       "\n",
       "[2338 rows x 67 columns]"
      ]
     },
     "execution_count": 13,
     "metadata": {},
     "output_type": "execute_result"
    }
   ],
   "source": [
    "publications_df"
   ]
  },
  {
   "cell_type": "markdown",
   "metadata": {},
   "source": [
    "## Data summarisation"
   ]
  },
  {
   "cell_type": "markdown",
   "metadata": {},
   "source": [
    "The `pandas` package provides various ways to summarise the data and get a useful overview of the data. For example, you can group by a certain column, and count or sum things. For example, we can count the number of articles in each journal that is included in this dataset:"
   ]
  },
  {
   "cell_type": "code",
   "execution_count": 14,
   "metadata": {},
   "outputs": [
    {
     "data": {
      "text/plain": [
       "SO\n",
       "TROPICAL MEDICINE & INTERNATIONAL HEALTH                              1025\n",
       "AMERICAN JOURNAL OF TROPICAL MEDICINE AND HYGIENE                      360\n",
       "PLOS NEGLECTED TROPICAL DISEASES                                       275\n",
       "MALARIA JOURNAL                                                        197\n",
       "TRANSACTIONS OF THE ROYAL SOCIETY OF TROPICAL MEDICINE AND HYGIENE     133\n",
       "PARASITES & VECTORS                                                    105\n",
       "ACTA TROPICA                                                            82\n",
       "MEDECINE ET SANTE TROPICALES                                            18\n",
       "ANNALS OF TROPICAL MEDICINE AND PARASITOLOGY                            18\n",
       "JOURNAL OF TROPICAL PEDIATRICS                                          18\n",
       "dtype: int64"
      ]
     },
     "execution_count": 14,
     "metadata": {},
     "output_type": "execute_result"
    }
   ],
   "source": [
    "grouped_by_journal = publications_df.groupby('SO')\n",
    "grouped_by_journal.size().sort_values(ascending=False)[:10]"
   ]
  },
  {
   "cell_type": "markdown",
   "metadata": {},
   "source": [
    "We could also ask the mean publication year of publications in those journals"
   ]
  },
  {
   "cell_type": "code",
   "execution_count": 15,
   "metadata": {},
   "outputs": [
    {
     "data": {
      "text/plain": [
       "SO\n",
       "ACTA TROPICA                                                                                              2008.548780\n",
       "AMERICAN JOURNAL OF TROPICAL MEDICINE AND HYGIENE                                                         2011.005556\n",
       "ANNALS OF TROPICAL MEDICINE AND PARASITOLOGY                                                              2004.555556\n",
       "ANNALS OF TROPICAL MEDICINE AND PUBLIC HEALTH                                                             2008.000000\n",
       "ANNALS OF TROPICAL PAEDIATRICS                                                                            2005.200000\n",
       "ASIAN PACIFIC JOURNAL OF TROPICAL BIOMEDICINE                                                             2016.666667\n",
       "ASIAN PACIFIC JOURNAL OF TROPICAL MEDICINE                                                                2012.750000\n",
       "BIOMEDICA                                                                                                 2012.000000\n",
       "BULLETIN DE LA SOCIETE DE PATHOLOGIE EXOTIQUE                                                             2001.500000\n",
       "IMPACT OF ECOLOGICAL CHANGES ON TROPICAL ANIMAL HEALTH AND DISEASE CONTROL                                2004.000000\n",
       "INTERNATIONAL JOURNAL OF LEPROSY AND OTHER MYCOBACTERIAL DISEASES                                         2001.000000\n",
       "JOURNAL OF TROPICAL MEDICINE                                                                              2012.400000\n",
       "JOURNAL OF TROPICAL PEDIATRICS                                                                            2009.888889\n",
       "JOURNAL OF VENOMOUS ANIMALS AND TOXINS INCLUDING TROPICAL DISEASES                                        2014.000000\n",
       "LEPROSY REVIEW                                                                                            2007.400000\n",
       "MALARIA JOURNAL                                                                                           2012.060914\n",
       "MATHEMATICAL MODELS FOR NEGLECTED TROPICAL DISEASES: ESSENTIAL TOOLS FOR CONTROL AND ELIMINATION, PT A    2015.000000\n",
       "MEDECINE ET SANTE TROPICALES                                                                              2014.611111\n",
       "MEMORIAS DO INSTITUTO OSWALDO CRUZ                                                                        2007.000000\n",
       "PARASITES & VECTORS                                                                                       2014.733333\n",
       "PATHOGENS AND GLOBAL HEALTH                                                                               2012.857143\n",
       "PLOS NEGLECTED TROPICAL DISEASES                                                                          2013.360000\n",
       "PLoS Neglected Tropical Diseases                                                                          2015.000000\n",
       "REVISTA DA SOCIEDADE BRASILEIRA DE MEDICINA TROPICAL                                                      2006.352941\n",
       "SOUTHEAST ASIAN JOURNAL OF TROPICAL MEDICINE AND PUBLIC HEALTH                                            2012.333333\n",
       "TRANSACTIONS OF THE ROYAL SOCIETY OF TROPICAL MEDICINE AND HYGIENE                                        2008.466165\n",
       "TROPICAL DOCTOR                                                                                           2005.250000\n",
       "TROPICAL MEDICINE & INTERNATIONAL HEALTH                                                                  2011.811707\n",
       "TROPICAL MEDICINE AND HEALTH                                                                              2017.000000\n",
       "Name: PY, dtype: float64"
      ]
     },
     "execution_count": 15,
     "metadata": {},
     "output_type": "execute_result"
    }
   ],
   "source": [
    "grouped_by_journal['PY'].mean()"
   ]
  },
  {
   "cell_type": "markdown",
   "metadata": {},
   "source": [
    "<div class=\"alert alert-info\">\n",
    "    Group by the year (<code>PY</code>) and count the number of paper from each year.\n",
    "</div>"
   ]
  },
  {
   "cell_type": "markdown",
   "metadata": {},
   "source": [
    "<div class=\"alert alert-success\">\n",
    "Now it is time to introduce you a little trick: you can get a list of all functions and argument of some variable  by simply pressing <code>Tab</code>. For example, you can type <code>publications_df.</code>, including the <code>.</code> and then press <code>Tab</code> (make sure the cursor is located after the <code>.</code>). If you then start typing the name of the function you are looking for and press <code>Tab</code> again, Python will automatically finish it as much as possible. This is something general: whenever you press <code>Tab</code> Python will try to <em>autocomplete</em> whatever you are typing.\n",
    "\n",
    "One other trick: if you have selected a function and press <code>Shift-Tab</code> you will get documentation of what this function does. You can press the <code>+</code> to find out more.\n",
    "</div>"
   ]
  },
  {
   "cell_type": "code",
   "execution_count": 16,
   "metadata": {},
   "outputs": [
    {
     "data": {
      "text/plain": [
       "PY\n",
       "2000     42\n",
       "2001     35\n",
       "2002     43\n",
       "2003     41\n",
       "2004     43\n",
       "2005     73\n",
       "2006     65\n",
       "2007    128\n",
       "2008    116\n",
       "2009    174\n",
       "2010    145\n",
       "2011    232\n",
       "2012     93\n",
       "2013    152\n",
       "2014    109\n",
       "2015    278\n",
       "2016    118\n",
       "2017    451\n",
       "dtype: int64"
      ]
     },
     "execution_count": 16,
     "metadata": {},
     "output_type": "execute_result"
    }
   ],
   "source": [
    "publications_df.groupby('PY').size()"
   ]
  },
  {
   "cell_type": "markdown",
   "metadata": {},
   "source": [
    "## Network generation"
   ]
  },
  {
   "cell_type": "markdown",
   "metadata": {},
   "source": [
    "Ultimately, we would like to use this data to generation scientometric networks. This is not a trivial task, and we will now show how to construct a co-authorship network and a journal level bibliographic coupling network.\n",
    "\n",
    "We first load the network analysis package that we will use in the notebook, `igraph`."
   ]
  },
  {
   "cell_type": "markdown",
   "metadata": {},
   "source": [
    "<div class=\"alert alert-info\">\n",
    "    Import the pacakge <code>igraph</code> and call it <code>ig</code>.\n",
    "</div>"
   ]
  },
  {
   "cell_type": "code",
   "execution_count": 17,
   "metadata": {},
   "outputs": [],
   "source": [
    "import igraph as ig"
   ]
  },
  {
   "cell_type": "markdown",
   "metadata": {},
   "source": [
    "### Co-authorship"
   ]
  },
  {
   "cell_type": "markdown",
   "metadata": {},
   "source": [
    "We first build a co-authorship network. We will do this one publication at the time. All combinations of authors that are involved in a publication are co-authors. Let us look at the authors for publication 0."
   ]
  },
  {
   "cell_type": "code",
   "execution_count": 18,
   "metadata": {},
   "outputs": [
    {
     "data": {
      "text/plain": [
       "'Osaer, S; Goossens, B; Eysker, M; Geerts, S'"
      ]
     },
     "execution_count": 18,
     "metadata": {},
     "output_type": "execute_result"
    }
   ],
   "source": [
    "publications_df['AU'][0]"
   ]
  },
  {
   "cell_type": "markdown",
   "metadata": {},
   "source": [
    "Note that the authors are all listed and separated with a semicolon (`;`). In computer terms, it is now a single *string*. We will split this string of all authors into a list of strings where each string then represents a single author."
   ]
  },
  {
   "cell_type": "code",
   "execution_count": 19,
   "metadata": {},
   "outputs": [],
   "source": [
    "publications_df['AU_split'] = publications_df['AU'].fillna('').str.split('; ')"
   ]
  },
  {
   "cell_type": "code",
   "execution_count": 20,
   "metadata": {},
   "outputs": [
    {
     "data": {
      "text/plain": [
       "['Osaer, S', 'Goossens, B', 'Eysker, M', 'Geerts, S']"
      ]
     },
     "execution_count": 20,
     "metadata": {},
     "output_type": "execute_result"
    }
   ],
   "source": [
    "authors = publications_df['AU_split'][0]\n",
    "authors"
   ]
  },
  {
   "cell_type": "markdown",
   "metadata": {},
   "source": [
    "In order to create all possible combinations, we can use a convenient package, called `itertools`. The function `combinations` can generate all possible combinations of the elements of a list."
   ]
  },
  {
   "cell_type": "code",
   "execution_count": 21,
   "metadata": {},
   "outputs": [
    {
     "data": {
      "text/plain": [
       "[('Osaer, S', 'Goossens, B'),\n",
       " ('Osaer, S', 'Eysker, M'),\n",
       " ('Osaer, S', 'Geerts, S'),\n",
       " ('Goossens, B', 'Eysker, M'),\n",
       " ('Goossens, B', 'Geerts, S'),\n",
       " ('Eysker, M', 'Geerts, S')]"
      ]
     },
     "execution_count": 21,
     "metadata": {},
     "output_type": "execute_result"
    }
   ],
   "source": [
    "import itertools as itr\n",
    "list(itr.combinations(authors, 2))"
   ]
  },
  {
   "cell_type": "markdown",
   "metadata": {},
   "source": [
    "Of course, we don't want to do this for a single publication only, but rather, for all publications in our dataset. We can do that using the function `apply`. We can supply it with a small function (called a `lambda` function) that simply takes some input and produces some output. In this case, the input are the `authors`, and the output is the result of `itr.combinations(...)`."
   ]
  },
  {
   "cell_type": "code",
   "execution_count": 22,
   "metadata": {},
   "outputs": [],
   "source": [
    "coauthors_per_publication = publications_df['AU_split'].apply(\n",
    "    lambda authors: list(itr.combinations(authors, 2)))"
   ]
  },
  {
   "cell_type": "markdown",
   "metadata": {},
   "source": [
    "The variable `coauthors_per_publication` is now a list of a list of co-authors per publication. That is, each element of `coauthors_per_publication` contains a list of all co-authors for that publication. So, `coauthors_per_publication[0]` contains the coauthors we examined previously."
   ]
  },
  {
   "cell_type": "code",
   "execution_count": 23,
   "metadata": {},
   "outputs": [
    {
     "data": {
      "text/plain": [
       "[('Osaer, S', 'Goossens, B'),\n",
       " ('Osaer, S', 'Eysker, M'),\n",
       " ('Osaer, S', 'Geerts, S'),\n",
       " ('Goossens, B', 'Eysker, M'),\n",
       " ('Goossens, B', 'Geerts, S'),\n",
       " ('Eysker, M', 'Geerts, S')]"
      ]
     },
     "execution_count": 23,
     "metadata": {},
     "output_type": "execute_result"
    }
   ],
   "source": [
    "coauthors_per_publication[0]"
   ]
  },
  {
   "cell_type": "markdown",
   "metadata": {},
   "source": [
    "Let us turn each element of this list into a separate row. This is done by using `explode` in `pandas`. Publications with only one author have no co-authors, which results in an `NA` (Not Available) value. We will drop those using `dropna`."
   ]
  },
  {
   "cell_type": "code",
   "execution_count": 24,
   "metadata": {},
   "outputs": [],
   "source": [
    "coauthors = coauthors_per_publication.explode().dropna()"
   ]
  },
  {
   "cell_type": "markdown",
   "metadata": {},
   "source": [
    "Finally, we can create the actual network as follows"
   ]
  },
  {
   "cell_type": "code",
   "execution_count": 25,
   "metadata": {},
   "outputs": [],
   "source": [
    "G_coauthorship = ig.Graph.TupleList(\n",
    "      edges=coauthors.to_list(),\n",
    "      vertex_name_attr='author',\n",
    "      directed=False\n",
    "      )"
   ]
  },
  {
   "cell_type": "markdown",
   "metadata": {},
   "source": [
    "Note that this graph will still contain many duplicate edges, because there are multiple edges present. Let us therefore simplify this graph, and simply count the number of multiple edges. We first create a so-called edge attribute `n_joint_papers`. We can create it by using the edge sequence `es` of the graph. We can then simply sum this weight when we simplify the graph."
   ]
  },
  {
   "cell_type": "code",
   "execution_count": 26,
   "metadata": {},
   "outputs": [],
   "source": [
    "G_coauthorship.es['n_joint_papers'] = 1\n",
    "G_coauthorship = G_coauthorship.simplify(combine_edges='sum')"
   ]
  },
  {
   "cell_type": "markdown",
   "metadata": {},
   "source": [
    "Let us see how many authors (i.e. nodes) there are in the network. This is called the `vcount` (vertex count) in `igraph`."
   ]
  },
  {
   "cell_type": "code",
   "execution_count": 27,
   "metadata": {},
   "outputs": [
    {
     "data": {
      "text/plain": [
       "8482"
      ]
     },
     "execution_count": 27,
     "metadata": {},
     "output_type": "execute_result"
    }
   ],
   "source": [
    "G_coauthorship.vcount()"
   ]
  },
  {
   "cell_type": "markdown",
   "metadata": {},
   "source": [
    "Similarly, the number of edges is available as the `ecount` of the graph."
   ]
  },
  {
   "cell_type": "code",
   "execution_count": 28,
   "metadata": {},
   "outputs": [
    {
     "data": {
      "text/plain": [
       "72938"
      ]
     },
     "execution_count": 28,
     "metadata": {},
     "output_type": "execute_result"
    }
   ],
   "source": [
    "G_coauthorship.ecount()"
   ]
  },
  {
   "cell_type": "markdown",
   "metadata": {},
   "source": [
    "We can do all sorts of analysis on this network. But first, we will create a bibliographic coupling network."
   ]
  },
  {
   "cell_type": "markdown",
   "metadata": {},
   "source": [
    "### Bibliographic coupling"
   ]
  },
  {
   "cell_type": "markdown",
   "metadata": {},
   "source": [
    "Bibliographic coupling and co-authorship is in a sense very similar. Previously, we computed for each publication a combination of all co-authors. For bibliographic coupling we can compute for each cited reference the combinations of all citing journals. We will first create a dataframe of all journal citations (`SO`) of a certain cited reference (`CR`). Similar to the authors, we need to first split the cited references."
   ]
  },
  {
   "cell_type": "code",
   "execution_count": 29,
   "metadata": {},
   "outputs": [],
   "source": [
    "publication_with_cr_df = publications_df.loc[pd.notnull(publications_df['CR']), ['SO', 'CR']]\n",
    "publication_with_cr_df['CR'] = publication_with_cr_df['CR'].str.split('; ')"
   ]
  },
  {
   "cell_type": "markdown",
   "metadata": {},
   "source": [
    "We now simply list all citations from a certain journal (`SO`) to a certain cited reference (`CR`)."
   ]
  },
  {
   "cell_type": "code",
   "execution_count": 30,
   "metadata": {},
   "outputs": [],
   "source": [
    "journal_cits_df = publication_with_cr_df[['SO', 'CR']].explode('CR')"
   ]
  },
  {
   "cell_type": "markdown",
   "metadata": {},
   "source": [
    "We then create all bibliographic couplings per cited reference as follows. We first group by the cited reference (`CR`) and then take all combinations of citing journals."
   ]
  },
  {
   "cell_type": "code",
   "execution_count": 31,
   "metadata": {},
   "outputs": [],
   "source": [
    "bibcoupling_per_cr = journal_cits_df.groupby('CR').apply(lambda x: list(itr.combinations(x['SO'], 2)))"
   ]
  },
  {
   "cell_type": "markdown",
   "metadata": {},
   "source": [
    "We again `explode` all combinations of two sources citing the same reference."
   ]
  },
  {
   "cell_type": "code",
   "execution_count": 32,
   "metadata": {},
   "outputs": [],
   "source": [
    "bibcouplings = bibcoupling_per_cr.explode().dropna()"
   ]
  },
  {
   "cell_type": "markdown",
   "metadata": {},
   "source": [
    "We can then create the network."
   ]
  },
  {
   "cell_type": "code",
   "execution_count": 33,
   "metadata": {},
   "outputs": [],
   "source": [
    "G_coupling = ig.Graph.TupleList(\n",
    "      edges=bibcouplings,\n",
    "      vertex_name_attr='SO',\n",
    "      directed=False\n",
    "      )"
   ]
  },
  {
   "cell_type": "markdown",
   "metadata": {},
   "source": [
    "<div class=\"alert alert-info\">\n",
    "    We again need to simplify this network. Create a new edge attribute called <code>coupling</code> set it to <code>1</code> and then sum this attribute when simplifying the network.\n",
    "</div>"
   ]
  },
  {
   "cell_type": "code",
   "execution_count": 34,
   "metadata": {},
   "outputs": [],
   "source": [
    "G_coupling.es['coupling'] = 1\n",
    "G_coupling = G_coupling.simplify(combine_edges='sum')"
   ]
  },
  {
   "cell_type": "markdown",
   "metadata": {},
   "source": [
    "This network should be reasonably sized, and you should be able to visualize this network by calling `ig.plot`."
   ]
  },
  {
   "cell_type": "code",
   "execution_count": 35,
   "metadata": {},
   "outputs": [
    {
     "data": {
      "image/svg+xml": [
       "<?xml version=\"1.0\" encoding=\"UTF-8\"?>\n",
       "<svg xmlns=\"http://www.w3.org/2000/svg\" xmlns:xlink=\"http://www.w3.org/1999/xlink\" width=\"600pt\" height=\"600pt\" viewBox=\"0 0 600 600\" version=\"1.1\">\n",
       "<defs>\n",
       "<g>\n",
       "<symbol overflow=\"visible\" id=\"glyph0-0\">\n",
       "<path style=\"stroke:none;\" d=\"M 0.703125 2.46875 L 0.703125 -9.875 L 7.703125 -9.875 L 7.703125 2.46875 Z M 1.484375 1.703125 L 6.921875 1.703125 L 6.921875 -9.078125 L 1.484375 -9.078125 Z M 1.484375 1.703125 \"/>\n",
       "</symbol>\n",
       "<symbol overflow=\"visible\" id=\"glyph0-1\">\n",
       "<path style=\"stroke:none;\" d=\"M -0.046875 -10.203125 L 8.59375 -10.203125 L 8.59375 -9.046875 L 4.96875 -9.046875 L 4.96875 0 L 3.578125 0 L 3.578125 -9.046875 L -0.046875 -9.046875 Z M -0.046875 -10.203125 \"/>\n",
       "</symbol>\n",
       "<symbol overflow=\"visible\" id=\"glyph0-2\">\n",
       "<path style=\"stroke:none;\" d=\"M 6.21875 -4.78125 C 6.507812 -4.6875 6.796875 -4.472656 7.078125 -4.140625 C 7.359375 -3.816406 7.640625 -3.367188 7.921875 -2.796875 L 9.328125 0 L 7.84375 0 L 6.53125 -2.625 C 6.195312 -3.300781 5.867188 -3.75 5.546875 -3.96875 C 5.234375 -4.195312 4.804688 -4.3125 4.265625 -4.3125 L 2.75 -4.3125 L 2.75 0 L 1.375 0 L 1.375 -10.203125 L 4.484375 -10.203125 C 5.648438 -10.203125 6.519531 -9.957031 7.09375 -9.46875 C 7.675781 -8.988281 7.96875 -8.253906 7.96875 -7.265625 C 7.96875 -6.617188 7.816406 -6.082031 7.515625 -5.65625 C 7.210938 -5.238281 6.78125 -4.945312 6.21875 -4.78125 Z M 2.75 -9.078125 L 2.75 -5.453125 L 4.484375 -5.453125 C 5.148438 -5.453125 5.65625 -5.601562 6 -5.90625 C 6.34375 -6.21875 6.515625 -6.671875 6.515625 -7.265625 C 6.515625 -7.859375 6.34375 -8.304688 6 -8.609375 C 5.65625 -8.921875 5.148438 -9.078125 4.484375 -9.078125 Z M 2.75 -9.078125 \"/>\n",
       "</symbol>\n",
       "<symbol overflow=\"visible\" id=\"glyph0-3\">\n",
       "<path style=\"stroke:none;\" d=\"M 5.515625 -9.265625 C 4.515625 -9.265625 3.71875 -8.890625 3.125 -8.140625 C 2.539062 -7.398438 2.25 -6.382812 2.25 -5.09375 C 2.25 -3.8125 2.539062 -2.796875 3.125 -2.046875 C 3.71875 -1.296875 4.515625 -0.921875 5.515625 -0.921875 C 6.515625 -0.921875 7.304688 -1.296875 7.890625 -2.046875 C 8.484375 -2.796875 8.78125 -3.8125 8.78125 -5.09375 C 8.78125 -6.382812 8.484375 -7.398438 7.890625 -8.140625 C 7.304688 -8.890625 6.515625 -9.265625 5.515625 -9.265625 Z M 5.515625 -10.390625 C 6.941406 -10.390625 8.082031 -9.910156 8.9375 -8.953125 C 9.800781 -7.992188 10.234375 -6.707031 10.234375 -5.09375 C 10.234375 -3.488281 9.800781 -2.203125 8.9375 -1.234375 C 8.082031 -0.273438 6.941406 0.203125 5.515625 0.203125 C 4.078125 0.203125 2.925781 -0.273438 2.0625 -1.234375 C 1.207031 -2.191406 0.78125 -3.476562 0.78125 -5.09375 C 0.78125 -6.707031 1.207031 -7.992188 2.0625 -8.953125 C 2.925781 -9.910156 4.078125 -10.390625 5.515625 -10.390625 Z M 5.515625 -10.390625 \"/>\n",
       "</symbol>\n",
       "<symbol overflow=\"visible\" id=\"glyph0-4\">\n",
       "<path style=\"stroke:none;\" d=\"M 2.75 -9.078125 L 2.75 -5.234375 L 4.484375 -5.234375 C 5.128906 -5.234375 5.628906 -5.398438 5.984375 -5.734375 C 6.335938 -6.066406 6.515625 -6.539062 6.515625 -7.15625 C 6.515625 -7.769531 6.335938 -8.242188 5.984375 -8.578125 C 5.628906 -8.910156 5.128906 -9.078125 4.484375 -9.078125 Z M 1.375 -10.203125 L 4.484375 -10.203125 C 5.628906 -10.203125 6.492188 -9.941406 7.078125 -9.421875 C 7.671875 -8.910156 7.96875 -8.15625 7.96875 -7.15625 C 7.96875 -6.144531 7.671875 -5.382812 7.078125 -4.875 C 6.492188 -4.363281 5.628906 -4.109375 4.484375 -4.109375 L 2.75 -4.109375 L 2.75 0 L 1.375 0 Z M 1.375 -10.203125 \"/>\n",
       "</symbol>\n",
       "<symbol overflow=\"visible\" id=\"glyph0-5\">\n",
       "<path style=\"stroke:none;\" d=\"M 1.375 -10.203125 L 2.75 -10.203125 L 2.75 0 L 1.375 0 Z M 1.375 -10.203125 \"/>\n",
       "</symbol>\n",
       "<symbol overflow=\"visible\" id=\"glyph0-6\">\n",
       "<path style=\"stroke:none;\" d=\"M 9.015625 -9.421875 L 9.015625 -7.96875 C 8.546875 -8.394531 8.046875 -8.710938 7.515625 -8.921875 C 6.992188 -9.140625 6.441406 -9.25 5.859375 -9.25 C 4.691406 -9.25 3.796875 -8.890625 3.171875 -8.171875 C 2.554688 -7.460938 2.25 -6.4375 2.25 -5.09375 C 2.25 -3.75 2.554688 -2.71875 3.171875 -2 C 3.796875 -1.289062 4.691406 -0.9375 5.859375 -0.9375 C 6.441406 -0.9375 6.992188 -1.039062 7.515625 -1.25 C 8.046875 -1.46875 8.546875 -1.796875 9.015625 -2.234375 L 9.015625 -0.78125 C 8.535156 -0.457031 8.023438 -0.210938 7.484375 -0.046875 C 6.941406 0.117188 6.367188 0.203125 5.765625 0.203125 C 4.222656 0.203125 3.003906 -0.269531 2.109375 -1.21875 C 1.222656 -2.164062 0.78125 -3.457031 0.78125 -5.09375 C 0.78125 -6.726562 1.222656 -8.019531 2.109375 -8.96875 C 3.003906 -9.914062 4.222656 -10.390625 5.765625 -10.390625 C 6.378906 -10.390625 6.957031 -10.304688 7.5 -10.140625 C 8.039062 -9.984375 8.546875 -9.742188 9.015625 -9.421875 Z M 9.015625 -9.421875 \"/>\n",
       "</symbol>\n",
       "<symbol overflow=\"visible\" id=\"glyph0-7\">\n",
       "<path style=\"stroke:none;\" d=\"M 4.78125 -8.84375 L 2.90625 -3.765625 L 6.671875 -3.765625 Z M 4 -10.203125 L 5.578125 -10.203125 L 9.46875 0 L 8.03125 0 L 7.09375 -2.625 L 2.5 -2.625 L 1.5625 0 L 0.109375 0 Z M 4 -10.203125 \"/>\n",
       "</symbol>\n",
       "<symbol overflow=\"visible\" id=\"glyph0-8\">\n",
       "<path style=\"stroke:none;\" d=\"M 1.375 -10.203125 L 2.75 -10.203125 L 2.75 -1.15625 L 7.71875 -1.15625 L 7.71875 0 L 1.375 0 Z M 1.375 -10.203125 \"/>\n",
       "</symbol>\n",
       "<symbol overflow=\"visible\" id=\"glyph0-9\">\n",
       "<path style=\"stroke:none;\" d=\"\"/>\n",
       "</symbol>\n",
       "<symbol overflow=\"visible\" id=\"glyph0-10\">\n",
       "<path style=\"stroke:none;\" d=\"M 1.375 -10.203125 L 3.4375 -10.203125 L 6.03125 -3.265625 L 8.65625 -10.203125 L 10.71875 -10.203125 L 10.71875 0 L 9.359375 0 L 9.359375 -8.96875 L 6.734375 -1.96875 L 5.34375 -1.96875 L 2.71875 -8.96875 L 2.71875 0 L 1.375 0 Z M 1.375 -10.203125 \"/>\n",
       "</symbol>\n",
       "<symbol overflow=\"visible\" id=\"glyph0-11\">\n",
       "<path style=\"stroke:none;\" d=\"M 1.375 -10.203125 L 7.828125 -10.203125 L 7.828125 -9.046875 L 2.75 -9.046875 L 2.75 -6.015625 L 7.609375 -6.015625 L 7.609375 -4.859375 L 2.75 -4.859375 L 2.75 -1.15625 L 7.953125 -1.15625 L 7.953125 0 L 1.375 0 Z M 1.375 -10.203125 \"/>\n",
       "</symbol>\n",
       "<symbol overflow=\"visible\" id=\"glyph0-12\">\n",
       "<path style=\"stroke:none;\" d=\"M 2.75 -9.078125 L 2.75 -1.140625 L 4.421875 -1.140625 C 5.828125 -1.140625 6.859375 -1.457031 7.515625 -2.09375 C 8.171875 -2.726562 8.5 -3.734375 8.5 -5.109375 C 8.5 -6.484375 8.171875 -7.488281 7.515625 -8.125 C 6.859375 -8.757812 5.828125 -9.078125 4.421875 -9.078125 Z M 1.375 -10.203125 L 4.21875 -10.203125 C 6.1875 -10.203125 7.632812 -9.789062 8.5625 -8.96875 C 9.488281 -8.144531 9.953125 -6.859375 9.953125 -5.109375 C 9.953125 -3.347656 9.488281 -2.054688 8.5625 -1.234375 C 7.632812 -0.410156 6.1875 0 4.21875 0 L 1.375 0 Z M 1.375 -10.203125 \"/>\n",
       "</symbol>\n",
       "<symbol overflow=\"visible\" id=\"glyph0-13\">\n",
       "<path style=\"stroke:none;\" d=\"M 1.375 -10.203125 L 3.234375 -10.203125 L 7.765625 -1.671875 L 7.765625 -10.203125 L 9.09375 -10.203125 L 9.09375 0 L 7.234375 0 L 2.71875 -8.53125 L 2.71875 0 L 1.375 0 Z M 1.375 -10.203125 \"/>\n",
       "</symbol>\n",
       "<symbol overflow=\"visible\" id=\"glyph0-14\">\n",
       "<path style=\"stroke:none;\" d=\"M 3.40625 -5.484375 C 2.988281 -5.117188 2.679688 -4.75 2.484375 -4.375 C 2.296875 -4.007812 2.203125 -3.628906 2.203125 -3.234375 C 2.203125 -2.566406 2.441406 -2.007812 2.921875 -1.5625 C 3.410156 -1.125 4.019531 -0.90625 4.75 -0.90625 C 5.175781 -0.90625 5.578125 -0.976562 5.953125 -1.125 C 6.335938 -1.269531 6.695312 -1.488281 7.03125 -1.78125 Z M 4.375 -6.25 L 7.84375 -2.703125 C 8.113281 -3.109375 8.320312 -3.539062 8.46875 -4 C 8.625 -4.46875 8.710938 -4.957031 8.734375 -5.46875 L 10.015625 -5.46875 C 9.953125 -4.875 9.800781 -4.28125 9.5625 -3.6875 C 9.332031 -3.101562 9.003906 -2.523438 8.578125 -1.953125 L 10.484375 0 L 8.765625 0 L 7.78125 -1 C 7.3125 -0.59375 6.816406 -0.289062 6.296875 -0.09375 C 5.773438 0.101562 5.21875 0.203125 4.625 0.203125 C 3.519531 0.203125 2.617188 -0.109375 1.921875 -0.734375 C 1.222656 -1.367188 0.875 -2.175781 0.875 -3.15625 C 0.875 -3.738281 1.023438 -4.285156 1.328125 -4.796875 C 1.640625 -5.304688 2.101562 -5.785156 2.71875 -6.234375 C 2.5 -6.523438 2.332031 -6.8125 2.21875 -7.09375 C 2.101562 -7.382812 2.046875 -7.664062 2.046875 -7.9375 C 2.046875 -8.675781 2.296875 -9.269531 2.796875 -9.71875 C 3.304688 -10.164062 3.976562 -10.390625 4.8125 -10.390625 C 5.195312 -10.390625 5.578125 -10.347656 5.953125 -10.265625 C 6.328125 -10.179688 6.707031 -10.0625 7.09375 -9.90625 L 7.09375 -8.65625 C 6.695312 -8.863281 6.316406 -9.023438 5.953125 -9.140625 C 5.597656 -9.253906 5.265625 -9.3125 4.953125 -9.3125 C 4.472656 -9.3125 4.082031 -9.179688 3.78125 -8.921875 C 3.488281 -8.671875 3.34375 -8.347656 3.34375 -7.953125 C 3.34375 -7.722656 3.410156 -7.488281 3.546875 -7.25 C 3.679688 -7.007812 3.957031 -6.675781 4.375 -6.25 Z M 4.375 -6.25 \"/>\n",
       "</symbol>\n",
       "<symbol overflow=\"visible\" id=\"glyph0-15\">\n",
       "<path style=\"stroke:none;\" d=\"M 1.375 -10.203125 L 2.75 -10.203125 L 2.75 -6.015625 L 7.765625 -6.015625 L 7.765625 -10.203125 L 9.15625 -10.203125 L 9.15625 0 L 7.765625 0 L 7.765625 -4.859375 L 2.75 -4.859375 L 2.75 0 L 1.375 0 Z M 1.375 -10.203125 \"/>\n",
       "</symbol>\n",
       "<symbol overflow=\"visible\" id=\"glyph0-16\">\n",
       "<path style=\"stroke:none;\" d=\"M 7.5 -9.875 L 7.5 -8.53125 C 6.96875 -8.78125 6.46875 -8.960938 6 -9.078125 C 5.539062 -9.203125 5.09375 -9.265625 4.65625 -9.265625 C 3.90625 -9.265625 3.328125 -9.117188 2.921875 -8.828125 C 2.515625 -8.535156 2.3125 -8.125 2.3125 -7.59375 C 2.3125 -7.132812 2.445312 -6.789062 2.71875 -6.5625 C 2.988281 -6.332031 3.503906 -6.148438 4.265625 -6.015625 L 5.09375 -5.84375 C 6.125 -5.644531 6.882812 -5.296875 7.375 -4.796875 C 7.863281 -4.304688 8.109375 -3.644531 8.109375 -2.8125 C 8.109375 -1.820312 7.773438 -1.070312 7.109375 -0.5625 C 6.453125 -0.0507812 5.484375 0.203125 4.203125 0.203125 C 3.710938 0.203125 3.195312 0.144531 2.65625 0.03125 C 2.113281 -0.0703125 1.550781 -0.234375 0.96875 -0.453125 L 0.96875 -1.875 C 1.53125 -1.5625 2.078125 -1.320312 2.609375 -1.15625 C 3.148438 -1 3.679688 -0.921875 4.203125 -0.921875 C 4.984375 -0.921875 5.585938 -1.078125 6.015625 -1.390625 C 6.453125 -1.703125 6.671875 -2.144531 6.671875 -2.71875 C 6.671875 -3.21875 6.515625 -3.609375 6.203125 -3.890625 C 5.898438 -4.171875 5.394531 -4.382812 4.6875 -4.53125 L 3.84375 -4.6875 C 2.8125 -4.894531 2.066406 -5.21875 1.609375 -5.65625 C 1.148438 -6.09375 0.921875 -6.703125 0.921875 -7.484375 C 0.921875 -8.378906 1.238281 -9.085938 1.875 -9.609375 C 2.507812 -10.128906 3.382812 -10.390625 4.5 -10.390625 C 4.976562 -10.390625 5.46875 -10.34375 5.96875 -10.25 C 6.46875 -10.164062 6.976562 -10.039062 7.5 -9.875 Z M 7.5 -9.875 \"/>\n",
       "</symbol>\n",
       "<symbol overflow=\"visible\" id=\"glyph0-17\">\n",
       "<path style=\"stroke:none;\" d=\"M 8.328125 -1.453125 L 8.328125 -4.203125 L 6.078125 -4.203125 L 6.078125 -5.328125 L 9.703125 -5.328125 L 9.703125 -0.953125 C 9.171875 -0.578125 8.582031 -0.289062 7.9375 -0.09375 C 7.289062 0.101562 6.601562 0.203125 5.875 0.203125 C 4.28125 0.203125 3.03125 -0.257812 2.125 -1.1875 C 1.226562 -2.125 0.78125 -3.425781 0.78125 -5.09375 C 0.78125 -6.757812 1.226562 -8.054688 2.125 -8.984375 C 3.03125 -9.921875 4.28125 -10.390625 5.875 -10.390625 C 6.539062 -10.390625 7.171875 -10.304688 7.765625 -10.140625 C 8.367188 -9.984375 8.925781 -9.742188 9.4375 -9.421875 L 9.4375 -7.953125 C 8.925781 -8.378906 8.382812 -8.703125 7.8125 -8.921875 C 7.238281 -9.140625 6.632812 -9.25 6 -9.25 C 4.75 -9.25 3.8125 -8.898438 3.1875 -8.203125 C 2.5625 -7.515625 2.25 -6.476562 2.25 -5.09375 C 2.25 -3.71875 2.5625 -2.679688 3.1875 -1.984375 C 3.8125 -1.285156 4.75 -0.9375 6 -0.9375 C 6.488281 -0.9375 6.921875 -0.976562 7.296875 -1.0625 C 7.679688 -1.144531 8.023438 -1.273438 8.328125 -1.453125 Z M 8.328125 -1.453125 \"/>\n",
       "</symbol>\n",
       "<symbol overflow=\"visible\" id=\"glyph0-18\">\n",
       "<path style=\"stroke:none;\" d=\"M 1.375 -10.203125 L 2.75 -10.203125 L 2.75 -0.71875 C 2.75 0.519531 2.515625 1.414062 2.046875 1.96875 C 1.585938 2.519531 0.835938 2.796875 -0.203125 2.796875 L -0.71875 2.796875 L -0.71875 1.640625 L -0.296875 1.640625 C 0.316406 1.640625 0.75 1.46875 1 1.125 C 1.25 0.78125 1.375 0.164062 1.375 -0.71875 Z M 1.375 -10.203125 \"/>\n",
       "</symbol>\n",
       "<symbol overflow=\"visible\" id=\"glyph0-19\">\n",
       "<path style=\"stroke:none;\" d=\"M 1.21875 -10.203125 L 2.609375 -10.203125 L 2.609375 -4 C 2.609375 -2.90625 2.804688 -2.117188 3.203125 -1.640625 C 3.597656 -1.160156 4.238281 -0.921875 5.125 -0.921875 C 6.007812 -0.921875 6.648438 -1.160156 7.046875 -1.640625 C 7.441406 -2.117188 7.640625 -2.90625 7.640625 -4 L 7.640625 -10.203125 L 9.03125 -10.203125 L 9.03125 -3.828125 C 9.03125 -2.503906 8.703125 -1.5 8.046875 -0.8125 C 7.390625 -0.132812 6.414062 0.203125 5.125 0.203125 C 3.832031 0.203125 2.859375 -0.132812 2.203125 -0.8125 C 1.546875 -1.5 1.21875 -2.503906 1.21875 -3.828125 Z M 1.21875 -10.203125 \"/>\n",
       "</symbol>\n",
       "<symbol overflow=\"visible\" id=\"glyph0-20\">\n",
       "<path style=\"stroke:none;\" d=\"M 1.375 -10.203125 L 7.234375 -10.203125 L 7.234375 -9.046875 L 2.75 -9.046875 L 2.75 -6.03125 L 6.796875 -6.03125 L 6.796875 -4.875 L 2.75 -4.875 L 2.75 0 L 1.375 0 Z M 1.375 -10.203125 \"/>\n",
       "</symbol>\n",
       "<symbol overflow=\"visible\" id=\"glyph0-21\">\n",
       "<path style=\"stroke:none;\" d=\"M -0.03125 -10.203125 L 1.453125 -10.203125 L 4.28125 -6.015625 L 7.09375 -10.203125 L 8.578125 -10.203125 L 4.96875 -4.859375 L 4.96875 0 L 3.578125 0 L 3.578125 -4.859375 Z M -0.03125 -10.203125 \"/>\n",
       "</symbol>\n",
       "<symbol overflow=\"visible\" id=\"glyph0-22\">\n",
       "<path style=\"stroke:none;\" d=\"M 2.75 -4.875 L 2.75 -1.140625 L 4.96875 -1.140625 C 5.707031 -1.140625 6.253906 -1.289062 6.609375 -1.59375 C 6.972656 -1.90625 7.15625 -2.378906 7.15625 -3.015625 C 7.15625 -3.648438 6.972656 -4.117188 6.609375 -4.421875 C 6.253906 -4.722656 5.707031 -4.875 4.96875 -4.875 Z M 2.75 -9.078125 L 2.75 -6 L 4.796875 -6 C 5.472656 -6 5.972656 -6.125 6.296875 -6.375 C 6.628906 -6.625 6.796875 -7.007812 6.796875 -7.53125 C 6.796875 -8.050781 6.628906 -8.4375 6.296875 -8.6875 C 5.972656 -8.945312 5.472656 -9.078125 4.796875 -9.078125 Z M 1.375 -10.203125 L 4.90625 -10.203125 C 5.957031 -10.203125 6.765625 -9.984375 7.328125 -9.546875 C 7.898438 -9.109375 8.1875 -8.488281 8.1875 -7.6875 C 8.1875 -7.0625 8.039062 -6.5625 7.75 -6.1875 C 7.457031 -5.820312 7.03125 -5.59375 6.46875 -5.5 C 7.144531 -5.351562 7.671875 -5.046875 8.046875 -4.578125 C 8.421875 -4.117188 8.609375 -3.546875 8.609375 -2.859375 C 8.609375 -1.941406 8.296875 -1.234375 7.671875 -0.734375 C 7.054688 -0.242188 6.175781 0 5.03125 0 L 1.375 0 Z M 1.375 -10.203125 \"/>\n",
       "</symbol>\n",
       "<symbol overflow=\"visible\" id=\"glyph0-23\">\n",
       "<path style=\"stroke:none;\" d=\"M 4 0 L 0.109375 -10.203125 L 1.546875 -10.203125 L 4.78125 -1.609375 L 8.03125 -10.203125 L 9.46875 -10.203125 L 5.578125 0 Z M 4 0 \"/>\n",
       "</symbol>\n",
       "<symbol overflow=\"visible\" id=\"glyph0-24\">\n",
       "<path style=\"stroke:none;\" d=\"M 0.46875 -10.203125 L 1.859375 -10.203125 L 4 -1.578125 L 6.140625 -10.203125 L 7.703125 -10.203125 L 9.84375 -1.578125 L 11.984375 -10.203125 L 13.390625 -10.203125 L 10.828125 0 L 9.078125 0 L 6.9375 -8.859375 L 4.765625 0 L 3.015625 0 Z M 0.46875 -10.203125 \"/>\n",
       "</symbol>\n",
       "<symbol overflow=\"visible\" id=\"glyph0-25\">\n",
       "<path style=\"stroke:none;\" d=\"M 0.78125 -10.203125 L 8.8125 -10.203125 L 8.8125 -9.15625 L 2.359375 -1.15625 L 8.96875 -1.15625 L 8.96875 0 L 0.625 0 L 0.625 -1.046875 L 7.078125 -9.046875 L 0.78125 -9.046875 Z M 0.78125 -10.203125 \"/>\n",
       "</symbol>\n",
       "<symbol overflow=\"visible\" id=\"glyph0-26\">\n",
       "<path style=\"stroke:none;\" d=\"M 1.640625 -1.734375 L 3.078125 -1.734375 L 3.078125 0 L 1.640625 0 Z M 1.640625 -7.234375 L 3.078125 -7.234375 L 3.078125 -5.5 L 1.640625 -5.5 Z M 1.640625 -7.234375 \"/>\n",
       "</symbol>\n",
       "<symbol overflow=\"visible\" id=\"glyph0-27\">\n",
       "<path style=\"stroke:none;\" d=\"M 1.640625 -1.734375 L 3.078125 -1.734375 L 3.078125 -0.5625 L 1.96875 1.625 L 1.078125 1.625 L 1.640625 -0.5625 Z M 1.640625 -1.734375 \"/>\n",
       "</symbol>\n",
       "<symbol overflow=\"visible\" id=\"glyph0-28\">\n",
       "<path style=\"stroke:none;\" d=\"M 0.875 -10.203125 L 2.359375 -10.203125 L 4.90625 -6.40625 L 7.453125 -10.203125 L 8.9375 -10.203125 L 5.65625 -5.3125 L 9.15625 0 L 7.671875 0 L 4.796875 -4.34375 L 1.90625 0 L 0.421875 0 L 4.0625 -5.453125 Z M 0.875 -10.203125 \"/>\n",
       "</symbol>\n",
       "<symbol overflow=\"visible\" id=\"glyph0-29\">\n",
       "<path style=\"stroke:none;\" d=\"M 5.515625 -9.265625 C 4.515625 -9.265625 3.71875 -8.890625 3.125 -8.140625 C 2.539062 -7.398438 2.25 -6.382812 2.25 -5.09375 C 2.25 -3.8125 2.539062 -2.796875 3.125 -2.046875 C 3.71875 -1.296875 4.515625 -0.921875 5.515625 -0.921875 C 6.515625 -0.921875 7.304688 -1.296875 7.890625 -2.046875 C 8.484375 -2.796875 8.78125 -3.8125 8.78125 -5.09375 C 8.78125 -6.382812 8.484375 -7.398438 7.890625 -8.140625 C 7.304688 -8.890625 6.515625 -9.265625 5.515625 -9.265625 Z M 7.453125 -0.1875 L 9.265625 1.8125 L 7.609375 1.8125 L 6.09375 0.171875 C 5.9375 0.179688 5.816406 0.1875 5.734375 0.1875 C 5.660156 0.195312 5.585938 0.203125 5.515625 0.203125 C 4.078125 0.203125 2.925781 -0.273438 2.0625 -1.234375 C 1.207031 -2.203125 0.78125 -3.488281 0.78125 -5.09375 C 0.78125 -6.707031 1.207031 -7.992188 2.0625 -8.953125 C 2.925781 -9.910156 4.078125 -10.390625 5.515625 -10.390625 C 6.941406 -10.390625 8.082031 -9.910156 8.9375 -8.953125 C 9.800781 -7.992188 10.234375 -6.707031 10.234375 -5.09375 C 10.234375 -3.90625 9.992188 -2.890625 9.515625 -2.046875 C 9.046875 -1.203125 8.359375 -0.582031 7.453125 -0.1875 Z M 7.453125 -0.1875 \"/>\n",
       "</symbol>\n",
       "<symbol overflow=\"visible\" id=\"glyph0-30\">\n",
       "<path style=\"stroke:none;\" d=\"M 4.28125 -6.78125 C 3.613281 -6.78125 3.082031 -6.515625 2.6875 -5.984375 C 2.289062 -5.460938 2.09375 -4.742188 2.09375 -3.828125 C 2.09375 -2.910156 2.285156 -2.1875 2.671875 -1.65625 C 3.066406 -1.132812 3.601562 -0.875 4.28125 -0.875 C 4.957031 -0.875 5.488281 -1.132812 5.875 -1.65625 C 6.269531 -2.1875 6.46875 -2.910156 6.46875 -3.828125 C 6.46875 -4.734375 6.269531 -5.453125 5.875 -5.984375 C 5.488281 -6.515625 4.957031 -6.78125 4.28125 -6.78125 Z M 4.28125 -7.84375 C 5.375 -7.84375 6.234375 -7.484375 6.859375 -6.765625 C 7.484375 -6.054688 7.796875 -5.078125 7.796875 -3.828125 C 7.796875 -2.566406 7.484375 -1.578125 6.859375 -0.859375 C 6.234375 -0.148438 5.375 0.203125 4.28125 0.203125 C 3.1875 0.203125 2.328125 -0.148438 1.703125 -0.859375 C 1.078125 -1.578125 0.765625 -2.566406 0.765625 -3.828125 C 0.765625 -5.078125 1.078125 -6.054688 1.703125 -6.765625 C 2.328125 -7.484375 3.1875 -7.84375 4.28125 -7.84375 Z M 4.28125 -7.84375 \"/>\n",
       "</symbol>\n",
       "<symbol overflow=\"visible\" id=\"glyph0-31\">\n",
       "<path style=\"stroke:none;\" d=\"M 7.875 -4.140625 L 7.875 -3.53125 L 2.078125 -3.53125 C 2.140625 -2.664062 2.398438 -2.003906 2.859375 -1.546875 C 3.328125 -1.097656 3.976562 -0.875 4.8125 -0.875 C 5.300781 -0.875 5.769531 -0.929688 6.21875 -1.046875 C 6.675781 -1.160156 7.128906 -1.335938 7.578125 -1.578125 L 7.578125 -0.390625 C 7.117188 -0.203125 6.648438 -0.0546875 6.171875 0.046875 C 5.703125 0.148438 5.226562 0.203125 4.75 0.203125 C 3.519531 0.203125 2.546875 -0.148438 1.828125 -0.859375 C 1.117188 -1.578125 0.765625 -2.539062 0.765625 -3.75 C 0.765625 -5.007812 1.101562 -6.003906 1.78125 -6.734375 C 2.457031 -7.472656 3.375 -7.84375 4.53125 -7.84375 C 5.5625 -7.84375 6.375 -7.507812 6.96875 -6.84375 C 7.570312 -6.1875 7.875 -5.285156 7.875 -4.140625 Z M 6.609375 -4.515625 C 6.597656 -5.203125 6.40625 -5.75 6.03125 -6.15625 C 5.65625 -6.570312 5.160156 -6.78125 4.546875 -6.78125 C 3.835938 -6.78125 3.269531 -6.578125 2.84375 -6.171875 C 2.425781 -5.773438 2.1875 -5.21875 2.125 -4.5 Z M 6.609375 -4.515625 \"/>\n",
       "</symbol>\n",
       "<symbol overflow=\"visible\" id=\"glyph0-32\">\n",
       "<path style=\"stroke:none;\" d=\"M 6.359375 -3.921875 C 6.359375 -4.828125 6.171875 -5.53125 5.796875 -6.03125 C 5.421875 -6.53125 4.894531 -6.78125 4.21875 -6.78125 C 3.539062 -6.78125 3.015625 -6.53125 2.640625 -6.03125 C 2.265625 -5.53125 2.078125 -4.828125 2.078125 -3.921875 C 2.078125 -3.015625 2.265625 -2.304688 2.640625 -1.796875 C 3.015625 -1.296875 3.539062 -1.046875 4.21875 -1.046875 C 4.894531 -1.046875 5.421875 -1.296875 5.796875 -1.796875 C 6.171875 -2.304688 6.359375 -3.015625 6.359375 -3.921875 Z M 7.609375 -0.953125 C 7.609375 0.347656 7.316406 1.316406 6.734375 1.953125 C 6.160156 2.585938 5.28125 2.90625 4.09375 2.90625 C 3.644531 2.90625 3.222656 2.875 2.828125 2.8125 C 2.441406 2.75 2.066406 2.648438 1.703125 2.515625 L 1.703125 1.28125 C 2.066406 1.488281 2.425781 1.640625 2.78125 1.734375 C 3.144531 1.828125 3.515625 1.875 3.890625 1.875 C 4.710938 1.875 5.328125 1.65625 5.734375 1.21875 C 6.148438 0.789062 6.359375 0.144531 6.359375 -0.71875 L 6.359375 -1.34375 C 6.097656 -0.894531 5.765625 -0.554688 5.359375 -0.328125 C 4.953125 -0.109375 4.46875 0 3.90625 0 C 2.96875 0 2.207031 -0.351562 1.625 -1.0625 C 1.050781 -1.78125 0.765625 -2.734375 0.765625 -3.921875 C 0.765625 -5.097656 1.050781 -6.046875 1.625 -6.765625 C 2.207031 -7.484375 2.96875 -7.84375 3.90625 -7.84375 C 4.46875 -7.84375 4.953125 -7.726562 5.359375 -7.5 C 5.765625 -7.28125 6.097656 -6.945312 6.359375 -6.5 L 6.359375 -7.65625 L 7.609375 -7.65625 Z M 7.609375 -0.953125 \"/>\n",
       "</symbol>\n",
       "<symbol overflow=\"visible\" id=\"glyph0-33\">\n",
       "<path style=\"stroke:none;\" d=\"M 1.3125 -10.640625 L 2.578125 -10.640625 L 2.578125 0 L 1.3125 0 Z M 1.3125 -10.640625 \"/>\n",
       "</symbol>\n",
       "<symbol overflow=\"visible\" id=\"glyph0-34\">\n",
       "<path style=\"stroke:none;\" d=\"M 6.828125 -7.359375 L 6.828125 -6.1875 C 6.472656 -6.382812 6.113281 -6.53125 5.75 -6.625 C 5.394531 -6.726562 5.035156 -6.78125 4.671875 -6.78125 C 3.859375 -6.78125 3.222656 -6.519531 2.765625 -6 C 2.316406 -5.476562 2.09375 -4.753906 2.09375 -3.828125 C 2.09375 -2.890625 2.316406 -2.160156 2.765625 -1.640625 C 3.222656 -1.128906 3.859375 -0.875 4.671875 -0.875 C 5.035156 -0.875 5.394531 -0.921875 5.75 -1.015625 C 6.113281 -1.109375 6.472656 -1.253906 6.828125 -1.453125 L 6.828125 -0.296875 C 6.472656 -0.128906 6.109375 -0.00390625 5.734375 0.078125 C 5.359375 0.160156 4.960938 0.203125 4.546875 0.203125 C 3.390625 0.203125 2.46875 -0.15625 1.78125 -0.875 C 1.101562 -1.601562 0.765625 -2.585938 0.765625 -3.828125 C 0.765625 -5.066406 1.109375 -6.046875 1.796875 -6.765625 C 2.484375 -7.484375 3.425781 -7.84375 4.625 -7.84375 C 5.007812 -7.84375 5.382812 -7.800781 5.75 -7.71875 C 6.125 -7.644531 6.484375 -7.523438 6.828125 -7.359375 Z M 6.828125 -7.359375 \"/>\n",
       "</symbol>\n",
       "<symbol overflow=\"visible\" id=\"glyph0-35\">\n",
       "<path style=\"stroke:none;\" d=\"M 2.5625 -9.828125 L 2.5625 -7.65625 L 5.15625 -7.65625 L 5.15625 -6.671875 L 2.5625 -6.671875 L 2.5625 -2.515625 C 2.5625 -1.898438 2.644531 -1.5 2.8125 -1.3125 C 2.988281 -1.132812 3.335938 -1.046875 3.859375 -1.046875 L 5.15625 -1.046875 L 5.15625 0 L 3.859375 0 C 2.890625 0 2.21875 -0.179688 1.84375 -0.546875 C 1.476562 -0.910156 1.296875 -1.566406 1.296875 -2.515625 L 1.296875 -6.671875 L 0.375 -6.671875 L 0.375 -7.65625 L 1.296875 -7.65625 L 1.296875 -9.828125 Z M 2.5625 -9.828125 \"/>\n",
       "</symbol>\n",
       "<symbol overflow=\"visible\" id=\"glyph0-36\">\n",
       "<path style=\"stroke:none;\" d=\"M 6.359375 -6.5 L 6.359375 -10.640625 L 7.609375 -10.640625 L 7.609375 0 L 6.359375 0 L 6.359375 -1.15625 C 6.097656 -0.695312 5.765625 -0.351562 5.359375 -0.125 C 4.953125 0.09375 4.46875 0.203125 3.90625 0.203125 C 2.976562 0.203125 2.222656 -0.164062 1.640625 -0.90625 C 1.054688 -1.644531 0.765625 -2.617188 0.765625 -3.828125 C 0.765625 -5.023438 1.054688 -5.992188 1.640625 -6.734375 C 2.222656 -7.472656 2.976562 -7.84375 3.90625 -7.84375 C 4.46875 -7.84375 4.953125 -7.726562 5.359375 -7.5 C 5.765625 -7.28125 6.097656 -6.945312 6.359375 -6.5 Z M 2.078125 -3.828125 C 2.078125 -2.898438 2.265625 -2.171875 2.640625 -1.640625 C 3.023438 -1.117188 3.550781 -0.859375 4.21875 -0.859375 C 4.875 -0.859375 5.394531 -1.117188 5.78125 -1.640625 C 6.164062 -2.171875 6.359375 -2.898438 6.359375 -3.828125 C 6.359375 -4.742188 6.164062 -5.460938 5.78125 -5.984375 C 5.394531 -6.515625 4.875 -6.78125 4.21875 -6.78125 C 3.550781 -6.78125 3.023438 -6.515625 2.640625 -5.984375 C 2.265625 -5.460938 2.078125 -4.742188 2.078125 -3.828125 Z M 2.078125 -3.828125 \"/>\n",
       "</symbol>\n",
       "<symbol overflow=\"visible\" id=\"glyph0-37\">\n",
       "<path style=\"stroke:none;\" d=\"M 5.75 -6.484375 C 5.613281 -6.566406 5.460938 -6.625 5.296875 -6.65625 C 5.128906 -6.695312 4.945312 -6.71875 4.75 -6.71875 C 4.03125 -6.71875 3.476562 -6.484375 3.09375 -6.015625 C 2.71875 -5.554688 2.53125 -4.894531 2.53125 -4.03125 L 2.53125 0 L 1.265625 0 L 1.265625 -7.65625 L 2.53125 -7.65625 L 2.53125 -6.46875 C 2.800781 -6.9375 3.144531 -7.28125 3.5625 -7.5 C 3.988281 -7.726562 4.503906 -7.84375 5.109375 -7.84375 C 5.203125 -7.84375 5.300781 -7.835938 5.40625 -7.828125 C 5.507812 -7.816406 5.625 -7.796875 5.75 -7.765625 Z M 5.75 -6.484375 \"/>\n",
       "</symbol>\n",
       "<symbol overflow=\"visible\" id=\"glyph0-38\">\n",
       "<path style=\"stroke:none;\" d=\"M 2.53125 -1.15625 L 2.53125 2.90625 L 1.265625 2.90625 L 1.265625 -7.65625 L 2.53125 -7.65625 L 2.53125 -6.5 C 2.800781 -6.945312 3.132812 -7.28125 3.53125 -7.5 C 3.9375 -7.726562 4.421875 -7.84375 4.984375 -7.84375 C 5.910156 -7.84375 6.664062 -7.472656 7.25 -6.734375 C 7.832031 -5.992188 8.125 -5.023438 8.125 -3.828125 C 8.125 -2.617188 7.832031 -1.644531 7.25 -0.90625 C 6.664062 -0.164062 5.910156 0.203125 4.984375 0.203125 C 4.421875 0.203125 3.9375 0.09375 3.53125 -0.125 C 3.132812 -0.351562 2.800781 -0.695312 2.53125 -1.15625 Z M 6.8125 -3.828125 C 6.8125 -4.742188 6.617188 -5.460938 6.234375 -5.984375 C 5.859375 -6.515625 5.335938 -6.78125 4.671875 -6.78125 C 4.003906 -6.78125 3.476562 -6.515625 3.09375 -5.984375 C 2.71875 -5.460938 2.53125 -4.742188 2.53125 -3.828125 C 2.53125 -2.898438 2.71875 -2.171875 3.09375 -1.640625 C 3.476562 -1.117188 4.003906 -0.859375 4.671875 -0.859375 C 5.335938 -0.859375 5.859375 -1.117188 6.234375 -1.640625 C 6.617188 -2.171875 6.8125 -2.898438 6.8125 -3.828125 Z M 6.8125 -3.828125 \"/>\n",
       "</symbol>\n",
       "<symbol overflow=\"visible\" id=\"glyph0-39\">\n",
       "<path style=\"stroke:none;\" d=\"M 1.3125 -7.65625 L 2.578125 -7.65625 L 2.578125 0 L 1.3125 0 Z M 1.3125 -10.640625 L 2.578125 -10.640625 L 2.578125 -9.046875 L 1.3125 -9.046875 Z M 1.3125 -10.640625 \"/>\n",
       "</symbol>\n",
       "<symbol overflow=\"visible\" id=\"glyph0-40\">\n",
       "<path style=\"stroke:none;\" d=\"M 4.796875 -3.84375 C 3.785156 -3.84375 3.082031 -3.726562 2.6875 -3.5 C 2.289062 -3.269531 2.09375 -2.875 2.09375 -2.3125 C 2.09375 -1.863281 2.238281 -1.507812 2.53125 -1.25 C 2.832031 -0.988281 3.234375 -0.859375 3.734375 -0.859375 C 4.429688 -0.859375 4.988281 -1.101562 5.40625 -1.59375 C 5.832031 -2.09375 6.046875 -2.75 6.046875 -3.5625 L 6.046875 -3.84375 Z M 7.3125 -4.375 L 7.3125 0 L 6.046875 0 L 6.046875 -1.15625 C 5.765625 -0.695312 5.40625 -0.351562 4.96875 -0.125 C 4.539062 0.09375 4.019531 0.203125 3.40625 0.203125 C 2.625 0.203125 2 -0.015625 1.53125 -0.453125 C 1.070312 -0.898438 0.84375 -1.492188 0.84375 -2.234375 C 0.84375 -3.085938 1.128906 -3.734375 1.703125 -4.171875 C 2.285156 -4.609375 3.144531 -4.828125 4.28125 -4.828125 L 6.046875 -4.828125 L 6.046875 -4.953125 C 6.046875 -5.535156 5.851562 -5.984375 5.46875 -6.296875 C 5.09375 -6.617188 4.5625 -6.78125 3.875 -6.78125 C 3.4375 -6.78125 3.007812 -6.722656 2.59375 -6.609375 C 2.175781 -6.503906 1.78125 -6.347656 1.40625 -6.140625 L 1.40625 -7.3125 C 1.863281 -7.488281 2.304688 -7.617188 2.734375 -7.703125 C 3.171875 -7.796875 3.59375 -7.84375 4 -7.84375 C 5.113281 -7.84375 5.941406 -7.554688 6.484375 -6.984375 C 7.035156 -6.410156 7.3125 -5.539062 7.3125 -4.375 Z M 7.3125 -4.375 \"/>\n",
       "</symbol>\n",
       "<symbol overflow=\"visible\" id=\"glyph0-41\">\n",
       "<path style=\"stroke:none;\" d=\"M 6.203125 -7.4375 L 6.203125 -6.234375 C 5.847656 -6.421875 5.476562 -6.554688 5.09375 -6.640625 C 4.707031 -6.734375 4.3125 -6.78125 3.90625 -6.78125 C 3.28125 -6.78125 2.8125 -6.6875 2.5 -6.5 C 2.1875 -6.3125 2.03125 -6.023438 2.03125 -5.640625 C 2.03125 -5.347656 2.140625 -5.117188 2.359375 -4.953125 C 2.585938 -4.785156 3.039062 -4.628906 3.71875 -4.484375 L 4.140625 -4.375 C 5.035156 -4.1875 5.671875 -3.914062 6.046875 -3.5625 C 6.421875 -3.21875 6.609375 -2.734375 6.609375 -2.109375 C 6.609375 -1.398438 6.328125 -0.835938 5.765625 -0.421875 C 5.203125 -0.00390625 4.429688 0.203125 3.453125 0.203125 C 3.035156 0.203125 2.601562 0.160156 2.15625 0.078125 C 1.71875 -0.00390625 1.253906 -0.125 0.765625 -0.28125 L 0.765625 -1.578125 C 1.222656 -1.335938 1.675781 -1.15625 2.125 -1.03125 C 2.582031 -0.914062 3.03125 -0.859375 3.46875 -0.859375 C 4.0625 -0.859375 4.515625 -0.957031 4.828125 -1.15625 C 5.148438 -1.363281 5.3125 -1.648438 5.3125 -2.015625 C 5.3125 -2.359375 5.195312 -2.617188 4.96875 -2.796875 C 4.738281 -2.984375 4.234375 -3.160156 3.453125 -3.328125 L 3.015625 -3.4375 C 2.242188 -3.59375 1.679688 -3.84375 1.328125 -4.1875 C 0.984375 -4.53125 0.8125 -4.992188 0.8125 -5.578125 C 0.8125 -6.304688 1.066406 -6.863281 1.578125 -7.25 C 2.085938 -7.644531 2.8125 -7.84375 3.75 -7.84375 C 4.21875 -7.84375 4.65625 -7.804688 5.0625 -7.734375 C 5.476562 -7.671875 5.859375 -7.570312 6.203125 -7.4375 Z M 6.203125 -7.4375 \"/>\n",
       "</symbol>\n",
       "</g>\n",
       "</defs>\n",
       "<g id=\"surface2\">\n",
       "<rect x=\"0\" y=\"0\" width=\"600\" height=\"600\" style=\"fill:rgb(100%,100%,100%);fill-opacity:1;stroke:none;\"/>\n",
       "<path style=\"fill:none;stroke-width:1;stroke-linecap:butt;stroke-linejoin:miter;stroke:rgb(26.666667%,26.666667%,26.666667%);stroke-opacity:1;stroke-miterlimit:10;\" d=\"M 375.835938 336.59375 L 285.570312 273.429688 \"/>\n",
       "<path style=\"fill:none;stroke-width:1;stroke-linecap:butt;stroke-linejoin:miter;stroke:rgb(26.666667%,26.666667%,26.666667%);stroke-opacity:1;stroke-miterlimit:10;\" d=\"M 375.835938 336.59375 L 247.648438 325.160156 \"/>\n",
       "<path style=\"fill:none;stroke-width:1;stroke-linecap:butt;stroke-linejoin:miter;stroke:rgb(26.666667%,26.666667%,26.666667%);stroke-opacity:1;stroke-miterlimit:10;\" d=\"M 375.835938 336.59375 L 135.515625 343.863281 \"/>\n",
       "<path style=\"fill:none;stroke-width:1;stroke-linecap:butt;stroke-linejoin:miter;stroke:rgb(26.666667%,26.666667%,26.666667%);stroke-opacity:1;stroke-miterlimit:10;\" d=\"M 375.835938 336.59375 L 351.917969 273.921875 \"/>\n",
       "<path style=\"fill:none;stroke-width:1;stroke-linecap:butt;stroke-linejoin:miter;stroke:rgb(26.666667%,26.666667%,26.666667%);stroke-opacity:1;stroke-miterlimit:10;\" d=\"M 375.835938 336.59375 L 453.128906 254.035156 \"/>\n",
       "<path style=\"fill:none;stroke-width:1;stroke-linecap:butt;stroke-linejoin:miter;stroke:rgb(26.666667%,26.666667%,26.666667%);stroke-opacity:1;stroke-miterlimit:10;\" d=\"M 375.835938 336.59375 L 297.625 332.601562 \"/>\n",
       "<path style=\"fill:none;stroke-width:1;stroke-linecap:butt;stroke-linejoin:miter;stroke:rgb(26.666667%,26.666667%,26.666667%);stroke-opacity:1;stroke-miterlimit:10;\" d=\"M 375.835938 336.59375 L 580 322.785156 \"/>\n",
       "<path style=\"fill:none;stroke-width:1;stroke-linecap:butt;stroke-linejoin:miter;stroke:rgb(26.666667%,26.666667%,26.666667%);stroke-opacity:1;stroke-miterlimit:10;\" d=\"M 375.835938 336.59375 L 312.269531 386.472656 \"/>\n",
       "<path style=\"fill:none;stroke-width:1;stroke-linecap:butt;stroke-linejoin:miter;stroke:rgb(26.666667%,26.666667%,26.666667%);stroke-opacity:1;stroke-miterlimit:10;\" d=\"M 375.835938 336.59375 L 161.957031 231.085938 \"/>\n",
       "<path style=\"fill:none;stroke-width:1;stroke-linecap:butt;stroke-linejoin:miter;stroke:rgb(26.666667%,26.666667%,26.666667%);stroke-opacity:1;stroke-miterlimit:10;\" d=\"M 375.835938 336.59375 L 346.953125 157.207031 \"/>\n",
       "<path style=\"fill:none;stroke-width:1;stroke-linecap:butt;stroke-linejoin:miter;stroke:rgb(26.666667%,26.666667%,26.666667%);stroke-opacity:1;stroke-miterlimit:10;\" d=\"M 375.835938 336.59375 L 472.667969 448.34375 \"/>\n",
       "<path style=\"fill:none;stroke-width:1;stroke-linecap:butt;stroke-linejoin:miter;stroke:rgb(26.666667%,26.666667%,26.666667%);stroke-opacity:1;stroke-miterlimit:10;\" d=\"M 375.835938 336.59375 L 272.613281 127.082031 \"/>\n",
       "<path style=\"fill:none;stroke-width:1;stroke-linecap:butt;stroke-linejoin:miter;stroke:rgb(26.666667%,26.666667%,26.666667%);stroke-opacity:1;stroke-miterlimit:10;\" d=\"M 375.835938 336.59375 L 375.191406 440.921875 \"/>\n",
       "<path style=\"fill:none;stroke-width:1;stroke-linecap:butt;stroke-linejoin:miter;stroke:rgb(26.666667%,26.666667%,26.666667%);stroke-opacity:1;stroke-miterlimit:10;\" d=\"M 375.835938 336.59375 L 468.542969 580 \"/>\n",
       "<path style=\"fill:none;stroke-width:1;stroke-linecap:butt;stroke-linejoin:miter;stroke:rgb(26.666667%,26.666667%,26.666667%);stroke-opacity:1;stroke-miterlimit:10;\" d=\"M 375.835938 336.59375 L 318.539062 535.125 \"/>\n",
       "<path style=\"fill:none;stroke-width:1;stroke-linecap:butt;stroke-linejoin:miter;stroke:rgb(26.666667%,26.666667%,26.666667%);stroke-opacity:1;stroke-miterlimit:10;\" d=\"M 375.835938 336.59375 L 245.617188 165.472656 \"/>\n",
       "<path style=\"fill:none;stroke-width:1;stroke-linecap:butt;stroke-linejoin:miter;stroke:rgb(26.666667%,26.666667%,26.666667%);stroke-opacity:1;stroke-miterlimit:10;\" d=\"M 375.835938 336.59375 L 516.546875 375.433594 \"/>\n",
       "<path style=\"fill:none;stroke-width:1;stroke-linecap:butt;stroke-linejoin:miter;stroke:rgb(26.666667%,26.666667%,26.666667%);stroke-opacity:1;stroke-miterlimit:10;\" d=\"M 375.835938 336.59375 L 159.632812 138.996094 \"/>\n",
       "<path style=\"fill:none;stroke-width:1;stroke-linecap:butt;stroke-linejoin:miter;stroke:rgb(26.666667%,26.666667%,26.666667%);stroke-opacity:1;stroke-miterlimit:10;\" d=\"M 375.835938 336.59375 L 409.953125 117.800781 \"/>\n",
       "<path style=\"fill:none;stroke-width:1;stroke-linecap:butt;stroke-linejoin:miter;stroke:rgb(26.666667%,26.666667%,26.666667%);stroke-opacity:1;stroke-miterlimit:10;\" d=\"M 375.835938 336.59375 L 561.820312 200.382812 \"/>\n",
       "<path style=\"fill:none;stroke-width:1;stroke-linecap:butt;stroke-linejoin:miter;stroke:rgb(26.666667%,26.666667%,26.666667%);stroke-opacity:1;stroke-miterlimit:10;\" d=\"M 375.835938 336.59375 L 125.328125 412.34375 \"/>\n",
       "<path style=\"fill:none;stroke-width:1;stroke-linecap:butt;stroke-linejoin:miter;stroke:rgb(26.666667%,26.666667%,26.666667%);stroke-opacity:1;stroke-miterlimit:10;\" d=\"M 375.835938 336.59375 L 484.273438 157.449219 \"/>\n",
       "<path style=\"fill:none;stroke-width:1;stroke-linecap:butt;stroke-linejoin:miter;stroke:rgb(26.666667%,26.666667%,26.666667%);stroke-opacity:1;stroke-miterlimit:10;\" d=\"M 375.835938 336.59375 L 240.414062 519.644531 \"/>\n",
       "<path style=\"fill:none;stroke-width:1;stroke-linecap:butt;stroke-linejoin:miter;stroke:rgb(26.666667%,26.666667%,26.666667%);stroke-opacity:1;stroke-miterlimit:10;\" d=\"M 375.835938 336.59375 L 176.84375 483.0625 \"/>\n",
       "<path style=\"fill:none;stroke-width:1;stroke-linecap:butt;stroke-linejoin:miter;stroke:rgb(26.666667%,26.666667%,26.666667%);stroke-opacity:1;stroke-miterlimit:10;\" d=\"M 285.570312 273.429688 L 247.648438 325.160156 \"/>\n",
       "<path style=\"fill:none;stroke-width:1;stroke-linecap:butt;stroke-linejoin:miter;stroke:rgb(26.666667%,26.666667%,26.666667%);stroke-opacity:1;stroke-miterlimit:10;\" d=\"M 285.570312 273.429688 L 135.515625 343.863281 \"/>\n",
       "<path style=\"fill:none;stroke-width:1;stroke-linecap:butt;stroke-linejoin:miter;stroke:rgb(26.666667%,26.666667%,26.666667%);stroke-opacity:1;stroke-miterlimit:10;\" d=\"M 285.570312 273.429688 L 351.917969 273.921875 \"/>\n",
       "<path style=\"fill:none;stroke-width:1;stroke-linecap:butt;stroke-linejoin:miter;stroke:rgb(26.666667%,26.666667%,26.666667%);stroke-opacity:1;stroke-miterlimit:10;\" d=\"M 285.570312 273.429688 L 453.128906 254.035156 \"/>\n",
       "<path style=\"fill:none;stroke-width:1;stroke-linecap:butt;stroke-linejoin:miter;stroke:rgb(26.666667%,26.666667%,26.666667%);stroke-opacity:1;stroke-miterlimit:10;\" d=\"M 285.570312 273.429688 L 297.625 332.601562 \"/>\n",
       "<path style=\"fill:none;stroke-width:1;stroke-linecap:butt;stroke-linejoin:miter;stroke:rgb(26.666667%,26.666667%,26.666667%);stroke-opacity:1;stroke-miterlimit:10;\" d=\"M 285.570312 273.429688 L 580 322.785156 \"/>\n",
       "<path style=\"fill:none;stroke-width:1;stroke-linecap:butt;stroke-linejoin:miter;stroke:rgb(26.666667%,26.666667%,26.666667%);stroke-opacity:1;stroke-miterlimit:10;\" d=\"M 285.570312 273.429688 L 312.269531 386.472656 \"/>\n",
       "<path style=\"fill:none;stroke-width:1;stroke-linecap:butt;stroke-linejoin:miter;stroke:rgb(26.666667%,26.666667%,26.666667%);stroke-opacity:1;stroke-miterlimit:10;\" d=\"M 285.570312 273.429688 L 161.957031 231.085938 \"/>\n",
       "<path style=\"fill:none;stroke-width:1;stroke-linecap:butt;stroke-linejoin:miter;stroke:rgb(26.666667%,26.666667%,26.666667%);stroke-opacity:1;stroke-miterlimit:10;\" d=\"M 285.570312 273.429688 L 346.953125 157.207031 \"/>\n",
       "<path style=\"fill:none;stroke-width:1;stroke-linecap:butt;stroke-linejoin:miter;stroke:rgb(26.666667%,26.666667%,26.666667%);stroke-opacity:1;stroke-miterlimit:10;\" d=\"M 285.570312 273.429688 L 472.667969 448.34375 \"/>\n",
       "<path style=\"fill:none;stroke-width:1;stroke-linecap:butt;stroke-linejoin:miter;stroke:rgb(26.666667%,26.666667%,26.666667%);stroke-opacity:1;stroke-miterlimit:10;\" d=\"M 285.570312 273.429688 L 272.613281 127.082031 \"/>\n",
       "<path style=\"fill:none;stroke-width:1;stroke-linecap:butt;stroke-linejoin:miter;stroke:rgb(26.666667%,26.666667%,26.666667%);stroke-opacity:1;stroke-miterlimit:10;\" d=\"M 285.570312 273.429688 L 375.191406 440.921875 \"/>\n",
       "<path style=\"fill:none;stroke-width:1;stroke-linecap:butt;stroke-linejoin:miter;stroke:rgb(26.666667%,26.666667%,26.666667%);stroke-opacity:1;stroke-miterlimit:10;\" d=\"M 285.570312 273.429688 L 318.539062 535.125 \"/>\n",
       "<path style=\"fill:none;stroke-width:1;stroke-linecap:butt;stroke-linejoin:miter;stroke:rgb(26.666667%,26.666667%,26.666667%);stroke-opacity:1;stroke-miterlimit:10;\" d=\"M 285.570312 273.429688 L 245.617188 165.472656 \"/>\n",
       "<path style=\"fill:none;stroke-width:1;stroke-linecap:butt;stroke-linejoin:miter;stroke:rgb(26.666667%,26.666667%,26.666667%);stroke-opacity:1;stroke-miterlimit:10;\" d=\"M 285.570312 273.429688 L 516.546875 375.433594 \"/>\n",
       "<path style=\"fill:none;stroke-width:1;stroke-linecap:butt;stroke-linejoin:miter;stroke:rgb(26.666667%,26.666667%,26.666667%);stroke-opacity:1;stroke-miterlimit:10;\" d=\"M 285.570312 273.429688 L 159.632812 138.996094 \"/>\n",
       "<path style=\"fill:none;stroke-width:1;stroke-linecap:butt;stroke-linejoin:miter;stroke:rgb(26.666667%,26.666667%,26.666667%);stroke-opacity:1;stroke-miterlimit:10;\" d=\"M 285.570312 273.429688 L 409.953125 117.800781 \"/>\n",
       "<path style=\"fill:none;stroke-width:1;stroke-linecap:butt;stroke-linejoin:miter;stroke:rgb(26.666667%,26.666667%,26.666667%);stroke-opacity:1;stroke-miterlimit:10;\" d=\"M 285.570312 273.429688 L 125.328125 412.34375 \"/>\n",
       "<path style=\"fill:none;stroke-width:1;stroke-linecap:butt;stroke-linejoin:miter;stroke:rgb(26.666667%,26.666667%,26.666667%);stroke-opacity:1;stroke-miterlimit:10;\" d=\"M 285.570312 273.429688 L 20 253.78125 \"/>\n",
       "<path style=\"fill:none;stroke-width:1;stroke-linecap:butt;stroke-linejoin:miter;stroke:rgb(26.666667%,26.666667%,26.666667%);stroke-opacity:1;stroke-miterlimit:10;\" d=\"M 285.570312 273.429688 L 484.273438 157.449219 \"/>\n",
       "<path style=\"fill:none;stroke-width:1;stroke-linecap:butt;stroke-linejoin:miter;stroke:rgb(26.666667%,26.666667%,26.666667%);stroke-opacity:1;stroke-miterlimit:10;\" d=\"M 285.570312 273.429688 L 225.035156 20 \"/>\n",
       "<path style=\"fill:none;stroke-width:1;stroke-linecap:butt;stroke-linejoin:miter;stroke:rgb(26.666667%,26.666667%,26.666667%);stroke-opacity:1;stroke-miterlimit:10;\" d=\"M 285.570312 273.429688 L 240.414062 519.644531 \"/>\n",
       "<path style=\"fill:none;stroke-width:1;stroke-linecap:butt;stroke-linejoin:miter;stroke:rgb(26.666667%,26.666667%,26.666667%);stroke-opacity:1;stroke-miterlimit:10;\" d=\"M 285.570312 273.429688 L 176.84375 483.0625 \"/>\n",
       "<path style=\"fill:none;stroke-width:1;stroke-linecap:butt;stroke-linejoin:miter;stroke:rgb(26.666667%,26.666667%,26.666667%);stroke-opacity:1;stroke-miterlimit:10;\" d=\"M 247.648438 325.160156 L 135.515625 343.863281 \"/>\n",
       "<path style=\"fill:none;stroke-width:1;stroke-linecap:butt;stroke-linejoin:miter;stroke:rgb(26.666667%,26.666667%,26.666667%);stroke-opacity:1;stroke-miterlimit:10;\" d=\"M 247.648438 325.160156 L 351.917969 273.921875 \"/>\n",
       "<path style=\"fill:none;stroke-width:1;stroke-linecap:butt;stroke-linejoin:miter;stroke:rgb(26.666667%,26.666667%,26.666667%);stroke-opacity:1;stroke-miterlimit:10;\" d=\"M 247.648438 325.160156 L 453.128906 254.035156 \"/>\n",
       "<path style=\"fill:none;stroke-width:1;stroke-linecap:butt;stroke-linejoin:miter;stroke:rgb(26.666667%,26.666667%,26.666667%);stroke-opacity:1;stroke-miterlimit:10;\" d=\"M 247.648438 325.160156 L 297.625 332.601562 \"/>\n",
       "<path style=\"fill:none;stroke-width:1;stroke-linecap:butt;stroke-linejoin:miter;stroke:rgb(26.666667%,26.666667%,26.666667%);stroke-opacity:1;stroke-miterlimit:10;\" d=\"M 247.648438 325.160156 L 312.269531 386.472656 \"/>\n",
       "<path style=\"fill:none;stroke-width:1;stroke-linecap:butt;stroke-linejoin:miter;stroke:rgb(26.666667%,26.666667%,26.666667%);stroke-opacity:1;stroke-miterlimit:10;\" d=\"M 247.648438 325.160156 L 161.957031 231.085938 \"/>\n",
       "<path style=\"fill:none;stroke-width:1;stroke-linecap:butt;stroke-linejoin:miter;stroke:rgb(26.666667%,26.666667%,26.666667%);stroke-opacity:1;stroke-miterlimit:10;\" d=\"M 247.648438 325.160156 L 346.953125 157.207031 \"/>\n",
       "<path style=\"fill:none;stroke-width:1;stroke-linecap:butt;stroke-linejoin:miter;stroke:rgb(26.666667%,26.666667%,26.666667%);stroke-opacity:1;stroke-miterlimit:10;\" d=\"M 247.648438 325.160156 L 472.667969 448.34375 \"/>\n",
       "<path style=\"fill:none;stroke-width:1;stroke-linecap:butt;stroke-linejoin:miter;stroke:rgb(26.666667%,26.666667%,26.666667%);stroke-opacity:1;stroke-miterlimit:10;\" d=\"M 247.648438 325.160156 L 272.613281 127.082031 \"/>\n",
       "<path style=\"fill:none;stroke-width:1;stroke-linecap:butt;stroke-linejoin:miter;stroke:rgb(26.666667%,26.666667%,26.666667%);stroke-opacity:1;stroke-miterlimit:10;\" d=\"M 247.648438 325.160156 L 375.191406 440.921875 \"/>\n",
       "<path style=\"fill:none;stroke-width:1;stroke-linecap:butt;stroke-linejoin:miter;stroke:rgb(26.666667%,26.666667%,26.666667%);stroke-opacity:1;stroke-miterlimit:10;\" d=\"M 247.648438 325.160156 L 318.539062 535.125 \"/>\n",
       "<path style=\"fill:none;stroke-width:1;stroke-linecap:butt;stroke-linejoin:miter;stroke:rgb(26.666667%,26.666667%,26.666667%);stroke-opacity:1;stroke-miterlimit:10;\" d=\"M 247.648438 325.160156 L 245.617188 165.472656 \"/>\n",
       "<path style=\"fill:none;stroke-width:1;stroke-linecap:butt;stroke-linejoin:miter;stroke:rgb(26.666667%,26.666667%,26.666667%);stroke-opacity:1;stroke-miterlimit:10;\" d=\"M 247.648438 325.160156 L 516.546875 375.433594 \"/>\n",
       "<path style=\"fill:none;stroke-width:1;stroke-linecap:butt;stroke-linejoin:miter;stroke:rgb(26.666667%,26.666667%,26.666667%);stroke-opacity:1;stroke-miterlimit:10;\" d=\"M 247.648438 325.160156 L 159.632812 138.996094 \"/>\n",
       "<path style=\"fill:none;stroke-width:1;stroke-linecap:butt;stroke-linejoin:miter;stroke:rgb(26.666667%,26.666667%,26.666667%);stroke-opacity:1;stroke-miterlimit:10;\" d=\"M 247.648438 325.160156 L 409.953125 117.800781 \"/>\n",
       "<path style=\"fill:none;stroke-width:1;stroke-linecap:butt;stroke-linejoin:miter;stroke:rgb(26.666667%,26.666667%,26.666667%);stroke-opacity:1;stroke-miterlimit:10;\" d=\"M 247.648438 325.160156 L 561.820312 200.382812 \"/>\n",
       "<path style=\"fill:none;stroke-width:1;stroke-linecap:butt;stroke-linejoin:miter;stroke:rgb(26.666667%,26.666667%,26.666667%);stroke-opacity:1;stroke-miterlimit:10;\" d=\"M 247.648438 325.160156 L 125.328125 412.34375 \"/>\n",
       "<path style=\"fill:none;stroke-width:1;stroke-linecap:butt;stroke-linejoin:miter;stroke:rgb(26.666667%,26.666667%,26.666667%);stroke-opacity:1;stroke-miterlimit:10;\" d=\"M 247.648438 325.160156 L 20 253.78125 \"/>\n",
       "<path style=\"fill:none;stroke-width:1;stroke-linecap:butt;stroke-linejoin:miter;stroke:rgb(26.666667%,26.666667%,26.666667%);stroke-opacity:1;stroke-miterlimit:10;\" d=\"M 247.648438 325.160156 L 240.414062 519.644531 \"/>\n",
       "<path style=\"fill:none;stroke-width:1;stroke-linecap:butt;stroke-linejoin:miter;stroke:rgb(26.666667%,26.666667%,26.666667%);stroke-opacity:1;stroke-miterlimit:10;\" d=\"M 247.648438 325.160156 L 176.84375 483.0625 \"/>\n",
       "<path style=\"fill:none;stroke-width:1;stroke-linecap:butt;stroke-linejoin:miter;stroke:rgb(26.666667%,26.666667%,26.666667%);stroke-opacity:1;stroke-miterlimit:10;\" d=\"M 135.515625 343.863281 L 351.917969 273.921875 \"/>\n",
       "<path style=\"fill:none;stroke-width:1;stroke-linecap:butt;stroke-linejoin:miter;stroke:rgb(26.666667%,26.666667%,26.666667%);stroke-opacity:1;stroke-miterlimit:10;\" d=\"M 135.515625 343.863281 L 297.625 332.601562 \"/>\n",
       "<path style=\"fill:none;stroke-width:1;stroke-linecap:butt;stroke-linejoin:miter;stroke:rgb(26.666667%,26.666667%,26.666667%);stroke-opacity:1;stroke-miterlimit:10;\" d=\"M 135.515625 343.863281 L 312.269531 386.472656 \"/>\n",
       "<path style=\"fill:none;stroke-width:1;stroke-linecap:butt;stroke-linejoin:miter;stroke:rgb(26.666667%,26.666667%,26.666667%);stroke-opacity:1;stroke-miterlimit:10;\" d=\"M 135.515625 343.863281 L 272.613281 127.082031 \"/>\n",
       "<path style=\"fill:none;stroke-width:1;stroke-linecap:butt;stroke-linejoin:miter;stroke:rgb(26.666667%,26.666667%,26.666667%);stroke-opacity:1;stroke-miterlimit:10;\" d=\"M 135.515625 343.863281 L 375.191406 440.921875 \"/>\n",
       "<path style=\"fill:none;stroke-width:1;stroke-linecap:butt;stroke-linejoin:miter;stroke:rgb(26.666667%,26.666667%,26.666667%);stroke-opacity:1;stroke-miterlimit:10;\" d=\"M 351.917969 273.921875 L 453.128906 254.035156 \"/>\n",
       "<path style=\"fill:none;stroke-width:1;stroke-linecap:butt;stroke-linejoin:miter;stroke:rgb(26.666667%,26.666667%,26.666667%);stroke-opacity:1;stroke-miterlimit:10;\" d=\"M 351.917969 273.921875 L 297.625 332.601562 \"/>\n",
       "<path style=\"fill:none;stroke-width:1;stroke-linecap:butt;stroke-linejoin:miter;stroke:rgb(26.666667%,26.666667%,26.666667%);stroke-opacity:1;stroke-miterlimit:10;\" d=\"M 351.917969 273.921875 L 580 322.785156 \"/>\n",
       "<path style=\"fill:none;stroke-width:1;stroke-linecap:butt;stroke-linejoin:miter;stroke:rgb(26.666667%,26.666667%,26.666667%);stroke-opacity:1;stroke-miterlimit:10;\" d=\"M 351.917969 273.921875 L 312.269531 386.472656 \"/>\n",
       "<path style=\"fill:none;stroke-width:1;stroke-linecap:butt;stroke-linejoin:miter;stroke:rgb(26.666667%,26.666667%,26.666667%);stroke-opacity:1;stroke-miterlimit:10;\" d=\"M 351.917969 273.921875 L 161.957031 231.085938 \"/>\n",
       "<path style=\"fill:none;stroke-width:1;stroke-linecap:butt;stroke-linejoin:miter;stroke:rgb(26.666667%,26.666667%,26.666667%);stroke-opacity:1;stroke-miterlimit:10;\" d=\"M 351.917969 273.921875 L 346.953125 157.207031 \"/>\n",
       "<path style=\"fill:none;stroke-width:1;stroke-linecap:butt;stroke-linejoin:miter;stroke:rgb(26.666667%,26.666667%,26.666667%);stroke-opacity:1;stroke-miterlimit:10;\" d=\"M 351.917969 273.921875 L 472.667969 448.34375 \"/>\n",
       "<path style=\"fill:none;stroke-width:1;stroke-linecap:butt;stroke-linejoin:miter;stroke:rgb(26.666667%,26.666667%,26.666667%);stroke-opacity:1;stroke-miterlimit:10;\" d=\"M 351.917969 273.921875 L 272.613281 127.082031 \"/>\n",
       "<path style=\"fill:none;stroke-width:1;stroke-linecap:butt;stroke-linejoin:miter;stroke:rgb(26.666667%,26.666667%,26.666667%);stroke-opacity:1;stroke-miterlimit:10;\" d=\"M 351.917969 273.921875 L 375.191406 440.921875 \"/>\n",
       "<path style=\"fill:none;stroke-width:1;stroke-linecap:butt;stroke-linejoin:miter;stroke:rgb(26.666667%,26.666667%,26.666667%);stroke-opacity:1;stroke-miterlimit:10;\" d=\"M 351.917969 273.921875 L 318.539062 535.125 \"/>\n",
       "<path style=\"fill:none;stroke-width:1;stroke-linecap:butt;stroke-linejoin:miter;stroke:rgb(26.666667%,26.666667%,26.666667%);stroke-opacity:1;stroke-miterlimit:10;\" d=\"M 351.917969 273.921875 L 245.617188 165.472656 \"/>\n",
       "<path style=\"fill:none;stroke-width:1;stroke-linecap:butt;stroke-linejoin:miter;stroke:rgb(26.666667%,26.666667%,26.666667%);stroke-opacity:1;stroke-miterlimit:10;\" d=\"M 351.917969 273.921875 L 516.546875 375.433594 \"/>\n",
       "<path style=\"fill:none;stroke-width:1;stroke-linecap:butt;stroke-linejoin:miter;stroke:rgb(26.666667%,26.666667%,26.666667%);stroke-opacity:1;stroke-miterlimit:10;\" d=\"M 351.917969 273.921875 L 159.632812 138.996094 \"/>\n",
       "<path style=\"fill:none;stroke-width:1;stroke-linecap:butt;stroke-linejoin:miter;stroke:rgb(26.666667%,26.666667%,26.666667%);stroke-opacity:1;stroke-miterlimit:10;\" d=\"M 351.917969 273.921875 L 409.953125 117.800781 \"/>\n",
       "<path style=\"fill:none;stroke-width:1;stroke-linecap:butt;stroke-linejoin:miter;stroke:rgb(26.666667%,26.666667%,26.666667%);stroke-opacity:1;stroke-miterlimit:10;\" d=\"M 351.917969 273.921875 L 561.820312 200.382812 \"/>\n",
       "<path style=\"fill:none;stroke-width:1;stroke-linecap:butt;stroke-linejoin:miter;stroke:rgb(26.666667%,26.666667%,26.666667%);stroke-opacity:1;stroke-miterlimit:10;\" d=\"M 351.917969 273.921875 L 125.328125 412.34375 \"/>\n",
       "<path style=\"fill:none;stroke-width:1;stroke-linecap:butt;stroke-linejoin:miter;stroke:rgb(26.666667%,26.666667%,26.666667%);stroke-opacity:1;stroke-miterlimit:10;\" d=\"M 351.917969 273.921875 L 484.273438 157.449219 \"/>\n",
       "<path style=\"fill:none;stroke-width:1;stroke-linecap:butt;stroke-linejoin:miter;stroke:rgb(26.666667%,26.666667%,26.666667%);stroke-opacity:1;stroke-miterlimit:10;\" d=\"M 351.917969 273.921875 L 225.035156 20 \"/>\n",
       "<path style=\"fill:none;stroke-width:1;stroke-linecap:butt;stroke-linejoin:miter;stroke:rgb(26.666667%,26.666667%,26.666667%);stroke-opacity:1;stroke-miterlimit:10;\" d=\"M 351.917969 273.921875 L 240.414062 519.644531 \"/>\n",
       "<path style=\"fill:none;stroke-width:1;stroke-linecap:butt;stroke-linejoin:miter;stroke:rgb(26.666667%,26.666667%,26.666667%);stroke-opacity:1;stroke-miterlimit:10;\" d=\"M 351.917969 273.921875 L 176.84375 483.0625 \"/>\n",
       "<path style=\"fill:none;stroke-width:1;stroke-linecap:butt;stroke-linejoin:miter;stroke:rgb(26.666667%,26.666667%,26.666667%);stroke-opacity:1;stroke-miterlimit:10;\" d=\"M 453.128906 254.035156 L 297.625 332.601562 \"/>\n",
       "<path style=\"fill:none;stroke-width:1;stroke-linecap:butt;stroke-linejoin:miter;stroke:rgb(26.666667%,26.666667%,26.666667%);stroke-opacity:1;stroke-miterlimit:10;\" d=\"M 453.128906 254.035156 L 580 322.785156 \"/>\n",
       "<path style=\"fill:none;stroke-width:1;stroke-linecap:butt;stroke-linejoin:miter;stroke:rgb(26.666667%,26.666667%,26.666667%);stroke-opacity:1;stroke-miterlimit:10;\" d=\"M 453.128906 254.035156 L 312.269531 386.472656 \"/>\n",
       "<path style=\"fill:none;stroke-width:1;stroke-linecap:butt;stroke-linejoin:miter;stroke:rgb(26.666667%,26.666667%,26.666667%);stroke-opacity:1;stroke-miterlimit:10;\" d=\"M 453.128906 254.035156 L 161.957031 231.085938 \"/>\n",
       "<path style=\"fill:none;stroke-width:1;stroke-linecap:butt;stroke-linejoin:miter;stroke:rgb(26.666667%,26.666667%,26.666667%);stroke-opacity:1;stroke-miterlimit:10;\" d=\"M 453.128906 254.035156 L 346.953125 157.207031 \"/>\n",
       "<path style=\"fill:none;stroke-width:1;stroke-linecap:butt;stroke-linejoin:miter;stroke:rgb(26.666667%,26.666667%,26.666667%);stroke-opacity:1;stroke-miterlimit:10;\" d=\"M 453.128906 254.035156 L 472.667969 448.34375 \"/>\n",
       "<path style=\"fill:none;stroke-width:1;stroke-linecap:butt;stroke-linejoin:miter;stroke:rgb(26.666667%,26.666667%,26.666667%);stroke-opacity:1;stroke-miterlimit:10;\" d=\"M 453.128906 254.035156 L 272.613281 127.082031 \"/>\n",
       "<path style=\"fill:none;stroke-width:1;stroke-linecap:butt;stroke-linejoin:miter;stroke:rgb(26.666667%,26.666667%,26.666667%);stroke-opacity:1;stroke-miterlimit:10;\" d=\"M 453.128906 254.035156 L 375.191406 440.921875 \"/>\n",
       "<path style=\"fill:none;stroke-width:1;stroke-linecap:butt;stroke-linejoin:miter;stroke:rgb(26.666667%,26.666667%,26.666667%);stroke-opacity:1;stroke-miterlimit:10;\" d=\"M 453.128906 254.035156 L 516.546875 375.433594 \"/>\n",
       "<path style=\"fill:none;stroke-width:1;stroke-linecap:butt;stroke-linejoin:miter;stroke:rgb(26.666667%,26.666667%,26.666667%);stroke-opacity:1;stroke-miterlimit:10;\" d=\"M 453.128906 254.035156 L 409.953125 117.800781 \"/>\n",
       "<path style=\"fill:none;stroke-width:1;stroke-linecap:butt;stroke-linejoin:miter;stroke:rgb(26.666667%,26.666667%,26.666667%);stroke-opacity:1;stroke-miterlimit:10;\" d=\"M 453.128906 254.035156 L 561.820312 200.382812 \"/>\n",
       "<path style=\"fill:none;stroke-width:1;stroke-linecap:butt;stroke-linejoin:miter;stroke:rgb(26.666667%,26.666667%,26.666667%);stroke-opacity:1;stroke-miterlimit:10;\" d=\"M 297.625 332.601562 L 312.269531 386.472656 \"/>\n",
       "<path style=\"fill:none;stroke-width:1;stroke-linecap:butt;stroke-linejoin:miter;stroke:rgb(26.666667%,26.666667%,26.666667%);stroke-opacity:1;stroke-miterlimit:10;\" d=\"M 297.625 332.601562 L 161.957031 231.085938 \"/>\n",
       "<path style=\"fill:none;stroke-width:1;stroke-linecap:butt;stroke-linejoin:miter;stroke:rgb(26.666667%,26.666667%,26.666667%);stroke-opacity:1;stroke-miterlimit:10;\" d=\"M 297.625 332.601562 L 346.953125 157.207031 \"/>\n",
       "<path style=\"fill:none;stroke-width:1;stroke-linecap:butt;stroke-linejoin:miter;stroke:rgb(26.666667%,26.666667%,26.666667%);stroke-opacity:1;stroke-miterlimit:10;\" d=\"M 297.625 332.601562 L 472.667969 448.34375 \"/>\n",
       "<path style=\"fill:none;stroke-width:1;stroke-linecap:butt;stroke-linejoin:miter;stroke:rgb(26.666667%,26.666667%,26.666667%);stroke-opacity:1;stroke-miterlimit:10;\" d=\"M 297.625 332.601562 L 272.613281 127.082031 \"/>\n",
       "<path style=\"fill:none;stroke-width:1;stroke-linecap:butt;stroke-linejoin:miter;stroke:rgb(26.666667%,26.666667%,26.666667%);stroke-opacity:1;stroke-miterlimit:10;\" d=\"M 297.625 332.601562 L 375.191406 440.921875 \"/>\n",
       "<path style=\"fill:none;stroke-width:1;stroke-linecap:butt;stroke-linejoin:miter;stroke:rgb(26.666667%,26.666667%,26.666667%);stroke-opacity:1;stroke-miterlimit:10;\" d=\"M 297.625 332.601562 L 318.539062 535.125 \"/>\n",
       "<path style=\"fill:none;stroke-width:1;stroke-linecap:butt;stroke-linejoin:miter;stroke:rgb(26.666667%,26.666667%,26.666667%);stroke-opacity:1;stroke-miterlimit:10;\" d=\"M 297.625 332.601562 L 245.617188 165.472656 \"/>\n",
       "<path style=\"fill:none;stroke-width:1;stroke-linecap:butt;stroke-linejoin:miter;stroke:rgb(26.666667%,26.666667%,26.666667%);stroke-opacity:1;stroke-miterlimit:10;\" d=\"M 297.625 332.601562 L 516.546875 375.433594 \"/>\n",
       "<path style=\"fill:none;stroke-width:1;stroke-linecap:butt;stroke-linejoin:miter;stroke:rgb(26.666667%,26.666667%,26.666667%);stroke-opacity:1;stroke-miterlimit:10;\" d=\"M 297.625 332.601562 L 159.632812 138.996094 \"/>\n",
       "<path style=\"fill:none;stroke-width:1;stroke-linecap:butt;stroke-linejoin:miter;stroke:rgb(26.666667%,26.666667%,26.666667%);stroke-opacity:1;stroke-miterlimit:10;\" d=\"M 297.625 332.601562 L 409.953125 117.800781 \"/>\n",
       "<path style=\"fill:none;stroke-width:1;stroke-linecap:butt;stroke-linejoin:miter;stroke:rgb(26.666667%,26.666667%,26.666667%);stroke-opacity:1;stroke-miterlimit:10;\" d=\"M 297.625 332.601562 L 125.328125 412.34375 \"/>\n",
       "<path style=\"fill:none;stroke-width:1;stroke-linecap:butt;stroke-linejoin:miter;stroke:rgb(26.666667%,26.666667%,26.666667%);stroke-opacity:1;stroke-miterlimit:10;\" d=\"M 297.625 332.601562 L 484.273438 157.449219 \"/>\n",
       "<path style=\"fill:none;stroke-width:1;stroke-linecap:butt;stroke-linejoin:miter;stroke:rgb(26.666667%,26.666667%,26.666667%);stroke-opacity:1;stroke-miterlimit:10;\" d=\"M 297.625 332.601562 L 240.414062 519.644531 \"/>\n",
       "<path style=\"fill:none;stroke-width:1;stroke-linecap:butt;stroke-linejoin:miter;stroke:rgb(26.666667%,26.666667%,26.666667%);stroke-opacity:1;stroke-miterlimit:10;\" d=\"M 297.625 332.601562 L 176.84375 483.0625 \"/>\n",
       "<path style=\"fill:none;stroke-width:1;stroke-linecap:butt;stroke-linejoin:miter;stroke:rgb(26.666667%,26.666667%,26.666667%);stroke-opacity:1;stroke-miterlimit:10;\" d=\"M 580 322.785156 L 472.667969 448.34375 \"/>\n",
       "<path style=\"fill:none;stroke-width:1;stroke-linecap:butt;stroke-linejoin:miter;stroke:rgb(26.666667%,26.666667%,26.666667%);stroke-opacity:1;stroke-miterlimit:10;\" d=\"M 312.269531 386.472656 L 161.957031 231.085938 \"/>\n",
       "<path style=\"fill:none;stroke-width:1;stroke-linecap:butt;stroke-linejoin:miter;stroke:rgb(26.666667%,26.666667%,26.666667%);stroke-opacity:1;stroke-miterlimit:10;\" d=\"M 312.269531 386.472656 L 346.953125 157.207031 \"/>\n",
       "<path style=\"fill:none;stroke-width:1;stroke-linecap:butt;stroke-linejoin:miter;stroke:rgb(26.666667%,26.666667%,26.666667%);stroke-opacity:1;stroke-miterlimit:10;\" d=\"M 312.269531 386.472656 L 472.667969 448.34375 \"/>\n",
       "<path style=\"fill:none;stroke-width:1;stroke-linecap:butt;stroke-linejoin:miter;stroke:rgb(26.666667%,26.666667%,26.666667%);stroke-opacity:1;stroke-miterlimit:10;\" d=\"M 312.269531 386.472656 L 272.613281 127.082031 \"/>\n",
       "<path style=\"fill:none;stroke-width:1;stroke-linecap:butt;stroke-linejoin:miter;stroke:rgb(26.666667%,26.666667%,26.666667%);stroke-opacity:1;stroke-miterlimit:10;\" d=\"M 312.269531 386.472656 L 375.191406 440.921875 \"/>\n",
       "<path style=\"fill:none;stroke-width:1;stroke-linecap:butt;stroke-linejoin:miter;stroke:rgb(26.666667%,26.666667%,26.666667%);stroke-opacity:1;stroke-miterlimit:10;\" d=\"M 312.269531 386.472656 L 468.542969 580 \"/>\n",
       "<path style=\"fill:none;stroke-width:1;stroke-linecap:butt;stroke-linejoin:miter;stroke:rgb(26.666667%,26.666667%,26.666667%);stroke-opacity:1;stroke-miterlimit:10;\" d=\"M 312.269531 386.472656 L 245.617188 165.472656 \"/>\n",
       "<path style=\"fill:none;stroke-width:1;stroke-linecap:butt;stroke-linejoin:miter;stroke:rgb(26.666667%,26.666667%,26.666667%);stroke-opacity:1;stroke-miterlimit:10;\" d=\"M 312.269531 386.472656 L 409.953125 117.800781 \"/>\n",
       "<path style=\"fill:none;stroke-width:1;stroke-linecap:butt;stroke-linejoin:miter;stroke:rgb(26.666667%,26.666667%,26.666667%);stroke-opacity:1;stroke-miterlimit:10;\" d=\"M 312.269531 386.472656 L 125.328125 412.34375 \"/>\n",
       "<path style=\"fill:none;stroke-width:1;stroke-linecap:butt;stroke-linejoin:miter;stroke:rgb(26.666667%,26.666667%,26.666667%);stroke-opacity:1;stroke-miterlimit:10;\" d=\"M 312.269531 386.472656 L 484.273438 157.449219 \"/>\n",
       "<path style=\"fill:none;stroke-width:1;stroke-linecap:butt;stroke-linejoin:miter;stroke:rgb(26.666667%,26.666667%,26.666667%);stroke-opacity:1;stroke-miterlimit:10;\" d=\"M 312.269531 386.472656 L 240.414062 519.644531 \"/>\n",
       "<path style=\"fill:none;stroke-width:1;stroke-linecap:butt;stroke-linejoin:miter;stroke:rgb(26.666667%,26.666667%,26.666667%);stroke-opacity:1;stroke-miterlimit:10;\" d=\"M 312.269531 386.472656 L 176.84375 483.0625 \"/>\n",
       "<path style=\"fill:none;stroke-width:1;stroke-linecap:butt;stroke-linejoin:miter;stroke:rgb(26.666667%,26.666667%,26.666667%);stroke-opacity:1;stroke-miterlimit:10;\" d=\"M 161.957031 231.085938 L 346.953125 157.207031 \"/>\n",
       "<path style=\"fill:none;stroke-width:1;stroke-linecap:butt;stroke-linejoin:miter;stroke:rgb(26.666667%,26.666667%,26.666667%);stroke-opacity:1;stroke-miterlimit:10;\" d=\"M 161.957031 231.085938 L 245.617188 165.472656 \"/>\n",
       "<path style=\"fill:none;stroke-width:1;stroke-linecap:butt;stroke-linejoin:miter;stroke:rgb(26.666667%,26.666667%,26.666667%);stroke-opacity:1;stroke-miterlimit:10;\" d=\"M 161.957031 231.085938 L 159.632812 138.996094 \"/>\n",
       "<path style=\"fill:none;stroke-width:1;stroke-linecap:butt;stroke-linejoin:miter;stroke:rgb(26.666667%,26.666667%,26.666667%);stroke-opacity:1;stroke-miterlimit:10;\" d=\"M 161.957031 231.085938 L 125.328125 412.34375 \"/>\n",
       "<path style=\"fill:none;stroke-width:1;stroke-linecap:butt;stroke-linejoin:miter;stroke:rgb(26.666667%,26.666667%,26.666667%);stroke-opacity:1;stroke-miterlimit:10;\" d=\"M 161.957031 231.085938 L 225.035156 20 \"/>\n",
       "<path style=\"fill:none;stroke-width:1;stroke-linecap:butt;stroke-linejoin:miter;stroke:rgb(26.666667%,26.666667%,26.666667%);stroke-opacity:1;stroke-miterlimit:10;\" d=\"M 346.953125 157.207031 L 272.613281 127.082031 \"/>\n",
       "<path style=\"fill:none;stroke-width:1;stroke-linecap:butt;stroke-linejoin:miter;stroke:rgb(26.666667%,26.666667%,26.666667%);stroke-opacity:1;stroke-miterlimit:10;\" d=\"M 346.953125 157.207031 L 375.191406 440.921875 \"/>\n",
       "<path style=\"fill:none;stroke-width:1;stroke-linecap:butt;stroke-linejoin:miter;stroke:rgb(26.666667%,26.666667%,26.666667%);stroke-opacity:1;stroke-miterlimit:10;\" d=\"M 346.953125 157.207031 L 159.632812 138.996094 \"/>\n",
       "<path style=\"fill:none;stroke-width:1;stroke-linecap:butt;stroke-linejoin:miter;stroke:rgb(26.666667%,26.666667%,26.666667%);stroke-opacity:1;stroke-miterlimit:10;\" d=\"M 346.953125 157.207031 L 409.953125 117.800781 \"/>\n",
       "<path style=\"fill:none;stroke-width:1;stroke-linecap:butt;stroke-linejoin:miter;stroke:rgb(26.666667%,26.666667%,26.666667%);stroke-opacity:1;stroke-miterlimit:10;\" d=\"M 346.953125 157.207031 L 484.273438 157.449219 \"/>\n",
       "<path style=\"fill:none;stroke-width:1;stroke-linecap:butt;stroke-linejoin:miter;stroke:rgb(26.666667%,26.666667%,26.666667%);stroke-opacity:1;stroke-miterlimit:10;\" d=\"M 472.667969 448.34375 L 375.191406 440.921875 \"/>\n",
       "<path style=\"fill:none;stroke-width:1;stroke-linecap:butt;stroke-linejoin:miter;stroke:rgb(26.666667%,26.666667%,26.666667%);stroke-opacity:1;stroke-miterlimit:10;\" d=\"M 472.667969 448.34375 L 516.546875 375.433594 \"/>\n",
       "<path style=\"fill:none;stroke-width:1;stroke-linecap:butt;stroke-linejoin:miter;stroke:rgb(26.666667%,26.666667%,26.666667%);stroke-opacity:1;stroke-miterlimit:10;\" d=\"M 272.613281 127.082031 L 159.632812 138.996094 \"/>\n",
       "<path style=\"fill:none;stroke-width:1;stroke-linecap:butt;stroke-linejoin:miter;stroke:rgb(26.666667%,26.666667%,26.666667%);stroke-opacity:1;stroke-miterlimit:10;\" d=\"M 375.191406 440.921875 L 468.542969 580 \"/>\n",
       "<path style=\"fill:none;stroke-width:1;stroke-linecap:butt;stroke-linejoin:miter;stroke:rgb(26.666667%,26.666667%,26.666667%);stroke-opacity:1;stroke-miterlimit:10;\" d=\"M 375.191406 440.921875 L 245.617188 165.472656 \"/>\n",
       "<path style=\"fill:none;stroke-width:1;stroke-linecap:butt;stroke-linejoin:miter;stroke:rgb(26.666667%,26.666667%,26.666667%);stroke-opacity:1;stroke-miterlimit:10;\" d=\"M 375.191406 440.921875 L 516.546875 375.433594 \"/>\n",
       "<path style=\"fill:none;stroke-width:1;stroke-linecap:butt;stroke-linejoin:miter;stroke:rgb(26.666667%,26.666667%,26.666667%);stroke-opacity:1;stroke-miterlimit:10;\" d=\"M 245.617188 165.472656 L 409.953125 117.800781 \"/>\n",
       "<path style=\"fill-rule:nonzero;fill:rgb(100%,0%,0%);fill-opacity:1;stroke-width:1;stroke-linecap:butt;stroke-linejoin:miter;stroke:rgb(0%,0%,0%);stroke-opacity:1;stroke-miterlimit:10;\" d=\"M 385.835938 336.59375 C 385.835938 342.117188 381.359375 346.59375 375.835938 346.59375 C 370.3125 346.59375 365.835938 342.117188 365.835938 336.59375 C 365.835938 331.070312 370.3125 326.59375 375.835938 326.59375 C 381.359375 326.59375 385.835938 331.070312 385.835938 336.59375 \"/>\n",
       "<path style=\"fill-rule:nonzero;fill:rgb(100%,0%,0%);fill-opacity:1;stroke-width:1;stroke-linecap:butt;stroke-linejoin:miter;stroke:rgb(0%,0%,0%);stroke-opacity:1;stroke-miterlimit:10;\" d=\"M 295.570312 273.429688 C 295.570312 278.953125 291.089844 283.429688 285.570312 283.429688 C 280.046875 283.429688 275.570312 278.953125 275.570312 273.429688 C 275.570312 267.90625 280.046875 263.429688 285.570312 263.429688 C 291.089844 263.429688 295.570312 267.90625 295.570312 273.429688 \"/>\n",
       "<path style=\"fill-rule:nonzero;fill:rgb(100%,0%,0%);fill-opacity:1;stroke-width:1;stroke-linecap:butt;stroke-linejoin:miter;stroke:rgb(0%,0%,0%);stroke-opacity:1;stroke-miterlimit:10;\" d=\"M 257.648438 325.160156 C 257.648438 330.683594 253.171875 335.160156 247.648438 335.160156 C 242.128906 335.160156 237.648438 330.683594 237.648438 325.160156 C 237.648438 319.636719 242.128906 315.160156 247.648438 315.160156 C 253.171875 315.160156 257.648438 319.636719 257.648438 325.160156 \"/>\n",
       "<path style=\"fill-rule:nonzero;fill:rgb(100%,0%,0%);fill-opacity:1;stroke-width:1;stroke-linecap:butt;stroke-linejoin:miter;stroke:rgb(0%,0%,0%);stroke-opacity:1;stroke-miterlimit:10;\" d=\"M 145.515625 343.863281 C 145.515625 349.386719 141.039062 353.863281 135.515625 353.863281 C 129.992188 353.863281 125.515625 349.386719 125.515625 343.863281 C 125.515625 338.339844 129.992188 333.863281 135.515625 333.863281 C 141.039062 333.863281 145.515625 338.339844 145.515625 343.863281 \"/>\n",
       "<path style=\"fill-rule:nonzero;fill:rgb(100%,0%,0%);fill-opacity:1;stroke-width:1;stroke-linecap:butt;stroke-linejoin:miter;stroke:rgb(0%,0%,0%);stroke-opacity:1;stroke-miterlimit:10;\" d=\"M 361.917969 273.921875 C 361.917969 279.445312 357.441406 283.921875 351.917969 283.921875 C 346.394531 283.921875 341.917969 279.445312 341.917969 273.921875 C 341.917969 268.398438 346.394531 263.921875 351.917969 263.921875 C 357.441406 263.921875 361.917969 268.398438 361.917969 273.921875 \"/>\n",
       "<path style=\"fill-rule:nonzero;fill:rgb(100%,0%,0%);fill-opacity:1;stroke-width:1;stroke-linecap:butt;stroke-linejoin:miter;stroke:rgb(0%,0%,0%);stroke-opacity:1;stroke-miterlimit:10;\" d=\"M 463.128906 254.035156 C 463.128906 259.558594 458.652344 264.035156 453.128906 264.035156 C 447.609375 264.035156 443.128906 259.558594 443.128906 254.035156 C 443.128906 248.511719 447.609375 244.035156 453.128906 244.035156 C 458.652344 244.035156 463.128906 248.511719 463.128906 254.035156 \"/>\n",
       "<path style=\"fill-rule:nonzero;fill:rgb(100%,0%,0%);fill-opacity:1;stroke-width:1;stroke-linecap:butt;stroke-linejoin:miter;stroke:rgb(0%,0%,0%);stroke-opacity:1;stroke-miterlimit:10;\" d=\"M 307.625 332.601562 C 307.625 338.125 303.148438 342.601562 297.625 342.601562 C 292.101562 342.601562 287.625 338.125 287.625 332.601562 C 287.625 327.078125 292.101562 322.601562 297.625 322.601562 C 303.148438 322.601562 307.625 327.078125 307.625 332.601562 \"/>\n",
       "<path style=\"fill-rule:nonzero;fill:rgb(100%,0%,0%);fill-opacity:1;stroke-width:1;stroke-linecap:butt;stroke-linejoin:miter;stroke:rgb(0%,0%,0%);stroke-opacity:1;stroke-miterlimit:10;\" d=\"M 590 322.785156 C 590 328.308594 585.523438 332.785156 580 332.785156 C 574.476562 332.785156 570 328.308594 570 322.785156 C 570 317.265625 574.476562 312.785156 580 312.785156 C 585.523438 312.785156 590 317.265625 590 322.785156 \"/>\n",
       "<path style=\"fill-rule:nonzero;fill:rgb(100%,0%,0%);fill-opacity:1;stroke-width:1;stroke-linecap:butt;stroke-linejoin:miter;stroke:rgb(0%,0%,0%);stroke-opacity:1;stroke-miterlimit:10;\" d=\"M 322.269531 386.472656 C 322.269531 391.996094 317.792969 396.472656 312.269531 396.472656 C 306.746094 396.472656 302.269531 391.996094 302.269531 386.472656 C 302.269531 380.953125 306.746094 376.472656 312.269531 376.472656 C 317.792969 376.472656 322.269531 380.953125 322.269531 386.472656 \"/>\n",
       "<path style=\"fill-rule:nonzero;fill:rgb(100%,0%,0%);fill-opacity:1;stroke-width:1;stroke-linecap:butt;stroke-linejoin:miter;stroke:rgb(0%,0%,0%);stroke-opacity:1;stroke-miterlimit:10;\" d=\"M 171.957031 231.085938 C 171.957031 236.609375 167.480469 241.085938 161.957031 241.085938 C 156.433594 241.085938 151.957031 236.609375 151.957031 231.085938 C 151.957031 225.5625 156.433594 221.085938 161.957031 221.085938 C 167.480469 221.085938 171.957031 225.5625 171.957031 231.085938 \"/>\n",
       "<path style=\"fill-rule:nonzero;fill:rgb(100%,0%,0%);fill-opacity:1;stroke-width:1;stroke-linecap:butt;stroke-linejoin:miter;stroke:rgb(0%,0%,0%);stroke-opacity:1;stroke-miterlimit:10;\" d=\"M 356.953125 157.207031 C 356.953125 162.730469 352.476562 167.207031 346.953125 167.207031 C 341.433594 167.207031 336.953125 162.730469 336.953125 157.207031 C 336.953125 151.683594 341.433594 147.207031 346.953125 147.207031 C 352.476562 147.207031 356.953125 151.683594 356.953125 157.207031 \"/>\n",
       "<path style=\"fill-rule:nonzero;fill:rgb(100%,0%,0%);fill-opacity:1;stroke-width:1;stroke-linecap:butt;stroke-linejoin:miter;stroke:rgb(0%,0%,0%);stroke-opacity:1;stroke-miterlimit:10;\" d=\"M 482.667969 448.34375 C 482.667969 453.867188 478.191406 458.34375 472.667969 458.34375 C 467.144531 458.34375 462.667969 453.867188 462.667969 448.34375 C 462.667969 442.820312 467.144531 438.34375 472.667969 438.34375 C 478.191406 438.34375 482.667969 442.820312 482.667969 448.34375 \"/>\n",
       "<path style=\"fill-rule:nonzero;fill:rgb(100%,0%,0%);fill-opacity:1;stroke-width:1;stroke-linecap:butt;stroke-linejoin:miter;stroke:rgb(0%,0%,0%);stroke-opacity:1;stroke-miterlimit:10;\" d=\"M 282.613281 127.082031 C 282.613281 132.605469 278.136719 137.082031 272.613281 137.082031 C 267.089844 137.082031 262.613281 132.605469 262.613281 127.082031 C 262.613281 121.558594 267.089844 117.082031 272.613281 117.082031 C 278.136719 117.082031 282.613281 121.558594 282.613281 127.082031 \"/>\n",
       "<path style=\"fill-rule:nonzero;fill:rgb(100%,0%,0%);fill-opacity:1;stroke-width:1;stroke-linecap:butt;stroke-linejoin:miter;stroke:rgb(0%,0%,0%);stroke-opacity:1;stroke-miterlimit:10;\" d=\"M 385.191406 440.921875 C 385.191406 446.441406 380.714844 450.921875 375.191406 450.921875 C 369.667969 450.921875 365.191406 446.441406 365.191406 440.921875 C 365.191406 435.398438 369.667969 430.921875 375.191406 430.921875 C 380.714844 430.921875 385.191406 435.398438 385.191406 440.921875 \"/>\n",
       "<path style=\"fill-rule:nonzero;fill:rgb(100%,0%,0%);fill-opacity:1;stroke-width:1;stroke-linecap:butt;stroke-linejoin:miter;stroke:rgb(0%,0%,0%);stroke-opacity:1;stroke-miterlimit:10;\" d=\"M 478.542969 580 C 478.542969 585.523438 474.0625 590 468.542969 590 C 463.019531 590 458.542969 585.523438 458.542969 580 C 458.542969 574.476562 463.019531 570 468.542969 570 C 474.0625 570 478.542969 574.476562 478.542969 580 \"/>\n",
       "<path style=\"fill-rule:nonzero;fill:rgb(100%,0%,0%);fill-opacity:1;stroke-width:1;stroke-linecap:butt;stroke-linejoin:miter;stroke:rgb(0%,0%,0%);stroke-opacity:1;stroke-miterlimit:10;\" d=\"M 328.539062 535.125 C 328.539062 540.648438 324.0625 545.125 318.539062 545.125 C 313.015625 545.125 308.539062 540.648438 308.539062 535.125 C 308.539062 529.605469 313.015625 525.125 318.539062 525.125 C 324.0625 525.125 328.539062 529.605469 328.539062 535.125 \"/>\n",
       "<path style=\"fill-rule:nonzero;fill:rgb(100%,0%,0%);fill-opacity:1;stroke-width:1;stroke-linecap:butt;stroke-linejoin:miter;stroke:rgb(0%,0%,0%);stroke-opacity:1;stroke-miterlimit:10;\" d=\"M 255.617188 165.472656 C 255.617188 170.996094 251.140625 175.472656 245.617188 175.472656 C 240.09375 175.472656 235.617188 170.996094 235.617188 165.472656 C 235.617188 159.949219 240.09375 155.472656 245.617188 155.472656 C 251.140625 155.472656 255.617188 159.949219 255.617188 165.472656 \"/>\n",
       "<path style=\"fill-rule:nonzero;fill:rgb(100%,0%,0%);fill-opacity:1;stroke-width:1;stroke-linecap:butt;stroke-linejoin:miter;stroke:rgb(0%,0%,0%);stroke-opacity:1;stroke-miterlimit:10;\" d=\"M 526.546875 375.433594 C 526.546875 380.957031 522.070312 385.433594 516.546875 385.433594 C 511.023438 385.433594 506.546875 380.957031 506.546875 375.433594 C 506.546875 369.910156 511.023438 365.433594 516.546875 365.433594 C 522.070312 365.433594 526.546875 369.910156 526.546875 375.433594 \"/>\n",
       "<path style=\"fill-rule:nonzero;fill:rgb(100%,0%,0%);fill-opacity:1;stroke-width:1;stroke-linecap:butt;stroke-linejoin:miter;stroke:rgb(0%,0%,0%);stroke-opacity:1;stroke-miterlimit:10;\" d=\"M 169.632812 138.996094 C 169.632812 144.519531 165.15625 148.996094 159.632812 148.996094 C 154.109375 148.996094 149.632812 144.519531 149.632812 138.996094 C 149.632812 133.472656 154.109375 128.996094 159.632812 128.996094 C 165.15625 128.996094 169.632812 133.472656 169.632812 138.996094 \"/>\n",
       "<path style=\"fill-rule:nonzero;fill:rgb(100%,0%,0%);fill-opacity:1;stroke-width:1;stroke-linecap:butt;stroke-linejoin:miter;stroke:rgb(0%,0%,0%);stroke-opacity:1;stroke-miterlimit:10;\" d=\"M 419.953125 117.800781 C 419.953125 123.324219 415.476562 127.800781 409.953125 127.800781 C 404.433594 127.800781 399.953125 123.324219 399.953125 117.800781 C 399.953125 112.28125 404.433594 107.800781 409.953125 107.800781 C 415.476562 107.800781 419.953125 112.28125 419.953125 117.800781 \"/>\n",
       "<path style=\"fill-rule:nonzero;fill:rgb(100%,0%,0%);fill-opacity:1;stroke-width:1;stroke-linecap:butt;stroke-linejoin:miter;stroke:rgb(0%,0%,0%);stroke-opacity:1;stroke-miterlimit:10;\" d=\"M 571.820312 200.382812 C 571.820312 205.90625 567.34375 210.382812 561.820312 210.382812 C 556.300781 210.382812 551.820312 205.90625 551.820312 200.382812 C 551.820312 194.859375 556.300781 190.382812 561.820312 190.382812 C 567.34375 190.382812 571.820312 194.859375 571.820312 200.382812 \"/>\n",
       "<path style=\"fill-rule:nonzero;fill:rgb(100%,0%,0%);fill-opacity:1;stroke-width:1;stroke-linecap:butt;stroke-linejoin:miter;stroke:rgb(0%,0%,0%);stroke-opacity:1;stroke-miterlimit:10;\" d=\"M 135.328125 412.34375 C 135.328125 417.867188 130.851562 422.34375 125.328125 422.34375 C 119.804688 422.34375 115.328125 417.867188 115.328125 412.34375 C 115.328125 406.820312 119.804688 402.34375 125.328125 402.34375 C 130.851562 402.34375 135.328125 406.820312 135.328125 412.34375 \"/>\n",
       "<path style=\"fill-rule:nonzero;fill:rgb(100%,0%,0%);fill-opacity:1;stroke-width:1;stroke-linecap:butt;stroke-linejoin:miter;stroke:rgb(0%,0%,0%);stroke-opacity:1;stroke-miterlimit:10;\" d=\"M 30 253.78125 C 30 259.304688 25.523438 263.78125 20 263.78125 C 14.476562 263.78125 10 259.304688 10 253.78125 C 10 248.257812 14.476562 243.78125 20 243.78125 C 25.523438 243.78125 30 248.257812 30 253.78125 \"/>\n",
       "<path style=\"fill-rule:nonzero;fill:rgb(100%,0%,0%);fill-opacity:1;stroke-width:1;stroke-linecap:butt;stroke-linejoin:miter;stroke:rgb(0%,0%,0%);stroke-opacity:1;stroke-miterlimit:10;\" d=\"M 494.273438 157.449219 C 494.273438 162.972656 489.796875 167.449219 484.273438 167.449219 C 478.75 167.449219 474.273438 162.972656 474.273438 157.449219 C 474.273438 151.925781 478.75 147.449219 484.273438 147.449219 C 489.796875 147.449219 494.273438 151.925781 494.273438 157.449219 \"/>\n",
       "<path style=\"fill-rule:nonzero;fill:rgb(100%,0%,0%);fill-opacity:1;stroke-width:1;stroke-linecap:butt;stroke-linejoin:miter;stroke:rgb(0%,0%,0%);stroke-opacity:1;stroke-miterlimit:10;\" d=\"M 235.035156 20 C 235.035156 25.523438 230.558594 30 225.035156 30 C 219.511719 30 215.035156 25.523438 215.035156 20 C 215.035156 14.476562 219.511719 10 225.035156 10 C 230.558594 10 235.035156 14.476562 235.035156 20 \"/>\n",
       "<path style=\"fill-rule:nonzero;fill:rgb(100%,0%,0%);fill-opacity:1;stroke-width:1;stroke-linecap:butt;stroke-linejoin:miter;stroke:rgb(0%,0%,0%);stroke-opacity:1;stroke-miterlimit:10;\" d=\"M 250.414062 519.644531 C 250.414062 525.167969 245.9375 529.644531 240.414062 529.644531 C 234.890625 529.644531 230.414062 525.167969 230.414062 519.644531 C 230.414062 514.121094 234.890625 509.644531 240.414062 509.644531 C 245.9375 509.644531 250.414062 514.121094 250.414062 519.644531 \"/>\n",
       "<path style=\"fill-rule:nonzero;fill:rgb(100%,0%,0%);fill-opacity:1;stroke-width:1;stroke-linecap:butt;stroke-linejoin:miter;stroke:rgb(0%,0%,0%);stroke-opacity:1;stroke-miterlimit:10;\" d=\"M 186.84375 483.0625 C 186.84375 488.585938 182.367188 493.0625 176.84375 493.0625 C 171.320312 493.0625 166.84375 488.585938 166.84375 483.0625 C 166.84375 477.539062 171.320312 473.0625 176.84375 473.0625 C 182.367188 473.0625 186.84375 477.539062 186.84375 483.0625 \"/>\n",
       "<g style=\"fill:rgb(0%,0%,0%);fill-opacity:1;\">\n",
       "  <use xlink:href=\"#glyph0-1\" x=\"208.566406\" y=\"343.441406\"/>\n",
       "  <use xlink:href=\"#glyph0-2\" x=\"217.118164\" y=\"343.441406\"/>\n",
       "  <use xlink:href=\"#glyph0-3\" x=\"226.845703\" y=\"343.441406\"/>\n",
       "  <use xlink:href=\"#glyph0-4\" x=\"237.865234\" y=\"343.441406\"/>\n",
       "  <use xlink:href=\"#glyph0-5\" x=\"246.307617\" y=\"343.441406\"/>\n",
       "  <use xlink:href=\"#glyph0-6\" x=\"250.436523\" y=\"343.441406\"/>\n",
       "  <use xlink:href=\"#glyph0-7\" x=\"260.211914\" y=\"343.441406\"/>\n",
       "  <use xlink:href=\"#glyph0-8\" x=\"269.789062\" y=\"343.441406\"/>\n",
       "  <use xlink:href=\"#glyph0-9\" x=\"277.588867\" y=\"343.441406\"/>\n",
       "  <use xlink:href=\"#glyph0-10\" x=\"282.039062\" y=\"343.441406\"/>\n",
       "  <use xlink:href=\"#glyph0-11\" x=\"294.118164\" y=\"343.441406\"/>\n",
       "  <use xlink:href=\"#glyph0-12\" x=\"302.963867\" y=\"343.441406\"/>\n",
       "  <use xlink:href=\"#glyph0-5\" x=\"313.744141\" y=\"343.441406\"/>\n",
       "  <use xlink:href=\"#glyph0-6\" x=\"317.873047\" y=\"343.441406\"/>\n",
       "  <use xlink:href=\"#glyph0-5\" x=\"327.648438\" y=\"343.441406\"/>\n",
       "  <use xlink:href=\"#glyph0-13\" x=\"331.777344\" y=\"343.441406\"/>\n",
       "  <use xlink:href=\"#glyph0-11\" x=\"342.25\" y=\"343.441406\"/>\n",
       "  <use xlink:href=\"#glyph0-9\" x=\"351.095703\" y=\"343.441406\"/>\n",
       "  <use xlink:href=\"#glyph0-14\" x=\"355.545898\" y=\"343.441406\"/>\n",
       "  <use xlink:href=\"#glyph0-9\" x=\"366.462891\" y=\"343.441406\"/>\n",
       "  <use xlink:href=\"#glyph0-5\" x=\"370.913086\" y=\"343.441406\"/>\n",
       "  <use xlink:href=\"#glyph0-13\" x=\"375.041992\" y=\"343.441406\"/>\n",
       "  <use xlink:href=\"#glyph0-1\" x=\"385.514648\" y=\"343.441406\"/>\n",
       "  <use xlink:href=\"#glyph0-11\" x=\"394.066406\" y=\"343.441406\"/>\n",
       "  <use xlink:href=\"#glyph0-2\" x=\"402.912109\" y=\"343.441406\"/>\n",
       "  <use xlink:href=\"#glyph0-13\" x=\"412.639648\" y=\"343.441406\"/>\n",
       "  <use xlink:href=\"#glyph0-7\" x=\"423.112305\" y=\"343.441406\"/>\n",
       "  <use xlink:href=\"#glyph0-1\" x=\"432.689453\" y=\"343.441406\"/>\n",
       "  <use xlink:href=\"#glyph0-5\" x=\"441.241211\" y=\"343.441406\"/>\n",
       "  <use xlink:href=\"#glyph0-3\" x=\"445.370117\" y=\"343.441406\"/>\n",
       "  <use xlink:href=\"#glyph0-13\" x=\"456.389648\" y=\"343.441406\"/>\n",
       "  <use xlink:href=\"#glyph0-7\" x=\"466.862305\" y=\"343.441406\"/>\n",
       "  <use xlink:href=\"#glyph0-8\" x=\"476.439453\" y=\"343.441406\"/>\n",
       "  <use xlink:href=\"#glyph0-9\" x=\"484.239258\" y=\"343.441406\"/>\n",
       "  <use xlink:href=\"#glyph0-15\" x=\"488.689453\" y=\"343.441406\"/>\n",
       "  <use xlink:href=\"#glyph0-11\" x=\"499.216797\" y=\"343.441406\"/>\n",
       "  <use xlink:href=\"#glyph0-7\" x=\"508.0625\" y=\"343.441406\"/>\n",
       "  <use xlink:href=\"#glyph0-8\" x=\"517.639648\" y=\"343.441406\"/>\n",
       "  <use xlink:href=\"#glyph0-1\" x=\"525.439453\" y=\"343.441406\"/>\n",
       "  <use xlink:href=\"#glyph0-15\" x=\"533.991211\" y=\"343.441406\"/>\n",
       "</g>\n",
       "<g style=\"fill:rgb(0%,0%,0%);fill-opacity:1;\">\n",
       "  <use xlink:href=\"#glyph0-4\" x=\"149.207031\" y=\"280.273438\"/>\n",
       "  <use xlink:href=\"#glyph0-8\" x=\"157.649414\" y=\"280.273438\"/>\n",
       "  <use xlink:href=\"#glyph0-3\" x=\"165.449219\" y=\"280.273438\"/>\n",
       "  <use xlink:href=\"#glyph0-16\" x=\"176.46875\" y=\"280.273438\"/>\n",
       "  <use xlink:href=\"#glyph0-9\" x=\"185.355469\" y=\"280.273438\"/>\n",
       "  <use xlink:href=\"#glyph0-13\" x=\"189.805664\" y=\"280.273438\"/>\n",
       "  <use xlink:href=\"#glyph0-11\" x=\"200.27832\" y=\"280.273438\"/>\n",
       "  <use xlink:href=\"#glyph0-17\" x=\"209.124023\" y=\"280.273438\"/>\n",
       "  <use xlink:href=\"#glyph0-8\" x=\"219.972656\" y=\"280.273438\"/>\n",
       "  <use xlink:href=\"#glyph0-11\" x=\"227.772461\" y=\"280.273438\"/>\n",
       "  <use xlink:href=\"#glyph0-6\" x=\"236.618164\" y=\"280.273438\"/>\n",
       "  <use xlink:href=\"#glyph0-1\" x=\"246.393555\" y=\"280.273438\"/>\n",
       "  <use xlink:href=\"#glyph0-11\" x=\"254.945312\" y=\"280.273438\"/>\n",
       "  <use xlink:href=\"#glyph0-12\" x=\"263.791016\" y=\"280.273438\"/>\n",
       "  <use xlink:href=\"#glyph0-9\" x=\"274.571289\" y=\"280.273438\"/>\n",
       "  <use xlink:href=\"#glyph0-1\" x=\"279.021484\" y=\"280.273438\"/>\n",
       "  <use xlink:href=\"#glyph0-2\" x=\"287.573242\" y=\"280.273438\"/>\n",
       "  <use xlink:href=\"#glyph0-3\" x=\"297.300781\" y=\"280.273438\"/>\n",
       "  <use xlink:href=\"#glyph0-4\" x=\"308.320312\" y=\"280.273438\"/>\n",
       "  <use xlink:href=\"#glyph0-5\" x=\"316.762695\" y=\"280.273438\"/>\n",
       "  <use xlink:href=\"#glyph0-6\" x=\"320.891602\" y=\"280.273438\"/>\n",
       "  <use xlink:href=\"#glyph0-7\" x=\"330.666992\" y=\"280.273438\"/>\n",
       "  <use xlink:href=\"#glyph0-8\" x=\"340.244141\" y=\"280.273438\"/>\n",
       "  <use xlink:href=\"#glyph0-9\" x=\"348.043945\" y=\"280.273438\"/>\n",
       "  <use xlink:href=\"#glyph0-12\" x=\"352.494141\" y=\"280.273438\"/>\n",
       "  <use xlink:href=\"#glyph0-5\" x=\"363.274414\" y=\"280.273438\"/>\n",
       "  <use xlink:href=\"#glyph0-16\" x=\"367.40332\" y=\"280.273438\"/>\n",
       "  <use xlink:href=\"#glyph0-11\" x=\"376.290039\" y=\"280.273438\"/>\n",
       "  <use xlink:href=\"#glyph0-7\" x=\"385.135742\" y=\"280.273438\"/>\n",
       "  <use xlink:href=\"#glyph0-16\" x=\"394.712891\" y=\"280.273438\"/>\n",
       "  <use xlink:href=\"#glyph0-11\" x=\"403.599609\" y=\"280.273438\"/>\n",
       "  <use xlink:href=\"#glyph0-16\" x=\"412.445312\" y=\"280.273438\"/>\n",
       "</g>\n",
       "<g style=\"fill:rgb(0%,0%,0%);fill-opacity:1;\">\n",
       "  <use xlink:href=\"#glyph0-7\" x=\"41.011719\" y=\"332.003906\"/>\n",
       "  <use xlink:href=\"#glyph0-10\" x=\"50.588867\" y=\"332.003906\"/>\n",
       "  <use xlink:href=\"#glyph0-11\" x=\"62.667969\" y=\"332.003906\"/>\n",
       "  <use xlink:href=\"#glyph0-2\" x=\"71.513672\" y=\"332.003906\"/>\n",
       "  <use xlink:href=\"#glyph0-5\" x=\"81.241211\" y=\"332.003906\"/>\n",
       "  <use xlink:href=\"#glyph0-6\" x=\"85.370117\" y=\"332.003906\"/>\n",
       "  <use xlink:href=\"#glyph0-7\" x=\"95.145508\" y=\"332.003906\"/>\n",
       "  <use xlink:href=\"#glyph0-13\" x=\"104.722656\" y=\"332.003906\"/>\n",
       "  <use xlink:href=\"#glyph0-9\" x=\"115.195312\" y=\"332.003906\"/>\n",
       "  <use xlink:href=\"#glyph0-18\" x=\"119.645508\" y=\"332.003906\"/>\n",
       "  <use xlink:href=\"#glyph0-3\" x=\"123.774414\" y=\"332.003906\"/>\n",
       "  <use xlink:href=\"#glyph0-19\" x=\"134.793945\" y=\"332.003906\"/>\n",
       "  <use xlink:href=\"#glyph0-2\" x=\"145.041016\" y=\"332.003906\"/>\n",
       "  <use xlink:href=\"#glyph0-13\" x=\"154.768555\" y=\"332.003906\"/>\n",
       "  <use xlink:href=\"#glyph0-7\" x=\"165.241211\" y=\"332.003906\"/>\n",
       "  <use xlink:href=\"#glyph0-8\" x=\"174.818359\" y=\"332.003906\"/>\n",
       "  <use xlink:href=\"#glyph0-9\" x=\"182.618164\" y=\"332.003906\"/>\n",
       "  <use xlink:href=\"#glyph0-3\" x=\"187.068359\" y=\"332.003906\"/>\n",
       "  <use xlink:href=\"#glyph0-20\" x=\"198.087891\" y=\"332.003906\"/>\n",
       "  <use xlink:href=\"#glyph0-9\" x=\"206.140625\" y=\"332.003906\"/>\n",
       "  <use xlink:href=\"#glyph0-1\" x=\"210.59082\" y=\"332.003906\"/>\n",
       "  <use xlink:href=\"#glyph0-2\" x=\"219.142578\" y=\"332.003906\"/>\n",
       "  <use xlink:href=\"#glyph0-3\" x=\"228.870117\" y=\"332.003906\"/>\n",
       "  <use xlink:href=\"#glyph0-4\" x=\"239.889648\" y=\"332.003906\"/>\n",
       "  <use xlink:href=\"#glyph0-5\" x=\"248.332031\" y=\"332.003906\"/>\n",
       "  <use xlink:href=\"#glyph0-6\" x=\"252.460938\" y=\"332.003906\"/>\n",
       "  <use xlink:href=\"#glyph0-7\" x=\"262.236328\" y=\"332.003906\"/>\n",
       "  <use xlink:href=\"#glyph0-8\" x=\"271.813477\" y=\"332.003906\"/>\n",
       "  <use xlink:href=\"#glyph0-9\" x=\"279.613281\" y=\"332.003906\"/>\n",
       "  <use xlink:href=\"#glyph0-10\" x=\"284.063477\" y=\"332.003906\"/>\n",
       "  <use xlink:href=\"#glyph0-11\" x=\"296.142578\" y=\"332.003906\"/>\n",
       "  <use xlink:href=\"#glyph0-12\" x=\"304.988281\" y=\"332.003906\"/>\n",
       "  <use xlink:href=\"#glyph0-5\" x=\"315.768555\" y=\"332.003906\"/>\n",
       "  <use xlink:href=\"#glyph0-6\" x=\"319.897461\" y=\"332.003906\"/>\n",
       "  <use xlink:href=\"#glyph0-5\" x=\"329.672852\" y=\"332.003906\"/>\n",
       "  <use xlink:href=\"#glyph0-13\" x=\"333.801758\" y=\"332.003906\"/>\n",
       "  <use xlink:href=\"#glyph0-11\" x=\"344.274414\" y=\"332.003906\"/>\n",
       "  <use xlink:href=\"#glyph0-9\" x=\"353.120117\" y=\"332.003906\"/>\n",
       "  <use xlink:href=\"#glyph0-7\" x=\"357.570312\" y=\"332.003906\"/>\n",
       "  <use xlink:href=\"#glyph0-13\" x=\"367.147461\" y=\"332.003906\"/>\n",
       "  <use xlink:href=\"#glyph0-12\" x=\"377.620117\" y=\"332.003906\"/>\n",
       "  <use xlink:href=\"#glyph0-9\" x=\"388.400391\" y=\"332.003906\"/>\n",
       "  <use xlink:href=\"#glyph0-15\" x=\"392.850586\" y=\"332.003906\"/>\n",
       "  <use xlink:href=\"#glyph0-21\" x=\"403.37793\" y=\"332.003906\"/>\n",
       "  <use xlink:href=\"#glyph0-17\" x=\"411.929688\" y=\"332.003906\"/>\n",
       "  <use xlink:href=\"#glyph0-5\" x=\"422.77832\" y=\"332.003906\"/>\n",
       "  <use xlink:href=\"#glyph0-11\" x=\"426.907227\" y=\"332.003906\"/>\n",
       "  <use xlink:href=\"#glyph0-13\" x=\"435.75293\" y=\"332.003906\"/>\n",
       "  <use xlink:href=\"#glyph0-11\" x=\"446.225586\" y=\"332.003906\"/>\n",
       "</g>\n",
       "<g style=\"fill:rgb(0%,0%,0%);fill-opacity:1;\">\n",
       "  <use xlink:href=\"#glyph0-16\" x=\"-124.316406\" y=\"350.710938\"/>\n",
       "  <use xlink:href=\"#glyph0-3\" x=\"-115.429688\" y=\"350.710938\"/>\n",
       "  <use xlink:href=\"#glyph0-19\" x=\"-104.410156\" y=\"350.710938\"/>\n",
       "  <use xlink:href=\"#glyph0-1\" x=\"-94.163086\" y=\"350.710938\"/>\n",
       "  <use xlink:href=\"#glyph0-15\" x=\"-85.611328\" y=\"350.710938\"/>\n",
       "  <use xlink:href=\"#glyph0-11\" x=\"-75.083984\" y=\"350.710938\"/>\n",
       "  <use xlink:href=\"#glyph0-7\" x=\"-66.238281\" y=\"350.710938\"/>\n",
       "  <use xlink:href=\"#glyph0-16\" x=\"-56.661133\" y=\"350.710938\"/>\n",
       "  <use xlink:href=\"#glyph0-1\" x=\"-47.774414\" y=\"350.710938\"/>\n",
       "  <use xlink:href=\"#glyph0-9\" x=\"-39.222656\" y=\"350.710938\"/>\n",
       "  <use xlink:href=\"#glyph0-7\" x=\"-34.772461\" y=\"350.710938\"/>\n",
       "  <use xlink:href=\"#glyph0-16\" x=\"-25.195312\" y=\"350.710938\"/>\n",
       "  <use xlink:href=\"#glyph0-5\" x=\"-16.308594\" y=\"350.710938\"/>\n",
       "  <use xlink:href=\"#glyph0-7\" x=\"-12.179688\" y=\"350.710938\"/>\n",
       "  <use xlink:href=\"#glyph0-13\" x=\"-2.602539\" y=\"350.710938\"/>\n",
       "  <use xlink:href=\"#glyph0-9\" x=\"7.870117\" y=\"350.710938\"/>\n",
       "  <use xlink:href=\"#glyph0-18\" x=\"12.320312\" y=\"350.710938\"/>\n",
       "  <use xlink:href=\"#glyph0-3\" x=\"16.449219\" y=\"350.710938\"/>\n",
       "  <use xlink:href=\"#glyph0-19\" x=\"27.46875\" y=\"350.710938\"/>\n",
       "  <use xlink:href=\"#glyph0-2\" x=\"37.71582\" y=\"350.710938\"/>\n",
       "  <use xlink:href=\"#glyph0-13\" x=\"47.443359\" y=\"350.710938\"/>\n",
       "  <use xlink:href=\"#glyph0-7\" x=\"57.916016\" y=\"350.710938\"/>\n",
       "  <use xlink:href=\"#glyph0-8\" x=\"67.493164\" y=\"350.710938\"/>\n",
       "  <use xlink:href=\"#glyph0-9\" x=\"75.292969\" y=\"350.710938\"/>\n",
       "  <use xlink:href=\"#glyph0-3\" x=\"79.743164\" y=\"350.710938\"/>\n",
       "  <use xlink:href=\"#glyph0-20\" x=\"90.762695\" y=\"350.710938\"/>\n",
       "  <use xlink:href=\"#glyph0-9\" x=\"98.81543\" y=\"350.710938\"/>\n",
       "  <use xlink:href=\"#glyph0-1\" x=\"103.265625\" y=\"350.710938\"/>\n",
       "  <use xlink:href=\"#glyph0-2\" x=\"111.817383\" y=\"350.710938\"/>\n",
       "  <use xlink:href=\"#glyph0-3\" x=\"121.544922\" y=\"350.710938\"/>\n",
       "  <use xlink:href=\"#glyph0-4\" x=\"132.564453\" y=\"350.710938\"/>\n",
       "  <use xlink:href=\"#glyph0-5\" x=\"141.006836\" y=\"350.710938\"/>\n",
       "  <use xlink:href=\"#glyph0-6\" x=\"145.135742\" y=\"350.710938\"/>\n",
       "  <use xlink:href=\"#glyph0-7\" x=\"154.911133\" y=\"350.710938\"/>\n",
       "  <use xlink:href=\"#glyph0-8\" x=\"164.488281\" y=\"350.710938\"/>\n",
       "  <use xlink:href=\"#glyph0-9\" x=\"172.288086\" y=\"350.710938\"/>\n",
       "  <use xlink:href=\"#glyph0-10\" x=\"176.738281\" y=\"350.710938\"/>\n",
       "  <use xlink:href=\"#glyph0-11\" x=\"188.817383\" y=\"350.710938\"/>\n",
       "  <use xlink:href=\"#glyph0-12\" x=\"197.663086\" y=\"350.710938\"/>\n",
       "  <use xlink:href=\"#glyph0-5\" x=\"208.443359\" y=\"350.710938\"/>\n",
       "  <use xlink:href=\"#glyph0-6\" x=\"212.572266\" y=\"350.710938\"/>\n",
       "  <use xlink:href=\"#glyph0-5\" x=\"222.347656\" y=\"350.710938\"/>\n",
       "  <use xlink:href=\"#glyph0-13\" x=\"226.476562\" y=\"350.710938\"/>\n",
       "  <use xlink:href=\"#glyph0-11\" x=\"236.949219\" y=\"350.710938\"/>\n",
       "  <use xlink:href=\"#glyph0-9\" x=\"245.794922\" y=\"350.710938\"/>\n",
       "  <use xlink:href=\"#glyph0-7\" x=\"250.245117\" y=\"350.710938\"/>\n",
       "  <use xlink:href=\"#glyph0-13\" x=\"259.822266\" y=\"350.710938\"/>\n",
       "  <use xlink:href=\"#glyph0-12\" x=\"270.294922\" y=\"350.710938\"/>\n",
       "  <use xlink:href=\"#glyph0-9\" x=\"281.075195\" y=\"350.710938\"/>\n",
       "  <use xlink:href=\"#glyph0-4\" x=\"285.525391\" y=\"350.710938\"/>\n",
       "  <use xlink:href=\"#glyph0-19\" x=\"293.967773\" y=\"350.710938\"/>\n",
       "  <use xlink:href=\"#glyph0-22\" x=\"304.214844\" y=\"350.710938\"/>\n",
       "  <use xlink:href=\"#glyph0-8\" x=\"313.819336\" y=\"350.710938\"/>\n",
       "  <use xlink:href=\"#glyph0-5\" x=\"321.619141\" y=\"350.710938\"/>\n",
       "  <use xlink:href=\"#glyph0-6\" x=\"325.748047\" y=\"350.710938\"/>\n",
       "  <use xlink:href=\"#glyph0-9\" x=\"335.523438\" y=\"350.710938\"/>\n",
       "  <use xlink:href=\"#glyph0-15\" x=\"339.973633\" y=\"350.710938\"/>\n",
       "  <use xlink:href=\"#glyph0-11\" x=\"350.500977\" y=\"350.710938\"/>\n",
       "  <use xlink:href=\"#glyph0-7\" x=\"359.34668\" y=\"350.710938\"/>\n",
       "  <use xlink:href=\"#glyph0-8\" x=\"368.923828\" y=\"350.710938\"/>\n",
       "  <use xlink:href=\"#glyph0-1\" x=\"376.723633\" y=\"350.710938\"/>\n",
       "  <use xlink:href=\"#glyph0-15\" x=\"385.275391\" y=\"350.710938\"/>\n",
       "</g>\n",
       "<g style=\"fill:rgb(0%,0%,0%);fill-opacity:1;\">\n",
       "  <use xlink:href=\"#glyph0-1\" x=\"75.730469\" y=\"280.769531\"/>\n",
       "  <use xlink:href=\"#glyph0-2\" x=\"84.282227\" y=\"280.769531\"/>\n",
       "  <use xlink:href=\"#glyph0-7\" x=\"94.009766\" y=\"280.769531\"/>\n",
       "  <use xlink:href=\"#glyph0-13\" x=\"103.586914\" y=\"280.769531\"/>\n",
       "  <use xlink:href=\"#glyph0-16\" x=\"114.05957\" y=\"280.769531\"/>\n",
       "  <use xlink:href=\"#glyph0-7\" x=\"122.946289\" y=\"280.769531\"/>\n",
       "  <use xlink:href=\"#glyph0-6\" x=\"132.523438\" y=\"280.769531\"/>\n",
       "  <use xlink:href=\"#glyph0-1\" x=\"142.298828\" y=\"280.769531\"/>\n",
       "  <use xlink:href=\"#glyph0-5\" x=\"150.850586\" y=\"280.769531\"/>\n",
       "  <use xlink:href=\"#glyph0-3\" x=\"154.979492\" y=\"280.769531\"/>\n",
       "  <use xlink:href=\"#glyph0-13\" x=\"165.999023\" y=\"280.769531\"/>\n",
       "  <use xlink:href=\"#glyph0-16\" x=\"176.47168\" y=\"280.769531\"/>\n",
       "  <use xlink:href=\"#glyph0-9\" x=\"185.358398\" y=\"280.769531\"/>\n",
       "  <use xlink:href=\"#glyph0-3\" x=\"189.808594\" y=\"280.769531\"/>\n",
       "  <use xlink:href=\"#glyph0-20\" x=\"200.828125\" y=\"280.769531\"/>\n",
       "  <use xlink:href=\"#glyph0-9\" x=\"208.880859\" y=\"280.769531\"/>\n",
       "  <use xlink:href=\"#glyph0-1\" x=\"213.331055\" y=\"280.769531\"/>\n",
       "  <use xlink:href=\"#glyph0-15\" x=\"221.882812\" y=\"280.769531\"/>\n",
       "  <use xlink:href=\"#glyph0-11\" x=\"232.410156\" y=\"280.769531\"/>\n",
       "  <use xlink:href=\"#glyph0-9\" x=\"241.255859\" y=\"280.769531\"/>\n",
       "  <use xlink:href=\"#glyph0-2\" x=\"245.706055\" y=\"280.769531\"/>\n",
       "  <use xlink:href=\"#glyph0-3\" x=\"255.433594\" y=\"280.769531\"/>\n",
       "  <use xlink:href=\"#glyph0-21\" x=\"266.453125\" y=\"280.769531\"/>\n",
       "  <use xlink:href=\"#glyph0-7\" x=\"275.004883\" y=\"280.769531\"/>\n",
       "  <use xlink:href=\"#glyph0-8\" x=\"284.582031\" y=\"280.769531\"/>\n",
       "  <use xlink:href=\"#glyph0-9\" x=\"292.381836\" y=\"280.769531\"/>\n",
       "  <use xlink:href=\"#glyph0-16\" x=\"296.832031\" y=\"280.769531\"/>\n",
       "  <use xlink:href=\"#glyph0-3\" x=\"305.71875\" y=\"280.769531\"/>\n",
       "  <use xlink:href=\"#glyph0-6\" x=\"316.738281\" y=\"280.769531\"/>\n",
       "  <use xlink:href=\"#glyph0-5\" x=\"326.513672\" y=\"280.769531\"/>\n",
       "  <use xlink:href=\"#glyph0-11\" x=\"330.642578\" y=\"280.769531\"/>\n",
       "  <use xlink:href=\"#glyph0-1\" x=\"339.488281\" y=\"280.769531\"/>\n",
       "  <use xlink:href=\"#glyph0-21\" x=\"348.040039\" y=\"280.769531\"/>\n",
       "  <use xlink:href=\"#glyph0-9\" x=\"356.591797\" y=\"280.769531\"/>\n",
       "  <use xlink:href=\"#glyph0-3\" x=\"361.041992\" y=\"280.769531\"/>\n",
       "  <use xlink:href=\"#glyph0-20\" x=\"372.061523\" y=\"280.769531\"/>\n",
       "  <use xlink:href=\"#glyph0-9\" x=\"380.114258\" y=\"280.769531\"/>\n",
       "  <use xlink:href=\"#glyph0-1\" x=\"384.564453\" y=\"280.769531\"/>\n",
       "  <use xlink:href=\"#glyph0-2\" x=\"393.116211\" y=\"280.769531\"/>\n",
       "  <use xlink:href=\"#glyph0-3\" x=\"402.84375\" y=\"280.769531\"/>\n",
       "  <use xlink:href=\"#glyph0-4\" x=\"413.863281\" y=\"280.769531\"/>\n",
       "  <use xlink:href=\"#glyph0-5\" x=\"422.305664\" y=\"280.769531\"/>\n",
       "  <use xlink:href=\"#glyph0-6\" x=\"426.43457\" y=\"280.769531\"/>\n",
       "  <use xlink:href=\"#glyph0-7\" x=\"436.209961\" y=\"280.769531\"/>\n",
       "  <use xlink:href=\"#glyph0-8\" x=\"445.787109\" y=\"280.769531\"/>\n",
       "  <use xlink:href=\"#glyph0-9\" x=\"453.586914\" y=\"280.769531\"/>\n",
       "  <use xlink:href=\"#glyph0-10\" x=\"458.037109\" y=\"280.769531\"/>\n",
       "  <use xlink:href=\"#glyph0-11\" x=\"470.116211\" y=\"280.769531\"/>\n",
       "  <use xlink:href=\"#glyph0-12\" x=\"478.961914\" y=\"280.769531\"/>\n",
       "  <use xlink:href=\"#glyph0-5\" x=\"489.742188\" y=\"280.769531\"/>\n",
       "  <use xlink:href=\"#glyph0-6\" x=\"493.871094\" y=\"280.769531\"/>\n",
       "  <use xlink:href=\"#glyph0-5\" x=\"503.646484\" y=\"280.769531\"/>\n",
       "  <use xlink:href=\"#glyph0-13\" x=\"507.775391\" y=\"280.769531\"/>\n",
       "  <use xlink:href=\"#glyph0-11\" x=\"518.248047\" y=\"280.769531\"/>\n",
       "  <use xlink:href=\"#glyph0-9\" x=\"527.09375\" y=\"280.769531\"/>\n",
       "  <use xlink:href=\"#glyph0-7\" x=\"531.543945\" y=\"280.769531\"/>\n",
       "  <use xlink:href=\"#glyph0-13\" x=\"541.121094\" y=\"280.769531\"/>\n",
       "  <use xlink:href=\"#glyph0-12\" x=\"551.59375\" y=\"280.769531\"/>\n",
       "  <use xlink:href=\"#glyph0-9\" x=\"562.374023\" y=\"280.769531\"/>\n",
       "  <use xlink:href=\"#glyph0-15\" x=\"566.824219\" y=\"280.769531\"/>\n",
       "  <use xlink:href=\"#glyph0-21\" x=\"577.351562\" y=\"280.769531\"/>\n",
       "  <use xlink:href=\"#glyph0-17\" x=\"585.90332\" y=\"280.769531\"/>\n",
       "  <use xlink:href=\"#glyph0-5\" x=\"596.751953\" y=\"280.769531\"/>\n",
       "  <use xlink:href=\"#glyph0-11\" x=\"600.880859\" y=\"280.769531\"/>\n",
       "  <use xlink:href=\"#glyph0-13\" x=\"609.726562\" y=\"280.769531\"/>\n",
       "  <use xlink:href=\"#glyph0-11\" x=\"620.199219\" y=\"280.769531\"/>\n",
       "</g>\n",
       "<g style=\"fill:rgb(0%,0%,0%);fill-opacity:1;\">\n",
       "  <use xlink:href=\"#glyph0-10\" x=\"387.535156\" y=\"260.882812\"/>\n",
       "  <use xlink:href=\"#glyph0-7\" x=\"399.614258\" y=\"260.882812\"/>\n",
       "  <use xlink:href=\"#glyph0-8\" x=\"409.191406\" y=\"260.882812\"/>\n",
       "  <use xlink:href=\"#glyph0-7\" x=\"416.991211\" y=\"260.882812\"/>\n",
       "  <use xlink:href=\"#glyph0-2\" x=\"426.568359\" y=\"260.882812\"/>\n",
       "  <use xlink:href=\"#glyph0-5\" x=\"436.295898\" y=\"260.882812\"/>\n",
       "  <use xlink:href=\"#glyph0-7\" x=\"440.424805\" y=\"260.882812\"/>\n",
       "  <use xlink:href=\"#glyph0-9\" x=\"450.001953\" y=\"260.882812\"/>\n",
       "  <use xlink:href=\"#glyph0-18\" x=\"454.452148\" y=\"260.882812\"/>\n",
       "  <use xlink:href=\"#glyph0-3\" x=\"458.581055\" y=\"260.882812\"/>\n",
       "  <use xlink:href=\"#glyph0-19\" x=\"469.600586\" y=\"260.882812\"/>\n",
       "  <use xlink:href=\"#glyph0-2\" x=\"479.847656\" y=\"260.882812\"/>\n",
       "  <use xlink:href=\"#glyph0-13\" x=\"489.575195\" y=\"260.882812\"/>\n",
       "  <use xlink:href=\"#glyph0-7\" x=\"500.047852\" y=\"260.882812\"/>\n",
       "  <use xlink:href=\"#glyph0-8\" x=\"509.625\" y=\"260.882812\"/>\n",
       "</g>\n",
       "<g style=\"fill:rgb(0%,0%,0%);fill-opacity:1;\">\n",
       "  <use xlink:href=\"#glyph0-4\" x=\"215.914062\" y=\"339.449219\"/>\n",
       "  <use xlink:href=\"#glyph0-7\" x=\"224.356445\" y=\"339.449219\"/>\n",
       "  <use xlink:href=\"#glyph0-2\" x=\"233.933594\" y=\"339.449219\"/>\n",
       "  <use xlink:href=\"#glyph0-7\" x=\"243.661133\" y=\"339.449219\"/>\n",
       "  <use xlink:href=\"#glyph0-16\" x=\"253.238281\" y=\"339.449219\"/>\n",
       "  <use xlink:href=\"#glyph0-5\" x=\"262.125\" y=\"339.449219\"/>\n",
       "  <use xlink:href=\"#glyph0-1\" x=\"266.253906\" y=\"339.449219\"/>\n",
       "  <use xlink:href=\"#glyph0-11\" x=\"274.805664\" y=\"339.449219\"/>\n",
       "  <use xlink:href=\"#glyph0-16\" x=\"283.651367\" y=\"339.449219\"/>\n",
       "  <use xlink:href=\"#glyph0-9\" x=\"292.538086\" y=\"339.449219\"/>\n",
       "  <use xlink:href=\"#glyph0-14\" x=\"296.988281\" y=\"339.449219\"/>\n",
       "  <use xlink:href=\"#glyph0-9\" x=\"307.905273\" y=\"339.449219\"/>\n",
       "  <use xlink:href=\"#glyph0-23\" x=\"312.355469\" y=\"339.449219\"/>\n",
       "  <use xlink:href=\"#glyph0-11\" x=\"321.932617\" y=\"339.449219\"/>\n",
       "  <use xlink:href=\"#glyph0-6\" x=\"330.77832\" y=\"339.449219\"/>\n",
       "  <use xlink:href=\"#glyph0-1\" x=\"340.553711\" y=\"339.449219\"/>\n",
       "  <use xlink:href=\"#glyph0-3\" x=\"349.105469\" y=\"339.449219\"/>\n",
       "  <use xlink:href=\"#glyph0-2\" x=\"360.125\" y=\"339.449219\"/>\n",
       "  <use xlink:href=\"#glyph0-16\" x=\"369.852539\" y=\"339.449219\"/>\n",
       "</g>\n",
       "<g style=\"fill:rgb(0%,0%,0%);fill-opacity:1;\">\n",
       "  <use xlink:href=\"#glyph0-1\" x=\"513.046875\" y=\"329.632812\"/>\n",
       "  <use xlink:href=\"#glyph0-2\" x=\"521.598633\" y=\"329.632812\"/>\n",
       "  <use xlink:href=\"#glyph0-3\" x=\"531.326172\" y=\"329.632812\"/>\n",
       "  <use xlink:href=\"#glyph0-4\" x=\"542.345703\" y=\"329.632812\"/>\n",
       "  <use xlink:href=\"#glyph0-5\" x=\"550.788086\" y=\"329.632812\"/>\n",
       "  <use xlink:href=\"#glyph0-6\" x=\"554.916992\" y=\"329.632812\"/>\n",
       "  <use xlink:href=\"#glyph0-7\" x=\"564.692383\" y=\"329.632812\"/>\n",
       "  <use xlink:href=\"#glyph0-8\" x=\"574.269531\" y=\"329.632812\"/>\n",
       "  <use xlink:href=\"#glyph0-9\" x=\"582.069336\" y=\"329.632812\"/>\n",
       "  <use xlink:href=\"#glyph0-12\" x=\"586.519531\" y=\"329.632812\"/>\n",
       "  <use xlink:href=\"#glyph0-3\" x=\"597.299805\" y=\"329.632812\"/>\n",
       "  <use xlink:href=\"#glyph0-6\" x=\"608.319336\" y=\"329.632812\"/>\n",
       "  <use xlink:href=\"#glyph0-1\" x=\"618.094727\" y=\"329.632812\"/>\n",
       "  <use xlink:href=\"#glyph0-3\" x=\"626.646484\" y=\"329.632812\"/>\n",
       "  <use xlink:href=\"#glyph0-2\" x=\"637.666016\" y=\"329.632812\"/>\n",
       "</g>\n",
       "<g style=\"fill:rgb(0%,0%,0%);fill-opacity:1;\">\n",
       "  <use xlink:href=\"#glyph0-7\" x=\"260.695312\" y=\"393.320312\"/>\n",
       "  <use xlink:href=\"#glyph0-6\" x=\"270.272461\" y=\"393.320312\"/>\n",
       "  <use xlink:href=\"#glyph0-1\" x=\"280.047852\" y=\"393.320312\"/>\n",
       "  <use xlink:href=\"#glyph0-7\" x=\"288.599609\" y=\"393.320312\"/>\n",
       "  <use xlink:href=\"#glyph0-9\" x=\"298.176758\" y=\"393.320312\"/>\n",
       "  <use xlink:href=\"#glyph0-1\" x=\"302.626953\" y=\"393.320312\"/>\n",
       "  <use xlink:href=\"#glyph0-2\" x=\"311.178711\" y=\"393.320312\"/>\n",
       "  <use xlink:href=\"#glyph0-3\" x=\"320.90625\" y=\"393.320312\"/>\n",
       "  <use xlink:href=\"#glyph0-4\" x=\"331.925781\" y=\"393.320312\"/>\n",
       "  <use xlink:href=\"#glyph0-5\" x=\"340.368164\" y=\"393.320312\"/>\n",
       "  <use xlink:href=\"#glyph0-6\" x=\"344.49707\" y=\"393.320312\"/>\n",
       "  <use xlink:href=\"#glyph0-7\" x=\"354.272461\" y=\"393.320312\"/>\n",
       "</g>\n",
       "<g style=\"fill:rgb(0%,0%,0%);fill-opacity:1;\">\n",
       "  <use xlink:href=\"#glyph0-7\" x=\"-25.6875\" y=\"237.933594\"/>\n",
       "  <use xlink:href=\"#glyph0-13\" x=\"-16.110352\" y=\"237.933594\"/>\n",
       "  <use xlink:href=\"#glyph0-13\" x=\"-5.637695\" y=\"237.933594\"/>\n",
       "  <use xlink:href=\"#glyph0-7\" x=\"4.834961\" y=\"237.933594\"/>\n",
       "  <use xlink:href=\"#glyph0-8\" x=\"14.412109\" y=\"237.933594\"/>\n",
       "  <use xlink:href=\"#glyph0-16\" x=\"22.211914\" y=\"237.933594\"/>\n",
       "  <use xlink:href=\"#glyph0-9\" x=\"31.098633\" y=\"237.933594\"/>\n",
       "  <use xlink:href=\"#glyph0-3\" x=\"35.548828\" y=\"237.933594\"/>\n",
       "  <use xlink:href=\"#glyph0-20\" x=\"46.568359\" y=\"237.933594\"/>\n",
       "  <use xlink:href=\"#glyph0-9\" x=\"54.621094\" y=\"237.933594\"/>\n",
       "  <use xlink:href=\"#glyph0-1\" x=\"59.071289\" y=\"237.933594\"/>\n",
       "  <use xlink:href=\"#glyph0-2\" x=\"67.623047\" y=\"237.933594\"/>\n",
       "  <use xlink:href=\"#glyph0-3\" x=\"77.350586\" y=\"237.933594\"/>\n",
       "  <use xlink:href=\"#glyph0-4\" x=\"88.370117\" y=\"237.933594\"/>\n",
       "  <use xlink:href=\"#glyph0-5\" x=\"96.8125\" y=\"237.933594\"/>\n",
       "  <use xlink:href=\"#glyph0-6\" x=\"100.941406\" y=\"237.933594\"/>\n",
       "  <use xlink:href=\"#glyph0-7\" x=\"110.716797\" y=\"237.933594\"/>\n",
       "  <use xlink:href=\"#glyph0-8\" x=\"120.293945\" y=\"237.933594\"/>\n",
       "  <use xlink:href=\"#glyph0-9\" x=\"128.09375\" y=\"237.933594\"/>\n",
       "  <use xlink:href=\"#glyph0-10\" x=\"132.543945\" y=\"237.933594\"/>\n",
       "  <use xlink:href=\"#glyph0-11\" x=\"144.623047\" y=\"237.933594\"/>\n",
       "  <use xlink:href=\"#glyph0-12\" x=\"153.46875\" y=\"237.933594\"/>\n",
       "  <use xlink:href=\"#glyph0-5\" x=\"164.249023\" y=\"237.933594\"/>\n",
       "  <use xlink:href=\"#glyph0-6\" x=\"168.37793\" y=\"237.933594\"/>\n",
       "  <use xlink:href=\"#glyph0-5\" x=\"178.15332\" y=\"237.933594\"/>\n",
       "  <use xlink:href=\"#glyph0-13\" x=\"182.282227\" y=\"237.933594\"/>\n",
       "  <use xlink:href=\"#glyph0-11\" x=\"192.754883\" y=\"237.933594\"/>\n",
       "  <use xlink:href=\"#glyph0-9\" x=\"201.600586\" y=\"237.933594\"/>\n",
       "  <use xlink:href=\"#glyph0-7\" x=\"206.050781\" y=\"237.933594\"/>\n",
       "  <use xlink:href=\"#glyph0-13\" x=\"215.62793\" y=\"237.933594\"/>\n",
       "  <use xlink:href=\"#glyph0-12\" x=\"226.100586\" y=\"237.933594\"/>\n",
       "  <use xlink:href=\"#glyph0-9\" x=\"236.880859\" y=\"237.933594\"/>\n",
       "  <use xlink:href=\"#glyph0-4\" x=\"241.331055\" y=\"237.933594\"/>\n",
       "  <use xlink:href=\"#glyph0-7\" x=\"249.773438\" y=\"237.933594\"/>\n",
       "  <use xlink:href=\"#glyph0-2\" x=\"259.350586\" y=\"237.933594\"/>\n",
       "  <use xlink:href=\"#glyph0-7\" x=\"269.078125\" y=\"237.933594\"/>\n",
       "  <use xlink:href=\"#glyph0-16\" x=\"278.655273\" y=\"237.933594\"/>\n",
       "  <use xlink:href=\"#glyph0-5\" x=\"287.541992\" y=\"237.933594\"/>\n",
       "  <use xlink:href=\"#glyph0-1\" x=\"291.670898\" y=\"237.933594\"/>\n",
       "  <use xlink:href=\"#glyph0-3\" x=\"300.222656\" y=\"237.933594\"/>\n",
       "  <use xlink:href=\"#glyph0-8\" x=\"311.242188\" y=\"237.933594\"/>\n",
       "  <use xlink:href=\"#glyph0-3\" x=\"319.041992\" y=\"237.933594\"/>\n",
       "  <use xlink:href=\"#glyph0-17\" x=\"330.061523\" y=\"237.933594\"/>\n",
       "  <use xlink:href=\"#glyph0-21\" x=\"340.910156\" y=\"237.933594\"/>\n",
       "</g>\n",
       "<g style=\"fill:rgb(0%,0%,0%);fill-opacity:1;\">\n",
       "  <use xlink:href=\"#glyph0-10\" x=\"195.207031\" y=\"164.050781\"/>\n",
       "  <use xlink:href=\"#glyph0-11\" x=\"207.286133\" y=\"164.050781\"/>\n",
       "  <use xlink:href=\"#glyph0-10\" x=\"216.131836\" y=\"164.050781\"/>\n",
       "  <use xlink:href=\"#glyph0-3\" x=\"228.210938\" y=\"164.050781\"/>\n",
       "  <use xlink:href=\"#glyph0-2\" x=\"239.230469\" y=\"164.050781\"/>\n",
       "  <use xlink:href=\"#glyph0-5\" x=\"248.958008\" y=\"164.050781\"/>\n",
       "  <use xlink:href=\"#glyph0-7\" x=\"253.086914\" y=\"164.050781\"/>\n",
       "  <use xlink:href=\"#glyph0-16\" x=\"262.664062\" y=\"164.050781\"/>\n",
       "  <use xlink:href=\"#glyph0-9\" x=\"271.550781\" y=\"164.050781\"/>\n",
       "  <use xlink:href=\"#glyph0-12\" x=\"276.000977\" y=\"164.050781\"/>\n",
       "  <use xlink:href=\"#glyph0-3\" x=\"286.78125\" y=\"164.050781\"/>\n",
       "  <use xlink:href=\"#glyph0-9\" x=\"297.800781\" y=\"164.050781\"/>\n",
       "  <use xlink:href=\"#glyph0-5\" x=\"302.250977\" y=\"164.050781\"/>\n",
       "  <use xlink:href=\"#glyph0-13\" x=\"306.379883\" y=\"164.050781\"/>\n",
       "  <use xlink:href=\"#glyph0-16\" x=\"316.852539\" y=\"164.050781\"/>\n",
       "  <use xlink:href=\"#glyph0-1\" x=\"325.739258\" y=\"164.050781\"/>\n",
       "  <use xlink:href=\"#glyph0-5\" x=\"334.291016\" y=\"164.050781\"/>\n",
       "  <use xlink:href=\"#glyph0-1\" x=\"338.419922\" y=\"164.050781\"/>\n",
       "  <use xlink:href=\"#glyph0-19\" x=\"346.97168\" y=\"164.050781\"/>\n",
       "  <use xlink:href=\"#glyph0-1\" x=\"357.21875\" y=\"164.050781\"/>\n",
       "  <use xlink:href=\"#glyph0-3\" x=\"365.770508\" y=\"164.050781\"/>\n",
       "  <use xlink:href=\"#glyph0-9\" x=\"376.790039\" y=\"164.050781\"/>\n",
       "  <use xlink:href=\"#glyph0-3\" x=\"381.240234\" y=\"164.050781\"/>\n",
       "  <use xlink:href=\"#glyph0-16\" x=\"392.259766\" y=\"164.050781\"/>\n",
       "  <use xlink:href=\"#glyph0-24\" x=\"401.146484\" y=\"164.050781\"/>\n",
       "  <use xlink:href=\"#glyph0-7\" x=\"414.989258\" y=\"164.050781\"/>\n",
       "  <use xlink:href=\"#glyph0-8\" x=\"424.566406\" y=\"164.050781\"/>\n",
       "  <use xlink:href=\"#glyph0-12\" x=\"432.366211\" y=\"164.050781\"/>\n",
       "  <use xlink:href=\"#glyph0-3\" x=\"443.146484\" y=\"164.050781\"/>\n",
       "  <use xlink:href=\"#glyph0-9\" x=\"454.166016\" y=\"164.050781\"/>\n",
       "  <use xlink:href=\"#glyph0-6\" x=\"458.616211\" y=\"164.050781\"/>\n",
       "  <use xlink:href=\"#glyph0-2\" x=\"468.391602\" y=\"164.050781\"/>\n",
       "  <use xlink:href=\"#glyph0-19\" x=\"478.119141\" y=\"164.050781\"/>\n",
       "  <use xlink:href=\"#glyph0-25\" x=\"488.366211\" y=\"164.050781\"/>\n",
       "</g>\n",
       "<g style=\"fill:rgb(0%,0%,0%);fill-opacity:1;\">\n",
       "  <use xlink:href=\"#glyph0-10\" x=\"353.566406\" y=\"455.191406\"/>\n",
       "  <use xlink:href=\"#glyph0-11\" x=\"365.645508\" y=\"455.191406\"/>\n",
       "  <use xlink:href=\"#glyph0-12\" x=\"374.491211\" y=\"455.191406\"/>\n",
       "  <use xlink:href=\"#glyph0-11\" x=\"385.271484\" y=\"455.191406\"/>\n",
       "  <use xlink:href=\"#glyph0-6\" x=\"394.117188\" y=\"455.191406\"/>\n",
       "  <use xlink:href=\"#glyph0-5\" x=\"403.892578\" y=\"455.191406\"/>\n",
       "  <use xlink:href=\"#glyph0-13\" x=\"408.021484\" y=\"455.191406\"/>\n",
       "  <use xlink:href=\"#glyph0-11\" x=\"418.494141\" y=\"455.191406\"/>\n",
       "  <use xlink:href=\"#glyph0-9\" x=\"427.339844\" y=\"455.191406\"/>\n",
       "  <use xlink:href=\"#glyph0-11\" x=\"431.790039\" y=\"455.191406\"/>\n",
       "  <use xlink:href=\"#glyph0-1\" x=\"440.635742\" y=\"455.191406\"/>\n",
       "  <use xlink:href=\"#glyph0-9\" x=\"449.1875\" y=\"455.191406\"/>\n",
       "  <use xlink:href=\"#glyph0-16\" x=\"453.637695\" y=\"455.191406\"/>\n",
       "  <use xlink:href=\"#glyph0-7\" x=\"462.524414\" y=\"455.191406\"/>\n",
       "  <use xlink:href=\"#glyph0-13\" x=\"472.101562\" y=\"455.191406\"/>\n",
       "  <use xlink:href=\"#glyph0-1\" x=\"482.574219\" y=\"455.191406\"/>\n",
       "  <use xlink:href=\"#glyph0-11\" x=\"491.125977\" y=\"455.191406\"/>\n",
       "  <use xlink:href=\"#glyph0-9\" x=\"499.97168\" y=\"455.191406\"/>\n",
       "  <use xlink:href=\"#glyph0-1\" x=\"504.421875\" y=\"455.191406\"/>\n",
       "  <use xlink:href=\"#glyph0-2\" x=\"512.973633\" y=\"455.191406\"/>\n",
       "  <use xlink:href=\"#glyph0-3\" x=\"522.701172\" y=\"455.191406\"/>\n",
       "  <use xlink:href=\"#glyph0-4\" x=\"533.720703\" y=\"455.191406\"/>\n",
       "  <use xlink:href=\"#glyph0-5\" x=\"542.163086\" y=\"455.191406\"/>\n",
       "  <use xlink:href=\"#glyph0-6\" x=\"546.291992\" y=\"455.191406\"/>\n",
       "  <use xlink:href=\"#glyph0-7\" x=\"556.067383\" y=\"455.191406\"/>\n",
       "  <use xlink:href=\"#glyph0-8\" x=\"565.644531\" y=\"455.191406\"/>\n",
       "  <use xlink:href=\"#glyph0-11\" x=\"573.444336\" y=\"455.191406\"/>\n",
       "  <use xlink:href=\"#glyph0-16\" x=\"582.290039\" y=\"455.191406\"/>\n",
       "</g>\n",
       "<g style=\"fill:rgb(0%,0%,0%);fill-opacity:1;\">\n",
       "  <use xlink:href=\"#glyph0-2\" x=\"57.246094\" y=\"133.925781\"/>\n",
       "  <use xlink:href=\"#glyph0-11\" x=\"66.973633\" y=\"133.925781\"/>\n",
       "  <use xlink:href=\"#glyph0-23\" x=\"75.819336\" y=\"133.925781\"/>\n",
       "  <use xlink:href=\"#glyph0-5\" x=\"85.396484\" y=\"133.925781\"/>\n",
       "  <use xlink:href=\"#glyph0-16\" x=\"89.525391\" y=\"133.925781\"/>\n",
       "  <use xlink:href=\"#glyph0-1\" x=\"98.412109\" y=\"133.925781\"/>\n",
       "  <use xlink:href=\"#glyph0-7\" x=\"106.963867\" y=\"133.925781\"/>\n",
       "  <use xlink:href=\"#glyph0-9\" x=\"116.541016\" y=\"133.925781\"/>\n",
       "  <use xlink:href=\"#glyph0-12\" x=\"120.991211\" y=\"133.925781\"/>\n",
       "  <use xlink:href=\"#glyph0-7\" x=\"131.771484\" y=\"133.925781\"/>\n",
       "  <use xlink:href=\"#glyph0-9\" x=\"141.348633\" y=\"133.925781\"/>\n",
       "  <use xlink:href=\"#glyph0-16\" x=\"145.798828\" y=\"133.925781\"/>\n",
       "  <use xlink:href=\"#glyph0-3\" x=\"154.685547\" y=\"133.925781\"/>\n",
       "  <use xlink:href=\"#glyph0-6\" x=\"165.705078\" y=\"133.925781\"/>\n",
       "  <use xlink:href=\"#glyph0-5\" x=\"175.480469\" y=\"133.925781\"/>\n",
       "  <use xlink:href=\"#glyph0-11\" x=\"179.609375\" y=\"133.925781\"/>\n",
       "  <use xlink:href=\"#glyph0-12\" x=\"188.455078\" y=\"133.925781\"/>\n",
       "  <use xlink:href=\"#glyph0-7\" x=\"199.235352\" y=\"133.925781\"/>\n",
       "  <use xlink:href=\"#glyph0-12\" x=\"208.8125\" y=\"133.925781\"/>\n",
       "  <use xlink:href=\"#glyph0-11\" x=\"219.592773\" y=\"133.925781\"/>\n",
       "  <use xlink:href=\"#glyph0-9\" x=\"228.438477\" y=\"133.925781\"/>\n",
       "  <use xlink:href=\"#glyph0-22\" x=\"232.888672\" y=\"133.925781\"/>\n",
       "  <use xlink:href=\"#glyph0-2\" x=\"242.493164\" y=\"133.925781\"/>\n",
       "  <use xlink:href=\"#glyph0-7\" x=\"252.220703\" y=\"133.925781\"/>\n",
       "  <use xlink:href=\"#glyph0-16\" x=\"261.797852\" y=\"133.925781\"/>\n",
       "  <use xlink:href=\"#glyph0-5\" x=\"270.68457\" y=\"133.925781\"/>\n",
       "  <use xlink:href=\"#glyph0-8\" x=\"274.813477\" y=\"133.925781\"/>\n",
       "  <use xlink:href=\"#glyph0-11\" x=\"282.613281\" y=\"133.925781\"/>\n",
       "  <use xlink:href=\"#glyph0-5\" x=\"291.458984\" y=\"133.925781\"/>\n",
       "  <use xlink:href=\"#glyph0-2\" x=\"295.587891\" y=\"133.925781\"/>\n",
       "  <use xlink:href=\"#glyph0-7\" x=\"305.31543\" y=\"133.925781\"/>\n",
       "  <use xlink:href=\"#glyph0-9\" x=\"314.892578\" y=\"133.925781\"/>\n",
       "  <use xlink:href=\"#glyph0-12\" x=\"319.342773\" y=\"133.925781\"/>\n",
       "  <use xlink:href=\"#glyph0-11\" x=\"330.123047\" y=\"133.925781\"/>\n",
       "  <use xlink:href=\"#glyph0-9\" x=\"338.96875\" y=\"133.925781\"/>\n",
       "  <use xlink:href=\"#glyph0-10\" x=\"343.418945\" y=\"133.925781\"/>\n",
       "  <use xlink:href=\"#glyph0-11\" x=\"355.498047\" y=\"133.925781\"/>\n",
       "  <use xlink:href=\"#glyph0-12\" x=\"364.34375\" y=\"133.925781\"/>\n",
       "  <use xlink:href=\"#glyph0-5\" x=\"375.124023\" y=\"133.925781\"/>\n",
       "  <use xlink:href=\"#glyph0-6\" x=\"379.25293\" y=\"133.925781\"/>\n",
       "  <use xlink:href=\"#glyph0-5\" x=\"389.02832\" y=\"133.925781\"/>\n",
       "  <use xlink:href=\"#glyph0-13\" x=\"393.157227\" y=\"133.925781\"/>\n",
       "  <use xlink:href=\"#glyph0-7\" x=\"403.629883\" y=\"133.925781\"/>\n",
       "  <use xlink:href=\"#glyph0-9\" x=\"413.207031\" y=\"133.925781\"/>\n",
       "  <use xlink:href=\"#glyph0-1\" x=\"417.657227\" y=\"133.925781\"/>\n",
       "  <use xlink:href=\"#glyph0-2\" x=\"426.208984\" y=\"133.925781\"/>\n",
       "  <use xlink:href=\"#glyph0-3\" x=\"435.936523\" y=\"133.925781\"/>\n",
       "  <use xlink:href=\"#glyph0-4\" x=\"446.956055\" y=\"133.925781\"/>\n",
       "  <use xlink:href=\"#glyph0-5\" x=\"455.398438\" y=\"133.925781\"/>\n",
       "  <use xlink:href=\"#glyph0-6\" x=\"459.527344\" y=\"133.925781\"/>\n",
       "  <use xlink:href=\"#glyph0-7\" x=\"469.302734\" y=\"133.925781\"/>\n",
       "  <use xlink:href=\"#glyph0-8\" x=\"478.879883\" y=\"133.925781\"/>\n",
       "</g>\n",
       "<g style=\"fill:rgb(0%,0%,0%);fill-opacity:1;\">\n",
       "  <use xlink:href=\"#glyph0-18\" x=\"259.265625\" y=\"447.765625\"/>\n",
       "  <use xlink:href=\"#glyph0-3\" x=\"263.394531\" y=\"447.765625\"/>\n",
       "  <use xlink:href=\"#glyph0-19\" x=\"274.414062\" y=\"447.765625\"/>\n",
       "  <use xlink:href=\"#glyph0-2\" x=\"284.661133\" y=\"447.765625\"/>\n",
       "  <use xlink:href=\"#glyph0-13\" x=\"294.388672\" y=\"447.765625\"/>\n",
       "  <use xlink:href=\"#glyph0-7\" x=\"304.861328\" y=\"447.765625\"/>\n",
       "  <use xlink:href=\"#glyph0-8\" x=\"314.438477\" y=\"447.765625\"/>\n",
       "  <use xlink:href=\"#glyph0-9\" x=\"322.238281\" y=\"447.765625\"/>\n",
       "  <use xlink:href=\"#glyph0-3\" x=\"326.688477\" y=\"447.765625\"/>\n",
       "  <use xlink:href=\"#glyph0-20\" x=\"337.708008\" y=\"447.765625\"/>\n",
       "  <use xlink:href=\"#glyph0-9\" x=\"345.760742\" y=\"447.765625\"/>\n",
       "  <use xlink:href=\"#glyph0-1\" x=\"350.210938\" y=\"447.765625\"/>\n",
       "  <use xlink:href=\"#glyph0-2\" x=\"358.762695\" y=\"447.765625\"/>\n",
       "  <use xlink:href=\"#glyph0-3\" x=\"368.490234\" y=\"447.765625\"/>\n",
       "  <use xlink:href=\"#glyph0-4\" x=\"379.509766\" y=\"447.765625\"/>\n",
       "  <use xlink:href=\"#glyph0-5\" x=\"387.952148\" y=\"447.765625\"/>\n",
       "  <use xlink:href=\"#glyph0-6\" x=\"392.081055\" y=\"447.765625\"/>\n",
       "  <use xlink:href=\"#glyph0-7\" x=\"401.856445\" y=\"447.765625\"/>\n",
       "  <use xlink:href=\"#glyph0-8\" x=\"411.433594\" y=\"447.765625\"/>\n",
       "  <use xlink:href=\"#glyph0-9\" x=\"419.233398\" y=\"447.765625\"/>\n",
       "  <use xlink:href=\"#glyph0-10\" x=\"423.683594\" y=\"447.765625\"/>\n",
       "  <use xlink:href=\"#glyph0-11\" x=\"435.762695\" y=\"447.765625\"/>\n",
       "  <use xlink:href=\"#glyph0-12\" x=\"444.608398\" y=\"447.765625\"/>\n",
       "  <use xlink:href=\"#glyph0-5\" x=\"455.388672\" y=\"447.765625\"/>\n",
       "  <use xlink:href=\"#glyph0-6\" x=\"459.517578\" y=\"447.765625\"/>\n",
       "  <use xlink:href=\"#glyph0-5\" x=\"469.292969\" y=\"447.765625\"/>\n",
       "  <use xlink:href=\"#glyph0-13\" x=\"473.421875\" y=\"447.765625\"/>\n",
       "  <use xlink:href=\"#glyph0-11\" x=\"483.894531\" y=\"447.765625\"/>\n",
       "</g>\n",
       "<g style=\"fill:rgb(0%,0%,0%);fill-opacity:1;\">\n",
       "  <use xlink:href=\"#glyph0-7\" x=\"280.527344\" y=\"586.847656\"/>\n",
       "  <use xlink:href=\"#glyph0-13\" x=\"290.104492\" y=\"586.847656\"/>\n",
       "  <use xlink:href=\"#glyph0-13\" x=\"300.577148\" y=\"586.847656\"/>\n",
       "  <use xlink:href=\"#glyph0-7\" x=\"311.049805\" y=\"586.847656\"/>\n",
       "  <use xlink:href=\"#glyph0-8\" x=\"320.626953\" y=\"586.847656\"/>\n",
       "  <use xlink:href=\"#glyph0-16\" x=\"328.426758\" y=\"586.847656\"/>\n",
       "  <use xlink:href=\"#glyph0-9\" x=\"337.313477\" y=\"586.847656\"/>\n",
       "  <use xlink:href=\"#glyph0-3\" x=\"341.763672\" y=\"586.847656\"/>\n",
       "  <use xlink:href=\"#glyph0-20\" x=\"352.783203\" y=\"586.847656\"/>\n",
       "  <use xlink:href=\"#glyph0-9\" x=\"360.835938\" y=\"586.847656\"/>\n",
       "  <use xlink:href=\"#glyph0-1\" x=\"365.286133\" y=\"586.847656\"/>\n",
       "  <use xlink:href=\"#glyph0-2\" x=\"373.837891\" y=\"586.847656\"/>\n",
       "  <use xlink:href=\"#glyph0-3\" x=\"383.56543\" y=\"586.847656\"/>\n",
       "  <use xlink:href=\"#glyph0-4\" x=\"394.584961\" y=\"586.847656\"/>\n",
       "  <use xlink:href=\"#glyph0-5\" x=\"403.027344\" y=\"586.847656\"/>\n",
       "  <use xlink:href=\"#glyph0-6\" x=\"407.15625\" y=\"586.847656\"/>\n",
       "  <use xlink:href=\"#glyph0-7\" x=\"416.931641\" y=\"586.847656\"/>\n",
       "  <use xlink:href=\"#glyph0-8\" x=\"426.508789\" y=\"586.847656\"/>\n",
       "  <use xlink:href=\"#glyph0-9\" x=\"434.308594\" y=\"586.847656\"/>\n",
       "  <use xlink:href=\"#glyph0-10\" x=\"438.758789\" y=\"586.847656\"/>\n",
       "  <use xlink:href=\"#glyph0-11\" x=\"450.837891\" y=\"586.847656\"/>\n",
       "  <use xlink:href=\"#glyph0-12\" x=\"459.683594\" y=\"586.847656\"/>\n",
       "  <use xlink:href=\"#glyph0-5\" x=\"470.463867\" y=\"586.847656\"/>\n",
       "  <use xlink:href=\"#glyph0-6\" x=\"474.592773\" y=\"586.847656\"/>\n",
       "  <use xlink:href=\"#glyph0-5\" x=\"484.368164\" y=\"586.847656\"/>\n",
       "  <use xlink:href=\"#glyph0-13\" x=\"488.49707\" y=\"586.847656\"/>\n",
       "  <use xlink:href=\"#glyph0-11\" x=\"498.969727\" y=\"586.847656\"/>\n",
       "  <use xlink:href=\"#glyph0-9\" x=\"507.81543\" y=\"586.847656\"/>\n",
       "  <use xlink:href=\"#glyph0-7\" x=\"512.265625\" y=\"586.847656\"/>\n",
       "  <use xlink:href=\"#glyph0-13\" x=\"521.842773\" y=\"586.847656\"/>\n",
       "  <use xlink:href=\"#glyph0-12\" x=\"532.31543\" y=\"586.847656\"/>\n",
       "  <use xlink:href=\"#glyph0-9\" x=\"543.095703\" y=\"586.847656\"/>\n",
       "  <use xlink:href=\"#glyph0-4\" x=\"547.545898\" y=\"586.847656\"/>\n",
       "  <use xlink:href=\"#glyph0-19\" x=\"555.988281\" y=\"586.847656\"/>\n",
       "  <use xlink:href=\"#glyph0-22\" x=\"566.235352\" y=\"586.847656\"/>\n",
       "  <use xlink:href=\"#glyph0-8\" x=\"575.839844\" y=\"586.847656\"/>\n",
       "  <use xlink:href=\"#glyph0-5\" x=\"583.639648\" y=\"586.847656\"/>\n",
       "  <use xlink:href=\"#glyph0-6\" x=\"587.768555\" y=\"586.847656\"/>\n",
       "  <use xlink:href=\"#glyph0-9\" x=\"597.543945\" y=\"586.847656\"/>\n",
       "  <use xlink:href=\"#glyph0-15\" x=\"601.994141\" y=\"586.847656\"/>\n",
       "  <use xlink:href=\"#glyph0-11\" x=\"612.521484\" y=\"586.847656\"/>\n",
       "  <use xlink:href=\"#glyph0-7\" x=\"621.367188\" y=\"586.847656\"/>\n",
       "  <use xlink:href=\"#glyph0-8\" x=\"630.944336\" y=\"586.847656\"/>\n",
       "  <use xlink:href=\"#glyph0-1\" x=\"638.744141\" y=\"586.847656\"/>\n",
       "  <use xlink:href=\"#glyph0-15\" x=\"647.295898\" y=\"586.847656\"/>\n",
       "</g>\n",
       "<g style=\"fill:rgb(0%,0%,0%);fill-opacity:1;\">\n",
       "  <use xlink:href=\"#glyph0-8\" x=\"256.734375\" y=\"541.972656\"/>\n",
       "  <use xlink:href=\"#glyph0-11\" x=\"264.53418\" y=\"541.972656\"/>\n",
       "  <use xlink:href=\"#glyph0-4\" x=\"273.379883\" y=\"541.972656\"/>\n",
       "  <use xlink:href=\"#glyph0-2\" x=\"281.822266\" y=\"541.972656\"/>\n",
       "  <use xlink:href=\"#glyph0-3\" x=\"291.549805\" y=\"541.972656\"/>\n",
       "  <use xlink:href=\"#glyph0-16\" x=\"302.569336\" y=\"541.972656\"/>\n",
       "  <use xlink:href=\"#glyph0-21\" x=\"311.456055\" y=\"541.972656\"/>\n",
       "  <use xlink:href=\"#glyph0-9\" x=\"320.007812\" y=\"541.972656\"/>\n",
       "  <use xlink:href=\"#glyph0-2\" x=\"324.458008\" y=\"541.972656\"/>\n",
       "  <use xlink:href=\"#glyph0-11\" x=\"334.185547\" y=\"541.972656\"/>\n",
       "  <use xlink:href=\"#glyph0-23\" x=\"343.03125\" y=\"541.972656\"/>\n",
       "  <use xlink:href=\"#glyph0-5\" x=\"352.608398\" y=\"541.972656\"/>\n",
       "  <use xlink:href=\"#glyph0-11\" x=\"356.737305\" y=\"541.972656\"/>\n",
       "  <use xlink:href=\"#glyph0-24\" x=\"365.583008\" y=\"541.972656\"/>\n",
       "</g>\n",
       "<g style=\"fill:rgb(0%,0%,0%);fill-opacity:1;\">\n",
       "  <use xlink:href=\"#glyph0-10\" x=\"-134.418945\" y=\"172.320312\"/>\n",
       "  <use xlink:href=\"#glyph0-7\" x=\"-122.339844\" y=\"172.320312\"/>\n",
       "  <use xlink:href=\"#glyph0-1\" x=\"-112.762695\" y=\"172.320312\"/>\n",
       "  <use xlink:href=\"#glyph0-5\" x=\"-104.210938\" y=\"172.320312\"/>\n",
       "  <use xlink:href=\"#glyph0-6\" x=\"-100.082031\" y=\"172.320312\"/>\n",
       "  <use xlink:href=\"#glyph0-7\" x=\"-90.306641\" y=\"172.320312\"/>\n",
       "  <use xlink:href=\"#glyph0-8\" x=\"-80.729492\" y=\"172.320312\"/>\n",
       "  <use xlink:href=\"#glyph0-9\" x=\"-72.929688\" y=\"172.320312\"/>\n",
       "  <use xlink:href=\"#glyph0-10\" x=\"-68.479492\" y=\"172.320312\"/>\n",
       "  <use xlink:href=\"#glyph0-3\" x=\"-56.400391\" y=\"172.320312\"/>\n",
       "  <use xlink:href=\"#glyph0-12\" x=\"-45.380859\" y=\"172.320312\"/>\n",
       "  <use xlink:href=\"#glyph0-11\" x=\"-34.600586\" y=\"172.320312\"/>\n",
       "  <use xlink:href=\"#glyph0-8\" x=\"-25.754883\" y=\"172.320312\"/>\n",
       "  <use xlink:href=\"#glyph0-16\" x=\"-17.955078\" y=\"172.320312\"/>\n",
       "  <use xlink:href=\"#glyph0-9\" x=\"-9.068359\" y=\"172.320312\"/>\n",
       "  <use xlink:href=\"#glyph0-20\" x=\"-4.618164\" y=\"172.320312\"/>\n",
       "  <use xlink:href=\"#glyph0-3\" x=\"3.43457\" y=\"172.320312\"/>\n",
       "  <use xlink:href=\"#glyph0-2\" x=\"14.454102\" y=\"172.320312\"/>\n",
       "  <use xlink:href=\"#glyph0-9\" x=\"24.181641\" y=\"172.320312\"/>\n",
       "  <use xlink:href=\"#glyph0-13\" x=\"28.631836\" y=\"172.320312\"/>\n",
       "  <use xlink:href=\"#glyph0-11\" x=\"39.104492\" y=\"172.320312\"/>\n",
       "  <use xlink:href=\"#glyph0-17\" x=\"47.950195\" y=\"172.320312\"/>\n",
       "  <use xlink:href=\"#glyph0-8\" x=\"58.798828\" y=\"172.320312\"/>\n",
       "  <use xlink:href=\"#glyph0-11\" x=\"66.598633\" y=\"172.320312\"/>\n",
       "  <use xlink:href=\"#glyph0-6\" x=\"75.444336\" y=\"172.320312\"/>\n",
       "  <use xlink:href=\"#glyph0-1\" x=\"85.219727\" y=\"172.320312\"/>\n",
       "  <use xlink:href=\"#glyph0-11\" x=\"93.771484\" y=\"172.320312\"/>\n",
       "  <use xlink:href=\"#glyph0-12\" x=\"102.617188\" y=\"172.320312\"/>\n",
       "  <use xlink:href=\"#glyph0-9\" x=\"113.397461\" y=\"172.320312\"/>\n",
       "  <use xlink:href=\"#glyph0-1\" x=\"117.847656\" y=\"172.320312\"/>\n",
       "  <use xlink:href=\"#glyph0-2\" x=\"126.399414\" y=\"172.320312\"/>\n",
       "  <use xlink:href=\"#glyph0-3\" x=\"136.126953\" y=\"172.320312\"/>\n",
       "  <use xlink:href=\"#glyph0-4\" x=\"147.146484\" y=\"172.320312\"/>\n",
       "  <use xlink:href=\"#glyph0-5\" x=\"155.588867\" y=\"172.320312\"/>\n",
       "  <use xlink:href=\"#glyph0-6\" x=\"159.717773\" y=\"172.320312\"/>\n",
       "  <use xlink:href=\"#glyph0-7\" x=\"169.493164\" y=\"172.320312\"/>\n",
       "  <use xlink:href=\"#glyph0-8\" x=\"179.070312\" y=\"172.320312\"/>\n",
       "  <use xlink:href=\"#glyph0-9\" x=\"186.870117\" y=\"172.320312\"/>\n",
       "  <use xlink:href=\"#glyph0-12\" x=\"191.320312\" y=\"172.320312\"/>\n",
       "  <use xlink:href=\"#glyph0-5\" x=\"202.100586\" y=\"172.320312\"/>\n",
       "  <use xlink:href=\"#glyph0-16\" x=\"206.229492\" y=\"172.320312\"/>\n",
       "  <use xlink:href=\"#glyph0-11\" x=\"215.116211\" y=\"172.320312\"/>\n",
       "  <use xlink:href=\"#glyph0-7\" x=\"223.961914\" y=\"172.320312\"/>\n",
       "  <use xlink:href=\"#glyph0-16\" x=\"233.539062\" y=\"172.320312\"/>\n",
       "  <use xlink:href=\"#glyph0-11\" x=\"242.425781\" y=\"172.320312\"/>\n",
       "  <use xlink:href=\"#glyph0-16\" x=\"251.271484\" y=\"172.320312\"/>\n",
       "  <use xlink:href=\"#glyph0-26\" x=\"260.158203\" y=\"172.320312\"/>\n",
       "  <use xlink:href=\"#glyph0-9\" x=\"264.875\" y=\"172.320312\"/>\n",
       "  <use xlink:href=\"#glyph0-11\" x=\"269.325195\" y=\"172.320312\"/>\n",
       "  <use xlink:href=\"#glyph0-16\" x=\"278.170898\" y=\"172.320312\"/>\n",
       "  <use xlink:href=\"#glyph0-16\" x=\"287.057617\" y=\"172.320312\"/>\n",
       "  <use xlink:href=\"#glyph0-11\" x=\"295.944336\" y=\"172.320312\"/>\n",
       "  <use xlink:href=\"#glyph0-13\" x=\"304.790039\" y=\"172.320312\"/>\n",
       "  <use xlink:href=\"#glyph0-1\" x=\"315.262695\" y=\"172.320312\"/>\n",
       "  <use xlink:href=\"#glyph0-5\" x=\"323.814453\" y=\"172.320312\"/>\n",
       "  <use xlink:href=\"#glyph0-7\" x=\"327.943359\" y=\"172.320312\"/>\n",
       "  <use xlink:href=\"#glyph0-8\" x=\"337.520508\" y=\"172.320312\"/>\n",
       "  <use xlink:href=\"#glyph0-9\" x=\"345.320312\" y=\"172.320312\"/>\n",
       "  <use xlink:href=\"#glyph0-1\" x=\"349.770508\" y=\"172.320312\"/>\n",
       "  <use xlink:href=\"#glyph0-3\" x=\"358.322266\" y=\"172.320312\"/>\n",
       "  <use xlink:href=\"#glyph0-3\" x=\"369.341797\" y=\"172.320312\"/>\n",
       "  <use xlink:href=\"#glyph0-8\" x=\"380.361328\" y=\"172.320312\"/>\n",
       "  <use xlink:href=\"#glyph0-16\" x=\"388.161133\" y=\"172.320312\"/>\n",
       "  <use xlink:href=\"#glyph0-9\" x=\"397.047852\" y=\"172.320312\"/>\n",
       "  <use xlink:href=\"#glyph0-20\" x=\"401.498047\" y=\"172.320312\"/>\n",
       "  <use xlink:href=\"#glyph0-3\" x=\"409.550781\" y=\"172.320312\"/>\n",
       "  <use xlink:href=\"#glyph0-2\" x=\"420.570312\" y=\"172.320312\"/>\n",
       "  <use xlink:href=\"#glyph0-9\" x=\"430.297852\" y=\"172.320312\"/>\n",
       "  <use xlink:href=\"#glyph0-6\" x=\"434.748047\" y=\"172.320312\"/>\n",
       "  <use xlink:href=\"#glyph0-3\" x=\"444.523438\" y=\"172.320312\"/>\n",
       "  <use xlink:href=\"#glyph0-13\" x=\"455.542969\" y=\"172.320312\"/>\n",
       "  <use xlink:href=\"#glyph0-1\" x=\"466.015625\" y=\"172.320312\"/>\n",
       "  <use xlink:href=\"#glyph0-2\" x=\"474.567383\" y=\"172.320312\"/>\n",
       "  <use xlink:href=\"#glyph0-3\" x=\"484.294922\" y=\"172.320312\"/>\n",
       "  <use xlink:href=\"#glyph0-8\" x=\"495.314453\" y=\"172.320312\"/>\n",
       "  <use xlink:href=\"#glyph0-9\" x=\"503.114258\" y=\"172.320312\"/>\n",
       "  <use xlink:href=\"#glyph0-7\" x=\"507.564453\" y=\"172.320312\"/>\n",
       "  <use xlink:href=\"#glyph0-13\" x=\"517.141602\" y=\"172.320312\"/>\n",
       "  <use xlink:href=\"#glyph0-12\" x=\"527.614258\" y=\"172.320312\"/>\n",
       "  <use xlink:href=\"#glyph0-9\" x=\"538.394531\" y=\"172.320312\"/>\n",
       "  <use xlink:href=\"#glyph0-11\" x=\"542.844727\" y=\"172.320312\"/>\n",
       "  <use xlink:href=\"#glyph0-8\" x=\"551.69043\" y=\"172.320312\"/>\n",
       "  <use xlink:href=\"#glyph0-5\" x=\"559.490234\" y=\"172.320312\"/>\n",
       "  <use xlink:href=\"#glyph0-10\" x=\"563.619141\" y=\"172.320312\"/>\n",
       "  <use xlink:href=\"#glyph0-5\" x=\"575.698242\" y=\"172.320312\"/>\n",
       "  <use xlink:href=\"#glyph0-13\" x=\"579.827148\" y=\"172.320312\"/>\n",
       "  <use xlink:href=\"#glyph0-7\" x=\"590.299805\" y=\"172.320312\"/>\n",
       "  <use xlink:href=\"#glyph0-1\" x=\"599.876953\" y=\"172.320312\"/>\n",
       "  <use xlink:href=\"#glyph0-5\" x=\"608.428711\" y=\"172.320312\"/>\n",
       "  <use xlink:href=\"#glyph0-3\" x=\"612.557617\" y=\"172.320312\"/>\n",
       "  <use xlink:href=\"#glyph0-13\" x=\"623.577148\" y=\"172.320312\"/>\n",
       "  <use xlink:href=\"#glyph0-27\" x=\"634.049805\" y=\"172.320312\"/>\n",
       "  <use xlink:href=\"#glyph0-9\" x=\"638.5\" y=\"172.320312\"/>\n",
       "  <use xlink:href=\"#glyph0-4\" x=\"642.950195\" y=\"172.320312\"/>\n",
       "  <use xlink:href=\"#glyph0-1\" x=\"651.392578\" y=\"172.320312\"/>\n",
       "  <use xlink:href=\"#glyph0-9\" x=\"659.944336\" y=\"172.320312\"/>\n",
       "  <use xlink:href=\"#glyph0-7\" x=\"664.394531\" y=\"172.320312\"/>\n",
       "</g>\n",
       "<g style=\"fill:rgb(0%,0%,0%);fill-opacity:1;\">\n",
       "  <use xlink:href=\"#glyph0-18\" x=\"393.667969\" y=\"382.277344\"/>\n",
       "  <use xlink:href=\"#glyph0-3\" x=\"397.796875\" y=\"382.277344\"/>\n",
       "  <use xlink:href=\"#glyph0-19\" x=\"408.816406\" y=\"382.277344\"/>\n",
       "  <use xlink:href=\"#glyph0-2\" x=\"419.063477\" y=\"382.277344\"/>\n",
       "  <use xlink:href=\"#glyph0-13\" x=\"428.791016\" y=\"382.277344\"/>\n",
       "  <use xlink:href=\"#glyph0-7\" x=\"439.263672\" y=\"382.277344\"/>\n",
       "  <use xlink:href=\"#glyph0-8\" x=\"448.84082\" y=\"382.277344\"/>\n",
       "  <use xlink:href=\"#glyph0-9\" x=\"456.640625\" y=\"382.277344\"/>\n",
       "  <use xlink:href=\"#glyph0-3\" x=\"461.09082\" y=\"382.277344\"/>\n",
       "  <use xlink:href=\"#glyph0-20\" x=\"472.110352\" y=\"382.277344\"/>\n",
       "  <use xlink:href=\"#glyph0-9\" x=\"480.163086\" y=\"382.277344\"/>\n",
       "  <use xlink:href=\"#glyph0-1\" x=\"484.613281\" y=\"382.277344\"/>\n",
       "  <use xlink:href=\"#glyph0-2\" x=\"493.165039\" y=\"382.277344\"/>\n",
       "  <use xlink:href=\"#glyph0-3\" x=\"502.892578\" y=\"382.277344\"/>\n",
       "  <use xlink:href=\"#glyph0-4\" x=\"513.912109\" y=\"382.277344\"/>\n",
       "  <use xlink:href=\"#glyph0-5\" x=\"522.354492\" y=\"382.277344\"/>\n",
       "  <use xlink:href=\"#glyph0-6\" x=\"526.483398\" y=\"382.277344\"/>\n",
       "  <use xlink:href=\"#glyph0-7\" x=\"536.258789\" y=\"382.277344\"/>\n",
       "  <use xlink:href=\"#glyph0-8\" x=\"545.835938\" y=\"382.277344\"/>\n",
       "  <use xlink:href=\"#glyph0-9\" x=\"553.635742\" y=\"382.277344\"/>\n",
       "  <use xlink:href=\"#glyph0-4\" x=\"558.085938\" y=\"382.277344\"/>\n",
       "  <use xlink:href=\"#glyph0-11\" x=\"566.52832\" y=\"382.277344\"/>\n",
       "  <use xlink:href=\"#glyph0-12\" x=\"575.374023\" y=\"382.277344\"/>\n",
       "  <use xlink:href=\"#glyph0-5\" x=\"586.154297\" y=\"382.277344\"/>\n",
       "  <use xlink:href=\"#glyph0-7\" x=\"590.283203\" y=\"382.277344\"/>\n",
       "  <use xlink:href=\"#glyph0-1\" x=\"599.860352\" y=\"382.277344\"/>\n",
       "  <use xlink:href=\"#glyph0-2\" x=\"608.412109\" y=\"382.277344\"/>\n",
       "  <use xlink:href=\"#glyph0-5\" x=\"618.139648\" y=\"382.277344\"/>\n",
       "  <use xlink:href=\"#glyph0-6\" x=\"622.268555\" y=\"382.277344\"/>\n",
       "  <use xlink:href=\"#glyph0-16\" x=\"632.043945\" y=\"382.277344\"/>\n",
       "</g>\n",
       "<g style=\"fill:rgb(0%,0%,0%);fill-opacity:1;\">\n",
       "  <use xlink:href=\"#glyph0-22\" x=\"119.03125\" y=\"145.84375\"/>\n",
       "  <use xlink:href=\"#glyph0-5\" x=\"128.635742\" y=\"145.84375\"/>\n",
       "  <use xlink:href=\"#glyph0-3\" x=\"132.764648\" y=\"145.84375\"/>\n",
       "  <use xlink:href=\"#glyph0-10\" x=\"143.78418\" y=\"145.84375\"/>\n",
       "  <use xlink:href=\"#glyph0-11\" x=\"155.863281\" y=\"145.84375\"/>\n",
       "  <use xlink:href=\"#glyph0-12\" x=\"164.708984\" y=\"145.84375\"/>\n",
       "  <use xlink:href=\"#glyph0-5\" x=\"175.489258\" y=\"145.84375\"/>\n",
       "  <use xlink:href=\"#glyph0-6\" x=\"179.618164\" y=\"145.84375\"/>\n",
       "  <use xlink:href=\"#glyph0-7\" x=\"189.393555\" y=\"145.84375\"/>\n",
       "</g>\n",
       "<g style=\"fill:rgb(0%,0%,0%);fill-opacity:1;\">\n",
       "  <use xlink:href=\"#glyph0-4\" x=\"288.039062\" y=\"124.648438\"/>\n",
       "  <use xlink:href=\"#glyph0-7\" x=\"296.481445\" y=\"124.648438\"/>\n",
       "  <use xlink:href=\"#glyph0-1\" x=\"306.058594\" y=\"124.648438\"/>\n",
       "  <use xlink:href=\"#glyph0-15\" x=\"314.610352\" y=\"124.648438\"/>\n",
       "  <use xlink:href=\"#glyph0-3\" x=\"325.137695\" y=\"124.648438\"/>\n",
       "  <use xlink:href=\"#glyph0-17\" x=\"336.157227\" y=\"124.648438\"/>\n",
       "  <use xlink:href=\"#glyph0-11\" x=\"347.005859\" y=\"124.648438\"/>\n",
       "  <use xlink:href=\"#glyph0-13\" x=\"355.851562\" y=\"124.648438\"/>\n",
       "  <use xlink:href=\"#glyph0-16\" x=\"366.324219\" y=\"124.648438\"/>\n",
       "  <use xlink:href=\"#glyph0-9\" x=\"375.210938\" y=\"124.648438\"/>\n",
       "  <use xlink:href=\"#glyph0-7\" x=\"379.661133\" y=\"124.648438\"/>\n",
       "  <use xlink:href=\"#glyph0-13\" x=\"389.238281\" y=\"124.648438\"/>\n",
       "  <use xlink:href=\"#glyph0-12\" x=\"399.710938\" y=\"124.648438\"/>\n",
       "  <use xlink:href=\"#glyph0-9\" x=\"410.491211\" y=\"124.648438\"/>\n",
       "  <use xlink:href=\"#glyph0-17\" x=\"414.941406\" y=\"124.648438\"/>\n",
       "  <use xlink:href=\"#glyph0-8\" x=\"425.790039\" y=\"124.648438\"/>\n",
       "  <use xlink:href=\"#glyph0-3\" x=\"433.589844\" y=\"124.648438\"/>\n",
       "  <use xlink:href=\"#glyph0-22\" x=\"444.609375\" y=\"124.648438\"/>\n",
       "  <use xlink:href=\"#glyph0-7\" x=\"454.213867\" y=\"124.648438\"/>\n",
       "  <use xlink:href=\"#glyph0-8\" x=\"463.791016\" y=\"124.648438\"/>\n",
       "  <use xlink:href=\"#glyph0-9\" x=\"471.59082\" y=\"124.648438\"/>\n",
       "  <use xlink:href=\"#glyph0-15\" x=\"476.041016\" y=\"124.648438\"/>\n",
       "  <use xlink:href=\"#glyph0-11\" x=\"486.568359\" y=\"124.648438\"/>\n",
       "  <use xlink:href=\"#glyph0-7\" x=\"495.414062\" y=\"124.648438\"/>\n",
       "  <use xlink:href=\"#glyph0-8\" x=\"504.991211\" y=\"124.648438\"/>\n",
       "  <use xlink:href=\"#glyph0-1\" x=\"512.791016\" y=\"124.648438\"/>\n",
       "  <use xlink:href=\"#glyph0-15\" x=\"521.342773\" y=\"124.648438\"/>\n",
       "</g>\n",
       "<g style=\"fill:rgb(0%,0%,0%);fill-opacity:1;\">\n",
       "  <use xlink:href=\"#glyph0-7\" x=\"436.832031\" y=\"207.226562\"/>\n",
       "  <use xlink:href=\"#glyph0-13\" x=\"446.40918\" y=\"207.226562\"/>\n",
       "  <use xlink:href=\"#glyph0-13\" x=\"456.881836\" y=\"207.226562\"/>\n",
       "  <use xlink:href=\"#glyph0-7\" x=\"467.354492\" y=\"207.226562\"/>\n",
       "  <use xlink:href=\"#glyph0-8\" x=\"476.931641\" y=\"207.226562\"/>\n",
       "  <use xlink:href=\"#glyph0-16\" x=\"484.731445\" y=\"207.226562\"/>\n",
       "  <use xlink:href=\"#glyph0-9\" x=\"493.618164\" y=\"207.226562\"/>\n",
       "  <use xlink:href=\"#glyph0-3\" x=\"498.068359\" y=\"207.226562\"/>\n",
       "  <use xlink:href=\"#glyph0-20\" x=\"509.087891\" y=\"207.226562\"/>\n",
       "  <use xlink:href=\"#glyph0-9\" x=\"517.140625\" y=\"207.226562\"/>\n",
       "  <use xlink:href=\"#glyph0-1\" x=\"521.59082\" y=\"207.226562\"/>\n",
       "  <use xlink:href=\"#glyph0-2\" x=\"530.142578\" y=\"207.226562\"/>\n",
       "  <use xlink:href=\"#glyph0-3\" x=\"539.870117\" y=\"207.226562\"/>\n",
       "  <use xlink:href=\"#glyph0-4\" x=\"550.889648\" y=\"207.226562\"/>\n",
       "  <use xlink:href=\"#glyph0-5\" x=\"559.332031\" y=\"207.226562\"/>\n",
       "  <use xlink:href=\"#glyph0-6\" x=\"563.460938\" y=\"207.226562\"/>\n",
       "  <use xlink:href=\"#glyph0-7\" x=\"573.236328\" y=\"207.226562\"/>\n",
       "  <use xlink:href=\"#glyph0-8\" x=\"582.813477\" y=\"207.226562\"/>\n",
       "  <use xlink:href=\"#glyph0-9\" x=\"590.613281\" y=\"207.226562\"/>\n",
       "  <use xlink:href=\"#glyph0-4\" x=\"595.063477\" y=\"207.226562\"/>\n",
       "  <use xlink:href=\"#glyph0-7\" x=\"603.505859\" y=\"207.226562\"/>\n",
       "  <use xlink:href=\"#glyph0-11\" x=\"613.083008\" y=\"207.226562\"/>\n",
       "  <use xlink:href=\"#glyph0-12\" x=\"621.928711\" y=\"207.226562\"/>\n",
       "  <use xlink:href=\"#glyph0-5\" x=\"632.708984\" y=\"207.226562\"/>\n",
       "  <use xlink:href=\"#glyph0-7\" x=\"636.837891\" y=\"207.226562\"/>\n",
       "  <use xlink:href=\"#glyph0-1\" x=\"646.415039\" y=\"207.226562\"/>\n",
       "  <use xlink:href=\"#glyph0-2\" x=\"654.966797\" y=\"207.226562\"/>\n",
       "  <use xlink:href=\"#glyph0-5\" x=\"664.694336\" y=\"207.226562\"/>\n",
       "  <use xlink:href=\"#glyph0-6\" x=\"668.823242\" y=\"207.226562\"/>\n",
       "  <use xlink:href=\"#glyph0-16\" x=\"678.598633\" y=\"207.226562\"/>\n",
       "</g>\n",
       "<g style=\"fill:rgb(0%,0%,0%);fill-opacity:1;\">\n",
       "  <use xlink:href=\"#glyph0-22\" x=\"-61.835938\" y=\"419.191406\"/>\n",
       "  <use xlink:href=\"#glyph0-19\" x=\"-52.231445\" y=\"419.191406\"/>\n",
       "  <use xlink:href=\"#glyph0-8\" x=\"-41.984375\" y=\"419.191406\"/>\n",
       "  <use xlink:href=\"#glyph0-8\" x=\"-34.18457\" y=\"419.191406\"/>\n",
       "  <use xlink:href=\"#glyph0-11\" x=\"-26.384766\" y=\"419.191406\"/>\n",
       "  <use xlink:href=\"#glyph0-1\" x=\"-17.539062\" y=\"419.191406\"/>\n",
       "  <use xlink:href=\"#glyph0-5\" x=\"-8.987305\" y=\"419.191406\"/>\n",
       "  <use xlink:href=\"#glyph0-13\" x=\"-4.858398\" y=\"419.191406\"/>\n",
       "  <use xlink:href=\"#glyph0-9\" x=\"5.614258\" y=\"419.191406\"/>\n",
       "  <use xlink:href=\"#glyph0-12\" x=\"10.064453\" y=\"419.191406\"/>\n",
       "  <use xlink:href=\"#glyph0-11\" x=\"20.844727\" y=\"419.191406\"/>\n",
       "  <use xlink:href=\"#glyph0-9\" x=\"29.69043\" y=\"419.191406\"/>\n",
       "  <use xlink:href=\"#glyph0-8\" x=\"34.140625\" y=\"419.191406\"/>\n",
       "  <use xlink:href=\"#glyph0-7\" x=\"41.94043\" y=\"419.191406\"/>\n",
       "  <use xlink:href=\"#glyph0-9\" x=\"51.517578\" y=\"419.191406\"/>\n",
       "  <use xlink:href=\"#glyph0-16\" x=\"55.967773\" y=\"419.191406\"/>\n",
       "  <use xlink:href=\"#glyph0-3\" x=\"64.854492\" y=\"419.191406\"/>\n",
       "  <use xlink:href=\"#glyph0-6\" x=\"75.874023\" y=\"419.191406\"/>\n",
       "  <use xlink:href=\"#glyph0-5\" x=\"85.649414\" y=\"419.191406\"/>\n",
       "  <use xlink:href=\"#glyph0-11\" x=\"89.77832\" y=\"419.191406\"/>\n",
       "  <use xlink:href=\"#glyph0-1\" x=\"98.624023\" y=\"419.191406\"/>\n",
       "  <use xlink:href=\"#glyph0-11\" x=\"107.175781\" y=\"419.191406\"/>\n",
       "  <use xlink:href=\"#glyph0-9\" x=\"116.021484\" y=\"419.191406\"/>\n",
       "  <use xlink:href=\"#glyph0-12\" x=\"120.47168\" y=\"419.191406\"/>\n",
       "  <use xlink:href=\"#glyph0-11\" x=\"131.251953\" y=\"419.191406\"/>\n",
       "  <use xlink:href=\"#glyph0-9\" x=\"140.097656\" y=\"419.191406\"/>\n",
       "  <use xlink:href=\"#glyph0-4\" x=\"144.547852\" y=\"419.191406\"/>\n",
       "  <use xlink:href=\"#glyph0-7\" x=\"152.990234\" y=\"419.191406\"/>\n",
       "  <use xlink:href=\"#glyph0-1\" x=\"162.567383\" y=\"419.191406\"/>\n",
       "  <use xlink:href=\"#glyph0-15\" x=\"171.119141\" y=\"419.191406\"/>\n",
       "  <use xlink:href=\"#glyph0-3\" x=\"181.646484\" y=\"419.191406\"/>\n",
       "  <use xlink:href=\"#glyph0-8\" x=\"192.666016\" y=\"419.191406\"/>\n",
       "  <use xlink:href=\"#glyph0-3\" x=\"200.46582\" y=\"419.191406\"/>\n",
       "  <use xlink:href=\"#glyph0-17\" x=\"211.485352\" y=\"419.191406\"/>\n",
       "  <use xlink:href=\"#glyph0-5\" x=\"222.333984\" y=\"419.191406\"/>\n",
       "  <use xlink:href=\"#glyph0-11\" x=\"226.462891\" y=\"419.191406\"/>\n",
       "  <use xlink:href=\"#glyph0-9\" x=\"235.308594\" y=\"419.191406\"/>\n",
       "  <use xlink:href=\"#glyph0-11\" x=\"239.758789\" y=\"419.191406\"/>\n",
       "  <use xlink:href=\"#glyph0-28\" x=\"248.604492\" y=\"419.191406\"/>\n",
       "  <use xlink:href=\"#glyph0-3\" x=\"258.195312\" y=\"419.191406\"/>\n",
       "  <use xlink:href=\"#glyph0-1\" x=\"269.214844\" y=\"419.191406\"/>\n",
       "  <use xlink:href=\"#glyph0-5\" x=\"277.766602\" y=\"419.191406\"/>\n",
       "  <use xlink:href=\"#glyph0-29\" x=\"281.895508\" y=\"419.191406\"/>\n",
       "  <use xlink:href=\"#glyph0-19\" x=\"292.915039\" y=\"419.191406\"/>\n",
       "  <use xlink:href=\"#glyph0-11\" x=\"303.162109\" y=\"419.191406\"/>\n",
       "</g>\n",
       "<g style=\"fill:rgb(0%,0%,0%);fill-opacity:1;\">\n",
       "  <use xlink:href=\"#glyph0-16\" x=\"-139.477539\" y=\"260.628906\"/>\n",
       "  <use xlink:href=\"#glyph0-5\" x=\"-130.59082\" y=\"260.628906\"/>\n",
       "  <use xlink:href=\"#glyph0-7\" x=\"-126.461914\" y=\"260.628906\"/>\n",
       "  <use xlink:href=\"#glyph0-13\" x=\"-116.884766\" y=\"260.628906\"/>\n",
       "  <use xlink:href=\"#glyph0-9\" x=\"-106.412109\" y=\"260.628906\"/>\n",
       "  <use xlink:href=\"#glyph0-4\" x=\"-101.961914\" y=\"260.628906\"/>\n",
       "  <use xlink:href=\"#glyph0-7\" x=\"-93.519531\" y=\"260.628906\"/>\n",
       "  <use xlink:href=\"#glyph0-6\" x=\"-83.942383\" y=\"260.628906\"/>\n",
       "  <use xlink:href=\"#glyph0-5\" x=\"-74.166992\" y=\"260.628906\"/>\n",
       "  <use xlink:href=\"#glyph0-20\" x=\"-70.038086\" y=\"260.628906\"/>\n",
       "  <use xlink:href=\"#glyph0-5\" x=\"-61.985352\" y=\"260.628906\"/>\n",
       "  <use xlink:href=\"#glyph0-6\" x=\"-57.856445\" y=\"260.628906\"/>\n",
       "  <use xlink:href=\"#glyph0-9\" x=\"-48.081055\" y=\"260.628906\"/>\n",
       "  <use xlink:href=\"#glyph0-18\" x=\"-43.630859\" y=\"260.628906\"/>\n",
       "  <use xlink:href=\"#glyph0-3\" x=\"-39.501953\" y=\"260.628906\"/>\n",
       "  <use xlink:href=\"#glyph0-19\" x=\"-28.482422\" y=\"260.628906\"/>\n",
       "  <use xlink:href=\"#glyph0-2\" x=\"-18.235352\" y=\"260.628906\"/>\n",
       "  <use xlink:href=\"#glyph0-13\" x=\"-8.507812\" y=\"260.628906\"/>\n",
       "  <use xlink:href=\"#glyph0-7\" x=\"1.964844\" y=\"260.628906\"/>\n",
       "  <use xlink:href=\"#glyph0-8\" x=\"11.541992\" y=\"260.628906\"/>\n",
       "  <use xlink:href=\"#glyph0-9\" x=\"19.341797\" y=\"260.628906\"/>\n",
       "  <use xlink:href=\"#glyph0-3\" x=\"23.791992\" y=\"260.628906\"/>\n",
       "  <use xlink:href=\"#glyph0-20\" x=\"34.811523\" y=\"260.628906\"/>\n",
       "  <use xlink:href=\"#glyph0-9\" x=\"42.864258\" y=\"260.628906\"/>\n",
       "  <use xlink:href=\"#glyph0-1\" x=\"47.314453\" y=\"260.628906\"/>\n",
       "  <use xlink:href=\"#glyph0-2\" x=\"55.866211\" y=\"260.628906\"/>\n",
       "  <use xlink:href=\"#glyph0-3\" x=\"65.59375\" y=\"260.628906\"/>\n",
       "  <use xlink:href=\"#glyph0-4\" x=\"76.613281\" y=\"260.628906\"/>\n",
       "  <use xlink:href=\"#glyph0-5\" x=\"85.055664\" y=\"260.628906\"/>\n",
       "  <use xlink:href=\"#glyph0-6\" x=\"89.18457\" y=\"260.628906\"/>\n",
       "  <use xlink:href=\"#glyph0-7\" x=\"98.959961\" y=\"260.628906\"/>\n",
       "  <use xlink:href=\"#glyph0-8\" x=\"108.537109\" y=\"260.628906\"/>\n",
       "  <use xlink:href=\"#glyph0-9\" x=\"116.336914\" y=\"260.628906\"/>\n",
       "  <use xlink:href=\"#glyph0-10\" x=\"120.787109\" y=\"260.628906\"/>\n",
       "  <use xlink:href=\"#glyph0-11\" x=\"132.866211\" y=\"260.628906\"/>\n",
       "  <use xlink:href=\"#glyph0-12\" x=\"141.711914\" y=\"260.628906\"/>\n",
       "  <use xlink:href=\"#glyph0-5\" x=\"152.492188\" y=\"260.628906\"/>\n",
       "  <use xlink:href=\"#glyph0-6\" x=\"156.621094\" y=\"260.628906\"/>\n",
       "  <use xlink:href=\"#glyph0-5\" x=\"166.396484\" y=\"260.628906\"/>\n",
       "  <use xlink:href=\"#glyph0-13\" x=\"170.525391\" y=\"260.628906\"/>\n",
       "  <use xlink:href=\"#glyph0-11\" x=\"180.998047\" y=\"260.628906\"/>\n",
       "</g>\n",
       "<g style=\"fill:rgb(0%,0%,0%);fill-opacity:1;\">\n",
       "  <use xlink:href=\"#glyph0-7\" x=\"302.839844\" y=\"164.296875\"/>\n",
       "  <use xlink:href=\"#glyph0-16\" x=\"312.416992\" y=\"164.296875\"/>\n",
       "  <use xlink:href=\"#glyph0-5\" x=\"321.303711\" y=\"164.296875\"/>\n",
       "  <use xlink:href=\"#glyph0-7\" x=\"325.432617\" y=\"164.296875\"/>\n",
       "  <use xlink:href=\"#glyph0-13\" x=\"335.009766\" y=\"164.296875\"/>\n",
       "  <use xlink:href=\"#glyph0-9\" x=\"345.482422\" y=\"164.296875\"/>\n",
       "  <use xlink:href=\"#glyph0-4\" x=\"349.932617\" y=\"164.296875\"/>\n",
       "  <use xlink:href=\"#glyph0-7\" x=\"358.375\" y=\"164.296875\"/>\n",
       "  <use xlink:href=\"#glyph0-6\" x=\"367.952148\" y=\"164.296875\"/>\n",
       "  <use xlink:href=\"#glyph0-5\" x=\"377.727539\" y=\"164.296875\"/>\n",
       "  <use xlink:href=\"#glyph0-20\" x=\"381.856445\" y=\"164.296875\"/>\n",
       "  <use xlink:href=\"#glyph0-5\" x=\"389.90918\" y=\"164.296875\"/>\n",
       "  <use xlink:href=\"#glyph0-6\" x=\"394.038086\" y=\"164.296875\"/>\n",
       "  <use xlink:href=\"#glyph0-9\" x=\"403.813477\" y=\"164.296875\"/>\n",
       "  <use xlink:href=\"#glyph0-18\" x=\"408.263672\" y=\"164.296875\"/>\n",
       "  <use xlink:href=\"#glyph0-3\" x=\"412.392578\" y=\"164.296875\"/>\n",
       "  <use xlink:href=\"#glyph0-19\" x=\"423.412109\" y=\"164.296875\"/>\n",
       "  <use xlink:href=\"#glyph0-2\" x=\"433.65918\" y=\"164.296875\"/>\n",
       "  <use xlink:href=\"#glyph0-13\" x=\"443.386719\" y=\"164.296875\"/>\n",
       "  <use xlink:href=\"#glyph0-7\" x=\"453.859375\" y=\"164.296875\"/>\n",
       "  <use xlink:href=\"#glyph0-8\" x=\"463.436523\" y=\"164.296875\"/>\n",
       "  <use xlink:href=\"#glyph0-9\" x=\"471.236328\" y=\"164.296875\"/>\n",
       "  <use xlink:href=\"#glyph0-3\" x=\"475.686523\" y=\"164.296875\"/>\n",
       "  <use xlink:href=\"#glyph0-20\" x=\"486.706055\" y=\"164.296875\"/>\n",
       "  <use xlink:href=\"#glyph0-9\" x=\"494.758789\" y=\"164.296875\"/>\n",
       "  <use xlink:href=\"#glyph0-1\" x=\"499.208984\" y=\"164.296875\"/>\n",
       "  <use xlink:href=\"#glyph0-2\" x=\"507.760742\" y=\"164.296875\"/>\n",
       "  <use xlink:href=\"#glyph0-3\" x=\"517.488281\" y=\"164.296875\"/>\n",
       "  <use xlink:href=\"#glyph0-4\" x=\"528.507812\" y=\"164.296875\"/>\n",
       "  <use xlink:href=\"#glyph0-5\" x=\"536.950195\" y=\"164.296875\"/>\n",
       "  <use xlink:href=\"#glyph0-6\" x=\"541.079102\" y=\"164.296875\"/>\n",
       "  <use xlink:href=\"#glyph0-7\" x=\"550.854492\" y=\"164.296875\"/>\n",
       "  <use xlink:href=\"#glyph0-8\" x=\"560.431641\" y=\"164.296875\"/>\n",
       "  <use xlink:href=\"#glyph0-9\" x=\"568.231445\" y=\"164.296875\"/>\n",
       "  <use xlink:href=\"#glyph0-22\" x=\"572.681641\" y=\"164.296875\"/>\n",
       "  <use xlink:href=\"#glyph0-5\" x=\"582.286133\" y=\"164.296875\"/>\n",
       "  <use xlink:href=\"#glyph0-3\" x=\"586.415039\" y=\"164.296875\"/>\n",
       "  <use xlink:href=\"#glyph0-10\" x=\"597.43457\" y=\"164.296875\"/>\n",
       "  <use xlink:href=\"#glyph0-11\" x=\"609.513672\" y=\"164.296875\"/>\n",
       "  <use xlink:href=\"#glyph0-12\" x=\"618.359375\" y=\"164.296875\"/>\n",
       "  <use xlink:href=\"#glyph0-5\" x=\"629.139648\" y=\"164.296875\"/>\n",
       "  <use xlink:href=\"#glyph0-6\" x=\"633.268555\" y=\"164.296875\"/>\n",
       "  <use xlink:href=\"#glyph0-5\" x=\"643.043945\" y=\"164.296875\"/>\n",
       "  <use xlink:href=\"#glyph0-13\" x=\"647.172852\" y=\"164.296875\"/>\n",
       "  <use xlink:href=\"#glyph0-11\" x=\"657.645508\" y=\"164.296875\"/>\n",
       "</g>\n",
       "<g style=\"fill:rgb(0%,0%,0%);fill-opacity:1;\">\n",
       "  <use xlink:href=\"#glyph0-5\" x=\"-53.835938\" y=\"26.847656\"/>\n",
       "  <use xlink:href=\"#glyph0-13\" x=\"-49.707031\" y=\"26.847656\"/>\n",
       "  <use xlink:href=\"#glyph0-1\" x=\"-39.234375\" y=\"26.847656\"/>\n",
       "  <use xlink:href=\"#glyph0-11\" x=\"-30.682617\" y=\"26.847656\"/>\n",
       "  <use xlink:href=\"#glyph0-2\" x=\"-21.836914\" y=\"26.847656\"/>\n",
       "  <use xlink:href=\"#glyph0-13\" x=\"-12.109375\" y=\"26.847656\"/>\n",
       "  <use xlink:href=\"#glyph0-7\" x=\"-1.636719\" y=\"26.847656\"/>\n",
       "  <use xlink:href=\"#glyph0-1\" x=\"7.94043\" y=\"26.847656\"/>\n",
       "  <use xlink:href=\"#glyph0-5\" x=\"16.492188\" y=\"26.847656\"/>\n",
       "  <use xlink:href=\"#glyph0-3\" x=\"20.621094\" y=\"26.847656\"/>\n",
       "  <use xlink:href=\"#glyph0-13\" x=\"31.640625\" y=\"26.847656\"/>\n",
       "  <use xlink:href=\"#glyph0-7\" x=\"42.113281\" y=\"26.847656\"/>\n",
       "  <use xlink:href=\"#glyph0-8\" x=\"51.69043\" y=\"26.847656\"/>\n",
       "  <use xlink:href=\"#glyph0-9\" x=\"59.490234\" y=\"26.847656\"/>\n",
       "  <use xlink:href=\"#glyph0-18\" x=\"63.94043\" y=\"26.847656\"/>\n",
       "  <use xlink:href=\"#glyph0-3\" x=\"68.069336\" y=\"26.847656\"/>\n",
       "  <use xlink:href=\"#glyph0-19\" x=\"79.088867\" y=\"26.847656\"/>\n",
       "  <use xlink:href=\"#glyph0-2\" x=\"89.335938\" y=\"26.847656\"/>\n",
       "  <use xlink:href=\"#glyph0-13\" x=\"99.063477\" y=\"26.847656\"/>\n",
       "  <use xlink:href=\"#glyph0-7\" x=\"109.536133\" y=\"26.847656\"/>\n",
       "  <use xlink:href=\"#glyph0-8\" x=\"119.113281\" y=\"26.847656\"/>\n",
       "  <use xlink:href=\"#glyph0-9\" x=\"126.913086\" y=\"26.847656\"/>\n",
       "  <use xlink:href=\"#glyph0-3\" x=\"131.363281\" y=\"26.847656\"/>\n",
       "  <use xlink:href=\"#glyph0-20\" x=\"142.382812\" y=\"26.847656\"/>\n",
       "  <use xlink:href=\"#glyph0-9\" x=\"150.435547\" y=\"26.847656\"/>\n",
       "  <use xlink:href=\"#glyph0-8\" x=\"154.885742\" y=\"26.847656\"/>\n",
       "  <use xlink:href=\"#glyph0-11\" x=\"162.685547\" y=\"26.847656\"/>\n",
       "  <use xlink:href=\"#glyph0-4\" x=\"171.53125\" y=\"26.847656\"/>\n",
       "  <use xlink:href=\"#glyph0-2\" x=\"179.973633\" y=\"26.847656\"/>\n",
       "  <use xlink:href=\"#glyph0-3\" x=\"189.701172\" y=\"26.847656\"/>\n",
       "  <use xlink:href=\"#glyph0-16\" x=\"200.720703\" y=\"26.847656\"/>\n",
       "  <use xlink:href=\"#glyph0-21\" x=\"209.607422\" y=\"26.847656\"/>\n",
       "  <use xlink:href=\"#glyph0-9\" x=\"218.15918\" y=\"26.847656\"/>\n",
       "  <use xlink:href=\"#glyph0-7\" x=\"222.609375\" y=\"26.847656\"/>\n",
       "  <use xlink:href=\"#glyph0-13\" x=\"232.186523\" y=\"26.847656\"/>\n",
       "  <use xlink:href=\"#glyph0-12\" x=\"242.65918\" y=\"26.847656\"/>\n",
       "  <use xlink:href=\"#glyph0-9\" x=\"253.439453\" y=\"26.847656\"/>\n",
       "  <use xlink:href=\"#glyph0-3\" x=\"257.889648\" y=\"26.847656\"/>\n",
       "  <use xlink:href=\"#glyph0-1\" x=\"268.90918\" y=\"26.847656\"/>\n",
       "  <use xlink:href=\"#glyph0-15\" x=\"277.460938\" y=\"26.847656\"/>\n",
       "  <use xlink:href=\"#glyph0-11\" x=\"287.988281\" y=\"26.847656\"/>\n",
       "  <use xlink:href=\"#glyph0-2\" x=\"296.833984\" y=\"26.847656\"/>\n",
       "  <use xlink:href=\"#glyph0-9\" x=\"306.561523\" y=\"26.847656\"/>\n",
       "  <use xlink:href=\"#glyph0-10\" x=\"311.011719\" y=\"26.847656\"/>\n",
       "  <use xlink:href=\"#glyph0-21\" x=\"323.09082\" y=\"26.847656\"/>\n",
       "  <use xlink:href=\"#glyph0-6\" x=\"331.642578\" y=\"26.847656\"/>\n",
       "  <use xlink:href=\"#glyph0-3\" x=\"341.417969\" y=\"26.847656\"/>\n",
       "  <use xlink:href=\"#glyph0-22\" x=\"352.4375\" y=\"26.847656\"/>\n",
       "  <use xlink:href=\"#glyph0-7\" x=\"362.041992\" y=\"26.847656\"/>\n",
       "  <use xlink:href=\"#glyph0-6\" x=\"371.619141\" y=\"26.847656\"/>\n",
       "  <use xlink:href=\"#glyph0-1\" x=\"381.394531\" y=\"26.847656\"/>\n",
       "  <use xlink:href=\"#glyph0-11\" x=\"389.946289\" y=\"26.847656\"/>\n",
       "  <use xlink:href=\"#glyph0-2\" x=\"398.791992\" y=\"26.847656\"/>\n",
       "  <use xlink:href=\"#glyph0-5\" x=\"408.519531\" y=\"26.847656\"/>\n",
       "  <use xlink:href=\"#glyph0-7\" x=\"412.648438\" y=\"26.847656\"/>\n",
       "  <use xlink:href=\"#glyph0-8\" x=\"422.225586\" y=\"26.847656\"/>\n",
       "  <use xlink:href=\"#glyph0-9\" x=\"430.025391\" y=\"26.847656\"/>\n",
       "  <use xlink:href=\"#glyph0-12\" x=\"434.475586\" y=\"26.847656\"/>\n",
       "  <use xlink:href=\"#glyph0-5\" x=\"445.255859\" y=\"26.847656\"/>\n",
       "  <use xlink:href=\"#glyph0-16\" x=\"449.384766\" y=\"26.847656\"/>\n",
       "  <use xlink:href=\"#glyph0-11\" x=\"458.271484\" y=\"26.847656\"/>\n",
       "  <use xlink:href=\"#glyph0-7\" x=\"467.117188\" y=\"26.847656\"/>\n",
       "  <use xlink:href=\"#glyph0-16\" x=\"476.694336\" y=\"26.847656\"/>\n",
       "  <use xlink:href=\"#glyph0-11\" x=\"485.581055\" y=\"26.847656\"/>\n",
       "  <use xlink:href=\"#glyph0-16\" x=\"494.426758\" y=\"26.847656\"/>\n",
       "</g>\n",
       "<g style=\"fill:rgb(0%,0%,0%);fill-opacity:1;\">\n",
       "  <use xlink:href=\"#glyph0-4\" x=\"121.878906\" y=\"526.613281\"/>\n",
       "  <use xlink:href=\"#glyph0-8\" x=\"130.321289\" y=\"526.613281\"/>\n",
       "  <use xlink:href=\"#glyph0-30\" x=\"138.121094\" y=\"526.613281\"/>\n",
       "  <use xlink:href=\"#glyph0-16\" x=\"146.686523\" y=\"526.613281\"/>\n",
       "  <use xlink:href=\"#glyph0-9\" x=\"155.573242\" y=\"526.613281\"/>\n",
       "  <use xlink:href=\"#glyph0-13\" x=\"160.023438\" y=\"526.613281\"/>\n",
       "  <use xlink:href=\"#glyph0-31\" x=\"170.496094\" y=\"526.613281\"/>\n",
       "  <use xlink:href=\"#glyph0-32\" x=\"179.109375\" y=\"526.613281\"/>\n",
       "  <use xlink:href=\"#glyph0-33\" x=\"187.996094\" y=\"526.613281\"/>\n",
       "  <use xlink:href=\"#glyph0-31\" x=\"191.885742\" y=\"526.613281\"/>\n",
       "  <use xlink:href=\"#glyph0-34\" x=\"200.499023\" y=\"526.613281\"/>\n",
       "  <use xlink:href=\"#glyph0-35\" x=\"208.196289\" y=\"526.613281\"/>\n",
       "  <use xlink:href=\"#glyph0-31\" x=\"213.685547\" y=\"526.613281\"/>\n",
       "  <use xlink:href=\"#glyph0-36\" x=\"222.298828\" y=\"526.613281\"/>\n",
       "  <use xlink:href=\"#glyph0-9\" x=\"231.185547\" y=\"526.613281\"/>\n",
       "  <use xlink:href=\"#glyph0-1\" x=\"235.635742\" y=\"526.613281\"/>\n",
       "  <use xlink:href=\"#glyph0-37\" x=\"244.1875\" y=\"526.613281\"/>\n",
       "  <use xlink:href=\"#glyph0-30\" x=\"249.943359\" y=\"526.613281\"/>\n",
       "  <use xlink:href=\"#glyph0-38\" x=\"258.508789\" y=\"526.613281\"/>\n",
       "  <use xlink:href=\"#glyph0-39\" x=\"267.395508\" y=\"526.613281\"/>\n",
       "  <use xlink:href=\"#glyph0-34\" x=\"271.285156\" y=\"526.613281\"/>\n",
       "  <use xlink:href=\"#glyph0-40\" x=\"278.982422\" y=\"526.613281\"/>\n",
       "  <use xlink:href=\"#glyph0-33\" x=\"287.561523\" y=\"526.613281\"/>\n",
       "  <use xlink:href=\"#glyph0-9\" x=\"291.451172\" y=\"526.613281\"/>\n",
       "  <use xlink:href=\"#glyph0-12\" x=\"295.901367\" y=\"526.613281\"/>\n",
       "  <use xlink:href=\"#glyph0-39\" x=\"306.681641\" y=\"526.613281\"/>\n",
       "  <use xlink:href=\"#glyph0-41\" x=\"310.571289\" y=\"526.613281\"/>\n",
       "  <use xlink:href=\"#glyph0-31\" x=\"317.865234\" y=\"526.613281\"/>\n",
       "  <use xlink:href=\"#glyph0-40\" x=\"326.478516\" y=\"526.613281\"/>\n",
       "  <use xlink:href=\"#glyph0-41\" x=\"335.057617\" y=\"526.613281\"/>\n",
       "  <use xlink:href=\"#glyph0-31\" x=\"342.351562\" y=\"526.613281\"/>\n",
       "  <use xlink:href=\"#glyph0-41\" x=\"350.964844\" y=\"526.613281\"/>\n",
       "</g>\n",
       "<g style=\"fill:rgb(0%,0%,0%);fill-opacity:1;\">\n",
       "  <use xlink:href=\"#glyph0-10\" x=\"-137.066406\" y=\"489.910156\"/>\n",
       "  <use xlink:href=\"#glyph0-4\" x=\"-124.987305\" y=\"489.910156\"/>\n",
       "  <use xlink:href=\"#glyph0-7\" x=\"-116.544922\" y=\"489.910156\"/>\n",
       "  <use xlink:href=\"#glyph0-6\" x=\"-106.967773\" y=\"489.910156\"/>\n",
       "  <use xlink:href=\"#glyph0-1\" x=\"-97.192383\" y=\"489.910156\"/>\n",
       "  <use xlink:href=\"#glyph0-9\" x=\"-88.640625\" y=\"489.910156\"/>\n",
       "  <use xlink:href=\"#glyph0-3\" x=\"-84.19043\" y=\"489.910156\"/>\n",
       "  <use xlink:href=\"#glyph0-20\" x=\"-73.170898\" y=\"489.910156\"/>\n",
       "  <use xlink:href=\"#glyph0-9\" x=\"-65.118164\" y=\"489.910156\"/>\n",
       "  <use xlink:href=\"#glyph0-11\" x=\"-60.667969\" y=\"489.910156\"/>\n",
       "  <use xlink:href=\"#glyph0-6\" x=\"-51.822266\" y=\"489.910156\"/>\n",
       "  <use xlink:href=\"#glyph0-3\" x=\"-42.046875\" y=\"489.910156\"/>\n",
       "  <use xlink:href=\"#glyph0-8\" x=\"-31.027344\" y=\"489.910156\"/>\n",
       "  <use xlink:href=\"#glyph0-3\" x=\"-23.227539\" y=\"489.910156\"/>\n",
       "  <use xlink:href=\"#glyph0-17\" x=\"-12.208008\" y=\"489.910156\"/>\n",
       "  <use xlink:href=\"#glyph0-5\" x=\"-1.359375\" y=\"489.910156\"/>\n",
       "  <use xlink:href=\"#glyph0-6\" x=\"2.769531\" y=\"489.910156\"/>\n",
       "  <use xlink:href=\"#glyph0-7\" x=\"12.544922\" y=\"489.910156\"/>\n",
       "  <use xlink:href=\"#glyph0-8\" x=\"22.12207\" y=\"489.910156\"/>\n",
       "  <use xlink:href=\"#glyph0-9\" x=\"29.921875\" y=\"489.910156\"/>\n",
       "  <use xlink:href=\"#glyph0-6\" x=\"34.37207\" y=\"489.910156\"/>\n",
       "  <use xlink:href=\"#glyph0-15\" x=\"44.147461\" y=\"489.910156\"/>\n",
       "  <use xlink:href=\"#glyph0-7\" x=\"54.674805\" y=\"489.910156\"/>\n",
       "  <use xlink:href=\"#glyph0-13\" x=\"64.251953\" y=\"489.910156\"/>\n",
       "  <use xlink:href=\"#glyph0-17\" x=\"74.724609\" y=\"489.910156\"/>\n",
       "  <use xlink:href=\"#glyph0-11\" x=\"85.573242\" y=\"489.910156\"/>\n",
       "  <use xlink:href=\"#glyph0-16\" x=\"94.418945\" y=\"489.910156\"/>\n",
       "  <use xlink:href=\"#glyph0-9\" x=\"103.305664\" y=\"489.910156\"/>\n",
       "  <use xlink:href=\"#glyph0-3\" x=\"107.755859\" y=\"489.910156\"/>\n",
       "  <use xlink:href=\"#glyph0-13\" x=\"118.775391\" y=\"489.910156\"/>\n",
       "  <use xlink:href=\"#glyph0-9\" x=\"129.248047\" y=\"489.910156\"/>\n",
       "  <use xlink:href=\"#glyph0-1\" x=\"133.698242\" y=\"489.910156\"/>\n",
       "  <use xlink:href=\"#glyph0-2\" x=\"142.25\" y=\"489.910156\"/>\n",
       "  <use xlink:href=\"#glyph0-3\" x=\"151.977539\" y=\"489.910156\"/>\n",
       "  <use xlink:href=\"#glyph0-4\" x=\"162.99707\" y=\"489.910156\"/>\n",
       "  <use xlink:href=\"#glyph0-5\" x=\"171.439453\" y=\"489.910156\"/>\n",
       "  <use xlink:href=\"#glyph0-6\" x=\"175.568359\" y=\"489.910156\"/>\n",
       "  <use xlink:href=\"#glyph0-7\" x=\"185.34375\" y=\"489.910156\"/>\n",
       "  <use xlink:href=\"#glyph0-8\" x=\"194.920898\" y=\"489.910156\"/>\n",
       "  <use xlink:href=\"#glyph0-9\" x=\"202.720703\" y=\"489.910156\"/>\n",
       "  <use xlink:href=\"#glyph0-7\" x=\"207.170898\" y=\"489.910156\"/>\n",
       "  <use xlink:href=\"#glyph0-13\" x=\"216.748047\" y=\"489.910156\"/>\n",
       "  <use xlink:href=\"#glyph0-5\" x=\"227.220703\" y=\"489.910156\"/>\n",
       "  <use xlink:href=\"#glyph0-10\" x=\"231.349609\" y=\"489.910156\"/>\n",
       "  <use xlink:href=\"#glyph0-7\" x=\"243.428711\" y=\"489.910156\"/>\n",
       "  <use xlink:href=\"#glyph0-8\" x=\"253.005859\" y=\"489.910156\"/>\n",
       "  <use xlink:href=\"#glyph0-9\" x=\"260.805664\" y=\"489.910156\"/>\n",
       "  <use xlink:href=\"#glyph0-15\" x=\"265.255859\" y=\"489.910156\"/>\n",
       "  <use xlink:href=\"#glyph0-11\" x=\"275.783203\" y=\"489.910156\"/>\n",
       "  <use xlink:href=\"#glyph0-7\" x=\"284.628906\" y=\"489.910156\"/>\n",
       "  <use xlink:href=\"#glyph0-8\" x=\"294.206055\" y=\"489.910156\"/>\n",
       "  <use xlink:href=\"#glyph0-1\" x=\"302.005859\" y=\"489.910156\"/>\n",
       "  <use xlink:href=\"#glyph0-15\" x=\"310.557617\" y=\"489.910156\"/>\n",
       "  <use xlink:href=\"#glyph0-9\" x=\"321.084961\" y=\"489.910156\"/>\n",
       "  <use xlink:href=\"#glyph0-7\" x=\"325.535156\" y=\"489.910156\"/>\n",
       "  <use xlink:href=\"#glyph0-13\" x=\"335.112305\" y=\"489.910156\"/>\n",
       "  <use xlink:href=\"#glyph0-12\" x=\"345.584961\" y=\"489.910156\"/>\n",
       "  <use xlink:href=\"#glyph0-9\" x=\"356.365234\" y=\"489.910156\"/>\n",
       "  <use xlink:href=\"#glyph0-12\" x=\"360.81543\" y=\"489.910156\"/>\n",
       "  <use xlink:href=\"#glyph0-5\" x=\"371.595703\" y=\"489.910156\"/>\n",
       "  <use xlink:href=\"#glyph0-16\" x=\"375.724609\" y=\"489.910156\"/>\n",
       "  <use xlink:href=\"#glyph0-11\" x=\"384.611328\" y=\"489.910156\"/>\n",
       "  <use xlink:href=\"#glyph0-7\" x=\"393.457031\" y=\"489.910156\"/>\n",
       "  <use xlink:href=\"#glyph0-16\" x=\"403.03418\" y=\"489.910156\"/>\n",
       "  <use xlink:href=\"#glyph0-11\" x=\"411.920898\" y=\"489.910156\"/>\n",
       "  <use xlink:href=\"#glyph0-9\" x=\"420.766602\" y=\"489.910156\"/>\n",
       "  <use xlink:href=\"#glyph0-6\" x=\"425.216797\" y=\"489.910156\"/>\n",
       "  <use xlink:href=\"#glyph0-3\" x=\"434.992188\" y=\"489.910156\"/>\n",
       "  <use xlink:href=\"#glyph0-13\" x=\"446.011719\" y=\"489.910156\"/>\n",
       "  <use xlink:href=\"#glyph0-1\" x=\"456.484375\" y=\"489.910156\"/>\n",
       "  <use xlink:href=\"#glyph0-2\" x=\"465.036133\" y=\"489.910156\"/>\n",
       "  <use xlink:href=\"#glyph0-3\" x=\"474.763672\" y=\"489.910156\"/>\n",
       "  <use xlink:href=\"#glyph0-8\" x=\"485.783203\" y=\"489.910156\"/>\n",
       "</g>\n",
       "</g>\n",
       "</svg>\n"
      ],
      "text/plain": [
       "<igraph.drawing.Plot at 0x7fb973f94ca0>"
      ]
     },
     "execution_count": 35,
     "metadata": {
      "image/svg+xml": {
       "isolated": true
      }
     },
     "output_type": "execute_result"
    }
   ],
   "source": [
    "ig.plot(G_coupling, vertex_label=G_coupling.vs['SO'])"
   ]
  },
  {
   "cell_type": "markdown",
   "metadata": {},
   "source": [
    "# Network analysis"
   ]
  },
  {
   "cell_type": "markdown",
   "metadata": {},
   "source": [
    "Now that we have created some scientometric networks, let us look at some basic analyses of these networks."
   ]
  },
  {
   "cell_type": "markdown",
   "metadata": {},
   "source": [
    "## Connectivity"
   ]
  },
  {
   "cell_type": "markdown",
   "metadata": {},
   "source": [
    "Let us start with a very simple question. Is the co-authorship network connected?"
   ]
  },
  {
   "cell_type": "code",
   "execution_count": 36,
   "metadata": {},
   "outputs": [
    {
     "data": {
      "text/plain": [
       "False"
      ]
     },
     "execution_count": 36,
     "metadata": {},
     "output_type": "execute_result"
    }
   ],
   "source": [
    "G_coauthorship.is_connected()"
   ]
  },
  {
   "cell_type": "markdown",
   "metadata": {},
   "source": [
    "Apparently, not all authors in this dataset are connected via co-authored papers."
   ]
  },
  {
   "cell_type": "markdown",
   "metadata": {},
   "source": [
    "<div class=\"alert alert-info\">\n",
    "How many authors do you think will be connected to each other? 500? 5000? Almost everybody?\n",
    "</div>"
   ]
  },
  {
   "cell_type": "markdown",
   "metadata": {},
   "source": [
    "In order to take a closer look, we need to detect the *connected components*. This is easily done, but the function is confusingly called `clusters`."
   ]
  },
  {
   "cell_type": "code",
   "execution_count": 37,
   "metadata": {},
   "outputs": [],
   "source": [
    "components = G_coauthorship.clusters()"
   ]
  },
  {
   "cell_type": "markdown",
   "metadata": {},
   "source": [
    "We only want the so-called giant component. "
   ]
  },
  {
   "cell_type": "markdown",
   "metadata": {},
   "source": [
    "<div class=\"alert alert-info\">\n",
    "What function do you think returns the giant component?\n",
    "</div>"
   ]
  },
  {
   "cell_type": "markdown",
   "metadata": {},
   "source": [
    "<div class=\"alert alert-success\">\n",
    "    Remember, you can use <code>Tab</code> and <code>Shift-Tab</code> to find out more about possible functions.\n",
    "</div>"
   ]
  },
  {
   "cell_type": "code",
   "execution_count": 38,
   "metadata": {},
   "outputs": [
    {
     "data": {
      "text/plain": [
       "<igraph.Graph at 0x7fb97314b220>"
      ]
     },
     "execution_count": 38,
     "metadata": {},
     "output_type": "execute_result"
    }
   ],
   "source": [
    "components.giant()"
   ]
  },
  {
   "cell_type": "markdown",
   "metadata": {},
   "source": [
    "Let us only look at the giant component."
   ]
  },
  {
   "cell_type": "code",
   "execution_count": 39,
   "metadata": {},
   "outputs": [],
   "source": [
    "H = components.giant()"
   ]
  },
  {
   "cell_type": "markdown",
   "metadata": {},
   "source": [
    "Let us check how many nodes are in the giant component. We can call the function `summary`."
   ]
  },
  {
   "cell_type": "code",
   "execution_count": 40,
   "metadata": {},
   "outputs": [
    {
     "name": "stdout",
     "output_type": "stream",
     "text": [
      "IGRAPH U--- 7871 69928 -- \n",
      "+ attr: author (v), n_joint_papers (e)\n"
     ]
    }
   ],
   "source": [
    "print(H.summary())"
   ]
  },
  {
   "cell_type": "markdown",
   "metadata": {},
   "source": [
    "The first line indicates that we have an undirected graph (`U`) with 7871 nodes and 69928 links. The next line shows vertex attributes (indicated by the `v` behind the name of the attribute), and edge attributes (indicated by the `e`)."
   ]
  },
  {
   "cell_type": "markdown",
   "metadata": {},
   "source": [
    "<div class=\"alert alert-info\">\n",
    "    <ol>\n",
    "      <li> What is the percentage of nodes that are in the giant component? \n",
    "      <li> Double check whether the giant component is connected.\n",
    "    </ol>\n",
    "</div>"
   ]
  },
  {
   "cell_type": "code",
   "execution_count": 41,
   "metadata": {},
   "outputs": [
    {
     "name": "stdout",
     "output_type": "stream",
     "text": [
      "0.9279651025701485\n",
      "True\n"
     ]
    }
   ],
   "source": [
    "print(H.vcount()/G_coauthorship.vcount())\n",
    "print(H.is_connected())"
   ]
  },
  {
   "cell_type": "markdown",
   "metadata": {},
   "source": [
    "Let us take a closer look at how far authors in this data set are apart from one another. Let us simply take a look at node number `0` (remember, the first node has number `0`, not `1`) and node number `355`. "
   ]
  },
  {
   "cell_type": "code",
   "execution_count": 42,
   "metadata": {},
   "outputs": [
    {
     "data": {
      "text/plain": [
       "[[0, 3, 223, 355]]"
      ]
     },
     "execution_count": 42,
     "metadata": {},
     "output_type": "execute_result"
    }
   ],
   "source": [
    "paths = G_coauthorship.get_shortest_paths(0, 355)\n",
    "paths"
   ]
  },
  {
   "cell_type": "markdown",
   "metadata": {},
   "source": [
    "This returns a list of all shortests paths of the nodes between node number 0 and node number 355. In fact, there is only one path, so let us select that."
   ]
  },
  {
   "cell_type": "code",
   "execution_count": 43,
   "metadata": {},
   "outputs": [
    {
     "data": {
      "text/plain": [
       "[0, 3, 223, 355]"
      ]
     },
     "execution_count": 43,
     "metadata": {},
     "output_type": "execute_result"
    }
   ],
   "source": [
    "path = paths[0]\n",
    "path"
   ]
  },
  {
   "cell_type": "markdown",
   "metadata": {},
   "source": [
    "<div class=\"alert alert-info\">\n",
    "How many nodes are in the path? What is the path length?\n",
    "</div>"
   ]
  },
  {
   "cell_type": "markdown",
   "metadata": {},
   "source": [
    "These numbers probably do not mean that much to you. You can find out more about an individual node by looking at the `VertexSequence` of `igraph`, abbreviated as `vs`. This is a sort of list of all vertices, and is indexed by brackets `[ ]`, similar to lists, instead of parentheses `( )` as we do for functions."
   ]
  },
  {
   "cell_type": "code",
   "execution_count": 44,
   "metadata": {},
   "outputs": [
    {
     "data": {
      "text/plain": [
       "igraph.Vertex(<igraph.Graph object at 0x7fb9741066d0>, 0, {'author': 'Osaer, S'})"
      ]
     },
     "execution_count": 44,
     "metadata": {},
     "output_type": "execute_result"
    }
   ],
   "source": [
    "G_coauthorship.vs[0]"
   ]
  },
  {
   "cell_type": "markdown",
   "metadata": {},
   "source": [
    "The vertex itself is also a type of list (called a *dictionary*), and you can only return the author name as follows"
   ]
  },
  {
   "cell_type": "code",
   "execution_count": 45,
   "metadata": {},
   "outputs": [
    {
     "data": {
      "text/plain": [
       "'Osaer, S'"
      ]
     },
     "execution_count": 45,
     "metadata": {},
     "output_type": "execute_result"
    }
   ],
   "source": [
    "G_coauthorship.vs[0]['author']"
   ]
  },
  {
   "cell_type": "markdown",
   "metadata": {},
   "source": [
    "You can also list multiple vertices at once."
   ]
  },
  {
   "cell_type": "code",
   "execution_count": 46,
   "metadata": {},
   "outputs": [
    {
     "data": {
      "text/plain": [
       "['Osaer, S', 'Geerts, S', 'Van Marck, E', 'Watkins, W']"
      ]
     },
     "execution_count": 46,
     "metadata": {},
     "output_type": "execute_result"
    }
   ],
   "source": [
    "G_coauthorship.vs[[0, 3, 223, 355]]['author']"
   ]
  },
  {
   "cell_type": "markdown",
   "metadata": {},
   "source": [
    "You can of course also simply pass the variable `path` that we constructed earlier."
   ]
  },
  {
   "cell_type": "code",
   "execution_count": 47,
   "metadata": {},
   "outputs": [
    {
     "data": {
      "text/plain": [
       "['Osaer, S', 'Geerts, S', 'Van Marck, E', 'Watkins, W']"
      ]
     },
     "execution_count": 47,
     "metadata": {},
     "output_type": "execute_result"
    }
   ],
   "source": [
    "G_coauthorship.vs[path]['author']"
   ]
  },
  {
   "cell_type": "markdown",
   "metadata": {},
   "source": [
    "This shows that Osaer collaborated with Geert, who collaborated with Van Mark, who in the end collaborated with Watkins."
   ]
  },
  {
   "cell_type": "markdown",
   "metadata": {},
   "source": [
    "You can also get the vertex by searching for the author name. For example, if we want to find `'Van Marck, E'` we can use the following."
   ]
  },
  {
   "cell_type": "code",
   "execution_count": 48,
   "metadata": {},
   "outputs": [
    {
     "data": {
      "text/plain": [
       "igraph.Vertex(<igraph.Graph object at 0x7fb9741066d0>, 223, {'author': 'Van Marck, E'})"
      ]
     },
     "execution_count": 48,
     "metadata": {},
     "output_type": "execute_result"
    }
   ],
   "source": [
    "G_coauthorship.vs.find(author_eq = 'Van Marck, E')"
   ]
  },
  {
   "cell_type": "markdown",
   "metadata": {},
   "source": [
    "Here `author_eq` refers to the condition that the vertex attribute `author` should **eq**ual `'Van Marck, E'`."
   ]
  },
  {
   "cell_type": "markdown",
   "metadata": {},
   "source": [
    "<div class=\"alert alert-info\">\n",
    "    Find the shortest path from <code>'Van Marck, E'</code> to <code>'Migchelsen, S'</code>. Who is in between?\n",
    "</div>"
   ]
  },
  {
   "cell_type": "code",
   "execution_count": 49,
   "metadata": {},
   "outputs": [
    {
     "data": {
      "text/plain": [
       "['Van Marck, E', \"D'Alessandro, U\", 'Schallig, H', 'Migchelsen, S']"
      ]
     },
     "execution_count": 49,
     "metadata": {},
     "output_type": "execute_result"
    }
   ],
   "source": [
    "u = G_coauthorship.vs.find(author_eq = 'Van Marck, E')\n",
    "v = G_coauthorship.vs.find(author_eq = 'Migchelsen, S')\n",
    "paths = G_coauthorship.get_shortest_paths(u, v)\n",
    "path = paths[0]\n",
    "G_coauthorship.vs[path]['author']"
   ]
  },
  {
   "cell_type": "markdown",
   "metadata": {},
   "source": [
    "We can let `igraph` also calculate how far apart all nodes are."
   ]
  },
  {
   "cell_type": "markdown",
   "metadata": {},
   "source": [
    "<div class=\"alert alert-warning\">\n",
    "The following may take some time to run\n",
    "</div>"
   ]
  },
  {
   "cell_type": "code",
   "execution_count": 50,
   "metadata": {},
   "outputs": [
    {
     "name": "stdout",
     "output_type": "stream",
     "text": [
      "N = 30976412, mean +- sd: 3.9397 +- 0.9969\n",
      "Each * represents 225559 items\n",
      "[ 1,  2):  (72938)\n",
      "[ 2,  3): ****** (1478785)\n",
      "[ 3,  4): ************************************** (8781467)\n",
      "[ 4,  5): ********************************************************* (12856894)\n",
      "[ 5,  6): ************************* (5864521)\n",
      "[ 6,  7): ******* (1579011)\n",
      "[ 7,  8): * (305739)\n",
      "[ 8,  9):  (35034)\n",
      "[ 9, 10):  (1967)\n",
      "[10, 11):  (56)\n"
     ]
    }
   ],
   "source": [
    "path_lengths = G_coauthorship.path_length_hist()\n",
    "print(path_lengths)"
   ]
  },
  {
   "cell_type": "markdown",
   "metadata": {},
   "source": [
    "<div class=\"alert alert-info\">\n",
    "How far apart are most authors? Do you think most authors are close by? Or do you think they are far apart?\n",
    "</div>"
   ]
  },
  {
   "cell_type": "markdown",
   "metadata": {},
   "source": [
    "Let us take a closer look at the path between node 0 and node 355 again. Instead of the nodes on the path, we now want to take a closer look at the edges on the path."
   ]
  },
  {
   "cell_type": "code",
   "execution_count": 51,
   "metadata": {},
   "outputs": [
    {
     "data": {
      "text/plain": [
       "[[2, 9, 6192]]"
      ]
     },
     "execution_count": 51,
     "metadata": {},
     "output_type": "execute_result"
    }
   ],
   "source": [
    "epath = G_coauthorship.get_shortest_paths(0, 355, output='epath')\n",
    "epath"
   ]
  },
  {
   "cell_type": "markdown",
   "metadata": {},
   "source": [
    "There are three edges on this path, but the numbers themselves are not very informative. They refer to the edges, and similar to the `VertexSequence` we encountered earlier, there is also an `EdgeSequence`, abbreviated as `es`. Let us take a closer look to the number of joint papers that the authors had co-authored."
   ]
  },
  {
   "cell_type": "code",
   "execution_count": 52,
   "metadata": {},
   "outputs": [
    {
     "data": {
      "text/plain": [
       "[1.0, 2.0, 3.0]"
      ]
     },
     "execution_count": 52,
     "metadata": {},
     "output_type": "execute_result"
    }
   ],
   "source": [
    "G_coauthorship.es[epath[0]]['n_joint_papers']"
   ]
  },
  {
   "cell_type": "markdown",
   "metadata": {},
   "source": [
    "Perhaps there are other paths that connect the two authors with more joint papers? Perhaps we could use the number of joint papers as weights?"
   ]
  },
  {
   "cell_type": "code",
   "execution_count": 53,
   "metadata": {},
   "outputs": [
    {
     "data": {
      "text/plain": [
       "[[2, 71, 5163, 4827, 8584]]"
      ]
     },
     "execution_count": 53,
     "metadata": {},
     "output_type": "execute_result"
    }
   ],
   "source": [
    "epath = G_coauthorship.get_shortest_paths(0, 355, weights='n_joint_papers', output='epath')\n",
    "epath"
   ]
  },
  {
   "cell_type": "markdown",
   "metadata": {},
   "source": [
    "We do get a different path, which it is actually longer. Let us take a look at the number of joint papers."
   ]
  },
  {
   "cell_type": "code",
   "execution_count": 54,
   "metadata": {},
   "outputs": [
    {
     "data": {
      "text/plain": [
       "[1.0, 1.0, 1.0, 1.0, 1.0]"
      ]
     },
     "execution_count": 54,
     "metadata": {},
     "output_type": "execute_result"
    }
   ],
   "source": [
    "G_coauthorship.es[epath[0]]['n_joint_papers']"
   ]
  },
  {
   "cell_type": "markdown",
   "metadata": {},
   "source": [
    "The total number of joint papers is lower! That is because *shortest path* means: the path with the lowest sum of the weights. This is clearly not what we want. You should always be aware of this whenever using the concept of the *shortest path*."
   ]
  },
  {
   "cell_type": "markdown",
   "metadata": {},
   "source": [
    "<div class=\"alert alert-danger\">\n",
    "<b>Attention!</b> Weighted shortest paths have the <em>lowest</em> total weight.\n",
    "</div>"
   ]
  },
  {
   "cell_type": "markdown",
   "metadata": {},
   "source": [
    "## Clustering coefficient"
   ]
  },
  {
   "cell_type": "markdown",
   "metadata": {},
   "source": [
    "Let us look whether co-authors of an author also tend to be co-authors among themselves."
   ]
  },
  {
   "cell_type": "markdown",
   "metadata": {},
   "source": [
    "Let us take a look at the co-authors of of author number 0, which are called the *neighbors* in network terminology."
   ]
  },
  {
   "cell_type": "code",
   "execution_count": 55,
   "metadata": {},
   "outputs": [
    {
     "data": {
      "text/plain": [
       "[0, 1, 2, 3]"
      ]
     },
     "execution_count": 55,
     "metadata": {},
     "output_type": "execute_result"
    }
   ],
   "source": [
    "G_coauthorship.neighborhood(0)"
   ]
  },
  {
   "cell_type": "markdown",
   "metadata": {},
   "source": [
    "What we actually want to know is whether many of those neighors are connected. That is, we want to take the subgraph of all authors that have co-authored with author number 0."
   ]
  },
  {
   "cell_type": "code",
   "execution_count": 56,
   "metadata": {},
   "outputs": [
    {
     "name": "stdout",
     "output_type": "stream",
     "text": [
      "IGRAPH U--- 4 6 -- \n",
      "+ attr: author (v), n_joint_papers (e)\n"
     ]
    }
   ],
   "source": [
    "H = G_coauthorship.induced_subgraph(G_coauthorship.neighborhood(0))\n",
    "print(H.summary())"
   ]
  },
  {
   "cell_type": "markdown",
   "metadata": {},
   "source": [
    "This subgraph only has 4 nodes (including node 0, so it has 3 neighbours) and 6 edges. This is sufficiently small to be easily plotted for visual inspection."
   ]
  },
  {
   "cell_type": "code",
   "execution_count": 57,
   "metadata": {},
   "outputs": [
    {
     "data": {
      "image/svg+xml": [
       "<?xml version=\"1.0\" encoding=\"UTF-8\"?>\n",
       "<svg xmlns=\"http://www.w3.org/2000/svg\" xmlns:xlink=\"http://www.w3.org/1999/xlink\" width=\"600pt\" height=\"600pt\" viewBox=\"0 0 600 600\" version=\"1.1\">\n",
       "<g id=\"surface8\">\n",
       "<rect x=\"0\" y=\"0\" width=\"600\" height=\"600\" style=\"fill:rgb(100%,100%,100%);fill-opacity:1;stroke:none;\"/>\n",
       "<path style=\"fill:none;stroke-width:1;stroke-linecap:butt;stroke-linejoin:miter;stroke:rgb(26.666667%,26.666667%,26.666667%);stroke-opacity:1;stroke-miterlimit:10;\" d=\"M 580 304.980469 L 295.019531 580 \"/>\n",
       "<path style=\"fill:none;stroke-width:1;stroke-linecap:butt;stroke-linejoin:miter;stroke:rgb(26.666667%,26.666667%,26.666667%);stroke-opacity:1;stroke-miterlimit:10;\" d=\"M 580 304.980469 L 20 295.019531 \"/>\n",
       "<path style=\"fill:none;stroke-width:1;stroke-linecap:butt;stroke-linejoin:miter;stroke:rgb(26.666667%,26.666667%,26.666667%);stroke-opacity:1;stroke-miterlimit:10;\" d=\"M 295.019531 580 L 20 295.019531 \"/>\n",
       "<path style=\"fill:none;stroke-width:1;stroke-linecap:butt;stroke-linejoin:miter;stroke:rgb(26.666667%,26.666667%,26.666667%);stroke-opacity:1;stroke-miterlimit:10;\" d=\"M 580 304.980469 L 304.980469 20 \"/>\n",
       "<path style=\"fill:none;stroke-width:1;stroke-linecap:butt;stroke-linejoin:miter;stroke:rgb(26.666667%,26.666667%,26.666667%);stroke-opacity:1;stroke-miterlimit:10;\" d=\"M 295.019531 580 L 304.980469 20 \"/>\n",
       "<path style=\"fill:none;stroke-width:1;stroke-linecap:butt;stroke-linejoin:miter;stroke:rgb(26.666667%,26.666667%,26.666667%);stroke-opacity:1;stroke-miterlimit:10;\" d=\"M 20 295.019531 L 304.980469 20 \"/>\n",
       "<path style=\"fill-rule:nonzero;fill:rgb(74.509804%,74.509804%,74.509804%);fill-opacity:1;stroke-width:1;stroke-linecap:butt;stroke-linejoin:miter;stroke:rgb(0%,0%,0%);stroke-opacity:1;stroke-miterlimit:10;\" d=\"M 590 304.980469 C 590 310.503906 585.523438 314.980469 580 314.980469 C 574.476562 314.980469 570 310.503906 570 304.980469 C 570 299.457031 574.476562 294.980469 580 294.980469 C 585.523438 294.980469 590 299.457031 590 304.980469 \"/>\n",
       "<path style=\"fill-rule:nonzero;fill:rgb(100%,0%,0%);fill-opacity:1;stroke-width:1;stroke-linecap:butt;stroke-linejoin:miter;stroke:rgb(0%,0%,0%);stroke-opacity:1;stroke-miterlimit:10;\" d=\"M 305.019531 580 C 305.019531 585.523438 300.542969 590 295.019531 590 C 289.496094 590 285.019531 585.523438 285.019531 580 C 285.019531 574.476562 289.496094 570 295.019531 570 C 300.542969 570 305.019531 574.476562 305.019531 580 \"/>\n",
       "<path style=\"fill-rule:nonzero;fill:rgb(100%,0%,0%);fill-opacity:1;stroke-width:1;stroke-linecap:butt;stroke-linejoin:miter;stroke:rgb(0%,0%,0%);stroke-opacity:1;stroke-miterlimit:10;\" d=\"M 30 295.019531 C 30 300.542969 25.523438 305.019531 20 305.019531 C 14.476562 305.019531 10 300.542969 10 295.019531 C 10 289.496094 14.476562 285.019531 20 285.019531 C 25.523438 285.019531 30 289.496094 30 295.019531 \"/>\n",
       "<path style=\"fill-rule:nonzero;fill:rgb(100%,0%,0%);fill-opacity:1;stroke-width:1;stroke-linecap:butt;stroke-linejoin:miter;stroke:rgb(0%,0%,0%);stroke-opacity:1;stroke-miterlimit:10;\" d=\"M 314.980469 20 C 314.980469 25.523438 310.503906 30 304.980469 30 C 299.457031 30 294.980469 25.523438 294.980469 20 C 294.980469 14.476562 299.457031 10 304.980469 10 C 310.503906 10 314.980469 14.476562 314.980469 20 \"/>\n",
       "</g>\n",
       "</svg>\n"
      ],
      "text/plain": [
       "<igraph.drawing.Plot at 0x7fb9731575e0>"
      ]
     },
     "execution_count": 57,
     "metadata": {
      "image/svg+xml": {
       "isolated": true
      }
     },
     "output_type": "execute_result"
    }
   ],
   "source": [
    "H.vs['color'] = 'red'\n",
    "H.vs[0]['color'] = 'grey'\n",
    "ig.plot(H)"
   ]
  },
  {
   "cell_type": "markdown",
   "metadata": {},
   "source": [
    "<div class=\"alert alert-info\">\n",
    "Do many of the co-authors collaborate among themselves as well? Why do you think this happens?\n",
    "</div>"
   ]
  },
  {
   "cell_type": "markdown",
   "metadata": {},
   "source": [
    "We can also ask `igraph` to calculate the clustering coefficient (which is called *transitivity* in igraph, which is the same concept using different terms) of node 0."
   ]
  },
  {
   "cell_type": "markdown",
   "metadata": {},
   "source": [
    "<div class=\"alert alert-info\">\n",
    "What percentage of the co-authors of node 0 have also written papers with each other?\n",
    "</div>"
   ]
  },
  {
   "cell_type": "code",
   "execution_count": 58,
   "metadata": {},
   "outputs": [
    {
     "data": {
      "text/plain": [
       "1.0"
      ]
     },
     "execution_count": 58,
     "metadata": {},
     "output_type": "execute_result"
    }
   ],
   "source": [
    "G_coauthorship.transitivity_local_undirected(0)"
   ]
  },
  {
   "cell_type": "markdown",
   "metadata": {},
   "source": [
    "You can calculate the average for all nodes using the function `transitivity_avglocal_undirected`."
   ]
  },
  {
   "cell_type": "markdown",
   "metadata": {},
   "source": [
    "<div class=\"alert alert-info\">\n",
    "What percentage of the co-authors have also written papers with each other on average? Do you think this is high or not?\n",
    "</div>"
   ]
  },
  {
   "cell_type": "code",
   "execution_count": 59,
   "metadata": {},
   "outputs": [
    {
     "data": {
      "text/plain": [
       "0.8777549843203198"
      ]
     },
     "execution_count": 59,
     "metadata": {},
     "output_type": "execute_result"
    }
   ],
   "source": [
    "G_coauthorship.transitivity_avglocal_undirected()"
   ]
  },
  {
   "cell_type": "markdown",
   "metadata": {},
   "source": [
    "## Centrality"
   ]
  },
  {
   "cell_type": "markdown",
   "metadata": {},
   "source": [
    "Often, people want to identify wich nodes seem to be most important in some way in the network. This is often thought of as a type of *centrality* of a node."
   ]
  },
  {
   "cell_type": "markdown",
   "metadata": {},
   "source": [
    "### Degree"
   ]
  },
  {
   "cell_type": "markdown",
   "metadata": {},
   "source": [
    "The simplest type of centrality is the *degree* of a node, which is simply the number of its neighbors. Previously, we saw that node 0 had 3 neighbors, we therefore say its degree is 3."
   ]
  },
  {
   "cell_type": "code",
   "execution_count": 60,
   "metadata": {},
   "outputs": [
    {
     "data": {
      "text/plain": [
       "3"
      ]
     },
     "execution_count": 60,
     "metadata": {},
     "output_type": "execute_result"
    }
   ],
   "source": [
    "G_coauthorship.degree(0)"
   ]
  },
  {
   "cell_type": "markdown",
   "metadata": {},
   "source": [
    "We can also simply calculate the degree for everybody and store it in a new vertex attribute called `degree`."
   ]
  },
  {
   "cell_type": "code",
   "execution_count": 61,
   "metadata": {},
   "outputs": [],
   "source": [
    "G_coauthorship.vs['degree'] = G_coauthorship.degree()"
   ]
  },
  {
   "cell_type": "markdown",
   "metadata": {},
   "source": [
    "<div class=\"alert alert-info\">\n",
    "    What is the degree of <code>'Van Marck, E'</code>?\n",
    "</div>"
   ]
  },
  {
   "cell_type": "code",
   "execution_count": 62,
   "metadata": {},
   "outputs": [
    {
     "data": {
      "text/plain": [
       "52"
      ]
     },
     "execution_count": 62,
     "metadata": {},
     "output_type": "execute_result"
    }
   ],
   "source": [
    "G_coauthorship.vs.find(author_eq = 'Van Marck, E').degree()"
   ]
  },
  {
   "cell_type": "markdown",
   "metadata": {},
   "source": [
    "We can also take a look at the complete degree distribution. To plot it, we load the `matplotlib` package. We import the plotting functionality and name the package `plt`. We also include a statement telling Python to show the plots immediately in this notebook."
   ]
  },
  {
   "cell_type": "code",
   "execution_count": 63,
   "metadata": {},
   "outputs": [],
   "source": [
    "import matplotlib.pyplot as plt\n",
    "%matplotlib inline"
   ]
  },
  {
   "cell_type": "markdown",
   "metadata": {},
   "source": [
    "Now let us plot a histogram of the degree, using 50 bins."
   ]
  },
  {
   "cell_type": "code",
   "execution_count": 64,
   "metadata": {},
   "outputs": [
    {
     "data": {
      "image/png": "[encoded data removed]",
      "text/plain": [
       "<Figure size 432x288 with 1 Axes>"
      ]
     },
     "metadata": {
      "needs_background": "light"
     },
     "output_type": "display_data"
    }
   ],
   "source": [
    "plt.hist(G_coauthorship.vs['degree'], 50);\n",
    "plt.yscale('log')"
   ]
  },
  {
   "cell_type": "markdown",
   "metadata": {},
   "source": [
    "This clearly shows that the degree distribution is quite skewed. Most authors have only few collaborators, while a few authors have many collaborators. If the degree distribution is so skewed, it is sometimes referred to as a *scale-free* network, although the exact definition has been a topic of intense discussion recently."
   ]
  },
  {
   "cell_type": "markdown",
   "metadata": {},
   "source": [
    "The code below sorts the nodes in descending order of the degree."
   ]
  },
  {
   "cell_type": "code",
   "execution_count": 65,
   "metadata": {},
   "outputs": [],
   "source": [
    "highest_degree = sorted(G_coauthorship.vs, key=lambda v: v['degree'], reverse=True)"
   ]
  },
  {
   "cell_type": "markdown",
   "metadata": {},
   "source": [
    "The `sorted` function takes a list as input, `G_coauthorship.vs` in our case, and sorts it according to a sort key. We indicate the sort key by a small function, called a `lambda` function, that returns the degree. In other words, the `sorted` function will sort the nodes according to the degree. By indicating `reverse=True` we obtain a list that is sorted highest to lowest, instead of the other way around."
   ]
  },
  {
   "cell_type": "markdown",
   "metadata": {},
   "source": [
    "You can look at the first five results in the following way."
   ]
  },
  {
   "cell_type": "code",
   "execution_count": 66,
   "metadata": {},
   "outputs": [
    {
     "data": {
      "text/plain": [
       "[igraph.Vertex(<igraph.Graph object at 0x7fb9741066d0>, 139, {'author': \"D'Alessandro, U\", 'degree': 715}),\n",
       " igraph.Vertex(<igraph.Graph object at 0x7fb9741066d0>, 42, {'author': 'Boelaert, M', 'degree': 641}),\n",
       " igraph.Vertex(<igraph.Graph object at 0x7fb9741066d0>, 341, {'author': 'Dorny, P', 'degree': 369}),\n",
       " igraph.Vertex(<igraph.Graph object at 0x7fb9741066d0>, 63, {'author': 'Buscher, P', 'degree': 348}),\n",
       " igraph.Vertex(<igraph.Graph object at 0x7fb9741066d0>, 64, {'author': 'Dujardin, JC', 'degree': 324})]"
      ]
     },
     "execution_count": 66,
     "metadata": {},
     "output_type": "execute_result"
    }
   ],
   "source": [
    "highest_degree[:5]"
   ]
  },
  {
   "cell_type": "markdown",
   "metadata": {},
   "source": [
    "So, apparently, U D'Allessandro has collaborated with 715 other authors! This of course only considers the number of co-authors, it does not take into account the number of papers written with somebody else.\n",
    "When specifying such *edge weights* like the number of joint papers, the weighted degree is referred to as the *strength* of a node (which is sometimes a bit confusing term). \n",
    "\n",
    "Let us look at the strength of node 0."
   ]
  },
  {
   "cell_type": "code",
   "execution_count": 67,
   "metadata": {},
   "outputs": [
    {
     "data": {
      "text/plain": [
       "3.0"
      ]
     },
     "execution_count": 67,
     "metadata": {},
     "output_type": "execute_result"
    }
   ],
   "source": [
    "G_coauthorship.strength(0, weights='n_joint_papers')"
   ]
  },
  {
   "cell_type": "markdown",
   "metadata": {},
   "source": [
    "Apparently, author 0 collaborated with 3 different authors, and has a total strength of 3. But what does this 3 mean? We need to carefully think about this. Suppose that author 0 has co-authored a single publication with three other co-authors, then each of the three co-authors would have an edge weight of `n_joint_papers = 1`. So, the strenght would be 3. Hence, the strength denotes the total number of collaborations that an author had, which depends both on the number of publications and the number of collaborators per paper.\n",
    "\n",
    "Sometimes, we wish to take into account the number of co-authorships when creating a link weight. We can then fractionally count the weight of each collaboration between $n_a$ authors as\n",
    "\n",
    "$$\\frac{1}{n_a - 1}.$$\n",
    "\n",
    "We need to go back to the `publications_df` in order to construct such a *fractional* edge weight."
   ]
  },
  {
   "cell_type": "code",
   "execution_count": 68,
   "metadata": {},
   "outputs": [
    {
     "data": {
      "text/plain": [
       "[('Osaer, S', 'Goossens, B', 0.3333333333333333),\n",
       " ('Osaer, S', 'Eysker, M', 0.3333333333333333),\n",
       " ('Osaer, S', 'Geerts, S', 0.3333333333333333),\n",
       " ('Goossens, B', 'Eysker, M', 0.3333333333333333),\n",
       " ('Goossens, B', 'Geerts, S', 0.3333333333333333),\n",
       " ('Eysker, M', 'Geerts, S', 0.3333333333333333)]"
      ]
     },
     "execution_count": 68,
     "metadata": {},
     "output_type": "execute_result"
    }
   ],
   "source": [
    "import itertools as itr\n",
    "[(coauthor[0], coauthor[1], 1/(len(authors) - 1)) for coauthor in itr.combinations(authors, 2)]"
   ]
  },
  {
   "cell_type": "markdown",
   "metadata": {},
   "source": [
    "We again do this for all publications."
   ]
  },
  {
   "cell_type": "code",
   "execution_count": 69,
   "metadata": {},
   "outputs": [],
   "source": [
    "coauthors_per_publication = publications_df['AU_split'].apply(\n",
    "    lambda authors: \n",
    "        [(coauthor[0], coauthor[1], 1, 1/(len(authors) - 1)) \n",
    "             for coauthor in itr.combinations(authors, 2)])"
   ]
  },
  {
   "cell_type": "markdown",
   "metadata": {},
   "source": [
    "The variable `coauthors_per_publication` is now a list of a list of co-authors per publication, but including a full weight of `1` and a fractional weight of `1/(len(authors) - 1)`, where `len(authors)` is the number of authors of the publications. We again `explode` this list."
   ]
  },
  {
   "cell_type": "code",
   "execution_count": 70,
   "metadata": {},
   "outputs": [],
   "source": [
    "coauthors = coauthors_per_publication.explode().dropna()"
   ]
  },
  {
   "cell_type": "markdown",
   "metadata": {},
   "source": [
    "We can again create the network, but now we can pass two edge attributes, `n_joint_papers` and `n_joint_papers_frac`. We of course also have to simplify the network again."
   ]
  },
  {
   "cell_type": "code",
   "execution_count": 71,
   "metadata": {},
   "outputs": [],
   "source": [
    "G_coauthorship = ig.Graph.TupleList(\n",
    "      edges=coauthors.to_list(),\n",
    "      vertex_name_attr='author',\n",
    "      directed=False,\n",
    "      edge_attrs=('n_joint_papers', 'n_joint_papers_frac')\n",
    "      )\n",
    "G_coauthorship = G_coauthorship.simplify(loops=False, combine_edges='sum')"
   ]
  },
  {
   "cell_type": "markdown",
   "metadata": {},
   "source": [
    "<div class=\"alert alert-info\">\n",
    "What is the sum of <code>n_joint_papers_frac</code> over all co-authors? Then shouldn't the strength sum up to a whole number? Why isn't that the case here? (Hint: look at the authors of publication <code>'WOS:000242241600004'</code)\n",
    "</div>"
   ]
  },
  {
   "cell_type": "code",
   "execution_count": 72,
   "metadata": {},
   "outputs": [
    {
     "data": {
      "text/plain": [
       "'Schenkel, K; Rijal, S; Koirala, S; Koirala, S; Vanlerberghe, V; Van der Stuyft, P; Gramiccia, M; Boelaert, M'"
      ]
     },
     "execution_count": 72,
     "metadata": {},
     "output_type": "execute_result"
    }
   ],
   "source": [
    "publications_df.loc['WOS:000242241600004', 'AU'] # Author 'Koirala, S' is listed twice"
   ]
  },
  {
   "cell_type": "markdown",
   "metadata": {},
   "source": [
    "### Betweenness centrality"
   ]
  },
  {
   "cell_type": "markdown",
   "metadata": {},
   "source": [
    "Betweenness centrality is much more elaborate, and gives an indication of the number of times a node is on the shortest path from one node to another node.\n",
    "\n",
    "As you can imagine, this can take quite some time to calculate for all nodes. We will therefore use the somewhat smaller bibliographic coupling network of journals."
   ]
  },
  {
   "cell_type": "markdown",
   "metadata": {},
   "source": [
    "<div class=\"alert alert-warning\">\n",
    "    <b>Note:</b> On larger networks, it may take a long time to calculate the betweenness centrality.\n",
    "</div>"
   ]
  },
  {
   "cell_type": "code",
   "execution_count": 73,
   "metadata": {},
   "outputs": [],
   "source": [
    "G_coupling.vs['betweenness'] = G_coupling.betweenness()"
   ]
  },
  {
   "cell_type": "markdown",
   "metadata": {},
   "source": [
    "Now we can look at the journals that have the highest betweenness."
   ]
  },
  {
   "cell_type": "code",
   "execution_count": 74,
   "metadata": {},
   "outputs": [
    {
     "data": {
      "text/plain": [
       "[igraph.Vertex(<igraph.Graph object at 0x7fb97314b040>, 1, {'SO': 'PLOS NEGLECTED TROPICAL DISEASES', 'betweenness': 43.42301587301588}),\n",
       " igraph.Vertex(<igraph.Graph object at 0x7fb97314b040>, 0, {'SO': 'TROPICAL MEDICINE & INTERNATIONAL HEALTH', 'betweenness': 38.92301587301587}),\n",
       " igraph.Vertex(<igraph.Graph object at 0x7fb97314b040>, 4, {'SO': 'TRANSACTIONS OF THE ROYAL SOCIETY OF TROPICAL MEDICINE AND HYGIENE', 'betweenness': 37.08968253968254}),\n",
       " igraph.Vertex(<igraph.Graph object at 0x7fb97314b040>, 2, {'SO': 'AMERICAN JOURNAL OF TROPICAL MEDICINE AND HYGIENE', 'betweenness': 29.81468253968254}),\n",
       " igraph.Vertex(<igraph.Graph object at 0x7fb97314b040>, 6, {'SO': 'PARASITES & VECTORS', 'betweenness': 16.8813492063492})]"
      ]
     },
     "execution_count": 74,
     "metadata": {},
     "output_type": "execute_result"
    }
   ],
   "source": [
    "sorted(G_coupling.vs, key=lambda v: v['betweenness'], reverse=True)[:5]"
   ]
  },
  {
   "cell_type": "markdown",
   "metadata": {},
   "source": [
    "As we did previously when dealing with shortest paths, we can also use a weight for determining the shortest paths."
   ]
  },
  {
   "cell_type": "code",
   "execution_count": 75,
   "metadata": {},
   "outputs": [],
   "source": [
    "G_coupling.vs['betweenness_weighted'] = G_coupling.betweenness(weights='coupling')"
   ]
  },
  {
   "cell_type": "markdown",
   "metadata": {},
   "source": [
    "<div class=\"alert alert-info\">\n",
    "What is journal with the highest weighted betweenness centrality? Does this make sense if you compare it to the unweighted betweenness centrality?\n",
    "</div>"
   ]
  },
  {
   "cell_type": "code",
   "execution_count": 76,
   "metadata": {},
   "outputs": [
    {
     "data": {
      "text/plain": [
       "[igraph.Vertex(<igraph.Graph object at 0x7fb97314b040>, 3, {'SO': 'SOUTHEAST ASIAN JOURNAL OF TROPICAL MEDICINE AND PUBLIC HEALTH', 'betweenness': 0.1111111111111111, 'betweenness_weighted': 110.34761904761906}),\n",
       " igraph.Vertex(<igraph.Graph object at 0x7fb97314b040>, 4, {'SO': 'TRANSACTIONS OF THE ROYAL SOCIETY OF TROPICAL MEDICINE AND HYGIENE', 'betweenness': 37.08968253968254, 'betweenness_weighted': 81.24523809523811}),\n",
       " igraph.Vertex(<igraph.Graph object at 0x7fb97314b040>, 13, {'SO': 'JOURNAL OF TROPICAL MEDICINE', 'betweenness': 5.710317460317461, 'betweenness_weighted': 73.27619047619048}),\n",
       " igraph.Vertex(<igraph.Graph object at 0x7fb97314b040>, 6, {'SO': 'PARASITES & VECTORS', 'betweenness': 16.8813492063492, 'betweenness_weighted': 69.56666666666666}),\n",
       " igraph.Vertex(<igraph.Graph object at 0x7fb97314b040>, 1, {'SO': 'PLOS NEGLECTED TROPICAL DISEASES', 'betweenness': 43.42301587301588, 'betweenness_weighted': 51.409523809523805}),\n",
       " igraph.Vertex(<igraph.Graph object at 0x7fb97314b040>, 15, {'SO': 'LEPROSY REVIEW', 'betweenness': 0.0, 'betweenness_weighted': 44.24999999999999}),\n",
       " igraph.Vertex(<igraph.Graph object at 0x7fb97314b040>, 16, {'SO': 'MATHEMATICAL MODELS FOR NEGLECTED TROPICAL DISEASES: ESSENTIAL TOOLS FOR CONTROL AND ELIMINATION, PT A', 'betweenness': 0.3333333333333333, 'betweenness_weighted': 32.68571428571428}),\n",
       " igraph.Vertex(<igraph.Graph object at 0x7fb97314b040>, 24, {'SO': 'INTERNATIONAL JOURNAL OF LEPROSY AND OTHER MYCOBACTERIAL DISEASES', 'betweenness': 0.0, 'betweenness_weighted': 30.583333333333332}),\n",
       " igraph.Vertex(<igraph.Graph object at 0x7fb97314b040>, 9, {'SO': 'ANNALS OF TROPICAL MEDICINE AND PARASITOLOGY', 'betweenness': 4.484126984126984, 'betweenness_weighted': 28.590476190476192}),\n",
       " igraph.Vertex(<igraph.Graph object at 0x7fb97314b040>, 12, {'SO': 'REVISTA DA SOCIEDADE BRASILEIRA DE MEDICINA TROPICAL', 'betweenness': 0.6666666666666666, 'betweenness_weighted': 22.75})]"
      ]
     },
     "execution_count": 76,
     "metadata": {},
     "output_type": "execute_result"
    }
   ],
   "source": [
    "sorted(G_coupling.vs, key=lambda v: v['betweenness_weighted'], reverse=True)[:10]"
   ]
  },
  {
   "cell_type": "markdown",
   "metadata": {},
   "source": [
    "<div class=\"alert alert-danger\">\n",
    "    <b>Attention!</b> Weighted shortest paths have the <em>lowest</em> total weight.\n",
    "</div>"
   ]
  },
  {
   "cell_type": "markdown",
   "metadata": {},
   "source": [
    "### Pagerank"
   ]
  },
  {
   "cell_type": "markdown",
   "metadata": {},
   "source": [
    "One way of identifying central nodes relies on the idea of a random walk in a network. We will study this in the journal bibliographic coupling network. When performing such a random walk, we simply go from one journal to the next, following the bibliographic coupling links. The journal that is most frequently visited during such a random walk is then seen as most central. This is actually the idea that underlies Google's famous search engine. Luckily, we can compute that a lot faster than betweenness."
   ]
  },
  {
   "cell_type": "code",
   "execution_count": 77,
   "metadata": {},
   "outputs": [],
   "source": [
    "G_coupling.vs['pagerank'] = G_coupling.pagerank()"
   ]
  },
  {
   "cell_type": "markdown",
   "metadata": {},
   "source": [
    "<div class=\"alert alert-info\">\n",
    "Get the top 5 most central journals according to Pagerank. Who is the most central? Are the results very different from the betweenness?\n",
    "</div>"
   ]
  },
  {
   "cell_type": "code",
   "execution_count": 78,
   "metadata": {},
   "outputs": [
    {
     "data": {
      "text/plain": [
       "[igraph.Vertex(<igraph.Graph object at 0x7fb97314b040>, 1, {'SO': 'PLOS NEGLECTED TROPICAL DISEASES', 'betweenness': 43.42301587301588, 'betweenness_weighted': 51.409523809523805, 'pagerank': 0.07814324326935798}),\n",
       " igraph.Vertex(<igraph.Graph object at 0x7fb97314b040>, 4, {'SO': 'TRANSACTIONS OF THE ROYAL SOCIETY OF TROPICAL MEDICINE AND HYGIENE', 'betweenness': 37.08968253968254, 'betweenness_weighted': 81.24523809523811, 'pagerank': 0.07698657058058592}),\n",
       " igraph.Vertex(<igraph.Graph object at 0x7fb97314b040>, 0, {'SO': 'TROPICAL MEDICINE & INTERNATIONAL HEALTH', 'betweenness': 38.92301587301587, 'betweenness_weighted': 0.5833333333333333, 'pagerank': 0.07696548264630954}),\n",
       " igraph.Vertex(<igraph.Graph object at 0x7fb97314b040>, 2, {'SO': 'AMERICAN JOURNAL OF TROPICAL MEDICINE AND HYGIENE', 'betweenness': 29.81468253968254, 'betweenness_weighted': 0.2, 'pagerank': 0.07132148276054204}),\n",
       " igraph.Vertex(<igraph.Graph object at 0x7fb97314b040>, 6, {'SO': 'PARASITES & VECTORS', 'betweenness': 16.8813492063492, 'betweenness_weighted': 69.56666666666666, 'pagerank': 0.0662831990563754})]"
      ]
     },
     "execution_count": 78,
     "metadata": {},
     "output_type": "execute_result"
    }
   ],
   "source": [
    "sorted(G_coupling.vs, key=lambda v: v['pagerank'], reverse=True)[:5]"
   ]
  },
  {
   "cell_type": "markdown",
   "metadata": {},
   "source": [
    "We can again take into account the weights. In pagerank this means that a journal that is a more closely bibliographically coupled will be more likely to be visited during a random walk. This is actually much more in line with our intuition than the shortest path. Let us see what we get if we do that."
   ]
  },
  {
   "cell_type": "code",
   "execution_count": 79,
   "metadata": {},
   "outputs": [],
   "source": [
    "G_coupling.vs['pagerank_weighted'] = G_coupling.pagerank(weights='coupling')"
   ]
  },
  {
   "cell_type": "markdown",
   "metadata": {},
   "source": [
    "<div class=\"alert alert-info\">\n",
    "Are the results different for the weighted version of pagerank?\n",
    "</div>"
   ]
  },
  {
   "cell_type": "code",
   "execution_count": 80,
   "metadata": {},
   "outputs": [
    {
     "data": {
      "text/plain": [
       "[igraph.Vertex(<igraph.Graph object at 0x7fb97314b040>, 1, {'SO': 'PLOS NEGLECTED TROPICAL DISEASES', 'betweenness': 43.42301587301588, 'betweenness_weighted': 51.409523809523805, 'pagerank': 0.07814324326935798, 'pagerank_weighted': 0.21483806133497008}),\n",
       " igraph.Vertex(<igraph.Graph object at 0x7fb97314b040>, 0, {'SO': 'TROPICAL MEDICINE & INTERNATIONAL HEALTH', 'betweenness': 38.92301587301587, 'betweenness_weighted': 0.5833333333333333, 'pagerank': 0.07696548264630954, 'pagerank_weighted': 0.1820837844437379}),\n",
       " igraph.Vertex(<igraph.Graph object at 0x7fb97314b040>, 2, {'SO': 'AMERICAN JOURNAL OF TROPICAL MEDICINE AND HYGIENE', 'betweenness': 29.81468253968254, 'betweenness_weighted': 0.2, 'pagerank': 0.07132148276054204, 'pagerank_weighted': 0.12657074002880048}),\n",
       " igraph.Vertex(<igraph.Graph object at 0x7fb97314b040>, 4, {'SO': 'TRANSACTIONS OF THE ROYAL SOCIETY OF TROPICAL MEDICINE AND HYGIENE', 'betweenness': 37.08968253968254, 'betweenness_weighted': 81.24523809523811, 'pagerank': 0.07698657058058592, 'pagerank_weighted': 0.09323447958945565}),\n",
       " igraph.Vertex(<igraph.Graph object at 0x7fb97314b040>, 5, {'SO': 'MALARIA JOURNAL', 'betweenness': 6.8353174603174605, 'betweenness_weighted': 3.5, 'pagerank': 0.04866867828270392, 'pagerank_weighted': 0.08897525449654912})]"
      ]
     },
     "execution_count": 80,
     "metadata": {},
     "output_type": "execute_result"
    }
   ],
   "source": [
    "sorted(G_coupling.vs, key=lambda v: v['pagerank_weighted'], reverse=True)[:5]"
   ]
  },
  {
   "cell_type": "markdown",
   "metadata": {},
   "source": [
    "<div class=\"alert alert-info\">\n",
    "Pagerank is very similar to the techniques that underly the journal \"Eigenfactor\" and the \"SCImago Journal Rank\", which are seen as indicators of the scientific impact of a journal. Do you think it makes sense to interpret Pagerank on a bibliographic coupling network as the scientific impact of a journal? Why (not)?\n",
    "</div>"
   ]
  },
  {
   "cell_type": "markdown",
   "metadata": {},
   "source": [
    "## Co-authorship using bipartite projection (optional)"
   ]
  },
  {
   "cell_type": "markdown",
   "metadata": {},
   "source": [
    "We can also create co-authorship using a more theoretical approach from graph theory. We can first construct a network consisting of publications and authors."
   ]
  },
  {
   "cell_type": "markdown",
   "metadata": {},
   "source": [
    "We first again `explode` all authors for each publication, and create a graph out of it."
   ]
  },
  {
   "cell_type": "code",
   "execution_count": 81,
   "metadata": {},
   "outputs": [],
   "source": [
    "author_pubs_df = publications_df['AU_split'].explode()\n",
    "\n",
    "G_pub_authors = ig.Graph.TupleList(\n",
    "      edges=author_pubs_df.reset_index().values,\n",
    "      vertex_name_attr='name',\n",
    "      directed=False\n",
    "      )"
   ]
  },
  {
   "cell_type": "markdown",
   "metadata": {},
   "source": [
    "This network consists of two types: publications and authors. This is called a *bipartite* graph. We can automatically get the types using `is_bipartite`."
   ]
  },
  {
   "cell_type": "code",
   "execution_count": 82,
   "metadata": {},
   "outputs": [
    {
     "name": "stdout",
     "output_type": "stream",
     "text": [
      "True\n"
     ]
    }
   ],
   "source": [
    "is_bipartite, types = G_pub_authors.is_bipartite(return_types = True)\n",
    "print(is_bipartite)"
   ]
  },
  {
   "cell_type": "markdown",
   "metadata": {},
   "source": [
    "The actual types are simply returned as a list of `True` and `False` values, which are arbitrary labels for publications and authors. Let us see what the first label stands for."
   ]
  },
  {
   "cell_type": "code",
   "execution_count": 83,
   "metadata": {},
   "outputs": [
    {
     "name": "stdout",
     "output_type": "stream",
     "text": [
      "False\n",
      "igraph.Vertex(<igraph.Graph object at 0x7fb9741065e0>, 0, {'name': 'WOS:000084372900003'})\n"
     ]
    }
   ],
   "source": [
    "print(types[0])\n",
    "print(G_pub_authors.vs[0])"
   ]
  },
  {
   "cell_type": "markdown",
   "metadata": {},
   "source": [
    "From the `name` of node `0` we can see that it refers to a publication, and so `False` indicates publications, while `True` indicates authors."
   ]
  },
  {
   "cell_type": "markdown",
   "metadata": {},
   "source": [
    "We now would like to perform a so-called *bipartite projection* onto the authors. This is exactly the type of operation that leads to a co-authorship network. If we were to *project* onto the publication, we would end up with a network of publications where each pair of publications is linked if it is authored by the same author."
   ]
  },
  {
   "cell_type": "code",
   "execution_count": 84,
   "metadata": {},
   "outputs": [],
   "source": [
    "G_author_projection = G_pub_authors.bipartite_projection(types=types, which=True)"
   ]
  },
  {
   "cell_type": "markdown",
   "metadata": {},
   "source": [
    "By default, it keeps track of the *multiplicity* (i.e. the number of joint papers) in the `weight` edge attribute. Unfortunately, it is not possible to do fractional counting using this approach."
   ]
  },
  {
   "cell_type": "markdown",
   "metadata": {},
   "source": [
    "<div class=\"alert alert-info\">\n",
    "    Check the number of nodes in the bipartite projection. Why is it different from the number of nodes in the earlier constructed <code>G_coauthorship</code>? (Hint: checkout the degree.)\n",
    "</div>"
   ]
  },
  {
   "cell_type": "code",
   "execution_count": 85,
   "metadata": {},
   "outputs": [
    {
     "data": {
      "text/plain": [
       "0"
      ]
     },
     "execution_count": 85,
     "metadata": {},
     "output_type": "execute_result"
    }
   ],
   "source": [
    "min(G_author_projection.degree()) # It contains nodes with degree 0."
   ]
  },
  {
   "cell_type": "markdown",
   "metadata": {},
   "source": [
    "# Analysis of your own data"
   ]
  },
  {
   "cell_type": "markdown",
   "metadata": {},
   "source": [
    "You have now learned the basics of handling WoS files and transforming them into scientometric networks. Please take some time now to do your own analysis."
   ]
  },
  {
   "cell_type": "markdown",
   "metadata": {},
   "source": [
    "<div class=\"alert alert-info\">\n",
    "Go to <a href=\"http://webofknowledge.com/\">Web of Science</a> and select a publication set of interest. Make sure that the number of publications is higher than 1000, but lower than 5000. Export the files as follows:\n",
    "<ol>\n",
    "  <li> Export using \"Save to Other File Formats\".\n",
    "  <li> Select the appropriate records (e.g. 1-500, 501-1000, etc...).\n",
    "  <li> Select the Record Content \"Full Record and Cited References\".\n",
    "  <li> Select the File Format \"Tab delimited (Win, UTF8)\".\n",
    "  <li> Click on Send.\n",
    "</ol>\n",
    "Repeat the above steps for each batch of 500 publications.\n",
    "\n",
    "Load the data from all files you downloaded using <code>pandas</code>\n",
    "</div>"
   ]
  },
  {
   "cell_type": "code",
   "execution_count": null,
   "metadata": {},
   "outputs": [],
   "source": []
  },
  {
   "cell_type": "markdown",
   "metadata": {},
   "source": [
    "<div class=\"alert alert-info\">\n",
    "Create a co-authorship network of your publications. Hint: use the approach you encountered earlier.\n",
    "</div>"
   ]
  },
  {
   "cell_type": "code",
   "execution_count": null,
   "metadata": {},
   "outputs": [],
   "source": []
  },
  {
   "cell_type": "markdown",
   "metadata": {},
   "source": [
    "<div class=\"alert alert-info\">\n",
    "Identify the authors that are most central to the coauthorship network and interpret the results.\n",
    "</div>"
   ]
  },
  {
   "cell_type": "code",
   "execution_count": null,
   "metadata": {},
   "outputs": [],
   "source": []
  },
  {
   "cell_type": "markdown",
   "metadata": {},
   "source": [
    "<div class=\"alert alert-info\">\n",
    "Create a co-citation network of your publications. Hint: use the bibliographic coupling approach, but switch the roles of the source and the target.\n",
    "</div>"
   ]
  },
  {
   "cell_type": "code",
   "execution_count": null,
   "metadata": {},
   "outputs": [],
   "source": []
  },
  {
   "cell_type": "markdown",
   "metadata": {},
   "source": [
    "<div class=\"alert alert-info\">\n",
    "Identify the publications that are most central to the co-citation network and interpret the results. Are they relatively recent publications or not?\n",
    "</div>"
   ]
  },
  {
   "cell_type": "code",
   "execution_count": null,
   "metadata": {},
   "outputs": [],
   "source": []
  }
 ],
 "metadata": {
  "kernelspec": {
   "display_name": "Python 3",
   "language": "python",
   "name": "python3"
  },
  "language_info": {
   "codemirror_mode": {
    "name": "ipython",
    "version": 3
   },
   "file_extension": ".py",
   "mimetype": "text/x-python",
   "name": "python",
   "nbconvert_exporter": "python",
   "pygments_lexer": "ipython3",
   "version": "3.8.3"
  }
 },
 "nbformat": 4,
 "nbformat_minor": 2
}
